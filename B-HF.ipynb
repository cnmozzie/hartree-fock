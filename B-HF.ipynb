{
 "cells": [
  {
   "cell_type": "code",
   "execution_count": 2,
   "metadata": {},
   "outputs": [],
   "source": [
    "import sympy as sp\n",
    "from sympy import oo\n",
    "import numpy as np\n",
    "from itertools import product\n",
    "from scipy.linalg import eig\n",
    "from sympy import diff\n",
    "import time as time\n",
    "import matplotlib.pyplot as plt\n",
    "from sympy.plotting import plot\n",
    "# %matplotlib notebook \n",
    "%matplotlib inline\n",
    "from IPython.display import Math\n",
    "sp.init_printing()\n",
    "\n",
    "r, r1, r2, zeta, zeta1, zeta2 = sp.symbols(\"r, r1, r2, zeta, zeta1, zeta2\")\n",
    "n = sp.Symbol('n',integer=True)"
   ]
  },
  {
   "cell_type": "code",
   "execution_count": 3,
   "metadata": {},
   "outputs": [],
   "source": [
    "def STO(zeta, n, r=r):\n",
    "    return (2*zeta)**n*(2*zeta/sp.factorial(2*n))**(1/2)*r**(n-1)*sp.exp(-zeta*r)"
   ]
  },
  {
   "cell_type": "code",
   "execution_count": 4,
   "metadata": {},
   "outputs": [],
   "source": [
    "# S Overlap Integrate\n",
    "def S_int(f1, f2):\n",
    "    return sp.integrate(f1*f2*r*r ,(r, 0, +oo))"
   ]
  },
  {
   "cell_type": "code",
   "execution_count": 5,
   "metadata": {},
   "outputs": [],
   "source": [
    "# H core = kinetics energy + electron and nuclear potential energy\n",
    "def Hs_int(f1, f2, Z):\n",
    "    return sp.integrate(f1*(-((1/2)*(1/r)*diff(diff(r*f2, r), r))-((Z/r)*f2))*r*r, (r,0,+oo))"
   ]
  },
  {
   "cell_type": "code",
   "execution_count": 19,
   "metadata": {},
   "outputs": [],
   "source": [
    "# H core = kinetics energy + electron and nuclear potential energy\n",
    "def Hp_int(f1, f2, Z):\n",
    "    return sp.integrate(f1*(-((1/2)*(1/r)*diff(diff(r*f2, r), r))+((1/r**2)*f2)-((Z/r)*f2))*r*r, (r,0,+oo))"
   ]
  },
  {
   "cell_type": "code",
   "execution_count": 7,
   "metadata": {},
   "outputs": [],
   "source": [
    "# Returns the core hamiltonian matrix\n",
    "def Hs_matrix(fs, Z):\n",
    "\n",
    "    H = np.zeros((len(fs),len(fs)))\n",
    "    for i in range(len(fs)):\n",
    "        for j in range(len(fs)):\n",
    "            H[i, j] =  Hs_int(fs[i], fs[j], Z)\n",
    "\n",
    "    return H    \n",
    "\n",
    "# Returns the overlap matrix\n",
    "def S_matrix(fs):\n",
    "\n",
    "    S = np.zeros((len(fs),len(fs)))\n",
    "    for i in range(len(fs)):\n",
    "        for j in range(len(fs)):\n",
    "            S[i, j] =  S_int(fs[i], fs[j])\n",
    "\n",
    "    return S"
   ]
  },
  {
   "cell_type": "code",
   "execution_count": 8,
   "metadata": {},
   "outputs": [],
   "source": [
    "# Returns the core hamiltonian matrix\n",
    "def Hp_matrix(fp, Z):\n",
    "\n",
    "    H = np.zeros((len(fp),len(fp)))\n",
    "    for i in range(len(fp)):\n",
    "        for j in range(len(fp)):\n",
    "            H[i, j] =  Hp_int(fp[i], fp[j], Z)\n",
    "\n",
    "    return H    "
   ]
  },
  {
   "cell_type": "code",
   "execution_count": 9,
   "metadata": {},
   "outputs": [],
   "source": [
    "def Repulsion_electron(zetas, l):\n",
    "    \n",
    "    f1=STO(zetas[0][0], zetas[0][1], r1)\n",
    "    f2=STO(zetas[1][0], zetas[1][1], r1)\n",
    "    f3=STO(zetas[2][0], zetas[2][1], r2)\n",
    "    f4=STO(zetas[3][0], zetas[3][1], r2)\n",
    "    fs = [f1, f2, f3, f4]\n",
    "    \n",
    "    B = (1/r1**(l+1))*sp.integrate(f3*f4*r2**(l+2) ,(r2, 0, r1)) + r1**l*sp.integrate(f3*f4*r2**(1-l) ,(r2, r1, +oo))\n",
    "    A = sp.integrate(f1*f2*r1*r1*B ,(r1, 0, +oo))\n",
    "    return A"
   ]
  },
  {
   "cell_type": "code",
   "execution_count": 10,
   "metadata": {},
   "outputs": [],
   "source": [
    "# Calculates Density matrix\n",
    "# P need to be changed if the atom have unpaired electron\n",
    "def Ps_matrix(Co):\n",
    "\n",
    "    P = np.zeros([Co.shape[0], Co.shape[0]])\n",
    "\n",
    "    for t in range(Co.shape[0]):\n",
    "        for u in range(Co.shape[0]):\n",
    "            P[t][u] = 2* Co[t][0]*Co[u][0] + 2* Co[t][1]*Co[u][1]\n",
    "    return P"
   ]
  },
  {
   "cell_type": "code",
   "execution_count": 11,
   "metadata": {},
   "outputs": [],
   "source": [
    "# Calculates Density matrix\n",
    "# P need to be changed if the atom have unpaired electron\n",
    "def Pp_matrix(Co):\n",
    "\n",
    "    P = np.zeros([Co.shape[0], Co.shape[0]])\n",
    "\n",
    "    for t in range(Co.shape[0]):\n",
    "        for u in range(Co.shape[0]):\n",
    "            P[t][u] = Co[t][0]*Co[u][0]\n",
    "    return P"
   ]
  },
  {
   "cell_type": "code",
   "execution_count": 12,
   "metadata": {},
   "outputs": [],
   "source": [
    "def J_matrix(zetai, zetaj):\n",
    "    J = np.zeros((len(zetai), len(zetai), len(zetaj), len(zetaj)))\n",
    "\n",
    "    rs = list(product(range(len(zetai)),repeat=2))\n",
    "    tu = list(product(range(len(zetaj)),repeat=2))\n",
    "\n",
    "    for r, s in rs:\n",
    "        for t, u in tu:\n",
    "            J[r,s,t,u] = Repulsion_electron((zetai[r], zetai[s], zetaj[t], zetaj[u]), 0)\n",
    "    return J\n",
    "\n",
    "def K_matrix(zetai, zetaj, l):\n",
    "    K = np.zeros((len(zetai), len(zetai), len(zetaj), len(zetaj)))\n",
    "\n",
    "    rs = list(product(range(len(zetai)),repeat=2))\n",
    "    tu = list(product(range(len(zetaj)),repeat=2))\n",
    "\n",
    "    for r, s in rs:\n",
    "        for t, u in tu:\n",
    "            K[r,s,t,u] = Repulsion_electron((zetai[r], zetaj[u], zetaj[t], zetai[s]), l)\n",
    "    return K\n",
    "\n",
    "# Caculate G Matrix for 1s\n",
    "def Gs_matrix(Cos, Cop, Jss, Kss, Jsp, Ksp):\n",
    "\n",
    "    G = np.zeros((Cos.shape[0], Cos.shape[0]))\n",
    "    Ps = Ps_matrix(Cos)\n",
    "    Pp = Pp_matrix(Cop)\n",
    "    \n",
    "    rs = list(product(range( Cos.shape[0]),repeat=2))\n",
    "    tu = list(product(range( Cos.shape[0]),repeat=2))\n",
    "    ij = list(product(range( Cop.shape[0]),repeat=2))\n",
    "\n",
    "    for r, s in rs:\n",
    "        g = 0\n",
    "        for t, u in tu:\n",
    "            int1 = Jss[r, s, t, u]\n",
    "            int2 = Kss[r, s, t, u]\n",
    "            g+= Ps[t, u] * (int1 - 0.5 * int2)\n",
    "        for i, j in ij:\n",
    "            int1 = Jsp[r, s, i, j]\n",
    "            int2 = Ksp[r, s, i, j]\n",
    "            g+= Pp[i, j] * (int1 - 0.5 * int2)\n",
    "        G[r, s] = g\n",
    "    return G\n",
    "\n",
    "# Returns the Fock matrix\n",
    "def Fs_matrix(fs, Z, Cos, Cop, Jss, Kss, Jsp, Ksp):\n",
    "    return Hs_matrix(fs, Z) + Gs_matrix(Cos, Cop, Jss, Kss, Jsp, Ksp)"
   ]
  },
  {
   "cell_type": "code",
   "execution_count": 13,
   "metadata": {},
   "outputs": [],
   "source": [
    "# Caculate G Matrix for p\n",
    "def Gp_matrix(Cos, Cop, Jpp, Kpp, Jps, Kps):\n",
    "\n",
    "    G = np.zeros((Cop.shape[0], Cop.shape[0]))\n",
    "    Ps = Ps_matrix(Cos)\n",
    "    Pp = Pp_matrix(Cop)\n",
    "    \n",
    "    rs = list(product(range( Cop.shape[0]),repeat=2))\n",
    "    tu = list(product(range( Cop.shape[0]),repeat=2))\n",
    "    ij = list(product(range( Cos.shape[0]),repeat=2))\n",
    "\n",
    "    for r, s in rs:\n",
    "        g = 0\n",
    "        for i, j in ij:\n",
    "            int1 = Jps[r, s, i, j]\n",
    "            int2 = Kps[r, s, i, j]\n",
    "            g+= Ps[i, j] * (int1 - 0.5 * int2)\n",
    "        G[r, s] = g\n",
    "    return G\n",
    "\n",
    "# Returns the Fock matrix\n",
    "def Fp_matrix(fp, Z, Cos, Cop, Jpp, Kpp, Jps, Kps):\n",
    "    return Hp_matrix(fp, Z) + Gp_matrix(Cos, Cop, Jpp, Kpp, Jps, Kps)"
   ]
  },
  {
   "cell_type": "code",
   "execution_count": 14,
   "metadata": {},
   "outputs": [],
   "source": [
    "# slove secular equation, return the energy and improved coeffients\n",
    "# the energy here is orbital energy for 1 electron\n",
    "def secular_eqn(F, S):\n",
    "    ei, C = eig(F, S)\n",
    "    \n",
    "    # sort eigvalue and eigvector from lower to higher\n",
    "    idx = ei.argsort()[::1]   \n",
    "    ei = ei[idx]\n",
    "    C = C[:,idx]\n",
    "\n",
    "    # eigvector from scipy.linalg.eig is not normalized, which is a bug\n",
    "    # this is to fix it\n",
    "    Co = np.zeros((C.shape[0],C.shape[0]))\n",
    "    inte = np.matmul(np.matmul(C.T, S), C)\n",
    "    for i in range(C.shape[0]):\n",
    "        for j in range(C.shape[0]):\n",
    "            Co[j][i]=C[j][i]/np.sqrt(inte[i][i])\n",
    "\n",
    "    return ei, Co"
   ]
  },
  {
   "cell_type": "code",
   "execution_count": 15,
   "metadata": {},
   "outputs": [],
   "source": [
    "# return energy of atom\n",
    "def get_E0(e1, e2, Ps, Pp, Hs, Hp):\n",
    "    \n",
    "    E0 = e1[0].real + e1[1].real + 0.5*e2[0].real + 0.5*(Ps*Hs).sum() + 0.5*(Pp*Hp).sum()\n",
    "    return E0"
   ]
  },
  {
   "cell_type": "code",
   "execution_count": 22,
   "metadata": {},
   "outputs": [
    {
     "name": "stdout",
     "output_type": "stream",
     "text": [
      "------------------------------ Initialization ------------------------------\n",
      "------------------------- Ignore repulsion integral ------------------------\n"
     ]
    },
    {
     "data": {
      "text/latex": [
       "$\\displaystyle \\zeta_1 = 6.500 \\quad \\zeta_2 = 4.080 \\quad \\zeta_3 = 1.000 \\quad \\zeta_4 = 1.560 \\quad \\zeta_5 = 0.760 \\quad \\zeta_6 = 1.700$"
      ],
      "text/plain": [
       "<IPython.core.display.Math object>"
      ]
     },
     "metadata": {},
     "output_type": "display_data"
    },
    {
     "data": {
      "text/latex": [
       "$\\displaystyle Orbitals:$"
      ],
      "text/plain": [
       "<IPython.core.display.Math object>"
      ]
     },
     "metadata": {},
     "output_type": "display_data"
    },
    {
     "data": {
      "text/latex": [
       "$\\displaystyle  \\phi_1s = c_{11} \\chi_1 + c_{21} \\chi_2 + c_{31} \\chi_3 + c_{41} \\chi_4$"
      ],
      "text/plain": [
       "<IPython.core.display.Math object>"
      ]
     },
     "metadata": {},
     "output_type": "display_data"
    },
    {
     "data": {
      "text/latex": [
       "$\\displaystyle  \\phi_2s = c_{12} \\chi_1 + c_{22} \\chi_2 + c_{32} \\chi_3 + c_{42} \\chi_4$"
      ],
      "text/plain": [
       "<IPython.core.display.Math object>"
      ]
     },
     "metadata": {},
     "output_type": "display_data"
    },
    {
     "data": {
      "text/latex": [
       "$\\displaystyle  \\phi_2p = c_{52} \\chi_5 + c_{62} \\chi_6$"
      ],
      "text/plain": [
       "<IPython.core.display.Math object>"
      ]
     },
     "metadata": {},
     "output_type": "display_data"
    },
    {
     "data": {
      "text/latex": [
       "$\\displaystyle c11 = -0.359 \\quad c21 = -0.673 \\quad c31 = -0.043 \\quad c41 = 0.072$"
      ],
      "text/plain": [
       "<IPython.core.display.Math object>"
      ]
     },
     "metadata": {},
     "output_type": "display_data"
    },
    {
     "data": {
      "text/latex": [
       "$\\displaystyle c12 = 0.119 \\quad c22 = 0.217 \\quad c32 = 0.647 \\quad c42 = -1.592$"
      ],
      "text/plain": [
       "<IPython.core.display.Math object>"
      ]
     },
     "metadata": {},
     "output_type": "display_data"
    },
    {
     "data": {
      "text/latex": [
       "$\\displaystyle c52 = -0.278 \\quad c62 = 1.166$"
      ],
      "text/plain": [
       "<IPython.core.display.Math object>"
      ]
     },
     "metadata": {},
     "output_type": "display_data"
    },
    {
     "data": {
      "image/png": "[encoded data removed]",
      "text/plain": [
       "<Figure size 432x288 with 1 Axes>"
      ]
     },
     "metadata": {
      "needs_background": "light"
     },
     "output_type": "display_data"
    },
    {
     "data": {
      "text/latex": [
       "$\\displaystyle  \\epsilon_1 \\; for \\; \\phi_1  = -12.485 $"
      ],
      "text/plain": [
       "<IPython.core.display.Math object>"
      ]
     },
     "metadata": {},
     "output_type": "display_data"
    },
    {
     "data": {
      "text/latex": [
       "$\\displaystyle  \\epsilon_2 \\; for \\; \\phi_2 = -3.004 $"
      ],
      "text/plain": [
       "<IPython.core.display.Math object>"
      ]
     },
     "metadata": {},
     "output_type": "display_data"
    },
    {
     "data": {
      "text/latex": [
       "$\\displaystyle  \\epsilon_3 \\; for \\; \\phi_3 = -2.877 $"
      ],
      "text/plain": [
       "<IPython.core.display.Math object>"
      ]
     },
     "metadata": {},
     "output_type": "display_data"
    },
    {
     "data": {
      "text/latex": [
       "$\\displaystyle  Hartree \\ Fork \\; atom \\; energy = -33.85504 \\ hartree = -921.22955 \\ eV$"
      ],
      "text/plain": [
       "<IPython.core.display.Math object>"
      ]
     },
     "metadata": {},
     "output_type": "display_data"
    },
    {
     "name": "stdout",
     "output_type": "stream",
     "text": [
      "------------------------------ Iteration 1 ------------------------------\n",
      "------- Iteration 1 needs more time to caculate Repulsion Integral ------\n"
     ]
    },
    {
     "data": {
      "text/latex": [
       "$\\displaystyle \\zeta_1 = 6.500 \\quad \\zeta_2 = 4.080 \\quad \\zeta_3 = 1.000 \\quad \\zeta_4 = 1.560 \\quad \\zeta_5 = 0.760 \\quad \\zeta_6 = 1.700$"
      ],
      "text/plain": [
       "<IPython.core.display.Math object>"
      ]
     },
     "metadata": {},
     "output_type": "display_data"
    },
    {
     "data": {
      "text/latex": [
       "$\\displaystyle Orbitals:$"
      ],
      "text/plain": [
       "<IPython.core.display.Math object>"
      ]
     },
     "metadata": {},
     "output_type": "display_data"
    },
    {
     "data": {
      "text/latex": [
       "$\\displaystyle  \\phi_1s = c_{11} \\chi_1 + c_{21} \\chi_2 + c_{31} \\chi_3 + c_{41} \\chi_4$"
      ],
      "text/plain": [
       "<IPython.core.display.Math object>"
      ]
     },
     "metadata": {},
     "output_type": "display_data"
    },
    {
     "data": {
      "text/latex": [
       "$\\displaystyle  \\phi_2s = c_{12} \\chi_1 + c_{22} \\chi_2 + c_{32} \\chi_3 + c_{42} \\chi_4$"
      ],
      "text/plain": [
       "<IPython.core.display.Math object>"
      ]
     },
     "metadata": {},
     "output_type": "display_data"
    },
    {
     "data": {
      "text/latex": [
       "$\\displaystyle  \\phi_2p = c_{52} \\chi_5 + c_{62} \\chi_6$"
      ],
      "text/plain": [
       "<IPython.core.display.Math object>"
      ]
     },
     "metadata": {},
     "output_type": "display_data"
    },
    {
     "data": {
      "text/latex": [
       "$\\displaystyle c11 = 0.242 \\quad c21 = 0.774 \\quad c31 = 0.008 \\quad c41 = -0.010$"
      ],
      "text/plain": [
       "<IPython.core.display.Math object>"
      ]
     },
     "metadata": {},
     "output_type": "display_data"
    },
    {
     "data": {
      "text/latex": [
       "$\\displaystyle c12 = -0.004 \\quad c22 = 0.280 \\quad c32 = -0.332 \\quad c42 = -0.743$"
      ],
      "text/plain": [
       "<IPython.core.display.Math object>"
      ]
     },
     "metadata": {},
     "output_type": "display_data"
    },
    {
     "data": {
      "text/latex": [
       "$\\displaystyle c52 = -0.795 \\quad c62 = -0.274$"
      ],
      "text/plain": [
       "<IPython.core.display.Math object>"
      ]
     },
     "metadata": {},
     "output_type": "display_data"
    },
    {
     "data": {
      "image/png": "[encoded data removed]",
      "text/plain": [
       "<Figure size 432x288 with 1 Axes>"
      ]
     },
     "metadata": {
      "needs_background": "light"
     },
     "output_type": "display_data"
    },
    {
     "data": {
      "text/latex": [
       "$\\displaystyle  \\epsilon_1 \\; for \\; \\phi_1  = -6.861 $"
      ],
      "text/plain": [
       "<IPython.core.display.Math object>"
      ]
     },
     "metadata": {},
     "output_type": "display_data"
    },
    {
     "data": {
      "text/latex": [
       "$\\displaystyle  \\epsilon_2 \\; for \\; \\phi_2 = -0.255 $"
      ],
      "text/plain": [
       "<IPython.core.display.Math object>"
      ]
     },
     "metadata": {},
     "output_type": "display_data"
    },
    {
     "data": {
      "text/latex": [
       "$\\displaystyle  \\epsilon_3 \\; for \\; \\phi_3 = -0.195 $"
      ],
      "text/plain": [
       "<IPython.core.display.Math object>"
      ]
     },
     "metadata": {},
     "output_type": "display_data"
    },
    {
     "data": {
      "text/latex": [
       "$\\displaystyle  Hartree \\ Fork \\; atom \\; energy = -23.27402 \\ hartree = -633.30940 \\ eV$"
      ],
      "text/plain": [
       "<IPython.core.display.Math object>"
      ]
     },
     "metadata": {},
     "output_type": "display_data"
    },
    {
     "name": "stdout",
     "output_type": "stream",
     "text": [
      "Time used: 1.3 s\n",
      "------------------------------ Iteration 2 ------------------------------\n"
     ]
    },
    {
     "data": {
      "text/latex": [
       "$\\displaystyle \\zeta_1 = 6.500 \\quad \\zeta_2 = 4.080 \\quad \\zeta_3 = 1.000 \\quad \\zeta_4 = 1.560 \\quad \\zeta_5 = 0.760 \\quad \\zeta_6 = 1.700$"
      ],
      "text/plain": [
       "<IPython.core.display.Math object>"
      ]
     },
     "metadata": {},
     "output_type": "display_data"
    },
    {
     "data": {
      "text/latex": [
       "$\\displaystyle Orbitals:$"
      ],
      "text/plain": [
       "<IPython.core.display.Math object>"
      ]
     },
     "metadata": {},
     "output_type": "display_data"
    },
    {
     "data": {
      "text/latex": [
       "$\\displaystyle  \\phi_1s = c_{11} \\chi_1 + c_{21} \\chi_2 + c_{31} \\chi_3 + c_{41} \\chi_4$"
      ],
      "text/plain": [
       "<IPython.core.display.Math object>"
      ]
     },
     "metadata": {},
     "output_type": "display_data"
    },
    {
     "data": {
      "text/latex": [
       "$\\displaystyle  \\phi_2s = c_{12} \\chi_1 + c_{22} \\chi_2 + c_{32} \\chi_3 + c_{42} \\chi_4$"
      ],
      "text/plain": [
       "<IPython.core.display.Math object>"
      ]
     },
     "metadata": {},
     "output_type": "display_data"
    },
    {
     "data": {
      "text/latex": [
       "$\\displaystyle  \\phi_2p = c_{52} \\chi_5 + c_{62} \\chi_6$"
      ],
      "text/plain": [
       "<IPython.core.display.Math object>"
      ]
     },
     "metadata": {},
     "output_type": "display_data"
    },
    {
     "data": {
      "text/latex": [
       "$\\displaystyle c11 = 0.245 \\quad c21 = 0.775 \\quad c31 = 0.015 \\quad c41 = -0.025$"
      ],
      "text/plain": [
       "<IPython.core.display.Math object>"
      ]
     },
     "metadata": {},
     "output_type": "display_data"
    },
    {
     "data": {
      "text/latex": [
       "$\\displaystyle c12 = -0.004 \\quad c22 = 0.267 \\quad c32 = -0.361 \\quad c42 = -0.712$"
      ],
      "text/plain": [
       "<IPython.core.display.Math object>"
      ]
     },
     "metadata": {},
     "output_type": "display_data"
    },
    {
     "data": {
      "text/latex": [
       "$\\displaystyle c52 = -0.607 \\quad c62 = -0.484$"
      ],
      "text/plain": [
       "<IPython.core.display.Math object>"
      ]
     },
     "metadata": {},
     "output_type": "display_data"
    },
    {
     "data": {
      "image/png": "[encoded data removed]",
      "text/plain": [
       "<Figure size 432x288 with 1 Axes>"
      ]
     },
     "metadata": {
      "needs_background": "light"
     },
     "output_type": "display_data"
    },
    {
     "data": {
      "text/latex": [
       "$\\displaystyle  \\epsilon_1 \\; for \\; \\phi_1  = -7.774 $"
      ],
      "text/plain": [
       "<IPython.core.display.Math object>"
      ]
     },
     "metadata": {},
     "output_type": "display_data"
    },
    {
     "data": {
      "text/latex": [
       "$\\displaystyle  \\epsilon_2 \\; for \\; \\phi_2 = -0.534 $"
      ],
      "text/plain": [
       "<IPython.core.display.Math object>"
      ]
     },
     "metadata": {},
     "output_type": "display_data"
    },
    {
     "data": {
      "text/latex": [
       "$\\displaystyle  \\epsilon_3 \\; for \\; \\phi_3 = -0.295 $"
      ],
      "text/plain": [
       "<IPython.core.display.Math object>"
      ]
     },
     "metadata": {},
     "output_type": "display_data"
    },
    {
     "data": {
      "text/latex": [
       "$\\displaystyle  Hartree \\ Fork \\; atom \\; energy = -24.64136 \\ hartree = -670.51598 \\ eV$"
      ],
      "text/plain": [
       "<IPython.core.display.Math object>"
      ]
     },
     "metadata": {},
     "output_type": "display_data"
    },
    {
     "name": "stdout",
     "output_type": "stream",
     "text": [
      "Time used: 1.3 s\n",
      "------------------------------ Iteration 3 ------------------------------\n"
     ]
    },
    {
     "data": {
      "text/latex": [
       "$\\displaystyle \\zeta_1 = 6.500 \\quad \\zeta_2 = 4.080 \\quad \\zeta_3 = 1.000 \\quad \\zeta_4 = 1.560 \\quad \\zeta_5 = 0.760 \\quad \\zeta_6 = 1.700$"
      ],
      "text/plain": [
       "<IPython.core.display.Math object>"
      ]
     },
     "metadata": {},
     "output_type": "display_data"
    },
    {
     "data": {
      "text/latex": [
       "$\\displaystyle Orbitals:$"
      ],
      "text/plain": [
       "<IPython.core.display.Math object>"
      ]
     },
     "metadata": {},
     "output_type": "display_data"
    },
    {
     "data": {
      "text/latex": [
       "$\\displaystyle  \\phi_1s = c_{11} \\chi_1 + c_{21} \\chi_2 + c_{31} \\chi_3 + c_{41} \\chi_4$"
      ],
      "text/plain": [
       "<IPython.core.display.Math object>"
      ]
     },
     "metadata": {},
     "output_type": "display_data"
    },
    {
     "data": {
      "text/latex": [
       "$\\displaystyle  \\phi_2s = c_{12} \\chi_1 + c_{22} \\chi_2 + c_{32} \\chi_3 + c_{42} \\chi_4$"
      ],
      "text/plain": [
       "<IPython.core.display.Math object>"
      ]
     },
     "metadata": {},
     "output_type": "display_data"
    },
    {
     "data": {
      "text/latex": [
       "$\\displaystyle  \\phi_2p = c_{52} \\chi_5 + c_{62} \\chi_6$"
      ],
      "text/plain": [
       "<IPython.core.display.Math object>"
      ]
     },
     "metadata": {},
     "output_type": "display_data"
    },
    {
     "data": {
      "text/latex": [
       "$\\displaystyle c11 = 0.245 \\quad c21 = 0.775 \\quad c31 = 0.015 \\quad c41 = -0.024$"
      ],
      "text/plain": [
       "<IPython.core.display.Math object>"
      ]
     },
     "metadata": {},
     "output_type": "display_data"
    },
    {
     "data": {
      "text/latex": [
       "$\\displaystyle c12 = -0.002 \\quad c22 = 0.259 \\quad c32 = -0.405 \\quad c42 = -0.667$"
      ],
      "text/plain": [
       "<IPython.core.display.Math object>"
      ]
     },
     "metadata": {},
     "output_type": "display_data"
    },
    {
     "data": {
      "text/latex": [
       "$\\displaystyle c52 = -0.601 \\quad c62 = -0.490$"
      ],
      "text/plain": [
       "<IPython.core.display.Math object>"
      ]
     },
     "metadata": {},
     "output_type": "display_data"
    },
    {
     "data": {
      "image/png": "[encoded data removed]",
      "text/plain": [
       "<Figure size 432x288 with 1 Axes>"
      ]
     },
     "metadata": {
      "needs_background": "light"
     },
     "output_type": "display_data"
    },
    {
     "data": {
      "text/latex": [
       "$\\displaystyle  \\epsilon_1 \\; for \\; \\phi_1  = -7.688 $"
      ],
      "text/plain": [
       "<IPython.core.display.Math object>"
      ]
     },
     "metadata": {},
     "output_type": "display_data"
    },
    {
     "data": {
      "text/latex": [
       "$\\displaystyle  \\epsilon_2 \\; for \\; \\phi_2 = -0.500 $"
      ],
      "text/plain": [
       "<IPython.core.display.Math object>"
      ]
     },
     "metadata": {},
     "output_type": "display_data"
    },
    {
     "data": {
      "text/latex": [
       "$\\displaystyle  \\epsilon_3 \\; for \\; \\phi_3 = -0.299 $"
      ],
      "text/plain": [
       "<IPython.core.display.Math object>"
      ]
     },
     "metadata": {},
     "output_type": "display_data"
    },
    {
     "data": {
      "text/latex": [
       "$\\displaystyle  Hartree \\ Fork \\; atom \\; energy = -24.49976 \\ hartree = -666.66309 \\ eV$"
      ],
      "text/plain": [
       "<IPython.core.display.Math object>"
      ]
     },
     "metadata": {},
     "output_type": "display_data"
    },
    {
     "name": "stdout",
     "output_type": "stream",
     "text": [
      "Time used: 1.2 s\n",
      "------------------------------ Iteration 4 ------------------------------\n"
     ]
    },
    {
     "data": {
      "text/latex": [
       "$\\displaystyle \\zeta_1 = 6.500 \\quad \\zeta_2 = 4.080 \\quad \\zeta_3 = 1.000 \\quad \\zeta_4 = 1.560 \\quad \\zeta_5 = 0.760 \\quad \\zeta_6 = 1.700$"
      ],
      "text/plain": [
       "<IPython.core.display.Math object>"
      ]
     },
     "metadata": {},
     "output_type": "display_data"
    },
    {
     "data": {
      "text/latex": [
       "$\\displaystyle Orbitals:$"
      ],
      "text/plain": [
       "<IPython.core.display.Math object>"
      ]
     },
     "metadata": {},
     "output_type": "display_data"
    },
    {
     "data": {
      "text/latex": [
       "$\\displaystyle  \\phi_1s = c_{11} \\chi_1 + c_{21} \\chi_2 + c_{31} \\chi_3 + c_{41} \\chi_4$"
      ],
      "text/plain": [
       "<IPython.core.display.Math object>"
      ]
     },
     "metadata": {},
     "output_type": "display_data"
    },
    {
     "data": {
      "text/latex": [
       "$\\displaystyle  \\phi_2s = c_{12} \\chi_1 + c_{22} \\chi_2 + c_{32} \\chi_3 + c_{42} \\chi_4$"
      ],
      "text/plain": [
       "<IPython.core.display.Math object>"
      ]
     },
     "metadata": {},
     "output_type": "display_data"
    },
    {
     "data": {
      "text/latex": [
       "$\\displaystyle  \\phi_2p = c_{52} \\chi_5 + c_{62} \\chi_6$"
      ],
      "text/plain": [
       "<IPython.core.display.Math object>"
      ]
     },
     "metadata": {},
     "output_type": "display_data"
    },
    {
     "data": {
      "text/latex": [
       "$\\displaystyle c11 = 0.245 \\quad c21 = 0.775 \\quad c31 = 0.015 \\quad c41 = -0.024$"
      ],
      "text/plain": [
       "<IPython.core.display.Math object>"
      ]
     },
     "metadata": {},
     "output_type": "display_data"
    },
    {
     "data": {
      "text/latex": [
       "$\\displaystyle c12 = -0.002 \\quad c22 = 0.257 \\quad c32 = -0.415 \\quad c42 = -0.657$"
      ],
      "text/plain": [
       "<IPython.core.display.Math object>"
      ]
     },
     "metadata": {},
     "output_type": "display_data"
    },
    {
     "data": {
      "text/latex": [
       "$\\displaystyle c52 = -0.591 \\quad c62 = -0.501$"
      ],
      "text/plain": [
       "<IPython.core.display.Math object>"
      ]
     },
     "metadata": {},
     "output_type": "display_data"
    },
    {
     "data": {
      "image/png": "[encoded data removed]",
      "text/plain": [
       "<Figure size 432x288 with 1 Axes>"
      ]
     },
     "metadata": {
      "needs_background": "light"
     },
     "output_type": "display_data"
    },
    {
     "data": {
      "text/latex": [
       "$\\displaystyle  \\epsilon_1 \\; for \\; \\phi_1  = -7.706 $"
      ],
      "text/plain": [
       "<IPython.core.display.Math object>"
      ]
     },
     "metadata": {},
     "output_type": "display_data"
    },
    {
     "data": {
      "text/latex": [
       "$\\displaystyle  \\epsilon_2 \\; for \\; \\phi_2 = -0.503 $"
      ],
      "text/plain": [
       "<IPython.core.display.Math object>"
      ]
     },
     "metadata": {},
     "output_type": "display_data"
    },
    {
     "data": {
      "text/latex": [
       "$\\displaystyle  \\epsilon_3 \\; for \\; \\phi_3 = -0.306 $"
      ],
      "text/plain": [
       "<IPython.core.display.Math object>"
      ]
     },
     "metadata": {},
     "output_type": "display_data"
    },
    {
     "data": {
      "text/latex": [
       "$\\displaystyle  Hartree \\ Fork \\; atom \\; energy = -24.52522 \\ hartree = -667.35573 \\ eV$"
      ],
      "text/plain": [
       "<IPython.core.display.Math object>"
      ]
     },
     "metadata": {},
     "output_type": "display_data"
    },
    {
     "name": "stdout",
     "output_type": "stream",
     "text": [
      "Time used: 1.4 s\n",
      "------------------------------ Iteration 5 ------------------------------\n"
     ]
    },
    {
     "data": {
      "text/latex": [
       "$\\displaystyle \\zeta_1 = 6.500 \\quad \\zeta_2 = 4.080 \\quad \\zeta_3 = 1.000 \\quad \\zeta_4 = 1.560 \\quad \\zeta_5 = 0.760 \\quad \\zeta_6 = 1.700$"
      ],
      "text/plain": [
       "<IPython.core.display.Math object>"
      ]
     },
     "metadata": {},
     "output_type": "display_data"
    },
    {
     "data": {
      "text/latex": [
       "$\\displaystyle Orbitals:$"
      ],
      "text/plain": [
       "<IPython.core.display.Math object>"
      ]
     },
     "metadata": {},
     "output_type": "display_data"
    },
    {
     "data": {
      "text/latex": [
       "$\\displaystyle  \\phi_1s = c_{11} \\chi_1 + c_{21} \\chi_2 + c_{31} \\chi_3 + c_{41} \\chi_4$"
      ],
      "text/plain": [
       "<IPython.core.display.Math object>"
      ]
     },
     "metadata": {},
     "output_type": "display_data"
    },
    {
     "data": {
      "text/latex": [
       "$\\displaystyle  \\phi_2s = c_{12} \\chi_1 + c_{22} \\chi_2 + c_{32} \\chi_3 + c_{42} \\chi_4$"
      ],
      "text/plain": [
       "<IPython.core.display.Math object>"
      ]
     },
     "metadata": {},
     "output_type": "display_data"
    },
    {
     "data": {
      "text/latex": [
       "$\\displaystyle  \\phi_2p = c_{52} \\chi_5 + c_{62} \\chi_6$"
      ],
      "text/plain": [
       "<IPython.core.display.Math object>"
      ]
     },
     "metadata": {},
     "output_type": "display_data"
    },
    {
     "data": {
      "text/latex": [
       "$\\displaystyle c11 = 0.245 \\quad c21 = 0.775 \\quad c31 = 0.015 \\quad c41 = -0.024$"
      ],
      "text/plain": [
       "<IPython.core.display.Math object>"
      ]
     },
     "metadata": {},
     "output_type": "display_data"
    },
    {
     "data": {
      "text/latex": [
       "$\\displaystyle c12 = -0.002 \\quad c22 = 0.256 \\quad c32 = -0.419 \\quad c42 = -0.653$"
      ],
      "text/plain": [
       "<IPython.core.display.Math object>"
      ]
     },
     "metadata": {},
     "output_type": "display_data"
    },
    {
     "data": {
      "text/latex": [
       "$\\displaystyle c52 = -0.589 \\quad c62 = -0.504$"
      ],
      "text/plain": [
       "<IPython.core.display.Math object>"
      ]
     },
     "metadata": {},
     "output_type": "display_data"
    },
    {
     "data": {
      "image/png": "[encoded data removed]",
      "text/plain": [
       "<Figure size 432x288 with 1 Axes>"
      ]
     },
     "metadata": {
      "needs_background": "light"
     },
     "output_type": "display_data"
    },
    {
     "data": {
      "text/latex": [
       "$\\displaystyle  \\epsilon_1 \\; for \\; \\phi_1  = -7.706 $"
      ],
      "text/plain": [
       "<IPython.core.display.Math object>"
      ]
     },
     "metadata": {},
     "output_type": "display_data"
    },
    {
     "data": {
      "text/latex": [
       "$\\displaystyle  \\epsilon_2 \\; for \\; \\phi_2 = -0.502 $"
      ],
      "text/plain": [
       "<IPython.core.display.Math object>"
      ]
     },
     "metadata": {},
     "output_type": "display_data"
    },
    {
     "data": {
      "text/latex": [
       "$\\displaystyle  \\epsilon_3 \\; for \\; \\phi_3 = -0.307 $"
      ],
      "text/plain": [
       "<IPython.core.display.Math object>"
      ]
     },
     "metadata": {},
     "output_type": "display_data"
    },
    {
     "data": {
      "text/latex": [
       "$\\displaystyle  Hartree \\ Fork \\; atom \\; energy = -24.52313 \\ hartree = -667.29896 \\ eV$"
      ],
      "text/plain": [
       "<IPython.core.display.Math object>"
      ]
     },
     "metadata": {},
     "output_type": "display_data"
    },
    {
     "name": "stdout",
     "output_type": "stream",
     "text": [
      "Time used: 1.4 s\n",
      "------------------------------ Iteration 6 ------------------------------\n"
     ]
    },
    {
     "data": {
      "text/latex": [
       "$\\displaystyle \\zeta_1 = 6.500 \\quad \\zeta_2 = 4.080 \\quad \\zeta_3 = 1.000 \\quad \\zeta_4 = 1.560 \\quad \\zeta_5 = 0.760 \\quad \\zeta_6 = 1.700$"
      ],
      "text/plain": [
       "<IPython.core.display.Math object>"
      ]
     },
     "metadata": {},
     "output_type": "display_data"
    },
    {
     "data": {
      "text/latex": [
       "$\\displaystyle Orbitals:$"
      ],
      "text/plain": [
       "<IPython.core.display.Math object>"
      ]
     },
     "metadata": {},
     "output_type": "display_data"
    },
    {
     "data": {
      "text/latex": [
       "$\\displaystyle  \\phi_1s = c_{11} \\chi_1 + c_{21} \\chi_2 + c_{31} \\chi_3 + c_{41} \\chi_4$"
      ],
      "text/plain": [
       "<IPython.core.display.Math object>"
      ]
     },
     "metadata": {},
     "output_type": "display_data"
    },
    {
     "data": {
      "text/latex": [
       "$\\displaystyle  \\phi_2s = c_{12} \\chi_1 + c_{22} \\chi_2 + c_{32} \\chi_3 + c_{42} \\chi_4$"
      ],
      "text/plain": [
       "<IPython.core.display.Math object>"
      ]
     },
     "metadata": {},
     "output_type": "display_data"
    },
    {
     "data": {
      "text/latex": [
       "$\\displaystyle  \\phi_2p = c_{52} \\chi_5 + c_{62} \\chi_6$"
      ],
      "text/plain": [
       "<IPython.core.display.Math object>"
      ]
     },
     "metadata": {},
     "output_type": "display_data"
    },
    {
     "data": {
      "text/latex": [
       "$\\displaystyle c11 = 0.245 \\quad c21 = 0.775 \\quad c31 = 0.014 \\quad c41 = -0.024$"
      ],
      "text/plain": [
       "<IPython.core.display.Math object>"
      ]
     },
     "metadata": {},
     "output_type": "display_data"
    },
    {
     "data": {
      "text/latex": [
       "$\\displaystyle c12 = -0.002 \\quad c22 = 0.256 \\quad c32 = -0.420 \\quad c42 = -0.652$"
      ],
      "text/plain": [
       "<IPython.core.display.Math object>"
      ]
     },
     "metadata": {},
     "output_type": "display_data"
    },
    {
     "data": {
      "text/latex": [
       "$\\displaystyle c52 = -0.588 \\quad c62 = -0.505$"
      ],
      "text/plain": [
       "<IPython.core.display.Math object>"
      ]
     },
     "metadata": {},
     "output_type": "display_data"
    },
    {
     "data": {
      "image/png": "[encoded data removed]",
      "text/plain": [
       "<Figure size 432x288 with 1 Axes>"
      ]
     },
     "metadata": {
      "needs_background": "light"
     },
     "output_type": "display_data"
    },
    {
     "data": {
      "text/latex": [
       "$\\displaystyle  \\epsilon_1 \\; for \\; \\phi_1  = -7.706 $"
      ],
      "text/plain": [
       "<IPython.core.display.Math object>"
      ]
     },
     "metadata": {},
     "output_type": "display_data"
    },
    {
     "data": {
      "text/latex": [
       "$\\displaystyle  \\epsilon_2 \\; for \\; \\phi_2 = -0.502 $"
      ],
      "text/plain": [
       "<IPython.core.display.Math object>"
      ]
     },
     "metadata": {},
     "output_type": "display_data"
    },
    {
     "data": {
      "text/latex": [
       "$\\displaystyle  \\epsilon_3 \\; for \\; \\phi_3 = -0.308 $"
      ],
      "text/plain": [
       "<IPython.core.display.Math object>"
      ]
     },
     "metadata": {},
     "output_type": "display_data"
    },
    {
     "data": {
      "text/latex": [
       "$\\displaystyle  Hartree \\ Fork \\; atom \\; energy = -24.52396 \\ hartree = -667.32158 \\ eV$"
      ],
      "text/plain": [
       "<IPython.core.display.Math object>"
      ]
     },
     "metadata": {},
     "output_type": "display_data"
    },
    {
     "name": "stdout",
     "output_type": "stream",
     "text": [
      "Time used: 1.3 s\n",
      "------------------------------ Iteration 7 ------------------------------\n"
     ]
    },
    {
     "data": {
      "text/latex": [
       "$\\displaystyle \\zeta_1 = 6.500 \\quad \\zeta_2 = 4.080 \\quad \\zeta_3 = 1.000 \\quad \\zeta_4 = 1.560 \\quad \\zeta_5 = 0.760 \\quad \\zeta_6 = 1.700$"
      ],
      "text/plain": [
       "<IPython.core.display.Math object>"
      ]
     },
     "metadata": {},
     "output_type": "display_data"
    },
    {
     "data": {
      "text/latex": [
       "$\\displaystyle Orbitals:$"
      ],
      "text/plain": [
       "<IPython.core.display.Math object>"
      ]
     },
     "metadata": {},
     "output_type": "display_data"
    },
    {
     "data": {
      "text/latex": [
       "$\\displaystyle  \\phi_1s = c_{11} \\chi_1 + c_{21} \\chi_2 + c_{31} \\chi_3 + c_{41} \\chi_4$"
      ],
      "text/plain": [
       "<IPython.core.display.Math object>"
      ]
     },
     "metadata": {},
     "output_type": "display_data"
    },
    {
     "data": {
      "text/latex": [
       "$\\displaystyle  \\phi_2s = c_{12} \\chi_1 + c_{22} \\chi_2 + c_{32} \\chi_3 + c_{42} \\chi_4$"
      ],
      "text/plain": [
       "<IPython.core.display.Math object>"
      ]
     },
     "metadata": {},
     "output_type": "display_data"
    },
    {
     "data": {
      "text/latex": [
       "$\\displaystyle  \\phi_2p = c_{52} \\chi_5 + c_{62} \\chi_6$"
      ],
      "text/plain": [
       "<IPython.core.display.Math object>"
      ]
     },
     "metadata": {},
     "output_type": "display_data"
    },
    {
     "data": {
      "text/latex": [
       "$\\displaystyle c11 = 0.245 \\quad c21 = 0.775 \\quad c31 = 0.014 \\quad c41 = -0.024$"
      ],
      "text/plain": [
       "<IPython.core.display.Math object>"
      ]
     },
     "metadata": {},
     "output_type": "display_data"
    },
    {
     "data": {
      "text/latex": [
       "$\\displaystyle c12 = -0.002 \\quad c22 = 0.256 \\quad c32 = -0.421 \\quad c42 = -0.652$"
      ],
      "text/plain": [
       "<IPython.core.display.Math object>"
      ]
     },
     "metadata": {},
     "output_type": "display_data"
    },
    {
     "data": {
      "text/latex": [
       "$\\displaystyle c52 = -0.587 \\quad c62 = -0.505$"
      ],
      "text/plain": [
       "<IPython.core.display.Math object>"
      ]
     },
     "metadata": {},
     "output_type": "display_data"
    },
    {
     "data": {
      "image/png": "[encoded data removed]",
      "text/plain": [
       "<Figure size 432x288 with 1 Axes>"
      ]
     },
     "metadata": {
      "needs_background": "light"
     },
     "output_type": "display_data"
    },
    {
     "data": {
      "text/latex": [
       "$\\displaystyle  \\epsilon_1 \\; for \\; \\phi_1  = -7.706 $"
      ],
      "text/plain": [
       "<IPython.core.display.Math object>"
      ]
     },
     "metadata": {},
     "output_type": "display_data"
    },
    {
     "data": {
      "text/latex": [
       "$\\displaystyle  \\epsilon_2 \\; for \\; \\phi_2 = -0.502 $"
      ],
      "text/plain": [
       "<IPython.core.display.Math object>"
      ]
     },
     "metadata": {},
     "output_type": "display_data"
    },
    {
     "data": {
      "text/latex": [
       "$\\displaystyle  \\epsilon_3 \\; for \\; \\phi_3 = -0.308 $"
      ],
      "text/plain": [
       "<IPython.core.display.Math object>"
      ]
     },
     "metadata": {},
     "output_type": "display_data"
    },
    {
     "data": {
      "text/latex": [
       "$\\displaystyle  Hartree \\ Fork \\; atom \\; energy = -24.52402 \\ hartree = -667.32301 \\ eV$"
      ],
      "text/plain": [
       "<IPython.core.display.Math object>"
      ]
     },
     "metadata": {},
     "output_type": "display_data"
    },
    {
     "name": "stdout",
     "output_type": "stream",
     "text": [
      "Time used: 1.3 s\n",
      "------------------------------ Iteration 8 ------------------------------\n"
     ]
    },
    {
     "data": {
      "text/latex": [
       "$\\displaystyle \\zeta_1 = 6.500 \\quad \\zeta_2 = 4.080 \\quad \\zeta_3 = 1.000 \\quad \\zeta_4 = 1.560 \\quad \\zeta_5 = 0.760 \\quad \\zeta_6 = 1.700$"
      ],
      "text/plain": [
       "<IPython.core.display.Math object>"
      ]
     },
     "metadata": {},
     "output_type": "display_data"
    },
    {
     "data": {
      "text/latex": [
       "$\\displaystyle Orbitals:$"
      ],
      "text/plain": [
       "<IPython.core.display.Math object>"
      ]
     },
     "metadata": {},
     "output_type": "display_data"
    },
    {
     "data": {
      "text/latex": [
       "$\\displaystyle  \\phi_1s = c_{11} \\chi_1 + c_{21} \\chi_2 + c_{31} \\chi_3 + c_{41} \\chi_4$"
      ],
      "text/plain": [
       "<IPython.core.display.Math object>"
      ]
     },
     "metadata": {},
     "output_type": "display_data"
    },
    {
     "data": {
      "text/latex": [
       "$\\displaystyle  \\phi_2s = c_{12} \\chi_1 + c_{22} \\chi_2 + c_{32} \\chi_3 + c_{42} \\chi_4$"
      ],
      "text/plain": [
       "<IPython.core.display.Math object>"
      ]
     },
     "metadata": {},
     "output_type": "display_data"
    },
    {
     "data": {
      "text/latex": [
       "$\\displaystyle  \\phi_2p = c_{52} \\chi_5 + c_{62} \\chi_6$"
      ],
      "text/plain": [
       "<IPython.core.display.Math object>"
      ]
     },
     "metadata": {},
     "output_type": "display_data"
    },
    {
     "data": {
      "text/latex": [
       "$\\displaystyle c11 = 0.245 \\quad c21 = 0.775 \\quad c31 = 0.014 \\quad c41 = -0.024$"
      ],
      "text/plain": [
       "<IPython.core.display.Math object>"
      ]
     },
     "metadata": {},
     "output_type": "display_data"
    },
    {
     "data": {
      "text/latex": [
       "$\\displaystyle c12 = -0.002 \\quad c22 = 0.256 \\quad c32 = -0.421 \\quad c42 = -0.651$"
      ],
      "text/plain": [
       "<IPython.core.display.Math object>"
      ]
     },
     "metadata": {},
     "output_type": "display_data"
    },
    {
     "data": {
      "text/latex": [
       "$\\displaystyle c52 = -0.587 \\quad c62 = -0.505$"
      ],
      "text/plain": [
       "<IPython.core.display.Math object>"
      ]
     },
     "metadata": {},
     "output_type": "display_data"
    },
    {
     "data": {
      "image/png": "[encoded data removed]",
      "text/plain": [
       "<Figure size 432x288 with 1 Axes>"
      ]
     },
     "metadata": {
      "needs_background": "light"
     },
     "output_type": "display_data"
    },
    {
     "data": {
      "text/latex": [
       "$\\displaystyle  \\epsilon_1 \\; for \\; \\phi_1  = -7.706 $"
      ],
      "text/plain": [
       "<IPython.core.display.Math object>"
      ]
     },
     "metadata": {},
     "output_type": "display_data"
    },
    {
     "data": {
      "text/latex": [
       "$\\displaystyle  \\epsilon_2 \\; for \\; \\phi_2 = -0.502 $"
      ],
      "text/plain": [
       "<IPython.core.display.Math object>"
      ]
     },
     "metadata": {},
     "output_type": "display_data"
    },
    {
     "data": {
      "text/latex": [
       "$\\displaystyle  \\epsilon_3 \\; for \\; \\phi_3 = -0.308 $"
      ],
      "text/plain": [
       "<IPython.core.display.Math object>"
      ]
     },
     "metadata": {},
     "output_type": "display_data"
    },
    {
     "data": {
      "text/latex": [
       "$\\displaystyle  Hartree \\ Fork \\; atom \\; energy = -24.52407 \\ hartree = -667.32438 \\ eV$"
      ],
      "text/plain": [
       "<IPython.core.display.Math object>"
      ]
     },
     "metadata": {},
     "output_type": "display_data"
    },
    {
     "name": "stdout",
     "output_type": "stream",
     "text": [
      "Time used: 1.7 s\n",
      "------------------------------ Iteration 9 ------------------------------\n"
     ]
    },
    {
     "data": {
      "text/latex": [
       "$\\displaystyle \\zeta_1 = 6.500 \\quad \\zeta_2 = 4.080 \\quad \\zeta_3 = 1.000 \\quad \\zeta_4 = 1.560 \\quad \\zeta_5 = 0.760 \\quad \\zeta_6 = 1.700$"
      ],
      "text/plain": [
       "<IPython.core.display.Math object>"
      ]
     },
     "metadata": {},
     "output_type": "display_data"
    },
    {
     "data": {
      "text/latex": [
       "$\\displaystyle Orbitals:$"
      ],
      "text/plain": [
       "<IPython.core.display.Math object>"
      ]
     },
     "metadata": {},
     "output_type": "display_data"
    },
    {
     "data": {
      "text/latex": [
       "$\\displaystyle  \\phi_1s = c_{11} \\chi_1 + c_{21} \\chi_2 + c_{31} \\chi_3 + c_{41} \\chi_4$"
      ],
      "text/plain": [
       "<IPython.core.display.Math object>"
      ]
     },
     "metadata": {},
     "output_type": "display_data"
    },
    {
     "data": {
      "text/latex": [
       "$\\displaystyle  \\phi_2s = c_{12} \\chi_1 + c_{22} \\chi_2 + c_{32} \\chi_3 + c_{42} \\chi_4$"
      ],
      "text/plain": [
       "<IPython.core.display.Math object>"
      ]
     },
     "metadata": {},
     "output_type": "display_data"
    },
    {
     "data": {
      "text/latex": [
       "$\\displaystyle  \\phi_2p = c_{52} \\chi_5 + c_{62} \\chi_6$"
      ],
      "text/plain": [
       "<IPython.core.display.Math object>"
      ]
     },
     "metadata": {},
     "output_type": "display_data"
    },
    {
     "data": {
      "text/latex": [
       "$\\displaystyle c11 = 0.245 \\quad c21 = 0.775 \\quad c31 = 0.014 \\quad c41 = -0.024$"
      ],
      "text/plain": [
       "<IPython.core.display.Math object>"
      ]
     },
     "metadata": {},
     "output_type": "display_data"
    },
    {
     "data": {
      "text/latex": [
       "$\\displaystyle c12 = -0.002 \\quad c22 = 0.256 \\quad c32 = -0.421 \\quad c42 = -0.651$"
      ],
      "text/plain": [
       "<IPython.core.display.Math object>"
      ]
     },
     "metadata": {},
     "output_type": "display_data"
    },
    {
     "data": {
      "text/latex": [
       "$\\displaystyle c52 = -0.587 \\quad c62 = -0.505$"
      ],
      "text/plain": [
       "<IPython.core.display.Math object>"
      ]
     },
     "metadata": {},
     "output_type": "display_data"
    },
    {
     "data": {
      "image/png": "[encoded data removed]",
      "text/plain": [
       "<Figure size 432x288 with 1 Axes>"
      ]
     },
     "metadata": {
      "needs_background": "light"
     },
     "output_type": "display_data"
    },
    {
     "data": {
      "text/latex": [
       "$\\displaystyle  \\epsilon_1 \\; for \\; \\phi_1  = -7.706 $"
      ],
      "text/plain": [
       "<IPython.core.display.Math object>"
      ]
     },
     "metadata": {},
     "output_type": "display_data"
    },
    {
     "data": {
      "text/latex": [
       "$\\displaystyle  \\epsilon_2 \\; for \\; \\phi_2 = -0.501 $"
      ],
      "text/plain": [
       "<IPython.core.display.Math object>"
      ]
     },
     "metadata": {},
     "output_type": "display_data"
    },
    {
     "data": {
      "text/latex": [
       "$\\displaystyle  \\epsilon_3 \\; for \\; \\phi_3 = -0.308 $"
      ],
      "text/plain": [
       "<IPython.core.display.Math object>"
      ]
     },
     "metadata": {},
     "output_type": "display_data"
    },
    {
     "data": {
      "text/latex": [
       "$\\displaystyle  Hartree \\ Fork \\; atom \\; energy = -24.52408 \\ hartree = -667.32470 \\ eV$"
      ],
      "text/plain": [
       "<IPython.core.display.Math object>"
      ]
     },
     "metadata": {},
     "output_type": "display_data"
    },
    {
     "name": "stdout",
     "output_type": "stream",
     "text": [
      "Time used: 1.4 s\n",
      "------------------------------ Iteration 10 ------------------------------\n"
     ]
    },
    {
     "data": {
      "text/latex": [
       "$\\displaystyle \\zeta_1 = 6.500 \\quad \\zeta_2 = 4.080 \\quad \\zeta_3 = 1.000 \\quad \\zeta_4 = 1.560 \\quad \\zeta_5 = 0.760 \\quad \\zeta_6 = 1.700$"
      ],
      "text/plain": [
       "<IPython.core.display.Math object>"
      ]
     },
     "metadata": {},
     "output_type": "display_data"
    },
    {
     "data": {
      "text/latex": [
       "$\\displaystyle Orbitals:$"
      ],
      "text/plain": [
       "<IPython.core.display.Math object>"
      ]
     },
     "metadata": {},
     "output_type": "display_data"
    },
    {
     "data": {
      "text/latex": [
       "$\\displaystyle  \\phi_1s = c_{11} \\chi_1 + c_{21} \\chi_2 + c_{31} \\chi_3 + c_{41} \\chi_4$"
      ],
      "text/plain": [
       "<IPython.core.display.Math object>"
      ]
     },
     "metadata": {},
     "output_type": "display_data"
    },
    {
     "data": {
      "text/latex": [
       "$\\displaystyle  \\phi_2s = c_{12} \\chi_1 + c_{22} \\chi_2 + c_{32} \\chi_3 + c_{42} \\chi_4$"
      ],
      "text/plain": [
       "<IPython.core.display.Math object>"
      ]
     },
     "metadata": {},
     "output_type": "display_data"
    },
    {
     "data": {
      "text/latex": [
       "$\\displaystyle  \\phi_2p = c_{52} \\chi_5 + c_{62} \\chi_6$"
      ],
      "text/plain": [
       "<IPython.core.display.Math object>"
      ]
     },
     "metadata": {},
     "output_type": "display_data"
    },
    {
     "data": {
      "text/latex": [
       "$\\displaystyle c11 = 0.245 \\quad c21 = 0.775 \\quad c31 = 0.014 \\quad c41 = -0.024$"
      ],
      "text/plain": [
       "<IPython.core.display.Math object>"
      ]
     },
     "metadata": {},
     "output_type": "display_data"
    },
    {
     "data": {
      "text/latex": [
       "$\\displaystyle c12 = -0.002 \\quad c22 = 0.256 \\quad c32 = -0.421 \\quad c42 = -0.651$"
      ],
      "text/plain": [
       "<IPython.core.display.Math object>"
      ]
     },
     "metadata": {},
     "output_type": "display_data"
    },
    {
     "data": {
      "text/latex": [
       "$\\displaystyle c52 = -0.587 \\quad c62 = -0.505$"
      ],
      "text/plain": [
       "<IPython.core.display.Math object>"
      ]
     },
     "metadata": {},
     "output_type": "display_data"
    },
    {
     "data": {
      "image/png": "[encoded data removed]",
      "text/plain": [
       "<Figure size 432x288 with 1 Axes>"
      ]
     },
     "metadata": {
      "needs_background": "light"
     },
     "output_type": "display_data"
    },
    {
     "data": {
      "text/latex": [
       "$\\displaystyle  \\epsilon_1 \\; for \\; \\phi_1  = -7.706 $"
      ],
      "text/plain": [
       "<IPython.core.display.Math object>"
      ]
     },
     "metadata": {},
     "output_type": "display_data"
    },
    {
     "data": {
      "text/latex": [
       "$\\displaystyle  \\epsilon_2 \\; for \\; \\phi_2 = -0.501 $"
      ],
      "text/plain": [
       "<IPython.core.display.Math object>"
      ]
     },
     "metadata": {},
     "output_type": "display_data"
    },
    {
     "data": {
      "text/latex": [
       "$\\displaystyle  \\epsilon_3 \\; for \\; \\phi_3 = -0.308 $"
      ],
      "text/plain": [
       "<IPython.core.display.Math object>"
      ]
     },
     "metadata": {},
     "output_type": "display_data"
    },
    {
     "data": {
      "text/latex": [
       "$\\displaystyle  Hartree \\ Fork \\; atom \\; energy = -24.52408 \\ hartree = -667.32483 \\ eV$"
      ],
      "text/plain": [
       "<IPython.core.display.Math object>"
      ]
     },
     "metadata": {},
     "output_type": "display_data"
    },
    {
     "name": "stdout",
     "output_type": "stream",
     "text": [
      "Time used: 1.3 s\n"
     ]
    }
   ],
   "source": [
    "### input \n",
    "# input for zeta\n",
    "zetas = [[6.5, 1], [4.08, 1], [1.0, 2], [1.56, 2]]\n",
    "zetap = [[0.76, 2], [1.70, 2]]\n",
    "# input nuclear charge (element number)\n",
    "Z = 5\n",
    "\n",
    "# build basis function\n",
    "fs1=STO(zetas[0][0], zetas[0][1])\n",
    "fs2=STO(zetas[1][0], zetas[1][1])\n",
    "fs3=STO(zetas[2][0], zetas[2][1])\n",
    "fs4=STO(zetas[3][0], zetas[3][1])\n",
    "fs = [fs1, fs2, fs3, fs4]\n",
    "\n",
    "fp1=STO(zetap[0][0], zetap[0][1])\n",
    "fp2=STO(zetap[1][0], zetap[1][1])\n",
    "fp = [fp1, fp2]\n",
    "\n",
    "# initialization\n",
    "#Jss = np.zeros((len(zetas), len(zetas), len(zetas), len(zetas)))\n",
    "#Kss = np.zeros((len(zetas), len(zetas), len(zetas), len(zetas)))\n",
    "#Jsp = np.zeros((len(zetas), len(zetas), len(zetap), len(zetap)))\n",
    "#Ksp = np.zeros((len(zetas), len(zetas), len(zetap), len(zetap)))\n",
    "#Jps = np.zeros((len(zetap), len(zetap), len(zetas), len(zetas)))\n",
    "#Kps = np.zeros((len(zetap), len(zetap), len(zetas), len(zetas)))\n",
    "Jpp = np.zeros((len(zetas), len(zetas), len(zetap), len(zetap)))\n",
    "Kpp = np.zeros((len(zetas), len(zetas), len(zetap), len(zetap)))\n",
    "Hs = Hs_matrix(fs, Z)\n",
    "Hp = Hp_matrix(fp, Z)\n",
    "Ss = S_matrix(fs)\n",
    "Sp = S_matrix(fp)\n",
    "es, Cos = secular_eqn(Hs, Ss)\n",
    "ep, Cop = secular_eqn(Hp, Sp)\n",
    "Ps = Ps_matrix(Cos)\n",
    "Pp = Pp_matrix(Cop)\n",
    "scf_H = get_E0(es, ep, Ps, Pp, Hs, Hp)\n",
    "\n",
    "##############################################print information below#################################################\n",
    "print('-'*30, \"Initialization\", '-'*30)\n",
    "print('-'*25, \"Ignore repulsion integral\", '-'*24)\n",
    "display(Math('\\zeta_1 = {0} \\quad \\zeta_2 = {1} \\quad \\zeta_3 = {2} \\quad \\zeta_4 = {3} \\quad \\zeta_5 = {4} \\quad \\zeta_6 = {5}'.format(format(zetas[0][0], '0.3f'), format(zetas[1][0], '0.3f'), format(zetas[2][0], '0.3f'),format(zetas[3][0], '0.3f'), format(zetap[0][0], '0.3f'),format(zetap[1][0], '0.3f')))) \n",
    "display(Math('Orbitals:'))\n",
    "display(Math(' \\phi_1s = c_{11} \\chi_1 + c_{21} \\chi_2 + c_{31} \\chi_3 + c_{41} \\chi_4'))\n",
    "display(Math(' \\phi_2s = c_{12} \\chi_1 + c_{22} \\chi_2 + c_{32} \\chi_3 + c_{42} \\chi_4'))    \n",
    "display(Math(' \\phi_2p = c_{52} \\chi_5 + c_{62} \\chi_6')) \n",
    "display(Math('c11 = {0} \\quad c21 = {1} \\quad c31 = {2} \\quad c41 = {3}'.format(format(Cos[0][0], '0.3f'), format(Cos[1][0], '0.3f'), format(Cos[2][0], '0.3f'), format(Cos[3][0], '0.3f')))) \n",
    "display(Math('c12 = {0} \\quad c22 = {1} \\quad c32 = {2} \\quad c42 = {3}'.format(format(Cos[0][1], '0.3f'), format(Cos[1][1], '0.3f'), format(Cos[2][1], '0.3f'), format(Cos[3][1], '0.3f'))))     \n",
    "display(Math('c52 = {0} \\quad c62 = {1}'.format(format(Cop[0][0], '0.3f'), format(Cop[1][0], '0.3f'))))     \n",
    "\n",
    "# plot density graph\n",
    "colorlist = ['red', 'orange', 'yellow', 'green', 'blue', 'purple', 'black', 'red', 'orange', 'yellow', 'green', 'blue', 'purple', 'black']\n",
    "phi1 = Cos[0,0]*fs1+Cos[1,0]*fs2+Cos[2,0]*fs3+Cos[3,0]*fs4\n",
    "phi2 = Cos[0,1]*fs1+Cos[1,1]*fs2+Cos[2,1]*fs3+Cos[3,1]*fs4\n",
    "phi3 = Cop[0,0]*fp1+Cop[1,0]*fp2\n",
    "density_1 = phi1*phi1*r*r\n",
    "density_2 = phi2*phi2*r*r    \n",
    "density_3 = phi3*phi3*r*r   \n",
    "p = plot((density_1, (r, 0, 5)), (density_2, (r, 0, 5)), (density_3, (r, 0, 5)), show = False, legend = True)\n",
    "p[0].label = 'electron density $r^2 \\phi_1^2$ '\n",
    "p[1].label = 'electron density $r^2 \\phi_2^2$ '    \n",
    "p[2].label = 'electron density $r^2 \\phi_2^2$ ' \n",
    "p[0].line_color = colorlist[0]\n",
    "p[1].line_color = 'blue'\n",
    "p[2].line_color = 'green'\n",
    "p.show()\n",
    "# print energy result\n",
    "display(Math(' \\epsilon_1 \\; for \\; \\phi_1  = {0} '.format(format(es[0].real, '0.3f'))))    \n",
    "display(Math(' \\epsilon_2 \\; for \\; \\phi_2 = {0} '.format(format(es[1].real, '0.3f'))))      \n",
    "display(Math(' \\epsilon_3 \\; for \\; \\phi_3 = {0} '.format(format(ep[0].real, '0.3f'))))   \n",
    "display(Math(' Hartree \\ Fork \\; atom \\; energy = {0} \\ hartree = {1} \\ eV'.format(format(scf_H, '0.5f'), format(scf_H*27.211, '0.5f'))))    \n",
    "\n",
    "##############################################print information above#################################################\n",
    "\n",
    "for i in range(10):\n",
    "    print('-'*30, \"Iteration\", i + 1, '-'*30)\n",
    "    if(i==0):\n",
    "        print('-'*7, \"Iteration 1 needs more time to caculate Repulsion Integral\", '-'*6)\n",
    "        start = time.time()\n",
    "        #Jss = J_matrix(zetas, zetas)\n",
    "        #Kss = K_matrix(zetas, zetas, 0)\n",
    "        #Jsp = J_matrix(zetas, zetap)\n",
    "        #Ksp = 1/3 * K_matrix(zetas, zetap, 1)\n",
    "        #Jps = J_matrix(zetap, zetas)\n",
    "        #Kps = 1/3 * K_matrix(zetap, zetas, 1)\n",
    "        #Jpp = J_matrix(zetap, zetap, 0) + 1/25 * J_matrix(zetap, zetap, 2)\n",
    "        #Kpp = 6/25 * K_matrix(zetap, zetap, 2)\n",
    "    else:\n",
    "        start = time.time()\n",
    "    Fs = Fs_matrix(fs, Z, Cos, Cop, Jss, Kss, Jsp, Ksp)\n",
    "    Fp = Fp_matrix(fp, Z, Cos, Cop, Jpp, Kpp, Jps, Kps)\n",
    "    S = S_matrix(fs)\n",
    "    es, Cos = secular_eqn(Fs, Ss)\n",
    "    ep, Cop = secular_eqn(Fp, Sp)\n",
    "    Ps = Ps_matrix(Cos)\n",
    "    Pp = Pp_matrix(Cop)\n",
    "    scf_H = get_E0(es, ep, Ps, Pp, Hs, Hp)\n",
    "    ##########################################print information below#################################################\n",
    "    # print information\n",
    "    display(Math('\\zeta_1 = {0} \\quad \\zeta_2 = {1} \\quad \\zeta_3 = {2} \\quad \\zeta_4 = {3} \\quad \\zeta_5 = {4} \\quad \\zeta_6 = {5}'.format(format(zetas[0][0], '0.3f'), format(zetas[1][0], '0.3f'), format(zetas[2][0], '0.3f'),format(zetas[3][0], '0.3f'), format(zetap[0][0], '0.3f'),format(zetap[1][0], '0.3f')))) \n",
    "    display(Math('Orbitals:'))\n",
    "    display(Math(' \\phi_1s = c_{11} \\chi_1 + c_{21} \\chi_2 + c_{31} \\chi_3 + c_{41} \\chi_4'))\n",
    "    display(Math(' \\phi_2s = c_{12} \\chi_1 + c_{22} \\chi_2 + c_{32} \\chi_3 + c_{42} \\chi_4'))    \n",
    "    display(Math(' \\phi_2p = c_{52} \\chi_5 + c_{62} \\chi_6')) \n",
    "    display(Math('c11 = {0} \\quad c21 = {1} \\quad c31 = {2} \\quad c41 = {3}'.format(format(Cos[0][0], '0.3f'), format(Cos[1][0], '0.3f'), format(Cos[2][0], '0.3f'), format(Cos[3][0], '0.3f')))) \n",
    "    display(Math('c12 = {0} \\quad c22 = {1} \\quad c32 = {2} \\quad c42 = {3}'.format(format(Cos[0][1], '0.3f'), format(Cos[1][1], '0.3f'), format(Cos[2][1], '0.3f'), format(Cos[3][1], '0.3f'))))     \n",
    "    display(Math('c52 = {0} \\quad c62 = {1}'.format(format(Cop[0][0], '0.3f'), format(Cop[1][0], '0.3f'))))     \n",
    "    # plot density graph\n",
    "    phi1 = Cos[0,0]*fs1+Cos[1,0]*fs2+Cos[2,0]*fs3+Cos[3,0]*fs4\n",
    "    phi2 = Cos[0,1]*fs1+Cos[1,1]*fs2+Cos[2,1]*fs3+Cos[3,1]*fs4\n",
    "    phi3 = Cop[0,0]*fp1+Cop[1,0]*fp2\n",
    "    density_1 = phi1*phi1*r*r\n",
    "    density_2 = phi2*phi2*r*r    \n",
    "    density_3 = phi3*phi3*r*r    \n",
    "    p = plot((density_1, (r, 0, 5)), (density_2, (r, 0, 5)), (density_3, (r, 0, 5)), show = False)\n",
    "    p[0].label = 'electron density $r^2 \\phi_1^2$ '\n",
    "    p[1].label = 'electron density $r^2 \\phi_2^2$ '    \n",
    "    p[2].label = 'electron density $r^2 \\phi_2^2$ ' \n",
    "    p[0].line_color = colorlist[0]\n",
    "    p[1].line_color = 'blue'\n",
    "    p[2].line_color = 'green'\n",
    "    p.show()\n",
    "    # print energy result\n",
    "    display(Math(' \\epsilon_1 \\; for \\; \\phi_1  = {0} '.format(format(es[0].real, '0.3f'))))    \n",
    "    display(Math(' \\epsilon_2 \\; for \\; \\phi_2 = {0} '.format(format(es[1].real, '0.3f'))))      \n",
    "    display(Math(' \\epsilon_3 \\; for \\; \\phi_3 = {0} '.format(format(ep[0].real, '0.3f'))))   \n",
    "    display(Math(' Hartree \\ Fork \\; atom \\; energy = {0} \\ hartree = {1} \\ eV'.format(format(scf_H, '0.5f'), format(scf_H*27.211, '0.5f'))))   \n",
    "    stop = time.time()\n",
    "    print('Time used:',format(stop-start, '0.1f'),'s')\n",
    "    ##########################################print information above#################################################\n"
   ]
  },
  {
   "cell_type": "code",
   "execution_count": 21,
   "metadata": {},
   "outputs": [
    {
     "name": "stdout",
     "output_type": "stream",
     "text": [
      "1.00000000000000\n",
      "4.66878070399629\n",
      "0.327303142668333\n",
      "0.145055523146430\n",
      "1.00000000000000\n",
      "0.716206761372427\n",
      "1.98340096185517\n",
      "4.76621026267717\n",
      "1.00000000000000\n",
      "0.716479179676395\n",
      "0.593928527625851\n",
      "2.32260739706902\n",
      "7.12300244882936\n"
     ]
    }
   ],
   "source": [
    "print(sp.integrate(density_1 ,(r, 0, +oo)))\n",
    "print(sp.integrate(density_1/r ,(r, 0, +oo)))\n",
    "print(sp.integrate(density_1*r ,(r, 0, +oo)))\n",
    "print(sp.integrate(density_1*r*r ,(r, 0, +oo)))\n",
    "\n",
    "print(sp.integrate(density_2 ,(r, 0, +oo)))\n",
    "print(sp.integrate(density_2/r ,(r, 0, +oo)))\n",
    "print(sp.integrate(density_2*r ,(r, 0, +oo)))\n",
    "print(sp.integrate(density_2*r*r ,(r, 0, +oo)))\n",
    "\n",
    "print(sp.integrate(density_3 ,(r, 0, +oo)))\n",
    "print(sp.integrate(density_3/r/r/r ,(r, 0, +oo)))\n",
    "print(sp.integrate(density_3/r ,(r, 0, +oo)))\n",
    "print(sp.integrate(density_3*r ,(r, 0, +oo)))\n",
    "print(sp.integrate(density_3*r*r ,(r, 0, +oo)))"
   ]
  },
  {
   "cell_type": "code",
   "execution_count": null,
   "metadata": {},
   "outputs": [],
   "source": []
  },
  {
   "cell_type": "code",
   "execution_count": null,
   "metadata": {},
   "outputs": [],
   "source": []
  }
 ],
 "metadata": {
  "kernelspec": {
   "display_name": "Python 3",
   "language": "python",
   "name": "python3"
  },
  "language_info": {
   "codemirror_mode": {
    "name": "ipython",
    "version": 3
   },
   "file_extension": ".py",
   "mimetype": "text/x-python",
   "name": "python",
   "nbconvert_exporter": "python",
   "pygments_lexer": "ipython3",
   "version": "3.7.3"
  }
 },
 "nbformat": 4,
 "nbformat_minor": 4
}
