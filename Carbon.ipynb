{
 "cells": [
  {
   "cell_type": "markdown",
   "metadata": {
    "slideshow": {
     "slide_type": "slide"
    }
   },
   "source": [
    "<h2><center>Restricted open-shell Hartree–Fock for Beryllium</center></h2>\n",
    "\n",
    "<p style=\"text-align: center; margin-top: 0px; margin-bottom: 0px;\">\n",
    "                By <a target=\"_blank\" href=\"https://github.com/yueyericardo\">Richard Xue </a>\n",
    "</p>\n",
    "\n",
    "<p style=\"text-align: center; margin-top: 0px;\">\n",
    "                <a target=\"_blank\" href=\"https://yyrcd.com/hf/he.html\">Helium </a>&nbsp;/&nbsp;\n",
    "                <a target=\"_blank\" href=\"https://yyrcd.com/hf/li.html\">Lithium </a>&nbsp;/&nbsp;    \n",
    "                <a target=\"_blank\" href=\"https://yyrcd.com/hf/be.html\">Beryllium </a>\n",
    "</p>\n"
   ]
  },
  {
   "cell_type": "code",
   "execution_count": 1,
   "metadata": {
    "slideshow": {
     "slide_type": "subslide"
    }
   },
   "outputs": [],
   "source": [
    "import sympy as sp\n",
    "from sympy import oo\n",
    "import numpy as np\n",
    "from itertools import product\n",
    "from scipy.linalg import eig\n",
    "from sympy import diff\n",
    "import time as time\n",
    "import matplotlib.pyplot as plt\n",
    "from sympy.plotting import plot\n",
    "# %matplotlib notebook \n",
    "%matplotlib inline\n",
    "from IPython.display import Math\n",
    "sp.init_printing()\n",
    "from sympy import expand_func\n",
    "from sympy.functions import conjugate\n",
    "from sympy import nsimplify\n",
    "from sympy.functions.special.tensor_functions import KroneckerDelta\n",
    "from sympy.physics.wigner import gaunt\n",
    "from sympy.physics.wigner import wigner_3j\n",
    "\n",
    "zeta, zeta1, zeta2 = sp.symbols(\"zeta, zeta1, zeta2\")\n",
    "n = sp.Symbol('n',integer=True)\n",
    "r = sp.Symbol('r',real = True)\n",
    "zeta = sp.Symbol('zeta',real = True)\n",
    "theta = sp.Symbol('theta',real = True)\n",
    "phi = sp.Symbol('phi',real = True)\n",
    "r1 = sp.Symbol('r1',positive = True)\n",
    "r2 = sp.Symbol('r2',positive = True)\n",
    "l, m = sp.symbols(\"l, m\")"
   ]
  },
  {
   "cell_type": "markdown",
   "metadata": {
    "slideshow": {
     "slide_type": "slide"
    }
   },
   "source": [
    "<h2><center>Part 1 Function Definition</center></h2>"
   ]
  },
  {
   "cell_type": "markdown",
   "metadata": {},
   "source": [
    "### Define STO function\n",
    "$STO \\; function \\; has \\; format \\; of: \\; Nr^{n-1}e^{-r\\zeta}$"
   ]
  },
  {
   "cell_type": "code",
   "execution_count": 2,
   "metadata": {},
   "outputs": [],
   "source": [
    "def STO(zeta, n, l=0, m=0, r=r):\n",
    "    return expand_func((2*zeta)**n*(2*zeta/sp.factorial(2*n))**(1/2)*r**(n-1)*sp.exp(-zeta*r)*(sp.Ynm(l, m, theta, phi)))\n",
    "\n",
    "def STO_r(zeta, n, l=0, m=0, r=r):\n",
    "    return (2*zeta)**n*(2*zeta/sp.factorial(2*n))**(1/2)*r**(n-1)*sp.exp(-zeta*r)\n",
    "\n",
    "def Y(l=0, m=0):\n",
    "    return expand_func((sp.Ynm(l, m, theta, phi)))\n",
    "\n",
    "def Y_int(f1, f2):\n",
    "    return sp.integrate(conjugate(f1)*f2*sp.sin(theta), (theta, 0, sp.pi), (phi, 0, 2*sp.pi))\n"
   ]
  },
  {
   "cell_type": "code",
   "execution_count": 3,
   "metadata": {},
   "outputs": [],
   "source": [
    "# S Overlap Integrate\n",
    "def S_int(f1, f2):\n",
    "    return sp.integrate(conjugate(f1)*f2*r*r*sp.sin(theta) ,(r, 0, +oo), (theta, 0, sp.pi), (phi, 0, 2*sp.pi))\n",
    "\n",
    "def S_int_r(f1, f2):\n",
    "    return sp.integrate(conjugate(f1)*f2*r*r ,(r, 0, +oo))"
   ]
  },
  {
   "cell_type": "code",
   "execution_count": 4,
   "metadata": {},
   "outputs": [
    {
     "data": {
      "image/png": "[encoded data removed]",
      "text/latex": [
       "$$1.0$$"
      ],
      "text/plain": [
       "1.00000000000000"
      ]
     },
     "execution_count": 4,
     "metadata": {},
     "output_type": "execute_result"
    }
   ],
   "source": [
    "f3 = STO_r(1.49, 1, 1, 0)\n",
    "\n",
    "a = S_int_r(f3, f3)\n",
    "a"
   ]
  },
  {
   "cell_type": "markdown",
   "metadata": {},
   "source": [
    "### Overlap Integrate\n",
    "\n",
    "$S = \\int_{0}^\\infty f_1^* f_2 \\; r^2dr$"
   ]
  },
  {
   "cell_type": "code",
   "execution_count": 5,
   "metadata": {},
   "outputs": [
    {
     "data": {
      "image/png": "[encoded data removed]",
      "text/latex": [
       "$$3.63755357348864 e^{- 1.49 r}$$"
      ],
      "text/plain": [
       "                  -1.49⋅r\n",
       "3.63755357348864⋅ℯ       "
      ]
     },
     "execution_count": 5,
     "metadata": {},
     "output_type": "execute_result"
    }
   ],
   "source": [
    "f3"
   ]
  },
  {
   "cell_type": "code",
   "execution_count": 6,
   "metadata": {},
   "outputs": [
    {
     "data": {
      "image/png": "[encoded data removed]",
      "text/latex": [
       "$$3.63755357348864 e^{- 1.49 r}$$"
      ],
      "text/plain": [
       "                  -1.49⋅r\n",
       "3.63755357348864⋅ℯ       "
      ]
     },
     "execution_count": 6,
     "metadata": {},
     "output_type": "execute_result"
    }
   ],
   "source": [
    "conjugate(f3)"
   ]
  },
  {
   "cell_type": "markdown",
   "metadata": {},
   "source": [
    "### Hamiltonian core\n",
    "\n",
    "H core = kinetics energy + electron and nuclear potential energy\n",
    "\n",
    "$H = \\int_{0}^\\infty f_1 \\hat{H} f_2 \\; r^2dr$\n",
    "\n",
    "$H = \\int_{0}^\\infty f_1 ((-\\dfrac{1}{2}) \\nabla^2 - \\dfrac{Z_{\\alpha}}{r})f_2 \\; r^2 dr$\n",
    "\n",
    "<p><a href=\"https://en.wikipedia.org/wiki/Laplace_operator\">$Laplace \\; operator: $</a> $\\nabla^2$</p>\n",
    "<p><left><img class = \"none\"style=\"text-align: center; margin-left:0px\" src=\"https://wikimedia.org/api/rest_v1/media/math/render/svg/b4a3135d1cc01d19309d36c749aaef4a48dc81da\"></left></p>\n",
    "\n",
    "$\\therefore H = \\int_{0}^\\infty f_1 ((-\\dfrac{1}{2}) \\dfrac{1}{r} \\dfrac{\\partial}{\\partial r} \\dfrac{\\partial}{\\partial r} r f_2 - \\dfrac{Z_{\\alpha}}{r}r^2 f_2 )dr$\n",
    "\n",
    "**reminder:** change the Z of nucleus if you want to run for other atom"
   ]
  },
  {
   "cell_type": "code",
   "execution_count": 7,
   "metadata": {},
   "outputs": [],
   "source": [
    "# H core = kinetics energy + electron and nuclear potential energy\n",
    "def H_int(f1, f2, Z):\n",
    "    a = (1/(r*r))*diff(r*r*diff(f2, r), r)\n",
    "    b = (1/(r*r*sp.sin(theta)))*diff(sp.sin(theta)*diff(f2, theta), theta)\n",
    "    c = (1/(r*r*sp.sin(theta)*sp.sin(theta)))*diff(diff(f2, phi), phi)\n",
    "    return sp.integrate(conjugate(f1)*(-(1/2)*(a + b + c) - Z/r*f2)*r*r*sp.sin(theta), (r,0,+oo), (theta, 0, sp.pi), (phi, 0, 2*sp.pi))\n"
   ]
  },
  {
   "cell_type": "code",
   "execution_count": 8,
   "metadata": {},
   "outputs": [],
   "source": [
    "# Returns the core hamiltonian matrix\n",
    "def H_matrix(fs, Z):\n",
    "\n",
    "    H = np.zeros((len(fs),len(fs)))\n",
    "    for i in range(len(fs)):\n",
    "        for j in range(len(fs)):\n",
    "            H[i, j] =  H_int(fs[i], fs[j], Z)\n",
    "\n",
    "    return H    \n",
    "\n",
    "# Returns the overlap matrix\n",
    "def S_matrix(fs):\n",
    "\n",
    "    S = np.zeros((len(fs),len(fs)))\n",
    "    for i in range(len(fs)):\n",
    "        for j in range(len(fs)):\n",
    "            S[i, j] =  S_int(fs[i], fs[j])\n",
    "\n",
    "    return S  "
   ]
  },
  {
   "cell_type": "markdown",
   "metadata": {},
   "source": [
    "### Two elecron repulsion integral\n",
    "$(rs|tu) = \\int \\int \\dfrac{f_r^*(1) f_s(1) f_t^*(2) f_u(2)}{r_{12}} \\; dv_1 dv_2 $\n",
    "\n",
    "For 1s 2s orbital\n",
    "\n",
    "$(rs|tu)  = \\int_{0}^\\infty \\int_{0}^\\infty \\dfrac{f_r^*(1) f_s(1) f_t^*(2) f_u(2)}{r_{12}} \\; r_1^2dr_1\\; r_2^2dr_2  $\n",
    "\n",
    "$(rs|tu) = \\int_{0}^\\infty f_r^*(1) f_s(1)  \\; r_1^2dr_1\\int_{0}^\\infty \\frac{ f_t^*(2) f_u(2)}{r_{12}}\\; r_2^2dr_2  $\n",
    "\n",
    "From problem 9.14 in quantum_chemistry by levine\n",
    "\n",
    "$(rs|tu) = \\int_{0}^\\infty f_r^*(1) f_s(1)  \\; r_1^2dr_1\\int_{0}^\\infty \\frac{ f_t^*(2) f_u(2)}{r_{>}}\\; r_2^2dr_2  $\n",
    "\n",
    "$(rs|tu) = \\int_{0}^\\infty f_r^*(1) f_s(1)  \\; r_1^2dr_1(\\int_{0}^{r_1} \\frac{ f_t^*(2) f_u(2)}{r_{1}}\\; r_2^2dr_2 + \\int_{r_1}^\\infty \\frac{ f_t^*(2) f_u(2)}{r_{2}}\\; r_2^2dr_2)  $\n",
    "\n",
    "$Let \\; B= \\int_{0}^{r_1} \\frac{ f_t^*(2) f_u(2)}{r_{1}}\\; r_2^2dr_2 + \\int_{r_1}^\\infty \\frac{ f_t^*(2) f_u(2)}{r_{2}}\\; r_2^2dr_2$\n",
    "\n",
    "$(rs|tu) = \\int_{0}^\\infty f_r^*(1) f_s(1) B \\; r_1^2 dr_1  $\n",
    "\n"
   ]
  },
  {
   "cell_type": "code",
   "execution_count": 9,
   "metadata": {
    "scrolled": false
   },
   "outputs": [],
   "source": [
    "def win(l1,l2,l3,m1,m2,m3):\n",
    "    if(wigner_3j(l1,l2,l3,m1,m2,m3)==0):\n",
    "        return 0\n",
    "    else:\n",
    "        return 1\n",
    "\n",
    "def Repulsion_electron(zetas):\n",
    "    \n",
    "    f1=STO_r(zetas[0][0], zetas[0][1], zetas[0][2], zetas[0][3], r1)\n",
    "    f2=STO_r(zetas[1][0], zetas[1][1], zetas[1][2], zetas[1][3], r1)\n",
    "    f3=STO_r(zetas[2][0], zetas[2][1], zetas[2][2], zetas[2][3], r2)\n",
    "    f4=STO_r(zetas[3][0], zetas[3][1], zetas[3][2], zetas[3][3], r2)\n",
    "    fs = [f1, f2, f3, f4]\n",
    "    l1 = int(zetas[0][2])\n",
    "    l2 = int(zetas[1][2])    \n",
    "    l3 = int(zetas[2][2])\n",
    "    l4 = int(zetas[3][2])\n",
    "    m1 = int(zetas[0][3])\n",
    "    m2 = int(zetas[1][3])\n",
    "    m3 = int(zetas[2][3])\n",
    "    m4 = int(zetas[3][3]) \n",
    "#     print(l1, l2, l3, l4)\n",
    "    \n",
    "    A = 0\n",
    "    B = 0\n",
    "    lower = max(abs(l1-l2),abs(l3-l4))\n",
    "    upper = min(l1+l2, l3+l4)    \n",
    "    for l in range(lower, upper+1):\n",
    "        for m in range(-l, l+1):\n",
    "            B = sp.integrate(nsimplify((((r2**l1)/(r1**(l1+1))))*f3*f4*r2*r2) ,(r2, 0, r1)) + sp.integrate(nsimplify(((r1**l1)/(r2**(l1+1)))*f3*f4*r2*r2) ,(r2, r1, +oo))        \n",
    "            B = sp.integrate(nsimplify(f1*f2*r1*r1*B) ,(r1, 0, +oo))\n",
    "            B *= (-1)**(m1+m) * gaunt(l1, l2, l, -m1, m2, -m) * (-1)**m3 * gaunt(l3, l4, l, -m3, m4, m)\n",
    "            B *= 4 * sp.pi / (2 * l + 1)\n",
    "            A += B\n",
    "    return A \n",
    "    \n",
    "#     print(\"caculating B\")    \n",
    "# #     if(l1==0):\n",
    "# #         B = (((1)/(r1)))*sp.integrate(nsimplify(f3*f4*r2*r2*KroneckerDelta(l3,l4)*KroneckerDelta(m3,m4)) ,(r2, 0, r1)) + sp.integrate(nsimplify(((r1**l1)/(r2**(l1+1)))*f3*f4*r2*r2*KroneckerDelta(l3,l4)*KroneckerDelta(m3,m4)) ,(r2, r1, +oo))\n",
    "# #     else:\n",
    "#     B = sp.integrate(nsimplify((((r2**l1)/(r1**l1)))*f3*f4*r2*r2*KroneckerDelta(l3,l4)*KroneckerDelta(m3,m4)) ,(r2, 0, r1)) + sp.integrate(nsimplify(((r1**l1)/(r2**(l1+1)))*f3*f4*r2*r2*KroneckerDelta(l3,l4)*KroneckerDelta(m3,m4)) ,(r2, r1, +oo))        \n",
    "#     print(B)\n",
    "#     print(\"caculating A\")    \n",
    "#     A = sp.integrate(nsimplify(f1*f2*r1*r1*B*KroneckerDelta(l1,l2)*KroneckerDelta(m1,m2)) ,(r1, 0, +oo))\n",
    "#     print(A)        \n",
    "#     return A\n",
    "\n",
    "\n",
    "# def Repulsion_electron(zetas):\n",
    "    \n",
    "#     f1=STO_r(zetas[0][0], zetas[0][1], zetas[0][2], zetas[0][3], r1)\n",
    "#     f2=STO_r(zetas[1][0], zetas[1][1], zetas[1][2], zetas[1][3], r1)\n",
    "#     f3=STO_r(zetas[2][0], zetas[2][1], zetas[2][2], zetas[2][3], r2)\n",
    "#     f4=STO_r(zetas[3][0], zetas[3][1], zetas[3][2], zetas[3][3], r2)\n",
    "#     fs = [f1, f2, f3, f4]\n",
    "\n",
    "#     B = (1/r1)*sp.integrate(nsimplify(f3*f4*r2*r2) ,(r2, 0, r1)) + sp.integrate(nsimplify((1/r2)*f3*f4*r2*r2) ,(r2, r1, +oo))\n",
    "#     A = sp.integrate(f1*f2*r1*r1*B ,(r1, 0, +oo))\n",
    "#     return A"
   ]
  },
  {
   "cell_type": "code",
   "execution_count": 10,
   "metadata": {},
   "outputs": [
    {
     "data": {
      "image/png": "[encoded data removed]",
      "text/latex": [
       "$$\\frac{\\sqrt{30}}{15}$$"
      ],
      "text/plain": [
       "√30\n",
       "───\n",
       " 15"
      ]
     },
     "execution_count": 10,
     "metadata": {},
     "output_type": "execute_result"
    }
   ],
   "source": [
    "# for i in range(0,1):\n",
    "#     print(i)\n",
    "\n",
    "gaunt(1,1,2,0,0,0)\n",
    "wigner_3j(1,1,2,0,0,0)"
   ]
  },
  {
   "cell_type": "markdown",
   "metadata": {},
   "source": [
    "### Density matrix\n",
    "$ P_{tu} =2 \\sum_{j=1}^{n/2}c_{tj}^* c_{uj} $\n",
    "\n",
    "**Reminder:** P need to be changed if the atom have unpaired electron"
   ]
  },
  {
   "cell_type": "code",
   "execution_count": 11,
   "metadata": {},
   "outputs": [],
   "source": [
    "# Calculates Density matrix\n",
    "def P_matrix(Co):\n",
    "\n",
    "    P = np.zeros([Co.shape[0], Co.shape[0]])\n",
    "\n",
    "    for t in range(Co.shape[0]):\n",
    "        for u in range(Co.shape[0]):\n",
    "            for j in range(int(Co.shape[0]/2)):\n",
    "                P[t][u] += 2* Co[t][j]*Co[u][j]\n",
    "#             P[t][u] = 2* Co[t][1]*Co[u][1] + 2* Co[t][2]*Co[u][2] + 6* Co[t][3]*Co[u][3]                \n",
    "    return P            "
   ]
  },
  {
   "cell_type": "markdown",
   "metadata": {},
   "source": [
    "### Fock matrix\n",
    "$ F_{rs} = H_{rs}^{core} + \\sum_{t=1}^{b} \\sum_{t=1}^{b}P_{tu}[(rs|tu)- \\frac{1}2(ru|ts)] $  \n",
    "\n",
    "$G = (rs|tu)- \\frac{1}2(ru|ts)$ \n",
    "\n",
    "$ F_{rs} = H_{rs}^{core} + G $  \n",
    "\n",
    "$In\\;G \\;one\\;is\\;coulombic\\;repulsion,\\;another\\;is\\;exchange\\;energy$"
   ]
  },
  {
   "cell_type": "code",
   "execution_count": 12,
   "metadata": {},
   "outputs": [],
   "source": [
    "def R_matrix(zetas):\n",
    "    R = np.zeros((len(zetas), len(zetas), len(zetas), len(zetas)))*np.nan\n",
    "\n",
    "    rstu = list(product(range(len(zetas)),repeat=4))\n",
    "    i = 0\n",
    "    for r, s, t, u in rstu:\n",
    "#         print(\"caculating R(\",r,s,\"|\",t,u,\")\" )        \n",
    "        if(np.isnan(R[r,s,t,u])):\n",
    "#             print(\"caculating R(\",r,s,\"|\",t,u,\")\" )\n",
    "            value = Repulsion_electron((zetas[r], zetas[s], zetas[t], zetas[u]))\n",
    "            R[r,s,t,u] = value\n",
    "            R[s,r,t,u] = value            \n",
    "            R[r,s,u,t] = value\n",
    "            R[s,r,u,t] = value\n",
    "            R[t,u,r,s] = value\n",
    "            R[u,t,r,s] = value\n",
    "            R[t,u,s,r] = value\n",
    "            R[u,t,s,r] = value\n",
    "            i+=1\n",
    "#         else:\n",
    "#             print(\"caculating R(\",r,s,\"|\",t,u,\")\",\"No caculation required\" )\n",
    "#         print(R[r,s,t,u])\n",
    "            #         print(i)               \n",
    "    return R\n",
    "\n",
    "# Caculate G Matrix\n",
    "def G_matrix(zetas, Co, R):\n",
    "\n",
    "    G = np.zeros((Co.shape[0], Co.shape[0]))\n",
    "\n",
    "    P = P_matrix(Co)\n",
    "    \n",
    "    rs = list(product(range( Co.shape[0]),repeat=2))\n",
    "    tu = list(product(range( Co.shape[0]),repeat=2))\n",
    "\n",
    "    for r, s in rs:\n",
    "        g = 0\n",
    "        for t, u in tu:\n",
    "            int1 = R[r, s, t, u]\n",
    "            int2 = R[r, u, t, s]\n",
    "#             print('({0}{1}|{2}{3}): {4}'.format(r, s, t, u, int1))\n",
    "            g+= P[t, u] * (int1 - 0.5 * int2)\n",
    "        G[r, s] = g\n",
    "    return G\n",
    "\n",
    "# Returns the Fock matrix\n",
    "def F_matrix(fs, Z, zetas, Co, R):\n",
    "    return H_matrix(fs, Z) + G_matrix(zetas, Co, R)"
   ]
  },
  {
   "cell_type": "code",
   "execution_count": null,
   "metadata": {},
   "outputs": [],
   "source": []
  },
  {
   "cell_type": "markdown",
   "metadata": {},
   "source": [
    "### Solve Hartree-Fork equation\n",
    "\n",
    "$det(F_{rs}-\\epsilon_i S_{rs} = 0)$  \n",
    "\n",
    "$The\\;energy\\;returned\\;is\\;the\\;orbital\\;energy\\;for\\;1\\;electron$"
   ]
  },
  {
   "cell_type": "code",
   "execution_count": 13,
   "metadata": {},
   "outputs": [],
   "source": [
    "# slove secular equation, return the energy and improved coeffients\n",
    "# the energy here is orbital energy for 1 electron\n",
    "def secular_eqn(F, S):\n",
    "    ei, C = eig(F, S)\n",
    "    \n",
    "    # sort eigvalue and eigvector from lower to higher\n",
    "    idx = ei.argsort()[::1]   \n",
    "    ei = ei[idx]\n",
    "    C = C[:,idx]\n",
    "\n",
    "    # eigvector from scipy.linalg.eig is not normalized, which is a bug\n",
    "    # this is to fix it\n",
    "    Co = np.zeros((C.shape[0],C.shape[0]))\n",
    "    inte = np.matmul(np.matmul(C.T, S), C)\n",
    "    for i in range(C.shape[0]):\n",
    "        for j in range(C.shape[0]):\n",
    "            Co[j][i]=C[j][i]/np.sqrt(inte[i][i])\n",
    "\n",
    "    return ei, Co"
   ]
  },
  {
   "cell_type": "markdown",
   "metadata": {},
   "source": [
    "### Return atom energy\n",
    "$ E_{HF} = \\sum_{i=1}^{2/n}\\epsilon  +\\frac{1}2 \\sum_{r=1}^{b} \\sum_{s=1}^{b}P_{rs}H_{rs}+V_{NN} $"
   ]
  },
  {
   "cell_type": "code",
   "execution_count": 14,
   "metadata": {},
   "outputs": [],
   "source": [
    "# return energy of atom\n",
    "def get_E0(e, P, H):\n",
    "    \n",
    "    E0 = 0\n",
    "    for i in range(int(e.shape[0]/2)):\n",
    "        E0 += e[i].real \n",
    "    E0 = E0 + 0.5*(P*H).sum()\n",
    "    return E0 "
   ]
  },
  {
   "cell_type": "markdown",
   "metadata": {
    "slideshow": {
     "slide_type": "slide"
    }
   },
   "source": [
    "<h2><center>Part 2 Hartree Fork Iteration (Main Process)</center></h2>\n",
    "\n",
    "- Initialization\n",
    "    1. initializing Co (coefficients) without considering electron repulsion\n",
    "    1. Solve Hartree-Fork equation with H_matrix and S_matrix to get initial Co\n",
    "\n",
    "\n",
    "- Iteration\n",
    "\t1. Using Co, we can get P_matrix (electron density)\n",
    "\t2. Using P_matrix, H_matrix, G_matrix => F_matrix\n",
    "\t3. Solve Hartree-Fork equation with F_matrix and S_matrix to get improved orbital energy and Co, which also means improved orbital functions.\n",
    "\t4. Using improved Co, return to step 1"
   ]
  },
  {
   "cell_type": "code",
   "execution_count": 15,
   "metadata": {
    "scrolled": false,
    "slideshow": {
     "slide_type": "slide"
    }
   },
   "outputs": [
    {
     "name": "stdout",
     "output_type": "stream",
     "text": [
      "------------------------------ Initialization ------------------------------\n",
      "------------------------- Ignore repulsion integral ------------------------\n"
     ]
    },
    {
     "data": {
      "text/latex": [
       "$\\displaystyle \\zeta_1 = 7.522 \\quad \\zeta_2 = 5.123 \\quad \\zeta_3 = 1.831 \\quad \\zeta_4 = 1.153$"
      ],
      "text/plain": [
       "<IPython.core.display.Math object>"
      ]
     },
     "metadata": {},
     "output_type": "display_data"
    },
    {
     "data": {
      "image/png": "[encoded data removed]",
      "text/plain": [
       "<Figure size 432x288 with 1 Axes>"
      ]
     },
     "metadata": {
      "needs_background": "light"
     },
     "output_type": "display_data"
    },
    {
     "data": {
      "text/latex": [
       "$\\displaystyle  \\epsilon_1 \\; for \\; \\phi_1  = -17.990 $"
      ],
      "text/plain": [
       "<IPython.core.display.Math object>"
      ]
     },
     "metadata": {},
     "output_type": "display_data"
    },
    {
     "data": {
      "text/latex": [
       "$\\displaystyle  \\epsilon_2 \\; for \\; \\phi_1 = -4.478 $"
      ],
      "text/plain": [
       "<IPython.core.display.Math object>"
      ]
     },
     "metadata": {},
     "output_type": "display_data"
    },
    {
     "data": {
      "text/latex": [
       "$\\displaystyle  \\epsilon_3 \\; for \\; \\phi_1  = -4.303 $"
      ],
      "text/plain": [
       "<IPython.core.display.Math object>"
      ]
     },
     "metadata": {},
     "output_type": "display_data"
    },
    {
     "data": {
      "text/latex": [
       "$\\displaystyle  \\epsilon_4 \\; for \\; \\phi_1  = -1.964 $"
      ],
      "text/plain": [
       "<IPython.core.display.Math object>"
      ]
     },
     "metadata": {},
     "output_type": "display_data"
    },
    {
     "data": {
      "text/latex": [
       "$\\displaystyle  Hartree \\ Fork \\; atom \\; energy = -53.54086 \\ hartree = -1456.90047 \\ eV$"
      ],
      "text/plain": [
       "<IPython.core.display.Math object>"
      ]
     },
     "metadata": {},
     "output_type": "display_data"
    },
    {
     "name": "stdout",
     "output_type": "stream",
     "text": [
      "------------------------------ Iteration 1 ------------------------------\n",
      "------- Iteration 1 needs more time to caculate Repulsion Integral ------\n"
     ]
    },
    {
     "data": {
      "text/latex": [
       "$\\displaystyle \\zeta_1 = 7.522 \\quad \\zeta_2 = 5.123 \\quad \\zeta_3 = 1.831 \\quad \\zeta_4 = 1.153$"
      ],
      "text/plain": [
       "<IPython.core.display.Math object>"
      ]
     },
     "metadata": {},
     "output_type": "display_data"
    },
    {
     "data": {
      "text/latex": [
       "$\\displaystyle Orbitals:$"
      ],
      "text/plain": [
       "<IPython.core.display.Math object>"
      ]
     },
     "metadata": {},
     "output_type": "display_data"
    },
    {
     "data": {
      "text/latex": [
       "$\\displaystyle  \\phi_1 = c_{11} \\chi_1 + c_{21} \\chi_2 + c_{31} \\chi_3 + c_{41} \\chi_4$"
      ],
      "text/plain": [
       "<IPython.core.display.Math object>"
      ]
     },
     "metadata": {},
     "output_type": "display_data"
    },
    {
     "data": {
      "text/latex": [
       "$\\displaystyle  \\phi_2 = c_{12} \\chi_1 + c_{22} \\chi_2 + c_{32} \\chi_3 + c_{42} \\chi_4$"
      ],
      "text/plain": [
       "<IPython.core.display.Math object>"
      ]
     },
     "metadata": {},
     "output_type": "display_data"
    },
    {
     "data": {
      "image/png": "[encoded data removed]",
      "text/plain": [
       "<Figure size 432x288 with 1 Axes>"
      ]
     },
     "metadata": {
      "needs_background": "light"
     },
     "output_type": "display_data"
    },
    {
     "data": {
      "text/latex": [
       "$\\displaystyle  \\epsilon_1 \\; for \\; \\phi_1  = -9.709 $"
      ],
      "text/plain": [
       "<IPython.core.display.Math object>"
      ]
     },
     "metadata": {},
     "output_type": "display_data"
    },
    {
     "data": {
      "text/latex": [
       "$\\displaystyle  \\epsilon_2 \\; for \\; \\phi_1 = -0.295 $"
      ],
      "text/plain": [
       "<IPython.core.display.Math object>"
      ]
     },
     "metadata": {},
     "output_type": "display_data"
    },
    {
     "data": {
      "text/latex": [
       "$\\displaystyle  \\epsilon_3 \\; for \\; \\phi_1  = -0.274 $"
      ],
      "text/plain": [
       "<IPython.core.display.Math object>"
      ]
     },
     "metadata": {},
     "output_type": "display_data"
    },
    {
     "data": {
      "text/latex": [
       "$\\displaystyle  \\epsilon_4 \\; for \\; \\phi_1  = 0.651 $"
      ],
      "text/plain": [
       "<IPython.core.display.Math object>"
      ]
     },
     "metadata": {},
     "output_type": "display_data"
    },
    {
     "data": {
      "text/latex": [
       "$\\displaystyle  Hartree \\ Fork \\; atom \\; energy = -35.19645 \\ hartree = -957.73065 \\ eV$"
      ],
      "text/plain": [
       "<IPython.core.display.Math object>"
      ]
     },
     "metadata": {},
     "output_type": "display_data"
    },
    {
     "name": "stdout",
     "output_type": "stream",
     "text": [
      "Time used: 102.0 s\n",
      "------------------------------ Iteration 2 ------------------------------\n"
     ]
    },
    {
     "data": {
      "text/latex": [
       "$\\displaystyle \\zeta_1 = 7.522 \\quad \\zeta_2 = 5.123 \\quad \\zeta_3 = 1.831 \\quad \\zeta_4 = 1.153$"
      ],
      "text/plain": [
       "<IPython.core.display.Math object>"
      ]
     },
     "metadata": {},
     "output_type": "display_data"
    },
    {
     "data": {
      "text/latex": [
       "$\\displaystyle Orbitals:$"
      ],
      "text/plain": [
       "<IPython.core.display.Math object>"
      ]
     },
     "metadata": {},
     "output_type": "display_data"
    },
    {
     "data": {
      "text/latex": [
       "$\\displaystyle  \\phi_1 = c_{11} \\chi_1 + c_{21} \\chi_2 + c_{31} \\chi_3 + c_{41} \\chi_4$"
      ],
      "text/plain": [
       "<IPython.core.display.Math object>"
      ]
     },
     "metadata": {},
     "output_type": "display_data"
    },
    {
     "data": {
      "text/latex": [
       "$\\displaystyle  \\phi_2 = c_{12} \\chi_1 + c_{22} \\chi_2 + c_{32} \\chi_3 + c_{42} \\chi_4$"
      ],
      "text/plain": [
       "<IPython.core.display.Math object>"
      ]
     },
     "metadata": {},
     "output_type": "display_data"
    },
    {
     "data": {
      "image/png": "[encoded data removed]",
      "text/plain": [
       "<Figure size 432x288 with 1 Axes>"
      ]
     },
     "metadata": {
      "needs_background": "light"
     },
     "output_type": "display_data"
    },
    {
     "data": {
      "text/latex": [
       "$\\displaystyle  \\epsilon_1 \\; for \\; \\phi_1  = -11.535 $"
      ],
      "text/plain": [
       "<IPython.core.display.Math object>"
      ]
     },
     "metadata": {},
     "output_type": "display_data"
    },
    {
     "data": {
      "text/latex": [
       "$\\displaystyle  \\epsilon_2 \\; for \\; \\phi_1 = -0.806 $"
      ],
      "text/plain": [
       "<IPython.core.display.Math object>"
      ]
     },
     "metadata": {},
     "output_type": "display_data"
    },
    {
     "data": {
      "text/latex": [
       "$\\displaystyle  \\epsilon_3 \\; for \\; \\phi_1  = -0.635 $"
      ],
      "text/plain": [
       "<IPython.core.display.Math object>"
      ]
     },
     "metadata": {},
     "output_type": "display_data"
    },
    {
     "data": {
      "text/latex": [
       "$\\displaystyle  \\epsilon_4 \\; for \\; \\phi_1  = 0.486 $"
      ],
      "text/plain": [
       "<IPython.core.display.Math object>"
      ]
     },
     "metadata": {},
     "output_type": "display_data"
    },
    {
     "data": {
      "text/latex": [
       "$\\displaystyle  Hartree \\ Fork \\; atom \\; energy = -38.37101 \\ hartree = -1044.11365 \\ eV$"
      ],
      "text/plain": [
       "<IPython.core.display.Math object>"
      ]
     },
     "metadata": {},
     "output_type": "display_data"
    },
    {
     "name": "stdout",
     "output_type": "stream",
     "text": [
      "Time used: 2.6 s\n",
      "------------------------------ Iteration 3 ------------------------------\n"
     ]
    },
    {
     "data": {
      "text/latex": [
       "$\\displaystyle \\zeta_1 = 7.522 \\quad \\zeta_2 = 5.123 \\quad \\zeta_3 = 1.831 \\quad \\zeta_4 = 1.153$"
      ],
      "text/plain": [
       "<IPython.core.display.Math object>"
      ]
     },
     "metadata": {},
     "output_type": "display_data"
    },
    {
     "data": {
      "text/latex": [
       "$\\displaystyle Orbitals:$"
      ],
      "text/plain": [
       "<IPython.core.display.Math object>"
      ]
     },
     "metadata": {},
     "output_type": "display_data"
    },
    {
     "data": {
      "text/latex": [
       "$\\displaystyle  \\phi_1 = c_{11} \\chi_1 + c_{21} \\chi_2 + c_{31} \\chi_3 + c_{41} \\chi_4$"
      ],
      "text/plain": [
       "<IPython.core.display.Math object>"
      ]
     },
     "metadata": {},
     "output_type": "display_data"
    },
    {
     "data": {
      "text/latex": [
       "$\\displaystyle  \\phi_2 = c_{12} \\chi_1 + c_{22} \\chi_2 + c_{32} \\chi_3 + c_{42} \\chi_4$"
      ],
      "text/plain": [
       "<IPython.core.display.Math object>"
      ]
     },
     "metadata": {},
     "output_type": "display_data"
    },
    {
     "data": {
      "image/png": "[encoded data removed]",
      "text/plain": [
       "<Figure size 432x288 with 1 Axes>"
      ]
     },
     "metadata": {
      "needs_background": "light"
     },
     "output_type": "display_data"
    },
    {
     "data": {
      "text/latex": [
       "$\\displaystyle  \\epsilon_1 \\; for \\; \\phi_1  = -11.220 $"
      ],
      "text/plain": [
       "<IPython.core.display.Math object>"
      ]
     },
     "metadata": {},
     "output_type": "display_data"
    },
    {
     "data": {
      "text/latex": [
       "$\\displaystyle  \\epsilon_2 \\; for \\; \\phi_1 = -0.722 $"
      ],
      "text/plain": [
       "<IPython.core.display.Math object>"
      ]
     },
     "metadata": {},
     "output_type": "display_data"
    },
    {
     "data": {
      "text/latex": [
       "$\\displaystyle  \\epsilon_3 \\; for \\; \\phi_1  = -0.581 $"
      ],
      "text/plain": [
       "<IPython.core.display.Math object>"
      ]
     },
     "metadata": {},
     "output_type": "display_data"
    },
    {
     "data": {
      "text/latex": [
       "$\\displaystyle  \\epsilon_4 \\; for \\; \\phi_1  = 0.539 $"
      ],
      "text/plain": [
       "<IPython.core.display.Math object>"
      ]
     },
     "metadata": {},
     "output_type": "display_data"
    },
    {
     "data": {
      "text/latex": [
       "$\\displaystyle  Hartree \\ Fork \\; atom \\; energy = -37.83394 \\ hartree = -1029.49924 \\ eV$"
      ],
      "text/plain": [
       "<IPython.core.display.Math object>"
      ]
     },
     "metadata": {},
     "output_type": "display_data"
    },
    {
     "name": "stdout",
     "output_type": "stream",
     "text": [
      "Time used: 2.6 s\n",
      "------------------------------ Iteration 4 ------------------------------\n"
     ]
    },
    {
     "data": {
      "text/latex": [
       "$\\displaystyle \\zeta_1 = 7.522 \\quad \\zeta_2 = 5.123 \\quad \\zeta_3 = 1.831 \\quad \\zeta_4 = 1.153$"
      ],
      "text/plain": [
       "<IPython.core.display.Math object>"
      ]
     },
     "metadata": {},
     "output_type": "display_data"
    },
    {
     "data": {
      "text/latex": [
       "$\\displaystyle Orbitals:$"
      ],
      "text/plain": [
       "<IPython.core.display.Math object>"
      ]
     },
     "metadata": {},
     "output_type": "display_data"
    },
    {
     "data": {
      "text/latex": [
       "$\\displaystyle  \\phi_1 = c_{11} \\chi_1 + c_{21} \\chi_2 + c_{31} \\chi_3 + c_{41} \\chi_4$"
      ],
      "text/plain": [
       "<IPython.core.display.Math object>"
      ]
     },
     "metadata": {},
     "output_type": "display_data"
    },
    {
     "data": {
      "text/latex": [
       "$\\displaystyle  \\phi_2 = c_{12} \\chi_1 + c_{22} \\chi_2 + c_{32} \\chi_3 + c_{42} \\chi_4$"
      ],
      "text/plain": [
       "<IPython.core.display.Math object>"
      ]
     },
     "metadata": {},
     "output_type": "display_data"
    },
    {
     "data": {
      "image/png": "[encoded data removed]",
      "text/plain": [
       "<Figure size 432x288 with 1 Axes>"
      ]
     },
     "metadata": {
      "needs_background": "light"
     },
     "output_type": "display_data"
    },
    {
     "data": {
      "text/latex": [
       "$\\displaystyle  \\epsilon_1 \\; for \\; \\phi_1  = -11.278 $"
      ],
      "text/plain": [
       "<IPython.core.display.Math object>"
      ]
     },
     "metadata": {},
     "output_type": "display_data"
    },
    {
     "data": {
      "text/latex": [
       "$\\displaystyle  \\epsilon_2 \\; for \\; \\phi_1 = -0.738 $"
      ],
      "text/plain": [
       "<IPython.core.display.Math object>"
      ]
     },
     "metadata": {},
     "output_type": "display_data"
    },
    {
     "data": {
      "text/latex": [
       "$\\displaystyle  \\epsilon_3 \\; for \\; \\phi_1  = -0.592 $"
      ],
      "text/plain": [
       "<IPython.core.display.Math object>"
      ]
     },
     "metadata": {},
     "output_type": "display_data"
    },
    {
     "data": {
      "text/latex": [
       "$\\displaystyle  \\epsilon_4 \\; for \\; \\phi_1  = 0.529 $"
      ],
      "text/plain": [
       "<IPython.core.display.Math object>"
      ]
     },
     "metadata": {},
     "output_type": "display_data"
    },
    {
     "data": {
      "text/latex": [
       "$\\displaystyle  Hartree \\ Fork \\; atom \\; energy = -37.93381 \\ hartree = -1032.21684 \\ eV$"
      ],
      "text/plain": [
       "<IPython.core.display.Math object>"
      ]
     },
     "metadata": {},
     "output_type": "display_data"
    },
    {
     "name": "stdout",
     "output_type": "stream",
     "text": [
      "Time used: 2.8 s\n",
      "------------------------------ Iteration 5 ------------------------------\n"
     ]
    },
    {
     "data": {
      "text/latex": [
       "$\\displaystyle \\zeta_1 = 7.522 \\quad \\zeta_2 = 5.123 \\quad \\zeta_3 = 1.831 \\quad \\zeta_4 = 1.153$"
      ],
      "text/plain": [
       "<IPython.core.display.Math object>"
      ]
     },
     "metadata": {},
     "output_type": "display_data"
    },
    {
     "data": {
      "text/latex": [
       "$\\displaystyle Orbitals:$"
      ],
      "text/plain": [
       "<IPython.core.display.Math object>"
      ]
     },
     "metadata": {},
     "output_type": "display_data"
    },
    {
     "data": {
      "text/latex": [
       "$\\displaystyle  \\phi_1 = c_{11} \\chi_1 + c_{21} \\chi_2 + c_{31} \\chi_3 + c_{41} \\chi_4$"
      ],
      "text/plain": [
       "<IPython.core.display.Math object>"
      ]
     },
     "metadata": {},
     "output_type": "display_data"
    },
    {
     "data": {
      "text/latex": [
       "$\\displaystyle  \\phi_2 = c_{12} \\chi_1 + c_{22} \\chi_2 + c_{32} \\chi_3 + c_{42} \\chi_4$"
      ],
      "text/plain": [
       "<IPython.core.display.Math object>"
      ]
     },
     "metadata": {},
     "output_type": "display_data"
    },
    {
     "data": {
      "image/png": "[encoded data removed]",
      "text/plain": [
       "<Figure size 432x288 with 1 Axes>"
      ]
     },
     "metadata": {
      "needs_background": "light"
     },
     "output_type": "display_data"
    },
    {
     "data": {
      "text/latex": [
       "$\\displaystyle  \\epsilon_1 \\; for \\; \\phi_1  = -11.268 $"
      ],
      "text/plain": [
       "<IPython.core.display.Math object>"
      ]
     },
     "metadata": {},
     "output_type": "display_data"
    },
    {
     "data": {
      "text/latex": [
       "$\\displaystyle  \\epsilon_2 \\; for \\; \\phi_1 = -0.735 $"
      ],
      "text/plain": [
       "<IPython.core.display.Math object>"
      ]
     },
     "metadata": {},
     "output_type": "display_data"
    },
    {
     "data": {
      "text/latex": [
       "$\\displaystyle  \\epsilon_3 \\; for \\; \\phi_1  = -0.590 $"
      ],
      "text/plain": [
       "<IPython.core.display.Math object>"
      ]
     },
     "metadata": {},
     "output_type": "display_data"
    },
    {
     "data": {
      "text/latex": [
       "$\\displaystyle  \\epsilon_4 \\; for \\; \\phi_1  = 0.531 $"
      ],
      "text/plain": [
       "<IPython.core.display.Math object>"
      ]
     },
     "metadata": {},
     "output_type": "display_data"
    },
    {
     "data": {
      "text/latex": [
       "$\\displaystyle  Hartree \\ Fork \\; atom \\; energy = -37.91613 \\ hartree = -1031.73590 \\ eV$"
      ],
      "text/plain": [
       "<IPython.core.display.Math object>"
      ]
     },
     "metadata": {},
     "output_type": "display_data"
    },
    {
     "name": "stdout",
     "output_type": "stream",
     "text": [
      "Time used: 2.6 s\n",
      "------------------------------ Iteration 6 ------------------------------\n"
     ]
    },
    {
     "data": {
      "text/latex": [
       "$\\displaystyle \\zeta_1 = 7.522 \\quad \\zeta_2 = 5.123 \\quad \\zeta_3 = 1.831 \\quad \\zeta_4 = 1.153$"
      ],
      "text/plain": [
       "<IPython.core.display.Math object>"
      ]
     },
     "metadata": {},
     "output_type": "display_data"
    },
    {
     "data": {
      "text/latex": [
       "$\\displaystyle Orbitals:$"
      ],
      "text/plain": [
       "<IPython.core.display.Math object>"
      ]
     },
     "metadata": {},
     "output_type": "display_data"
    },
    {
     "data": {
      "text/latex": [
       "$\\displaystyle  \\phi_1 = c_{11} \\chi_1 + c_{21} \\chi_2 + c_{31} \\chi_3 + c_{41} \\chi_4$"
      ],
      "text/plain": [
       "<IPython.core.display.Math object>"
      ]
     },
     "metadata": {},
     "output_type": "display_data"
    },
    {
     "data": {
      "text/latex": [
       "$\\displaystyle  \\phi_2 = c_{12} \\chi_1 + c_{22} \\chi_2 + c_{32} \\chi_3 + c_{42} \\chi_4$"
      ],
      "text/plain": [
       "<IPython.core.display.Math object>"
      ]
     },
     "metadata": {},
     "output_type": "display_data"
    },
    {
     "data": {
      "image/png": "[encoded data removed]",
      "text/plain": [
       "<Figure size 432x288 with 1 Axes>"
      ]
     },
     "metadata": {
      "needs_background": "light"
     },
     "output_type": "display_data"
    },
    {
     "data": {
      "text/latex": [
       "$\\displaystyle  \\epsilon_1 \\; for \\; \\phi_1  = -11.270 $"
      ],
      "text/plain": [
       "<IPython.core.display.Math object>"
      ]
     },
     "metadata": {},
     "output_type": "display_data"
    },
    {
     "data": {
      "text/latex": [
       "$\\displaystyle  \\epsilon_2 \\; for \\; \\phi_1 = -0.736 $"
      ],
      "text/plain": [
       "<IPython.core.display.Math object>"
      ]
     },
     "metadata": {},
     "output_type": "display_data"
    },
    {
     "data": {
      "text/latex": [
       "$\\displaystyle  \\epsilon_3 \\; for \\; \\phi_1  = -0.591 $"
      ],
      "text/plain": [
       "<IPython.core.display.Math object>"
      ]
     },
     "metadata": {},
     "output_type": "display_data"
    },
    {
     "data": {
      "text/latex": [
       "$\\displaystyle  \\epsilon_4 \\; for \\; \\phi_1  = 0.531 $"
      ],
      "text/plain": [
       "<IPython.core.display.Math object>"
      ]
     },
     "metadata": {},
     "output_type": "display_data"
    },
    {
     "data": {
      "text/latex": [
       "$\\displaystyle  Hartree \\ Fork \\; atom \\; energy = -37.91938 \\ hartree = -1031.82414 \\ eV$"
      ],
      "text/plain": [
       "<IPython.core.display.Math object>"
      ]
     },
     "metadata": {},
     "output_type": "display_data"
    },
    {
     "name": "stdout",
     "output_type": "stream",
     "text": [
      "Time used: 2.7 s\n",
      "------------------------------ Iteration 7 ------------------------------\n"
     ]
    },
    {
     "data": {
      "text/latex": [
       "$\\displaystyle \\zeta_1 = 7.522 \\quad \\zeta_2 = 5.123 \\quad \\zeta_3 = 1.831 \\quad \\zeta_4 = 1.153$"
      ],
      "text/plain": [
       "<IPython.core.display.Math object>"
      ]
     },
     "metadata": {},
     "output_type": "display_data"
    },
    {
     "data": {
      "text/latex": [
       "$\\displaystyle Orbitals:$"
      ],
      "text/plain": [
       "<IPython.core.display.Math object>"
      ]
     },
     "metadata": {},
     "output_type": "display_data"
    },
    {
     "data": {
      "text/latex": [
       "$\\displaystyle  \\phi_1 = c_{11} \\chi_1 + c_{21} \\chi_2 + c_{31} \\chi_3 + c_{41} \\chi_4$"
      ],
      "text/plain": [
       "<IPython.core.display.Math object>"
      ]
     },
     "metadata": {},
     "output_type": "display_data"
    },
    {
     "data": {
      "text/latex": [
       "$\\displaystyle  \\phi_2 = c_{12} \\chi_1 + c_{22} \\chi_2 + c_{32} \\chi_3 + c_{42} \\chi_4$"
      ],
      "text/plain": [
       "<IPython.core.display.Math object>"
      ]
     },
     "metadata": {},
     "output_type": "display_data"
    },
    {
     "data": {
      "image/png": "[encoded data removed]",
      "text/plain": [
       "<Figure size 432x288 with 1 Axes>"
      ]
     },
     "metadata": {
      "needs_background": "light"
     },
     "output_type": "display_data"
    },
    {
     "data": {
      "text/latex": [
       "$\\displaystyle  \\epsilon_1 \\; for \\; \\phi_1  = -11.270 $"
      ],
      "text/plain": [
       "<IPython.core.display.Math object>"
      ]
     },
     "metadata": {},
     "output_type": "display_data"
    },
    {
     "data": {
      "text/latex": [
       "$\\displaystyle  \\epsilon_2 \\; for \\; \\phi_1 = -0.735 $"
      ],
      "text/plain": [
       "<IPython.core.display.Math object>"
      ]
     },
     "metadata": {},
     "output_type": "display_data"
    },
    {
     "data": {
      "text/latex": [
       "$\\displaystyle  \\epsilon_3 \\; for \\; \\phi_1  = -0.590 $"
      ],
      "text/plain": [
       "<IPython.core.display.Math object>"
      ]
     },
     "metadata": {},
     "output_type": "display_data"
    },
    {
     "data": {
      "text/latex": [
       "$\\displaystyle  \\epsilon_4 \\; for \\; \\phi_1  = 0.531 $"
      ],
      "text/plain": [
       "<IPython.core.display.Math object>"
      ]
     },
     "metadata": {},
     "output_type": "display_data"
    },
    {
     "data": {
      "text/latex": [
       "$\\displaystyle  Hartree \\ Fork \\; atom \\; energy = -37.91880 \\ hartree = -1031.80860 \\ eV$"
      ],
      "text/plain": [
       "<IPython.core.display.Math object>"
      ]
     },
     "metadata": {},
     "output_type": "display_data"
    },
    {
     "name": "stdout",
     "output_type": "stream",
     "text": [
      "Time used: 2.6 s\n",
      "------------------------------ Iteration 8 ------------------------------\n"
     ]
    },
    {
     "data": {
      "text/latex": [
       "$\\displaystyle \\zeta_1 = 7.522 \\quad \\zeta_2 = 5.123 \\quad \\zeta_3 = 1.831 \\quad \\zeta_4 = 1.153$"
      ],
      "text/plain": [
       "<IPython.core.display.Math object>"
      ]
     },
     "metadata": {},
     "output_type": "display_data"
    },
    {
     "data": {
      "text/latex": [
       "$\\displaystyle Orbitals:$"
      ],
      "text/plain": [
       "<IPython.core.display.Math object>"
      ]
     },
     "metadata": {},
     "output_type": "display_data"
    },
    {
     "data": {
      "text/latex": [
       "$\\displaystyle  \\phi_1 = c_{11} \\chi_1 + c_{21} \\chi_2 + c_{31} \\chi_3 + c_{41} \\chi_4$"
      ],
      "text/plain": [
       "<IPython.core.display.Math object>"
      ]
     },
     "metadata": {},
     "output_type": "display_data"
    },
    {
     "data": {
      "text/latex": [
       "$\\displaystyle  \\phi_2 = c_{12} \\chi_1 + c_{22} \\chi_2 + c_{32} \\chi_3 + c_{42} \\chi_4$"
      ],
      "text/plain": [
       "<IPython.core.display.Math object>"
      ]
     },
     "metadata": {},
     "output_type": "display_data"
    },
    {
     "data": {
      "image/png": "[encoded data removed]",
      "text/plain": [
       "<Figure size 432x288 with 1 Axes>"
      ]
     },
     "metadata": {
      "needs_background": "light"
     },
     "output_type": "display_data"
    },
    {
     "data": {
      "text/latex": [
       "$\\displaystyle  \\epsilon_1 \\; for \\; \\phi_1  = -11.270 $"
      ],
      "text/plain": [
       "<IPython.core.display.Math object>"
      ]
     },
     "metadata": {},
     "output_type": "display_data"
    },
    {
     "data": {
      "text/latex": [
       "$\\displaystyle  \\epsilon_2 \\; for \\; \\phi_1 = -0.736 $"
      ],
      "text/plain": [
       "<IPython.core.display.Math object>"
      ]
     },
     "metadata": {},
     "output_type": "display_data"
    },
    {
     "data": {
      "text/latex": [
       "$\\displaystyle  \\epsilon_3 \\; for \\; \\phi_1  = -0.590 $"
      ],
      "text/plain": [
       "<IPython.core.display.Math object>"
      ]
     },
     "metadata": {},
     "output_type": "display_data"
    },
    {
     "data": {
      "text/latex": [
       "$\\displaystyle  \\epsilon_4 \\; for \\; \\phi_1  = 0.531 $"
      ],
      "text/plain": [
       "<IPython.core.display.Math object>"
      ]
     },
     "metadata": {},
     "output_type": "display_data"
    },
    {
     "data": {
      "text/latex": [
       "$\\displaystyle  Hartree \\ Fork \\; atom \\; energy = -37.91891 \\ hartree = -1031.81149 \\ eV$"
      ],
      "text/plain": [
       "<IPython.core.display.Math object>"
      ]
     },
     "metadata": {},
     "output_type": "display_data"
    },
    {
     "name": "stdout",
     "output_type": "stream",
     "text": [
      "Time used: 2.9 s\n",
      "------------------------------ Iteration 9 ------------------------------\n"
     ]
    },
    {
     "data": {
      "text/latex": [
       "$\\displaystyle \\zeta_1 = 7.522 \\quad \\zeta_2 = 5.123 \\quad \\zeta_3 = 1.831 \\quad \\zeta_4 = 1.153$"
      ],
      "text/plain": [
       "<IPython.core.display.Math object>"
      ]
     },
     "metadata": {},
     "output_type": "display_data"
    },
    {
     "data": {
      "text/latex": [
       "$\\displaystyle Orbitals:$"
      ],
      "text/plain": [
       "<IPython.core.display.Math object>"
      ]
     },
     "metadata": {},
     "output_type": "display_data"
    },
    {
     "data": {
      "text/latex": [
       "$\\displaystyle  \\phi_1 = c_{11} \\chi_1 + c_{21} \\chi_2 + c_{31} \\chi_3 + c_{41} \\chi_4$"
      ],
      "text/plain": [
       "<IPython.core.display.Math object>"
      ]
     },
     "metadata": {},
     "output_type": "display_data"
    },
    {
     "data": {
      "text/latex": [
       "$\\displaystyle  \\phi_2 = c_{12} \\chi_1 + c_{22} \\chi_2 + c_{32} \\chi_3 + c_{42} \\chi_4$"
      ],
      "text/plain": [
       "<IPython.core.display.Math object>"
      ]
     },
     "metadata": {},
     "output_type": "display_data"
    },
    {
     "data": {
      "image/png": "[encoded data removed]",
      "text/plain": [
       "<Figure size 432x288 with 1 Axes>"
      ]
     },
     "metadata": {
      "needs_background": "light"
     },
     "output_type": "display_data"
    },
    {
     "data": {
      "text/latex": [
       "$\\displaystyle  \\epsilon_1 \\; for \\; \\phi_1  = -11.270 $"
      ],
      "text/plain": [
       "<IPython.core.display.Math object>"
      ]
     },
     "metadata": {},
     "output_type": "display_data"
    },
    {
     "data": {
      "text/latex": [
       "$\\displaystyle  \\epsilon_2 \\; for \\; \\phi_1 = -0.736 $"
      ],
      "text/plain": [
       "<IPython.core.display.Math object>"
      ]
     },
     "metadata": {},
     "output_type": "display_data"
    },
    {
     "data": {
      "text/latex": [
       "$\\displaystyle  \\epsilon_3 \\; for \\; \\phi_1  = -0.590 $"
      ],
      "text/plain": [
       "<IPython.core.display.Math object>"
      ]
     },
     "metadata": {},
     "output_type": "display_data"
    },
    {
     "data": {
      "text/latex": [
       "$\\displaystyle  \\epsilon_4 \\; for \\; \\phi_1  = 0.531 $"
      ],
      "text/plain": [
       "<IPython.core.display.Math object>"
      ]
     },
     "metadata": {},
     "output_type": "display_data"
    },
    {
     "data": {
      "text/latex": [
       "$\\displaystyle  Hartree \\ Fork \\; atom \\; energy = -37.91889 \\ hartree = -1031.81099 \\ eV$"
      ],
      "text/plain": [
       "<IPython.core.display.Math object>"
      ]
     },
     "metadata": {},
     "output_type": "display_data"
    },
    {
     "name": "stdout",
     "output_type": "stream",
     "text": [
      "Time used: 2.8 s\n",
      "------------------------------ Iteration 10 ------------------------------\n"
     ]
    },
    {
     "data": {
      "text/latex": [
       "$\\displaystyle \\zeta_1 = 7.522 \\quad \\zeta_2 = 5.123 \\quad \\zeta_3 = 1.831 \\quad \\zeta_4 = 1.153$"
      ],
      "text/plain": [
       "<IPython.core.display.Math object>"
      ]
     },
     "metadata": {},
     "output_type": "display_data"
    },
    {
     "data": {
      "text/latex": [
       "$\\displaystyle Orbitals:$"
      ],
      "text/plain": [
       "<IPython.core.display.Math object>"
      ]
     },
     "metadata": {},
     "output_type": "display_data"
    },
    {
     "data": {
      "text/latex": [
       "$\\displaystyle  \\phi_1 = c_{11} \\chi_1 + c_{21} \\chi_2 + c_{31} \\chi_3 + c_{41} \\chi_4$"
      ],
      "text/plain": [
       "<IPython.core.display.Math object>"
      ]
     },
     "metadata": {},
     "output_type": "display_data"
    },
    {
     "data": {
      "text/latex": [
       "$\\displaystyle  \\phi_2 = c_{12} \\chi_1 + c_{22} \\chi_2 + c_{32} \\chi_3 + c_{42} \\chi_4$"
      ],
      "text/plain": [
       "<IPython.core.display.Math object>"
      ]
     },
     "metadata": {},
     "output_type": "display_data"
    },
    {
     "data": {
      "image/png": "[encoded data removed]",
      "text/plain": [
       "<Figure size 432x288 with 1 Axes>"
      ]
     },
     "metadata": {
      "needs_background": "light"
     },
     "output_type": "display_data"
    },
    {
     "data": {
      "text/latex": [
       "$\\displaystyle  \\epsilon_1 \\; for \\; \\phi_1  = -11.270 $"
      ],
      "text/plain": [
       "<IPython.core.display.Math object>"
      ]
     },
     "metadata": {},
     "output_type": "display_data"
    },
    {
     "data": {
      "text/latex": [
       "$\\displaystyle  \\epsilon_2 \\; for \\; \\phi_1 = -0.736 $"
      ],
      "text/plain": [
       "<IPython.core.display.Math object>"
      ]
     },
     "metadata": {},
     "output_type": "display_data"
    },
    {
     "data": {
      "text/latex": [
       "$\\displaystyle  \\epsilon_3 \\; for \\; \\phi_1  = -0.590 $"
      ],
      "text/plain": [
       "<IPython.core.display.Math object>"
      ]
     },
     "metadata": {},
     "output_type": "display_data"
    },
    {
     "data": {
      "text/latex": [
       "$\\displaystyle  \\epsilon_4 \\; for \\; \\phi_1  = 0.531 $"
      ],
      "text/plain": [
       "<IPython.core.display.Math object>"
      ]
     },
     "metadata": {},
     "output_type": "display_data"
    },
    {
     "data": {
      "text/latex": [
       "$\\displaystyle  Hartree \\ Fork \\; atom \\; energy = -37.91890 \\ hartree = -1031.81109 \\ eV$"
      ],
      "text/plain": [
       "<IPython.core.display.Math object>"
      ]
     },
     "metadata": {},
     "output_type": "display_data"
    },
    {
     "name": "stdout",
     "output_type": "stream",
     "text": [
      "Time used: 2.6 s\n"
     ]
    }
   ],
   "source": [
    "# input \n",
    "# input for zeta\n",
    "# zetas = [[5.59108, 1, 0, 0], [3.35538, 1, 0, 0], [1.01122, 2, 0, 0], [0.61000, 2, 0, 0]]\n",
    "zetas = [[7.52232, 1, 0, 0], [5.12306, 1, 0, 0], [1.83068, 2, 0, 0], [1.15282, 2, 0, 0], [2.73045, 2, 1, 0], [1.25656, 2, 1, 0]]\n",
    "# zetas = [[11.4216, 1, 0, 0], [8.50182, 1, 0, 0], [3.56883, 2, 0, 0], [2.19285, 2, 0, 0], [4.68773, 2, 1, 0], [2.05684, 2, 1, 0]]\n",
    "# input nuclear charge (element number)\n",
    "Z = 6\n",
    "\n",
    "# build basis function\n",
    "f1=STO(zetas[0][0], zetas[0][1], zetas[0][2], zetas[0][3])\n",
    "f2=STO(zetas[1][0], zetas[1][1], zetas[1][2], zetas[1][3])\n",
    "f3=STO(zetas[2][0], zetas[2][1], zetas[2][2], zetas[2][3])\n",
    "f4=STO(zetas[3][0], zetas[3][1], zetas[3][2], zetas[3][3])\n",
    "f5=STO(zetas[4][0], zetas[4][1], zetas[4][2], zetas[4][3])\n",
    "f6=STO(zetas[5][0], zetas[5][1], zetas[5][2], zetas[5][3])\n",
    "\n",
    "# fs = [f1, f2, f3, f4]\n",
    "fs = [f1, f2, f3, f4, f5, f6]\n",
    "\n",
    "# initialization\n",
    "R = np.zeros((len(zetas), len(zetas), len(zetas), len(zetas)))\n",
    "H = H_matrix(fs, Z)\n",
    "S = S_matrix(fs)\n",
    "e, Co = secular_eqn(H, S)\n",
    "P = P_matrix(Co)\n",
    "scf_H = get_E0(e, P, H)\n",
    "\n",
    "##############################################print information below#################################################\n",
    "print('-'*30, \"Initialization\", '-'*30)\n",
    "print('-'*25, \"Ignore repulsion integral\", '-'*24)\n",
    "display(Math('\\zeta_1 = {0} \\quad \\zeta_2 = {1} \\quad \\zeta_3 = {2} \\quad \\zeta_4 = {3}'.format(format(zetas[0][0], '0.3f'), format(zetas[1][0], '0.3f'), format(zetas[2][0], '0.3f'),format(zetas[3][0], '0.3f')))) \n",
    "# display(Math('c11 = {0} \\quad c21 = {1} \\quad c31 = {2} \\quad c41 = {3} \\quad c11 = {4} \\quad c21 = {5}'.format(format(Co[0][0], '0.3f'), format(Co[1][0], '0.3f'), format(Co[2][0], '0.3f'), format(Co[3][0], '0.3f'), format(Co[4][0], '0.3f'), format(Co[5][0], '0.3f')))) \n",
    "# display(Math('c11 = {0} \\quad c21 = {1} \\quad c31 = {2} \\quad c41 = {3} \\quad c11 = {4} \\quad c21 = {5}'.format(format(Co[0][1], '0.3f'), format(Co[1][1], '0.3f'), format(Co[2][1], '0.3f'), format(Co[3][1], '0.3f'), format(Co[4][1], '0.3f'), format(Co[5][1], '0.3f')))) \n",
    "# display(Math('c11 = {0} \\quad c21 = {1} \\quad c31 = {2} \\quad c41 = {3} \\quad c11 = {4} \\quad c21 = {5}'.format(format(Co[0][2], '0.3f'), format(Co[1][2], '0.3f'), format(Co[2][2], '0.3f'), format(Co[3][2], '0.3f'), format(Co[4][2], '0.3f'), format(Co[5][2], '0.3f')))) \n",
    "# display(Math('c11 = {0} \\quad c21 = {1} \\quad c31 = {2} \\quad c41 = {3} \\quad c11 = {4} \\quad c21 = {5}'.format(format(Co[0][3], '0.3f'), format(Co[1][3], '0.3f'), format(Co[2][3], '0.3f'), format(Co[3][3], '0.3f'), format(Co[4][3], '0.3f'), format(Co[5][3], '0.3f')))) \n",
    "# display(Math('c11 = {0} \\quad c21 = {1} \\quad c31 = {2} \\quad c41 = {3} \\quad c11 = {4} \\quad c21 = {5}'.format(format(Co[0][4], '0.3f'), format(Co[1][4], '0.3f'), format(Co[2][4], '0.3f'), format(Co[3][4], '0.3f'), format(Co[4][4], '0.3f'), format(Co[5][4], '0.3f')))) \n",
    "# display(Math('c11 = {0} \\quad c21 = {1} \\quad c31 = {2} \\quad c41 = {3} \\quad c11 = {4} \\quad c21 = {5}'.format(format(Co[0][5], '0.3f'), format(Co[1][5], '0.3f'), format(Co[2][5], '0.3f'), format(Co[3][5], '0.3f'), format(Co[4][5], '0.3f'), format(Co[5][5], '0.3f')))) \n",
    "\n",
    "# plot density graph\n",
    "colorlist = ['red', 'orange', 'yellow', 'green', 'blue', 'purple', 'black', 'red', 'orange', 'yellow', 'green', 'blue', 'purple', 'black']\n",
    "phi1 = Co[0,0]*f1+Co[1,0]*f2+Co[2,0]*f3+Co[3,0]*f4\n",
    "phi2 = Co[0,1]*f1+Co[1,1]*f2+Co[2,1]*f3+Co[3,1]*f4\n",
    "density_1 = phi1*phi1*r*r\n",
    "density_2 = phi2*phi2*r*r    \n",
    "p = plot((density_1, (r, 0, 5)), (density_2, (r, 0, 5)), show = False, legend = True)\n",
    "p[0].label = 'electron density $r^2 \\phi_1^2$ '\n",
    "p[1].label = 'electron density $r^2 \\phi_2^2$ '    \n",
    "p[0].line_color = colorlist[0]\n",
    "p[1].line_color = 'blue'\n",
    "p.show()\n",
    "# print energy result\n",
    "display(Math(' \\epsilon_1 \\; for \\; \\phi_1  = {0} '.format(format(e[0].real, '0.3f'))))    \n",
    "display(Math(' \\epsilon_2 \\; for \\; \\phi_1 = {0} '.format(format(e[1].real, '0.3f'))))\n",
    "display(Math(' \\epsilon_3 \\; for \\; \\phi_1  = {0} '.format(format(e[2].real, '0.3f'))))    \n",
    "display(Math(' \\epsilon_4 \\; for \\; \\phi_1  = {0} '.format(format(e[3].real, '0.3f'))))    \n",
    "# display(Math(' \\epsilon_5 \\; for \\; \\phi_1  = {0} '.format(format(e[4].real, '0.3f'))))    \n",
    "# display(Math(' \\epsilon_6 \\; for \\; \\phi_1  = {0} '.format(format(e[5].real, '0.3f'))))    \n",
    "display(Math(' Hartree \\ Fork \\; atom \\; energy = {0} \\ hartree = {1} \\ eV'.format(format(scf_H, '0.5f'), format(scf_H*27.211, '0.5f'))))    \n",
    "##############################################print information above#################################################\n",
    "\n",
    "for i in range(10):\n",
    "    print('-'*30, \"Iteration\", i + 1, '-'*30)\n",
    "    if(i==0):\n",
    "        print('-'*7, \"Iteration 1 needs more time to caculate Repulsion Integral\", '-'*6)\n",
    "        start = time.time()\n",
    "        R = R_matrix(zetas)\n",
    "    else:\n",
    "        start = time.time()\n",
    "    F = F_matrix(fs, Z, zetas, Co, R)\n",
    "    S = S_matrix(fs)\n",
    "    e, Co = secular_eqn(F, S)\n",
    "    P = P_matrix(Co)\n",
    "    scf_H = get_E0(e, P, H)\n",
    "    ##########################################print information below#################################################\n",
    "    # print information\n",
    "    display(Math('\\zeta_1 = {0} \\quad \\zeta_2 = {1} \\quad \\zeta_3 = {2} \\quad \\zeta_4 = {3}'.format(format(zetas[0][0], '0.3f'), format(zetas[1][0], '0.3f'), format(zetas[2][0], '0.3f'),format(zetas[3][0], '0.3f')))) \n",
    "    display(Math('Orbitals:'))\n",
    "    display(Math(' \\phi_1 = c_{11} \\chi_1 + c_{21} \\chi_2 + c_{31} \\chi_3 + c_{41} \\chi_4'))\n",
    "    display(Math(' \\phi_2 = c_{12} \\chi_1 + c_{22} \\chi_2 + c_{32} \\chi_3 + c_{42} \\chi_4'))    \n",
    "#     display(Math('c11 = {0} \\quad c21 = {1} \\quad c31 = {2} \\quad c41 = {3} \\quad c11 = {4} \\quad c21 = {5}'.format(format(Co[0][0], '0.3f'), format(Co[1][0], '0.3f'), format(Co[2][0], '0.3f'), format(Co[3][0], '0.3f'), format(Co[4][0], '0.3f'), format(Co[5][0], '0.3f')))) \n",
    "#     display(Math('c11 = {0} \\quad c21 = {1} \\quad c31 = {2} \\quad c41 = {3} \\quad c11 = {4} \\quad c21 = {5}'.format(format(Co[0][1], '0.3f'), format(Co[1][1], '0.3f'), format(Co[2][1], '0.3f'), format(Co[3][1], '0.3f'), format(Co[4][1], '0.3f'), format(Co[5][1], '0.3f')))) \n",
    "#     display(Math('c11 = {0} \\quad c21 = {1} \\quad c31 = {2} \\quad c41 = {3} \\quad c11 = {4} \\quad c21 = {5}'.format(format(Co[0][2], '0.3f'), format(Co[1][2], '0.3f'), format(Co[2][2], '0.3f'), format(Co[3][2], '0.3f'), format(Co[4][2], '0.3f'), format(Co[5][2], '0.3f')))) \n",
    "#     display(Math('c11 = {0} \\quad c21 = {1} \\quad c31 = {2} \\quad c41 = {3} \\quad c11 = {4} \\quad c21 = {5}'.format(format(Co[0][3], '0.3f'), format(Co[1][3], '0.3f'), format(Co[2][3], '0.3f'), format(Co[3][3], '0.3f'), format(Co[4][3], '0.3f'), format(Co[5][3], '0.3f')))) \n",
    "#     display(Math('c11 = {0} \\quad c21 = {1} \\quad c31 = {2} \\quad c41 = {3} \\quad c11 = {4} \\quad c21 = {5}'.format(format(Co[0][4], '0.3f'), format(Co[1][4], '0.3f'), format(Co[2][4], '0.3f'), format(Co[3][4], '0.3f'), format(Co[4][4], '0.3f'), format(Co[5][4], '0.3f')))) \n",
    "#     display(Math('c11 = {0} \\quad c21 = {1} \\quad c31 = {2} \\quad c41 = {3} \\quad c11 = {4} \\quad c21 = {5}'.format(format(Co[0][5], '0.3f'), format(Co[1][5], '0.3f'), format(Co[2][5], '0.3f'), format(Co[3][5], '0.3f'), format(Co[4][5], '0.3f'), format(Co[5][5], '0.3f'))))     \n",
    "    # plot density graph\n",
    "    phi1 = Co[0,0]*f1+Co[1,0]*f2+Co[2,0]*f3+Co[3,0]*f4\n",
    "    phi2 = Co[0,1]*f1+Co[1,1]*f2+Co[2,1]*f3+Co[3,1]*f4\n",
    "    density_1 = phi1*phi1*r*r\n",
    "    density_2 = phi2*phi2*r*r    \n",
    "    p1 = plot((density_1, (r, 0, 5)), (density_2, (r, 0, 5)), show = False, legend = True)\n",
    "    p1[0].label = None \n",
    "    p1[1].label = None     \n",
    "    p1[0].line_color = colorlist[i+1]\n",
    "    p1[1].line_color = colorlist[i+1]\n",
    "    p.extend(p1)\n",
    "    p.show() \n",
    "    # print energy result\n",
    "    display(Math(' \\epsilon_1 \\; for \\; \\phi_1  = {0} '.format(format(e[0].real, '0.3f'))))    \n",
    "    display(Math(' \\epsilon_2 \\; for \\; \\phi_1 = {0} '.format(format(e[1].real, '0.3f'))))\n",
    "    display(Math(' \\epsilon_3 \\; for \\; \\phi_1  = {0} '.format(format(e[2].real, '0.3f'))))    \n",
    "    display(Math(' \\epsilon_4 \\; for \\; \\phi_1  = {0} '.format(format(e[3].real, '0.3f'))))    \n",
    "#     display(Math(' \\epsilon_5 \\; for \\; \\phi_1  = {0} '.format(format(e[4].real, '0.3f'))))    \n",
    "#     display(Math(' \\epsilon_6 \\; for \\; \\phi_1  = {0} '.format(format(e[5].real, '0.3f'))))         \n",
    "    display(Math(' Hartree \\ Fork \\; atom \\; energy = {0} \\ hartree = {1} \\ eV'.format(format(scf_H, '0.5f'), format(scf_H*27.211, '0.5f'))))    \n",
    "    stop = time.time()\n",
    "    print('Time used:',format(stop-start, '0.1f'),'s')\n",
    "    ##########################################print information above#################################################    "
   ]
  },
  {
   "cell_type": "code",
   "execution_count": 16,
   "metadata": {},
   "outputs": [
    {
     "data": {
      "text/plain": [
       "array([-11.2695698 +0.j,  -0.73550437+0.j,  -0.59045508+0.j,\n",
       "         0.53076934+0.j,   0.91206422+0.j,  22.13859636+0.j])"
      ]
     },
     "execution_count": 16,
     "metadata": {},
     "output_type": "execute_result"
    }
   ],
   "source": [
    "e"
   ]
  },
  {
   "cell_type": "markdown",
   "metadata": {},
   "source": [
    "Reference\n",
    "\n",
    "[1] Levine, Quantum Chemistry, 7th Edition, chapter 14  \n",
    "[2] C. Roetti and E. Clementi, J. Chem. Phys., 60, 4725 (1974)  \n",
    "[3] Acosta C R. Restricted closed shell Hartree Fock Roothaan matrix method applied to Helium atom using   Mathematica[J]. European Journal of Physics Education, 2017, 5(1): 1-14.  \n",
    "[4] [Simple Quantum Chemistry: Hartree-Fock in Python, 2018](http://nznano.blogspot.com/2018/03/simple-quantum-chemistry-hartree-fock.html)  \n",
    "[5] [Helium hartree fork, prtkm, 2015](https://github.com/prtkm/helium-hartree-fock/)"
   ]
  },
  {
   "cell_type": "code",
   "execution_count": 17,
   "metadata": {},
   "outputs": [
    {
     "data": {
      "image/png": "[encoded data removed]",
      "text/latex": [
       "$$\\frac{3 \\sqrt{5}}{2 \\sqrt{\\pi}}$$"
      ],
      "text/plain": [
       "3⋅√5\n",
       "────\n",
       "2⋅√π"
      ]
     },
     "execution_count": 17,
     "metadata": {},
     "output_type": "execute_result"
    }
   ],
   "source": [
    "gaunt(1,1,2,1,0,-1) / (wigner_3j(1,1,2,0,0,0) * wigner_3j(1,1,2,1,0,-1))"
   ]
  },
  {
   "cell_type": "code",
   "execution_count": 18,
   "metadata": {},
   "outputs": [
    {
     "data": {
      "image/png": "[encoded data removed]",
      "text/latex": [
       "$$\\frac{\\sqrt{6} e^{- i \\phi} \\sin{\\left (\\theta \\right )}}{4 \\sqrt{\\pi}}$$"
      ],
      "text/plain": [
       "    -ⅈ⋅φ       \n",
       "√6⋅ℯ    ⋅sin(θ)\n",
       "───────────────\n",
       "      4⋅√π     "
      ]
     },
     "execution_count": 18,
     "metadata": {},
     "output_type": "execute_result"
    }
   ],
   "source": [
    "Y(1,-1)"
   ]
  },
  {
   "cell_type": "code",
   "execution_count": 19,
   "metadata": {},
   "outputs": [
    {
     "name": "stdout",
     "output_type": "stream",
     "text": [
      "0.231 0.001 0.001 0.002 0.000 0.000\n",
      "0.007 0.776 0.776 0.291 0.000 0.000\n",
      "0.000 0.000 0.000 0.000 -0.321 -0.750\n",
      "-0.128 -2.146 -2.146 2.161 -0.000 -0.000\n",
      "0.000 0.000 0.000 0.000 1.349 -1.166\n",
      "3.612 1.163 1.163 -0.725 0.000 0.000\n"
     ]
    }
   ],
   "source": [
    "for i in range(Co.shape[0]):\n",
    "    print(format(Co[0,i], '0.3f'), format(Co[2,i], '0.3f'), format(Co[2,i], '0.3f'), format(Co[3,i], '0.3f'),format(Co[4,i], '0.3f'),format(Co[5,i], '0.3f'))"
   ]
  },
  {
   "cell_type": "code",
   "execution_count": 20,
   "metadata": {},
   "outputs": [
    {
     "data": {
      "text/plain": [
       "array([-11.2695698 +0.j,  -0.73550437+0.j,  -0.59045508+0.j,\n",
       "         0.53076934+0.j,   0.91206422+0.j,  22.13859636+0.j])"
      ]
     },
     "execution_count": 20,
     "metadata": {},
     "output_type": "execute_result"
    }
   ],
   "source": [
    "e"
   ]
  },
  {
   "cell_type": "code",
   "execution_count": 21,
   "metadata": {},
   "outputs": [
    {
     "data": {
      "text/plain": [
       "array([[ 2.30507844e-01,  7.38215103e-03,  0.00000000e+00,\n",
       "        -1.28107121e-01,  0.00000000e+00,  3.61243057e+00],\n",
       "       [ 7.78510728e-01, -2.67822643e-01,  0.00000000e+00,\n",
       "         4.44588259e-01,  0.00000000e+00, -3.73907286e+00],\n",
       "       [ 8.30292318e-04,  7.76011163e-01,  0.00000000e+00,\n",
       "        -2.14586597e+00,  0.00000000e+00,  1.16330834e+00],\n",
       "       [ 2.31407695e-03,  2.90894890e-01,  0.00000000e+00,\n",
       "         2.16081631e+00,  0.00000000e+00, -7.25041064e-01],\n",
       "       [ 0.00000000e+00,  0.00000000e+00, -3.21380591e-01,\n",
       "        -0.00000000e+00,  1.34850114e+00,  0.00000000e+00],\n",
       "       [ 0.00000000e+00,  0.00000000e+00, -7.50180849e-01,\n",
       "        -0.00000000e+00, -1.16574847e+00,  0.00000000e+00]])"
      ]
     },
     "execution_count": 21,
     "metadata": {},
     "output_type": "execute_result"
    }
   ],
   "source": [
    "Co"
   ]
  },
  {
   "cell_type": "code",
   "execution_count": 22,
   "metadata": {},
   "outputs": [
    {
     "data": {
      "text/plain": [
       "array([-11.2695698 +0.j,  -0.73550437+0.j,  -0.59045508+0.j,\n",
       "         0.53076934+0.j,   0.91206422+0.j,  22.13859636+0.j])"
      ]
     },
     "execution_count": 22,
     "metadata": {},
     "output_type": "execute_result"
    }
   ],
   "source": [
    "e"
   ]
  },
  {
   "cell_type": "code",
   "execution_count": null,
   "metadata": {},
   "outputs": [],
   "source": []
  },
  {
   "cell_type": "code",
   "execution_count": 23,
   "metadata": {},
   "outputs": [
    {
     "data": {
      "text/plain": [
       "array([[[[4.70145   , 4.05820548, 0.47084801, 0.18838955, 0.        ,\n",
       "          0.        ],\n",
       "         [4.05820548, 3.78199742, 0.67605384, 0.29294212, 0.        ,\n",
       "          0.        ],\n",
       "         [0.47084801, 0.67605384, 0.91183551, 0.65200415, 0.        ,\n",
       "          0.        ],\n",
       "         [0.18838955, 0.29294212, 0.65200415, 0.57591852, 0.        ,\n",
       "          0.        ],\n",
       "         [0.        , 0.        , 0.        , 0.        , 1.34828119,\n",
       "          0.6868785 ],\n",
       "         [0.        , 0.        , 0.        , 0.        , 0.6868785 ,\n",
       "          0.62756436]],\n",
       "\n",
       "        [[4.05820548, 3.54009007, 0.4283202 , 0.17203377, 0.        ,\n",
       "          0.        ],\n",
       "         [3.54009007, 3.34085851, 0.62353938, 0.27124792, 0.        ,\n",
       "          0.        ],\n",
       "         [0.4283202 , 0.62353938, 0.86074356, 0.61620359, 0.        ,\n",
       "          0.        ],\n",
       "         [0.17203377, 0.27124792, 0.61620359, 0.54473602, 0.        ,\n",
       "          0.        ],\n",
       "         [0.        , 0.        , 0.        , 0.        , 1.26654571,\n",
       "          0.64793414],\n",
       "         [0.        , 0.        , 0.        , 0.        , 0.64793414,\n",
       "          0.59346216]],\n",
       "\n",
       "        [[0.47084801, 0.4283202 , 0.06150547, 0.02515455, 0.        ,\n",
       "          0.        ],\n",
       "         [0.4283202 , 0.42571946, 0.09573655, 0.04249419, 0.        ,\n",
       "          0.        ],\n",
       "         [0.06150547, 0.09573655, 0.15055075, 0.10879973, 0.        ,\n",
       "          0.        ],\n",
       "         [0.02515455, 0.04249419, 0.10879973, 0.09685285, 0.        ,\n",
       "          0.        ],\n",
       "         [0.        , 0.        , 0.        , 0.        , 0.21412968,\n",
       "          0.11272996],\n",
       "         [0.        , 0.        , 0.        , 0.        , 0.11272996,\n",
       "          0.10532108]],\n",
       "\n",
       "        [[0.18838955, 0.17203377, 0.02515455, 0.01031288, 0.        ,\n",
       "          0.        ],\n",
       "         [0.17203377, 0.17189465, 0.03952869, 0.01760063, 0.        ,\n",
       "          0.        ],\n",
       "         [0.02515455, 0.03952869, 0.06361239, 0.04607939, 0.        ,\n",
       "          0.        ],\n",
       "         [0.01031288, 0.01760063, 0.04607939, 0.04109667, 0.        ,\n",
       "          0.        ],\n",
       "         [0.        , 0.        , 0.        , 0.        , 0.08980583,\n",
       "          0.04757239],\n",
       "         [0.        , 0.        , 0.        , 0.        , 0.04757239,\n",
       "          0.04466689]],\n",
       "\n",
       "        [[0.        , 0.        , 0.        , 0.        , 0.07955536,\n",
       "          0.01957475],\n",
       "         [0.        , 0.        , 0.        , 0.        , 0.11195423,\n",
       "          0.03223541],\n",
       "         [0.        , 0.        , 0.        , 0.        , 0.10531756,\n",
       "          0.07400787],\n",
       "         [0.        , 0.        , 0.        , 0.        , 0.06394634,\n",
       "          0.06324915],\n",
       "         [0.07955536, 0.11195423, 0.10531756, 0.06394634, 0.        ,\n",
       "          0.        ],\n",
       "         [0.01957475, 0.03223541, 0.07400787, 0.06324915, 0.        ,\n",
       "          0.        ]],\n",
       "\n",
       "        [[0.        , 0.        , 0.        , 0.        , 0.01957475,\n",
       "          0.00486664],\n",
       "         [0.        , 0.        , 0.        , 0.        , 0.02803979,\n",
       "          0.00818073],\n",
       "         [0.        , 0.        , 0.        , 0.        , 0.02763836,\n",
       "          0.01962924],\n",
       "         [0.        , 0.        , 0.        , 0.        , 0.01686946,\n",
       "          0.01683671],\n",
       "         [0.01957475, 0.02803979, 0.02763836, 0.01686946, 0.        ,\n",
       "          0.        ],\n",
       "         [0.00486664, 0.00818073, 0.01962924, 0.01683671, 0.        ,\n",
       "          0.        ]]],\n",
       "\n",
       "\n",
       "       [[[4.05820548, 3.54009007, 0.4283202 , 0.17203377, 0.        ,\n",
       "          0.        ],\n",
       "         [3.54009007, 3.34085851, 0.62353938, 0.27124792, 0.        ,\n",
       "          0.        ],\n",
       "         [0.4283202 , 0.62353938, 0.86074356, 0.61620359, 0.        ,\n",
       "          0.        ],\n",
       "         [0.17203377, 0.27124792, 0.61620359, 0.54473602, 0.        ,\n",
       "          0.        ],\n",
       "         [0.        , 0.        , 0.        , 0.        , 1.26654571,\n",
       "          0.64793414],\n",
       "         [0.        , 0.        , 0.        , 0.        , 0.64793414,\n",
       "          0.59346216]],\n",
       "\n",
       "        [[3.78199742, 3.34085851, 0.42571946, 0.17189465, 0.        ,\n",
       "          0.        ],\n",
       "         [3.34085851, 3.2019125 , 0.63189207, 0.2764668 , 0.        ,\n",
       "          0.        ],\n",
       "         [0.42571946, 0.63189207, 0.90446411, 0.6490048 , 0.        ,\n",
       "          0.        ],\n",
       "         [0.17189465, 0.2764668 , 0.6490048 , 0.57468231, 0.        ,\n",
       "          0.        ],\n",
       "         [0.        , 0.        , 0.        , 0.        , 1.31925317,\n",
       "          0.67994028],\n",
       "         [0.        , 0.        , 0.        , 0.        , 0.67994028,\n",
       "          0.6258157 ]],\n",
       "\n",
       "        [[0.67605384, 0.62353938, 0.09573655, 0.03952869, 0.        ,\n",
       "          0.        ],\n",
       "         [0.62353938, 0.63189207, 0.15472983, 0.06956082, 0.        ,\n",
       "          0.        ],\n",
       "         [0.09573655, 0.15472983, 0.2683592 , 0.19613356, 0.        ,\n",
       "          0.        ],\n",
       "         [0.03952869, 0.06956082, 0.19613356, 0.17623975, 0.        ,\n",
       "          0.        ],\n",
       "         [0.        , 0.        , 0.        , 0.        , 0.36903659,\n",
       "          0.19977155],\n",
       "         [0.        , 0.        , 0.        , 0.        , 0.19977155,\n",
       "          0.19114885]],\n",
       "\n",
       "        [[0.29294212, 0.27124792, 0.04249419, 0.01760063, 0.        ,\n",
       "          0.        ],\n",
       "         [0.27124792, 0.2764668 , 0.06956082, 0.03141421, 0.        ,\n",
       "          0.        ],\n",
       "         [0.04249419, 0.06956082, 0.1252732 , 0.09203853, 0.        ,\n",
       "          0.        ],\n",
       "         [0.01760063, 0.03141421, 0.09203853, 0.08308761, 0.        ,\n",
       "          0.        ],\n",
       "         [0.        , 0.        , 0.        , 0.        , 0.16981652,\n",
       "          0.09301218],\n",
       "         [0.        , 0.        , 0.        , 0.        , 0.09301218,\n",
       "          0.08999689]],\n",
       "\n",
       "        [[0.        , 0.        , 0.        , 0.        , 0.11195423,\n",
       "          0.02803979],\n",
       "         [0.        , 0.        , 0.        , 0.        , 0.16242179,\n",
       "          0.04785473],\n",
       "         [0.        , 0.        , 0.        , 0.        , 0.16596941,\n",
       "          0.1189891 ],\n",
       "         [0.        , 0.        , 0.        , 0.        , 0.10176381,\n",
       "          0.10241124],\n",
       "         [0.11195423, 0.16242179, 0.16596941, 0.10176381, 0.        ,\n",
       "          0.        ],\n",
       "         [0.02803979, 0.04785473, 0.1189891 , 0.10241124, 0.        ,\n",
       "          0.        ]],\n",
       "\n",
       "        [[0.        , 0.        , 0.        , 0.        , 0.03223541,\n",
       "          0.00818073],\n",
       "         [0.        , 0.        , 0.        , 0.        , 0.04785473,\n",
       "          0.0143639 ],\n",
       "         [0.        , 0.        , 0.        , 0.        , 0.05250731,\n",
       "          0.03847623],\n",
       "         [0.        , 0.        , 0.        , 0.        , 0.0325285 ,\n",
       "          0.0334018 ],\n",
       "         [0.03223541, 0.04785473, 0.05250731, 0.0325285 , 0.        ,\n",
       "          0.        ],\n",
       "         [0.00818073, 0.0143639 , 0.03847623, 0.0334018 , 0.        ,\n",
       "          0.        ]]],\n",
       "\n",
       "\n",
       "       [[[0.47084801, 0.4283202 , 0.06150547, 0.02515455, 0.        ,\n",
       "          0.        ],\n",
       "         [0.4283202 , 0.42571946, 0.09573655, 0.04249419, 0.        ,\n",
       "          0.        ],\n",
       "         [0.06150547, 0.09573655, 0.15055075, 0.10879973, 0.        ,\n",
       "          0.        ],\n",
       "         [0.02515455, 0.04249419, 0.10879973, 0.09685285, 0.        ,\n",
       "          0.        ],\n",
       "         [0.        , 0.        , 0.        , 0.        , 0.21412968,\n",
       "          0.11272996],\n",
       "         [0.        , 0.        , 0.        , 0.        , 0.11272996,\n",
       "          0.10532108]],\n",
       "\n",
       "        [[0.67605384, 0.62353938, 0.09573655, 0.03952869, 0.        ,\n",
       "          0.        ],\n",
       "         [0.62353938, 0.63189207, 0.15472983, 0.06956082, 0.        ,\n",
       "          0.        ],\n",
       "         [0.09573655, 0.15472983, 0.2683592 , 0.19613356, 0.        ,\n",
       "          0.        ],\n",
       "         [0.03952869, 0.06956082, 0.19613356, 0.17623975, 0.        ,\n",
       "          0.        ],\n",
       "         [0.        , 0.        , 0.        , 0.        , 0.36903659,\n",
       "          0.19977155],\n",
       "         [0.        , 0.        , 0.        , 0.        , 0.19977155,\n",
       "          0.19114885]],\n",
       "\n",
       "        [[0.91183551, 0.86074356, 0.15055075, 0.06361239, 0.        ,\n",
       "          0.        ],\n",
       "         [0.86074356, 0.90446411, 0.2683592 , 0.1252732 , 0.        ,\n",
       "          0.        ],\n",
       "         [0.15055075, 0.2683592 , 0.66505172, 0.5203575 , 0.        ,\n",
       "          0.        ],\n",
       "         [0.06361239, 0.1252732 , 0.5203575 , 0.50087692, 0.        ,\n",
       "          0.        ],\n",
       "         [0.        , 0.        , 0.        , 0.        , 0.78088198,\n",
       "          0.479759  ],\n",
       "         [0.        , 0.        , 0.        , 0.        , 0.479759  ,\n",
       "          0.53207211]],\n",
       "\n",
       "        [[0.65200415, 0.61620359, 0.10879973, 0.04607939, 0.        ,\n",
       "          0.        ],\n",
       "         [0.61620359, 0.6490048 , 0.19613356, 0.09203853, 0.        ,\n",
       "          0.        ],\n",
       "         [0.10879973, 0.19613356, 0.5203575 , 0.41576532, 0.        ,\n",
       "          0.        ],\n",
       "         [0.04607939, 0.09203853, 0.41576532, 0.41043001, 0.        ,\n",
       "          0.        ],\n",
       "         [0.        , 0.        , 0.        , 0.        , 0.58832929,\n",
       "          0.37216614],\n",
       "         [0.        , 0.        , 0.        , 0.        , 0.37216614,\n",
       "          0.43245071]],\n",
       "\n",
       "        [[0.        , 0.        , 0.        , 0.        , 0.10531756,\n",
       "          0.02763836],\n",
       "         [0.        , 0.        , 0.        , 0.        , 0.16596941,\n",
       "          0.05250731],\n",
       "         [0.        , 0.        , 0.        , 0.        , 0.22645033,\n",
       "          0.18147169],\n",
       "         [0.        , 0.        , 0.        , 0.        , 0.14603824,\n",
       "          0.16416921],\n",
       "         [0.10531756, 0.16596941, 0.22645033, 0.14603824, 0.        ,\n",
       "          0.        ],\n",
       "         [0.02763836, 0.05250731, 0.18147169, 0.16416921, 0.        ,\n",
       "          0.        ]],\n",
       "\n",
       "        [[0.        , 0.        , 0.        , 0.        , 0.07400787,\n",
       "          0.01962924],\n",
       "         [0.        , 0.        , 0.        , 0.        , 0.1189891 ,\n",
       "          0.03847623],\n",
       "         [0.        , 0.        , 0.        , 0.        , 0.18147169,\n",
       "          0.15676045],\n",
       "         [0.        , 0.        , 0.        , 0.        , 0.12070081,\n",
       "          0.14823414],\n",
       "         [0.07400787, 0.1189891 , 0.18147169, 0.12070081, 0.        ,\n",
       "          0.        ],\n",
       "         [0.01962924, 0.03847623, 0.15676045, 0.14823414, 0.        ,\n",
       "          0.        ]]],\n",
       "\n",
       "\n",
       "       [[[0.18838955, 0.17203377, 0.02515455, 0.01031288, 0.        ,\n",
       "          0.        ],\n",
       "         [0.17203377, 0.17189465, 0.03952869, 0.01760063, 0.        ,\n",
       "          0.        ],\n",
       "         [0.02515455, 0.03952869, 0.06361239, 0.04607939, 0.        ,\n",
       "          0.        ],\n",
       "         [0.01031288, 0.01760063, 0.04607939, 0.04109667, 0.        ,\n",
       "          0.        ],\n",
       "         [0.        , 0.        , 0.        , 0.        , 0.08980583,\n",
       "          0.04757239],\n",
       "         [0.        , 0.        , 0.        , 0.        , 0.04757239,\n",
       "          0.04466689]],\n",
       "\n",
       "        [[0.29294212, 0.27124792, 0.04249419, 0.01760063, 0.        ,\n",
       "          0.        ],\n",
       "         [0.27124792, 0.2764668 , 0.06956082, 0.03141421, 0.        ,\n",
       "          0.        ],\n",
       "         [0.04249419, 0.06956082, 0.1252732 , 0.09203853, 0.        ,\n",
       "          0.        ],\n",
       "         [0.01760063, 0.03141421, 0.09203853, 0.08308761, 0.        ,\n",
       "          0.        ],\n",
       "         [0.        , 0.        , 0.        , 0.        , 0.16981652,\n",
       "          0.09301218],\n",
       "         [0.        , 0.        , 0.        , 0.        , 0.09301218,\n",
       "          0.08999689]],\n",
       "\n",
       "        [[0.65200415, 0.61620359, 0.10879973, 0.04607939, 0.        ,\n",
       "          0.        ],\n",
       "         [0.61620359, 0.6490048 , 0.19613356, 0.09203853, 0.        ,\n",
       "          0.        ],\n",
       "         [0.10879973, 0.19613356, 0.5203575 , 0.41576532, 0.        ,\n",
       "          0.        ],\n",
       "         [0.04607939, 0.09203853, 0.41576532, 0.41043001, 0.        ,\n",
       "          0.        ],\n",
       "         [0.        , 0.        , 0.        , 0.        , 0.58832929,\n",
       "          0.37216614],\n",
       "         [0.        , 0.        , 0.        , 0.        , 0.37216614,\n",
       "          0.43245071]],\n",
       "\n",
       "        [[0.57591852, 0.54473602, 0.09685285, 0.04109667, 0.        ,\n",
       "          0.        ],\n",
       "         [0.54473602, 0.57468231, 0.17623975, 0.08308761, 0.        ,\n",
       "          0.        ],\n",
       "         [0.09685285, 0.17623975, 0.50087692, 0.41043001, 0.        ,\n",
       "          0.        ],\n",
       "         [0.04109667, 0.08308761, 0.41043001, 0.41879789, 0.        ,\n",
       "          0.        ],\n",
       "         [0.        , 0.        , 0.        , 0.        , 0.54364066,\n",
       "          0.35473554],\n",
       "         [0.        , 0.        , 0.        , 0.        , 0.35473554,\n",
       "          0.43642106]],\n",
       "\n",
       "        [[0.        , 0.        , 0.        , 0.        , 0.06394634,\n",
       "          0.01686946],\n",
       "         [0.        , 0.        , 0.        , 0.        , 0.10176381,\n",
       "          0.0325285 ],\n",
       "         [0.        , 0.        , 0.        , 0.        , 0.14603824,\n",
       "          0.12070081],\n",
       "         [0.        , 0.        , 0.        , 0.        , 0.0954096 ,\n",
       "          0.11108235],\n",
       "         [0.06394634, 0.10176381, 0.14603824, 0.0954096 , 0.        ,\n",
       "          0.        ],\n",
       "         [0.01686946, 0.0325285 , 0.12070081, 0.11108235, 0.        ,\n",
       "          0.        ]],\n",
       "\n",
       "        [[0.        , 0.        , 0.        , 0.        , 0.06324915,\n",
       "          0.01683671],\n",
       "         [0.        , 0.        , 0.        , 0.        , 0.10241124,\n",
       "          0.0334018 ],\n",
       "         [0.        , 0.        , 0.        , 0.        , 0.16416921,\n",
       "          0.14823414],\n",
       "         [0.        , 0.        , 0.        , 0.        , 0.11108235,\n",
       "          0.14453321],\n",
       "         [0.06324915, 0.10241124, 0.16416921, 0.11108235, 0.        ,\n",
       "          0.        ],\n",
       "         [0.01683671, 0.0334018 , 0.14823414, 0.14453321, 0.        ,\n",
       "          0.        ]]],\n",
       "\n",
       "\n",
       "       [[[0.        , 0.        , 0.        , 0.        , 0.07955536,\n",
       "          0.01957475],\n",
       "         [0.        , 0.        , 0.        , 0.        , 0.11195423,\n",
       "          0.03223541],\n",
       "         [0.        , 0.        , 0.        , 0.        , 0.10531756,\n",
       "          0.07400787],\n",
       "         [0.        , 0.        , 0.        , 0.        , 0.06394634,\n",
       "          0.06324915],\n",
       "         [0.07955536, 0.11195423, 0.10531756, 0.06394634, 0.        ,\n",
       "          0.        ],\n",
       "         [0.01957475, 0.03223541, 0.07400787, 0.06324915, 0.        ,\n",
       "          0.        ]],\n",
       "\n",
       "        [[0.        , 0.        , 0.        , 0.        , 0.11195423,\n",
       "          0.02803979],\n",
       "         [0.        , 0.        , 0.        , 0.        , 0.16242179,\n",
       "          0.04785473],\n",
       "         [0.        , 0.        , 0.        , 0.        , 0.16596941,\n",
       "          0.1189891 ],\n",
       "         [0.        , 0.        , 0.        , 0.        , 0.10176381,\n",
       "          0.10241124],\n",
       "         [0.11195423, 0.16242179, 0.16596941, 0.10176381, 0.        ,\n",
       "          0.        ],\n",
       "         [0.02803979, 0.04785473, 0.1189891 , 0.10241124, 0.        ,\n",
       "          0.        ]],\n",
       "\n",
       "        [[0.        , 0.        , 0.        , 0.        , 0.10531756,\n",
       "          0.02763836],\n",
       "         [0.        , 0.        , 0.        , 0.        , 0.16596941,\n",
       "          0.05250731],\n",
       "         [0.        , 0.        , 0.        , 0.        , 0.22645033,\n",
       "          0.18147169],\n",
       "         [0.        , 0.        , 0.        , 0.        , 0.14603824,\n",
       "          0.16416921],\n",
       "         [0.10531756, 0.16596941, 0.22645033, 0.14603824, 0.        ,\n",
       "          0.        ],\n",
       "         [0.02763836, 0.05250731, 0.18147169, 0.16416921, 0.        ,\n",
       "          0.        ]],\n",
       "\n",
       "        [[0.        , 0.        , 0.        , 0.        , 0.06394634,\n",
       "          0.01686946],\n",
       "         [0.        , 0.        , 0.        , 0.        , 0.10176381,\n",
       "          0.0325285 ],\n",
       "         [0.        , 0.        , 0.        , 0.        , 0.14603824,\n",
       "          0.12070081],\n",
       "         [0.        , 0.        , 0.        , 0.        , 0.0954096 ,\n",
       "          0.11108235],\n",
       "         [0.06394634, 0.10176381, 0.14603824, 0.0954096 , 0.        ,\n",
       "          0.        ],\n",
       "         [0.01686946, 0.0325285 , 0.12070081, 0.11108235, 0.        ,\n",
       "          0.        ]],\n",
       "\n",
       "        [[1.34828119, 1.26654571, 0.21412968, 0.08980583, 0.        ,\n",
       "          0.        ],\n",
       "         [1.26654571, 1.31925317, 0.36903659, 0.16981652, 0.        ,\n",
       "          0.        ],\n",
       "         [0.21412968, 0.36903659, 0.78088198, 0.58832929, 0.        ,\n",
       "          0.        ],\n",
       "         [0.08980583, 0.16981652, 0.58832929, 0.54364066, 0.        ,\n",
       "          0.        ],\n",
       "         [0.        , 0.        , 0.        , 0.        , 0.76296168,\n",
       "          0.42658919],\n",
       "         [0.        , 0.        , 0.        , 0.        , 0.42658919,\n",
       "          0.37107529]],\n",
       "\n",
       "        [[0.6868785 , 0.64793414, 0.11272996, 0.04757239, 0.        ,\n",
       "          0.        ],\n",
       "         [0.64793414, 0.67994028, 0.19977155, 0.09301218, 0.        ,\n",
       "          0.        ],\n",
       "         [0.11272996, 0.19977155, 0.479759  , 0.37216614, 0.        ,\n",
       "          0.        ],\n",
       "         [0.04757239, 0.09301218, 0.37216614, 0.35473554, 0.        ,\n",
       "          0.        ],\n",
       "         [0.        , 0.        , 0.        , 0.        , 0.42658919,\n",
       "          0.26717747],\n",
       "         [0.        , 0.        , 0.        , 0.        , 0.26717747,\n",
       "          0.27135569]]],\n",
       "\n",
       "\n",
       "       [[[0.        , 0.        , 0.        , 0.        , 0.01957475,\n",
       "          0.00486664],\n",
       "         [0.        , 0.        , 0.        , 0.        , 0.02803979,\n",
       "          0.00818073],\n",
       "         [0.        , 0.        , 0.        , 0.        , 0.02763836,\n",
       "          0.01962924],\n",
       "         [0.        , 0.        , 0.        , 0.        , 0.01686946,\n",
       "          0.01683671],\n",
       "         [0.01957475, 0.02803979, 0.02763836, 0.01686946, 0.        ,\n",
       "          0.        ],\n",
       "         [0.00486664, 0.00818073, 0.01962924, 0.01683671, 0.        ,\n",
       "          0.        ]],\n",
       "\n",
       "        [[0.        , 0.        , 0.        , 0.        , 0.03223541,\n",
       "          0.00818073],\n",
       "         [0.        , 0.        , 0.        , 0.        , 0.04785473,\n",
       "          0.0143639 ],\n",
       "         [0.        , 0.        , 0.        , 0.        , 0.05250731,\n",
       "          0.03847623],\n",
       "         [0.        , 0.        , 0.        , 0.        , 0.0325285 ,\n",
       "          0.0334018 ],\n",
       "         [0.03223541, 0.04785473, 0.05250731, 0.0325285 , 0.        ,\n",
       "          0.        ],\n",
       "         [0.00818073, 0.0143639 , 0.03847623, 0.0334018 , 0.        ,\n",
       "          0.        ]],\n",
       "\n",
       "        [[0.        , 0.        , 0.        , 0.        , 0.07400787,\n",
       "          0.01962924],\n",
       "         [0.        , 0.        , 0.        , 0.        , 0.1189891 ,\n",
       "          0.03847623],\n",
       "         [0.        , 0.        , 0.        , 0.        , 0.18147169,\n",
       "          0.15676045],\n",
       "         [0.        , 0.        , 0.        , 0.        , 0.12070081,\n",
       "          0.14823414],\n",
       "         [0.07400787, 0.1189891 , 0.18147169, 0.12070081, 0.        ,\n",
       "          0.        ],\n",
       "         [0.01962924, 0.03847623, 0.15676045, 0.14823414, 0.        ,\n",
       "          0.        ]],\n",
       "\n",
       "        [[0.        , 0.        , 0.        , 0.        , 0.06324915,\n",
       "          0.01683671],\n",
       "         [0.        , 0.        , 0.        , 0.        , 0.10241124,\n",
       "          0.0334018 ],\n",
       "         [0.        , 0.        , 0.        , 0.        , 0.16416921,\n",
       "          0.14823414],\n",
       "         [0.        , 0.        , 0.        , 0.        , 0.11108235,\n",
       "          0.14453321],\n",
       "         [0.06324915, 0.10241124, 0.16416921, 0.11108235, 0.        ,\n",
       "          0.        ],\n",
       "         [0.01683671, 0.0334018 , 0.14823414, 0.14453321, 0.        ,\n",
       "          0.        ]],\n",
       "\n",
       "        [[0.6868785 , 0.64793414, 0.11272996, 0.04757239, 0.        ,\n",
       "          0.        ],\n",
       "         [0.64793414, 0.67994028, 0.19977155, 0.09301218, 0.        ,\n",
       "          0.        ],\n",
       "         [0.11272996, 0.19977155, 0.479759  , 0.37216614, 0.        ,\n",
       "          0.        ],\n",
       "         [0.04757239, 0.09301218, 0.37216614, 0.35473554, 0.        ,\n",
       "          0.        ],\n",
       "         [0.        , 0.        , 0.        , 0.        , 0.42658919,\n",
       "          0.26717747],\n",
       "         [0.        , 0.        , 0.        , 0.        , 0.26717747,\n",
       "          0.27135569]],\n",
       "\n",
       "        [[0.62756436, 0.59346216, 0.10532108, 0.04466689, 0.        ,\n",
       "          0.        ],\n",
       "         [0.59346216, 0.6258157 , 0.19114885, 0.08999689, 0.        ,\n",
       "          0.        ],\n",
       "         [0.10532108, 0.19114885, 0.53207211, 0.43245071, 0.        ,\n",
       "          0.        ],\n",
       "         [0.04466689, 0.08999689, 0.43245071, 0.43642106, 0.        ,\n",
       "          0.        ],\n",
       "         [0.        , 0.        , 0.        , 0.        , 0.37107529,\n",
       "          0.27135569],\n",
       "         [0.        , 0.        , 0.        , 0.        , 0.27135569,\n",
       "          0.3511169 ]]]])"
      ]
     },
     "execution_count": 23,
     "metadata": {},
     "output_type": "execute_result"
    }
   ],
   "source": [
    "R"
   ]
  },
  {
   "cell_type": "code",
   "execution_count": null,
   "metadata": {},
   "outputs": [],
   "source": []
  },
  {
   "cell_type": "code",
   "execution_count": null,
   "metadata": {},
   "outputs": [],
   "source": []
  },
  {
   "cell_type": "code",
   "execution_count": 24,
   "metadata": {},
   "outputs": [
    {
     "data": {
      "text/plain": [
       "array([[[[4.70145   , 4.05820548, 0.47084801, 0.18838955, 0.        ,\n",
       "          0.        ],\n",
       "         [4.05820548, 3.78199742, 0.67605384, 0.29294212, 0.        ,\n",
       "          0.        ],\n",
       "         [0.47084801, 0.67605384, 0.91183551, 0.65200415, 0.        ,\n",
       "          0.        ],\n",
       "         [0.18838955, 0.29294212, 0.65200415, 0.57591852, 0.        ,\n",
       "          0.        ],\n",
       "         [0.        , 0.        , 0.        , 0.        , 1.34828119,\n",
       "          0.6868785 ],\n",
       "         [0.        , 0.        , 0.        , 0.        , 0.6868785 ,\n",
       "          0.62756436]],\n",
       "\n",
       "        [[4.05820548, 3.54009007, 0.4283202 , 0.17203377, 0.        ,\n",
       "          0.        ],\n",
       "         [3.54009007, 3.34085851, 0.62353938, 0.27124792, 0.        ,\n",
       "          0.        ],\n",
       "         [0.4283202 , 0.62353938, 0.86074356, 0.61620359, 0.        ,\n",
       "          0.        ],\n",
       "         [0.17203377, 0.27124792, 0.61620359, 0.54473602, 0.        ,\n",
       "          0.        ],\n",
       "         [0.        , 0.        , 0.        , 0.        , 1.26654571,\n",
       "          0.64793414],\n",
       "         [0.        , 0.        , 0.        , 0.        , 0.64793414,\n",
       "          0.59346216]],\n",
       "\n",
       "        [[0.47084801, 0.4283202 , 0.06150547, 0.02515455, 0.        ,\n",
       "          0.        ],\n",
       "         [0.4283202 , 0.42571946, 0.09573655, 0.04249419, 0.        ,\n",
       "          0.        ],\n",
       "         [0.06150547, 0.09573655, 0.15055075, 0.10879973, 0.        ,\n",
       "          0.        ],\n",
       "         [0.02515455, 0.04249419, 0.10879973, 0.09685285, 0.        ,\n",
       "          0.        ],\n",
       "         [0.        , 0.        , 0.        , 0.        , 0.21412968,\n",
       "          0.11272996],\n",
       "         [0.        , 0.        , 0.        , 0.        , 0.11272996,\n",
       "          0.10532108]],\n",
       "\n",
       "        [[0.18838955, 0.17203377, 0.02515455, 0.01031288, 0.        ,\n",
       "          0.        ],\n",
       "         [0.17203377, 0.17189465, 0.03952869, 0.01760063, 0.        ,\n",
       "          0.        ],\n",
       "         [0.02515455, 0.03952869, 0.06361239, 0.04607939, 0.        ,\n",
       "          0.        ],\n",
       "         [0.01031288, 0.01760063, 0.04607939, 0.04109667, 0.        ,\n",
       "          0.        ],\n",
       "         [0.        , 0.        , 0.        , 0.        , 0.08980583,\n",
       "          0.04757239],\n",
       "         [0.        , 0.        , 0.        , 0.        , 0.04757239,\n",
       "          0.04466689]],\n",
       "\n",
       "        [[0.        , 0.        , 0.        , 0.        , 0.07955536,\n",
       "          0.01957475],\n",
       "         [0.        , 0.        , 0.        , 0.        , 0.11195423,\n",
       "          0.03223541],\n",
       "         [0.        , 0.        , 0.        , 0.        , 0.10531756,\n",
       "          0.07400787],\n",
       "         [0.        , 0.        , 0.        , 0.        , 0.06394634,\n",
       "          0.06324915],\n",
       "         [0.07955536, 0.11195423, 0.10531756, 0.06394634, 0.        ,\n",
       "          0.        ],\n",
       "         [0.01957475, 0.03223541, 0.07400787, 0.06324915, 0.        ,\n",
       "          0.        ]],\n",
       "\n",
       "        [[0.        , 0.        , 0.        , 0.        , 0.01957475,\n",
       "          0.00486664],\n",
       "         [0.        , 0.        , 0.        , 0.        , 0.02803979,\n",
       "          0.00818073],\n",
       "         [0.        , 0.        , 0.        , 0.        , 0.02763836,\n",
       "          0.01962924],\n",
       "         [0.        , 0.        , 0.        , 0.        , 0.01686946,\n",
       "          0.01683671],\n",
       "         [0.01957475, 0.02803979, 0.02763836, 0.01686946, 0.        ,\n",
       "          0.        ],\n",
       "         [0.00486664, 0.00818073, 0.01962924, 0.01683671, 0.        ,\n",
       "          0.        ]]],\n",
       "\n",
       "\n",
       "       [[[4.05820548, 3.54009007, 0.4283202 , 0.17203377, 0.        ,\n",
       "          0.        ],\n",
       "         [3.54009007, 3.34085851, 0.62353938, 0.27124792, 0.        ,\n",
       "          0.        ],\n",
       "         [0.4283202 , 0.62353938, 0.86074356, 0.61620359, 0.        ,\n",
       "          0.        ],\n",
       "         [0.17203377, 0.27124792, 0.61620359, 0.54473602, 0.        ,\n",
       "          0.        ],\n",
       "         [0.        , 0.        , 0.        , 0.        , 1.26654571,\n",
       "          0.64793414],\n",
       "         [0.        , 0.        , 0.        , 0.        , 0.64793414,\n",
       "          0.59346216]],\n",
       "\n",
       "        [[3.78199742, 3.34085851, 0.42571946, 0.17189465, 0.        ,\n",
       "          0.        ],\n",
       "         [3.34085851, 3.2019125 , 0.63189207, 0.2764668 , 0.        ,\n",
       "          0.        ],\n",
       "         [0.42571946, 0.63189207, 0.90446411, 0.6490048 , 0.        ,\n",
       "          0.        ],\n",
       "         [0.17189465, 0.2764668 , 0.6490048 , 0.57468231, 0.        ,\n",
       "          0.        ],\n",
       "         [0.        , 0.        , 0.        , 0.        , 1.31925317,\n",
       "          0.67994028],\n",
       "         [0.        , 0.        , 0.        , 0.        , 0.67994028,\n",
       "          0.6258157 ]],\n",
       "\n",
       "        [[0.67605384, 0.62353938, 0.09573655, 0.03952869, 0.        ,\n",
       "          0.        ],\n",
       "         [0.62353938, 0.63189207, 0.15472983, 0.06956082, 0.        ,\n",
       "          0.        ],\n",
       "         [0.09573655, 0.15472983, 0.2683592 , 0.19613356, 0.        ,\n",
       "          0.        ],\n",
       "         [0.03952869, 0.06956082, 0.19613356, 0.17623975, 0.        ,\n",
       "          0.        ],\n",
       "         [0.        , 0.        , 0.        , 0.        , 0.36903659,\n",
       "          0.19977155],\n",
       "         [0.        , 0.        , 0.        , 0.        , 0.19977155,\n",
       "          0.19114885]],\n",
       "\n",
       "        [[0.29294212, 0.27124792, 0.04249419, 0.01760063, 0.        ,\n",
       "          0.        ],\n",
       "         [0.27124792, 0.2764668 , 0.06956082, 0.03141421, 0.        ,\n",
       "          0.        ],\n",
       "         [0.04249419, 0.06956082, 0.1252732 , 0.09203853, 0.        ,\n",
       "          0.        ],\n",
       "         [0.01760063, 0.03141421, 0.09203853, 0.08308761, 0.        ,\n",
       "          0.        ],\n",
       "         [0.        , 0.        , 0.        , 0.        , 0.16981652,\n",
       "          0.09301218],\n",
       "         [0.        , 0.        , 0.        , 0.        , 0.09301218,\n",
       "          0.08999689]],\n",
       "\n",
       "        [[0.        , 0.        , 0.        , 0.        , 0.11195423,\n",
       "          0.02803979],\n",
       "         [0.        , 0.        , 0.        , 0.        , 0.16242179,\n",
       "          0.04785473],\n",
       "         [0.        , 0.        , 0.        , 0.        , 0.16596941,\n",
       "          0.1189891 ],\n",
       "         [0.        , 0.        , 0.        , 0.        , 0.10176381,\n",
       "          0.10241124],\n",
       "         [0.11195423, 0.16242179, 0.16596941, 0.10176381, 0.        ,\n",
       "          0.        ],\n",
       "         [0.02803979, 0.04785473, 0.1189891 , 0.10241124, 0.        ,\n",
       "          0.        ]],\n",
       "\n",
       "        [[0.        , 0.        , 0.        , 0.        , 0.03223541,\n",
       "          0.00818073],\n",
       "         [0.        , 0.        , 0.        , 0.        , 0.04785473,\n",
       "          0.0143639 ],\n",
       "         [0.        , 0.        , 0.        , 0.        , 0.05250731,\n",
       "          0.03847623],\n",
       "         [0.        , 0.        , 0.        , 0.        , 0.0325285 ,\n",
       "          0.0334018 ],\n",
       "         [0.03223541, 0.04785473, 0.05250731, 0.0325285 , 0.        ,\n",
       "          0.        ],\n",
       "         [0.00818073, 0.0143639 , 0.03847623, 0.0334018 , 0.        ,\n",
       "          0.        ]]],\n",
       "\n",
       "\n",
       "       [[[0.47084801, 0.4283202 , 0.06150547, 0.02515455, 0.        ,\n",
       "          0.        ],\n",
       "         [0.4283202 , 0.42571946, 0.09573655, 0.04249419, 0.        ,\n",
       "          0.        ],\n",
       "         [0.06150547, 0.09573655, 0.15055075, 0.10879973, 0.        ,\n",
       "          0.        ],\n",
       "         [0.02515455, 0.04249419, 0.10879973, 0.09685285, 0.        ,\n",
       "          0.        ],\n",
       "         [0.        , 0.        , 0.        , 0.        , 0.21412968,\n",
       "          0.11272996],\n",
       "         [0.        , 0.        , 0.        , 0.        , 0.11272996,\n",
       "          0.10532108]],\n",
       "\n",
       "        [[0.67605384, 0.62353938, 0.09573655, 0.03952869, 0.        ,\n",
       "          0.        ],\n",
       "         [0.62353938, 0.63189207, 0.15472983, 0.06956082, 0.        ,\n",
       "          0.        ],\n",
       "         [0.09573655, 0.15472983, 0.2683592 , 0.19613356, 0.        ,\n",
       "          0.        ],\n",
       "         [0.03952869, 0.06956082, 0.19613356, 0.17623975, 0.        ,\n",
       "          0.        ],\n",
       "         [0.        , 0.        , 0.        , 0.        , 0.36903659,\n",
       "          0.19977155],\n",
       "         [0.        , 0.        , 0.        , 0.        , 0.19977155,\n",
       "          0.19114885]],\n",
       "\n",
       "        [[0.91183551, 0.86074356, 0.15055075, 0.06361239, 0.        ,\n",
       "          0.        ],\n",
       "         [0.86074356, 0.90446411, 0.2683592 , 0.1252732 , 0.        ,\n",
       "          0.        ],\n",
       "         [0.15055075, 0.2683592 , 0.66505172, 0.5203575 , 0.        ,\n",
       "          0.        ],\n",
       "         [0.06361239, 0.1252732 , 0.5203575 , 0.50087692, 0.        ,\n",
       "          0.        ],\n",
       "         [0.        , 0.        , 0.        , 0.        , 0.78088198,\n",
       "          0.479759  ],\n",
       "         [0.        , 0.        , 0.        , 0.        , 0.479759  ,\n",
       "          0.53207211]],\n",
       "\n",
       "        [[0.65200415, 0.61620359, 0.10879973, 0.04607939, 0.        ,\n",
       "          0.        ],\n",
       "         [0.61620359, 0.6490048 , 0.19613356, 0.09203853, 0.        ,\n",
       "          0.        ],\n",
       "         [0.10879973, 0.19613356, 0.5203575 , 0.41576532, 0.        ,\n",
       "          0.        ],\n",
       "         [0.04607939, 0.09203853, 0.41576532, 0.41043001, 0.        ,\n",
       "          0.        ],\n",
       "         [0.        , 0.        , 0.        , 0.        , 0.58832929,\n",
       "          0.37216614],\n",
       "         [0.        , 0.        , 0.        , 0.        , 0.37216614,\n",
       "          0.43245071]],\n",
       "\n",
       "        [[0.        , 0.        , 0.        , 0.        , 0.10531756,\n",
       "          0.02763836],\n",
       "         [0.        , 0.        , 0.        , 0.        , 0.16596941,\n",
       "          0.05250731],\n",
       "         [0.        , 0.        , 0.        , 0.        , 0.22645033,\n",
       "          0.18147169],\n",
       "         [0.        , 0.        , 0.        , 0.        , 0.14603824,\n",
       "          0.16416921],\n",
       "         [0.10531756, 0.16596941, 0.22645033, 0.14603824, 0.        ,\n",
       "          0.        ],\n",
       "         [0.02763836, 0.05250731, 0.18147169, 0.16416921, 0.        ,\n",
       "          0.        ]],\n",
       "\n",
       "        [[0.        , 0.        , 0.        , 0.        , 0.07400787,\n",
       "          0.01962924],\n",
       "         [0.        , 0.        , 0.        , 0.        , 0.1189891 ,\n",
       "          0.03847623],\n",
       "         [0.        , 0.        , 0.        , 0.        , 0.18147169,\n",
       "          0.15676045],\n",
       "         [0.        , 0.        , 0.        , 0.        , 0.12070081,\n",
       "          0.14823414],\n",
       "         [0.07400787, 0.1189891 , 0.18147169, 0.12070081, 0.        ,\n",
       "          0.        ],\n",
       "         [0.01962924, 0.03847623, 0.15676045, 0.14823414, 0.        ,\n",
       "          0.        ]]],\n",
       "\n",
       "\n",
       "       [[[0.18838955, 0.17203377, 0.02515455, 0.01031288, 0.        ,\n",
       "          0.        ],\n",
       "         [0.17203377, 0.17189465, 0.03952869, 0.01760063, 0.        ,\n",
       "          0.        ],\n",
       "         [0.02515455, 0.03952869, 0.06361239, 0.04607939, 0.        ,\n",
       "          0.        ],\n",
       "         [0.01031288, 0.01760063, 0.04607939, 0.04109667, 0.        ,\n",
       "          0.        ],\n",
       "         [0.        , 0.        , 0.        , 0.        , 0.08980583,\n",
       "          0.04757239],\n",
       "         [0.        , 0.        , 0.        , 0.        , 0.04757239,\n",
       "          0.04466689]],\n",
       "\n",
       "        [[0.29294212, 0.27124792, 0.04249419, 0.01760063, 0.        ,\n",
       "          0.        ],\n",
       "         [0.27124792, 0.2764668 , 0.06956082, 0.03141421, 0.        ,\n",
       "          0.        ],\n",
       "         [0.04249419, 0.06956082, 0.1252732 , 0.09203853, 0.        ,\n",
       "          0.        ],\n",
       "         [0.01760063, 0.03141421, 0.09203853, 0.08308761, 0.        ,\n",
       "          0.        ],\n",
       "         [0.        , 0.        , 0.        , 0.        , 0.16981652,\n",
       "          0.09301218],\n",
       "         [0.        , 0.        , 0.        , 0.        , 0.09301218,\n",
       "          0.08999689]],\n",
       "\n",
       "        [[0.65200415, 0.61620359, 0.10879973, 0.04607939, 0.        ,\n",
       "          0.        ],\n",
       "         [0.61620359, 0.6490048 , 0.19613356, 0.09203853, 0.        ,\n",
       "          0.        ],\n",
       "         [0.10879973, 0.19613356, 0.5203575 , 0.41576532, 0.        ,\n",
       "          0.        ],\n",
       "         [0.04607939, 0.09203853, 0.41576532, 0.41043001, 0.        ,\n",
       "          0.        ],\n",
       "         [0.        , 0.        , 0.        , 0.        , 0.58832929,\n",
       "          0.37216614],\n",
       "         [0.        , 0.        , 0.        , 0.        , 0.37216614,\n",
       "          0.43245071]],\n",
       "\n",
       "        [[0.57591852, 0.54473602, 0.09685285, 0.04109667, 0.        ,\n",
       "          0.        ],\n",
       "         [0.54473602, 0.57468231, 0.17623975, 0.08308761, 0.        ,\n",
       "          0.        ],\n",
       "         [0.09685285, 0.17623975, 0.50087692, 0.41043001, 0.        ,\n",
       "          0.        ],\n",
       "         [0.04109667, 0.08308761, 0.41043001, 0.41879789, 0.        ,\n",
       "          0.        ],\n",
       "         [0.        , 0.        , 0.        , 0.        , 0.54364066,\n",
       "          0.35473554],\n",
       "         [0.        , 0.        , 0.        , 0.        , 0.35473554,\n",
       "          0.43642106]],\n",
       "\n",
       "        [[0.        , 0.        , 0.        , 0.        , 0.06394634,\n",
       "          0.01686946],\n",
       "         [0.        , 0.        , 0.        , 0.        , 0.10176381,\n",
       "          0.0325285 ],\n",
       "         [0.        , 0.        , 0.        , 0.        , 0.14603824,\n",
       "          0.12070081],\n",
       "         [0.        , 0.        , 0.        , 0.        , 0.0954096 ,\n",
       "          0.11108235],\n",
       "         [0.06394634, 0.10176381, 0.14603824, 0.0954096 , 0.        ,\n",
       "          0.        ],\n",
       "         [0.01686946, 0.0325285 , 0.12070081, 0.11108235, 0.        ,\n",
       "          0.        ]],\n",
       "\n",
       "        [[0.        , 0.        , 0.        , 0.        , 0.06324915,\n",
       "          0.01683671],\n",
       "         [0.        , 0.        , 0.        , 0.        , 0.10241124,\n",
       "          0.0334018 ],\n",
       "         [0.        , 0.        , 0.        , 0.        , 0.16416921,\n",
       "          0.14823414],\n",
       "         [0.        , 0.        , 0.        , 0.        , 0.11108235,\n",
       "          0.14453321],\n",
       "         [0.06324915, 0.10241124, 0.16416921, 0.11108235, 0.        ,\n",
       "          0.        ],\n",
       "         [0.01683671, 0.0334018 , 0.14823414, 0.14453321, 0.        ,\n",
       "          0.        ]]],\n",
       "\n",
       "\n",
       "       [[[0.        , 0.        , 0.        , 0.        , 0.07955536,\n",
       "          0.01957475],\n",
       "         [0.        , 0.        , 0.        , 0.        , 0.11195423,\n",
       "          0.03223541],\n",
       "         [0.        , 0.        , 0.        , 0.        , 0.10531756,\n",
       "          0.07400787],\n",
       "         [0.        , 0.        , 0.        , 0.        , 0.06394634,\n",
       "          0.06324915],\n",
       "         [0.07955536, 0.11195423, 0.10531756, 0.06394634, 0.        ,\n",
       "          0.        ],\n",
       "         [0.01957475, 0.03223541, 0.07400787, 0.06324915, 0.        ,\n",
       "          0.        ]],\n",
       "\n",
       "        [[0.        , 0.        , 0.        , 0.        , 0.11195423,\n",
       "          0.02803979],\n",
       "         [0.        , 0.        , 0.        , 0.        , 0.16242179,\n",
       "          0.04785473],\n",
       "         [0.        , 0.        , 0.        , 0.        , 0.16596941,\n",
       "          0.1189891 ],\n",
       "         [0.        , 0.        , 0.        , 0.        , 0.10176381,\n",
       "          0.10241124],\n",
       "         [0.11195423, 0.16242179, 0.16596941, 0.10176381, 0.        ,\n",
       "          0.        ],\n",
       "         [0.02803979, 0.04785473, 0.1189891 , 0.10241124, 0.        ,\n",
       "          0.        ]],\n",
       "\n",
       "        [[0.        , 0.        , 0.        , 0.        , 0.10531756,\n",
       "          0.02763836],\n",
       "         [0.        , 0.        , 0.        , 0.        , 0.16596941,\n",
       "          0.05250731],\n",
       "         [0.        , 0.        , 0.        , 0.        , 0.22645033,\n",
       "          0.18147169],\n",
       "         [0.        , 0.        , 0.        , 0.        , 0.14603824,\n",
       "          0.16416921],\n",
       "         [0.10531756, 0.16596941, 0.22645033, 0.14603824, 0.        ,\n",
       "          0.        ],\n",
       "         [0.02763836, 0.05250731, 0.18147169, 0.16416921, 0.        ,\n",
       "          0.        ]],\n",
       "\n",
       "        [[0.        , 0.        , 0.        , 0.        , 0.06394634,\n",
       "          0.01686946],\n",
       "         [0.        , 0.        , 0.        , 0.        , 0.10176381,\n",
       "          0.0325285 ],\n",
       "         [0.        , 0.        , 0.        , 0.        , 0.14603824,\n",
       "          0.12070081],\n",
       "         [0.        , 0.        , 0.        , 0.        , 0.0954096 ,\n",
       "          0.11108235],\n",
       "         [0.06394634, 0.10176381, 0.14603824, 0.0954096 , 0.        ,\n",
       "          0.        ],\n",
       "         [0.01686946, 0.0325285 , 0.12070081, 0.11108235, 0.        ,\n",
       "          0.        ]],\n",
       "\n",
       "        [[1.34828119, 1.26654571, 0.21412968, 0.08980583, 0.        ,\n",
       "          0.        ],\n",
       "         [1.26654571, 1.31925317, 0.36903659, 0.16981652, 0.        ,\n",
       "          0.        ],\n",
       "         [0.21412968, 0.36903659, 0.78088198, 0.58832929, 0.        ,\n",
       "          0.        ],\n",
       "         [0.08980583, 0.16981652, 0.58832929, 0.54364066, 0.        ,\n",
       "          0.        ],\n",
       "         [0.        , 0.        , 0.        , 0.        , 0.76296168,\n",
       "          0.42658919],\n",
       "         [0.        , 0.        , 0.        , 0.        , 0.42658919,\n",
       "          0.37107529]],\n",
       "\n",
       "        [[0.6868785 , 0.64793414, 0.11272996, 0.04757239, 0.        ,\n",
       "          0.        ],\n",
       "         [0.64793414, 0.67994028, 0.19977155, 0.09301218, 0.        ,\n",
       "          0.        ],\n",
       "         [0.11272996, 0.19977155, 0.479759  , 0.37216614, 0.        ,\n",
       "          0.        ],\n",
       "         [0.04757239, 0.09301218, 0.37216614, 0.35473554, 0.        ,\n",
       "          0.        ],\n",
       "         [0.        , 0.        , 0.        , 0.        , 0.42658919,\n",
       "          0.26717747],\n",
       "         [0.        , 0.        , 0.        , 0.        , 0.26717747,\n",
       "          0.27135569]]],\n",
       "\n",
       "\n",
       "       [[[0.        , 0.        , 0.        , 0.        , 0.01957475,\n",
       "          0.00486664],\n",
       "         [0.        , 0.        , 0.        , 0.        , 0.02803979,\n",
       "          0.00818073],\n",
       "         [0.        , 0.        , 0.        , 0.        , 0.02763836,\n",
       "          0.01962924],\n",
       "         [0.        , 0.        , 0.        , 0.        , 0.01686946,\n",
       "          0.01683671],\n",
       "         [0.01957475, 0.02803979, 0.02763836, 0.01686946, 0.        ,\n",
       "          0.        ],\n",
       "         [0.00486664, 0.00818073, 0.01962924, 0.01683671, 0.        ,\n",
       "          0.        ]],\n",
       "\n",
       "        [[0.        , 0.        , 0.        , 0.        , 0.03223541,\n",
       "          0.00818073],\n",
       "         [0.        , 0.        , 0.        , 0.        , 0.04785473,\n",
       "          0.0143639 ],\n",
       "         [0.        , 0.        , 0.        , 0.        , 0.05250731,\n",
       "          0.03847623],\n",
       "         [0.        , 0.        , 0.        , 0.        , 0.0325285 ,\n",
       "          0.0334018 ],\n",
       "         [0.03223541, 0.04785473, 0.05250731, 0.0325285 , 0.        ,\n",
       "          0.        ],\n",
       "         [0.00818073, 0.0143639 , 0.03847623, 0.0334018 , 0.        ,\n",
       "          0.        ]],\n",
       "\n",
       "        [[0.        , 0.        , 0.        , 0.        , 0.07400787,\n",
       "          0.01962924],\n",
       "         [0.        , 0.        , 0.        , 0.        , 0.1189891 ,\n",
       "          0.03847623],\n",
       "         [0.        , 0.        , 0.        , 0.        , 0.18147169,\n",
       "          0.15676045],\n",
       "         [0.        , 0.        , 0.        , 0.        , 0.12070081,\n",
       "          0.14823414],\n",
       "         [0.07400787, 0.1189891 , 0.18147169, 0.12070081, 0.        ,\n",
       "          0.        ],\n",
       "         [0.01962924, 0.03847623, 0.15676045, 0.14823414, 0.        ,\n",
       "          0.        ]],\n",
       "\n",
       "        [[0.        , 0.        , 0.        , 0.        , 0.06324915,\n",
       "          0.01683671],\n",
       "         [0.        , 0.        , 0.        , 0.        , 0.10241124,\n",
       "          0.0334018 ],\n",
       "         [0.        , 0.        , 0.        , 0.        , 0.16416921,\n",
       "          0.14823414],\n",
       "         [0.        , 0.        , 0.        , 0.        , 0.11108235,\n",
       "          0.14453321],\n",
       "         [0.06324915, 0.10241124, 0.16416921, 0.11108235, 0.        ,\n",
       "          0.        ],\n",
       "         [0.01683671, 0.0334018 , 0.14823414, 0.14453321, 0.        ,\n",
       "          0.        ]],\n",
       "\n",
       "        [[0.6868785 , 0.64793414, 0.11272996, 0.04757239, 0.        ,\n",
       "          0.        ],\n",
       "         [0.64793414, 0.67994028, 0.19977155, 0.09301218, 0.        ,\n",
       "          0.        ],\n",
       "         [0.11272996, 0.19977155, 0.479759  , 0.37216614, 0.        ,\n",
       "          0.        ],\n",
       "         [0.04757239, 0.09301218, 0.37216614, 0.35473554, 0.        ,\n",
       "          0.        ],\n",
       "         [0.        , 0.        , 0.        , 0.        , 0.42658919,\n",
       "          0.26717747],\n",
       "         [0.        , 0.        , 0.        , 0.        , 0.26717747,\n",
       "          0.27135569]],\n",
       "\n",
       "        [[0.62756436, 0.59346216, 0.10532108, 0.04466689, 0.        ,\n",
       "          0.        ],\n",
       "         [0.59346216, 0.6258157 , 0.19114885, 0.08999689, 0.        ,\n",
       "          0.        ],\n",
       "         [0.10532108, 0.19114885, 0.53207211, 0.43245071, 0.        ,\n",
       "          0.        ],\n",
       "         [0.04466689, 0.08999689, 0.43245071, 0.43642106, 0.        ,\n",
       "          0.        ],\n",
       "         [0.        , 0.        , 0.        , 0.        , 0.37107529,\n",
       "          0.27135569],\n",
       "         [0.        , 0.        , 0.        , 0.        , 0.27135569,\n",
       "          0.3511169 ]]]])"
      ]
     },
     "execution_count": 24,
     "metadata": {},
     "output_type": "execute_result"
    }
   ],
   "source": [
    "R"
   ]
  },
  {
   "cell_type": "code",
   "execution_count": null,
   "metadata": {},
   "outputs": [],
   "source": []
  },
  {
   "cell_type": "code",
   "execution_count": null,
   "metadata": {},
   "outputs": [],
   "source": []
  },
  {
   "cell_type": "code",
   "execution_count": 25,
   "metadata": {},
   "outputs": [
    {
     "data": {
      "text/plain": [
       "array([[[[4.70145   , 4.05820548, 0.47084801, 0.18838955, 0.        ,\n",
       "          0.        ],\n",
       "         [4.05820548, 3.78199742, 0.67605384, 0.29294212, 0.        ,\n",
       "          0.        ],\n",
       "         [0.47084801, 0.67605384, 0.91183551, 0.65200415, 0.        ,\n",
       "          0.        ],\n",
       "         [0.18838955, 0.29294212, 0.65200415, 0.57591852, 0.        ,\n",
       "          0.        ],\n",
       "         [0.        , 0.        , 0.        , 0.        , 1.34828119,\n",
       "          0.6868785 ],\n",
       "         [0.        , 0.        , 0.        , 0.        , 0.6868785 ,\n",
       "          0.62756436]],\n",
       "\n",
       "        [[4.05820548, 3.54009007, 0.4283202 , 0.17203377, 0.        ,\n",
       "          0.        ],\n",
       "         [3.54009007, 3.34085851, 0.62353938, 0.27124792, 0.        ,\n",
       "          0.        ],\n",
       "         [0.4283202 , 0.62353938, 0.86074356, 0.61620359, 0.        ,\n",
       "          0.        ],\n",
       "         [0.17203377, 0.27124792, 0.61620359, 0.54473602, 0.        ,\n",
       "          0.        ],\n",
       "         [0.        , 0.        , 0.        , 0.        , 1.26654571,\n",
       "          0.64793414],\n",
       "         [0.        , 0.        , 0.        , 0.        , 0.64793414,\n",
       "          0.59346216]],\n",
       "\n",
       "        [[0.47084801, 0.4283202 , 0.06150547, 0.02515455, 0.        ,\n",
       "          0.        ],\n",
       "         [0.4283202 , 0.42571946, 0.09573655, 0.04249419, 0.        ,\n",
       "          0.        ],\n",
       "         [0.06150547, 0.09573655, 0.15055075, 0.10879973, 0.        ,\n",
       "          0.        ],\n",
       "         [0.02515455, 0.04249419, 0.10879973, 0.09685285, 0.        ,\n",
       "          0.        ],\n",
       "         [0.        , 0.        , 0.        , 0.        , 0.21412968,\n",
       "          0.11272996],\n",
       "         [0.        , 0.        , 0.        , 0.        , 0.11272996,\n",
       "          0.10532108]],\n",
       "\n",
       "        [[0.18838955, 0.17203377, 0.02515455, 0.01031288, 0.        ,\n",
       "          0.        ],\n",
       "         [0.17203377, 0.17189465, 0.03952869, 0.01760063, 0.        ,\n",
       "          0.        ],\n",
       "         [0.02515455, 0.03952869, 0.06361239, 0.04607939, 0.        ,\n",
       "          0.        ],\n",
       "         [0.01031288, 0.01760063, 0.04607939, 0.04109667, 0.        ,\n",
       "          0.        ],\n",
       "         [0.        , 0.        , 0.        , 0.        , 0.08980583,\n",
       "          0.04757239],\n",
       "         [0.        , 0.        , 0.        , 0.        , 0.04757239,\n",
       "          0.04466689]],\n",
       "\n",
       "        [[0.        , 0.        , 0.        , 0.        , 0.07955536,\n",
       "          0.01957475],\n",
       "         [0.        , 0.        , 0.        , 0.        , 0.11195423,\n",
       "          0.03223541],\n",
       "         [0.        , 0.        , 0.        , 0.        , 0.10531756,\n",
       "          0.07400787],\n",
       "         [0.        , 0.        , 0.        , 0.        , 0.06394634,\n",
       "          0.06324915],\n",
       "         [0.07955536, 0.11195423, 0.10531756, 0.06394634, 0.        ,\n",
       "          0.        ],\n",
       "         [0.01957475, 0.03223541, 0.07400787, 0.06324915, 0.        ,\n",
       "          0.        ]],\n",
       "\n",
       "        [[0.        , 0.        , 0.        , 0.        , 0.01957475,\n",
       "          0.00486664],\n",
       "         [0.        , 0.        , 0.        , 0.        , 0.02803979,\n",
       "          0.00818073],\n",
       "         [0.        , 0.        , 0.        , 0.        , 0.02763836,\n",
       "          0.01962924],\n",
       "         [0.        , 0.        , 0.        , 0.        , 0.01686946,\n",
       "          0.01683671],\n",
       "         [0.01957475, 0.02803979, 0.02763836, 0.01686946, 0.        ,\n",
       "          0.        ],\n",
       "         [0.00486664, 0.00818073, 0.01962924, 0.01683671, 0.        ,\n",
       "          0.        ]]],\n",
       "\n",
       "\n",
       "       [[[4.05820548, 3.54009007, 0.4283202 , 0.17203377, 0.        ,\n",
       "          0.        ],\n",
       "         [3.54009007, 3.34085851, 0.62353938, 0.27124792, 0.        ,\n",
       "          0.        ],\n",
       "         [0.4283202 , 0.62353938, 0.86074356, 0.61620359, 0.        ,\n",
       "          0.        ],\n",
       "         [0.17203377, 0.27124792, 0.61620359, 0.54473602, 0.        ,\n",
       "          0.        ],\n",
       "         [0.        , 0.        , 0.        , 0.        , 1.26654571,\n",
       "          0.64793414],\n",
       "         [0.        , 0.        , 0.        , 0.        , 0.64793414,\n",
       "          0.59346216]],\n",
       "\n",
       "        [[3.78199742, 3.34085851, 0.42571946, 0.17189465, 0.        ,\n",
       "          0.        ],\n",
       "         [3.34085851, 3.2019125 , 0.63189207, 0.2764668 , 0.        ,\n",
       "          0.        ],\n",
       "         [0.42571946, 0.63189207, 0.90446411, 0.6490048 , 0.        ,\n",
       "          0.        ],\n",
       "         [0.17189465, 0.2764668 , 0.6490048 , 0.57468231, 0.        ,\n",
       "          0.        ],\n",
       "         [0.        , 0.        , 0.        , 0.        , 1.31925317,\n",
       "          0.67994028],\n",
       "         [0.        , 0.        , 0.        , 0.        , 0.67994028,\n",
       "          0.6258157 ]],\n",
       "\n",
       "        [[0.67605384, 0.62353938, 0.09573655, 0.03952869, 0.        ,\n",
       "          0.        ],\n",
       "         [0.62353938, 0.63189207, 0.15472983, 0.06956082, 0.        ,\n",
       "          0.        ],\n",
       "         [0.09573655, 0.15472983, 0.2683592 , 0.19613356, 0.        ,\n",
       "          0.        ],\n",
       "         [0.03952869, 0.06956082, 0.19613356, 0.17623975, 0.        ,\n",
       "          0.        ],\n",
       "         [0.        , 0.        , 0.        , 0.        , 0.36903659,\n",
       "          0.19977155],\n",
       "         [0.        , 0.        , 0.        , 0.        , 0.19977155,\n",
       "          0.19114885]],\n",
       "\n",
       "        [[0.29294212, 0.27124792, 0.04249419, 0.01760063, 0.        ,\n",
       "          0.        ],\n",
       "         [0.27124792, 0.2764668 , 0.06956082, 0.03141421, 0.        ,\n",
       "          0.        ],\n",
       "         [0.04249419, 0.06956082, 0.1252732 , 0.09203853, 0.        ,\n",
       "          0.        ],\n",
       "         [0.01760063, 0.03141421, 0.09203853, 0.08308761, 0.        ,\n",
       "          0.        ],\n",
       "         [0.        , 0.        , 0.        , 0.        , 0.16981652,\n",
       "          0.09301218],\n",
       "         [0.        , 0.        , 0.        , 0.        , 0.09301218,\n",
       "          0.08999689]],\n",
       "\n",
       "        [[0.        , 0.        , 0.        , 0.        , 0.11195423,\n",
       "          0.02803979],\n",
       "         [0.        , 0.        , 0.        , 0.        , 0.16242179,\n",
       "          0.04785473],\n",
       "         [0.        , 0.        , 0.        , 0.        , 0.16596941,\n",
       "          0.1189891 ],\n",
       "         [0.        , 0.        , 0.        , 0.        , 0.10176381,\n",
       "          0.10241124],\n",
       "         [0.11195423, 0.16242179, 0.16596941, 0.10176381, 0.        ,\n",
       "          0.        ],\n",
       "         [0.02803979, 0.04785473, 0.1189891 , 0.10241124, 0.        ,\n",
       "          0.        ]],\n",
       "\n",
       "        [[0.        , 0.        , 0.        , 0.        , 0.03223541,\n",
       "          0.00818073],\n",
       "         [0.        , 0.        , 0.        , 0.        , 0.04785473,\n",
       "          0.0143639 ],\n",
       "         [0.        , 0.        , 0.        , 0.        , 0.05250731,\n",
       "          0.03847623],\n",
       "         [0.        , 0.        , 0.        , 0.        , 0.0325285 ,\n",
       "          0.0334018 ],\n",
       "         [0.03223541, 0.04785473, 0.05250731, 0.0325285 , 0.        ,\n",
       "          0.        ],\n",
       "         [0.00818073, 0.0143639 , 0.03847623, 0.0334018 , 0.        ,\n",
       "          0.        ]]],\n",
       "\n",
       "\n",
       "       [[[0.47084801, 0.4283202 , 0.06150547, 0.02515455, 0.        ,\n",
       "          0.        ],\n",
       "         [0.4283202 , 0.42571946, 0.09573655, 0.04249419, 0.        ,\n",
       "          0.        ],\n",
       "         [0.06150547, 0.09573655, 0.15055075, 0.10879973, 0.        ,\n",
       "          0.        ],\n",
       "         [0.02515455, 0.04249419, 0.10879973, 0.09685285, 0.        ,\n",
       "          0.        ],\n",
       "         [0.        , 0.        , 0.        , 0.        , 0.21412968,\n",
       "          0.11272996],\n",
       "         [0.        , 0.        , 0.        , 0.        , 0.11272996,\n",
       "          0.10532108]],\n",
       "\n",
       "        [[0.67605384, 0.62353938, 0.09573655, 0.03952869, 0.        ,\n",
       "          0.        ],\n",
       "         [0.62353938, 0.63189207, 0.15472983, 0.06956082, 0.        ,\n",
       "          0.        ],\n",
       "         [0.09573655, 0.15472983, 0.2683592 , 0.19613356, 0.        ,\n",
       "          0.        ],\n",
       "         [0.03952869, 0.06956082, 0.19613356, 0.17623975, 0.        ,\n",
       "          0.        ],\n",
       "         [0.        , 0.        , 0.        , 0.        , 0.36903659,\n",
       "          0.19977155],\n",
       "         [0.        , 0.        , 0.        , 0.        , 0.19977155,\n",
       "          0.19114885]],\n",
       "\n",
       "        [[0.91183551, 0.86074356, 0.15055075, 0.06361239, 0.        ,\n",
       "          0.        ],\n",
       "         [0.86074356, 0.90446411, 0.2683592 , 0.1252732 , 0.        ,\n",
       "          0.        ],\n",
       "         [0.15055075, 0.2683592 , 0.66505172, 0.5203575 , 0.        ,\n",
       "          0.        ],\n",
       "         [0.06361239, 0.1252732 , 0.5203575 , 0.50087692, 0.        ,\n",
       "          0.        ],\n",
       "         [0.        , 0.        , 0.        , 0.        , 0.78088198,\n",
       "          0.479759  ],\n",
       "         [0.        , 0.        , 0.        , 0.        , 0.479759  ,\n",
       "          0.53207211]],\n",
       "\n",
       "        [[0.65200415, 0.61620359, 0.10879973, 0.04607939, 0.        ,\n",
       "          0.        ],\n",
       "         [0.61620359, 0.6490048 , 0.19613356, 0.09203853, 0.        ,\n",
       "          0.        ],\n",
       "         [0.10879973, 0.19613356, 0.5203575 , 0.41576532, 0.        ,\n",
       "          0.        ],\n",
       "         [0.04607939, 0.09203853, 0.41576532, 0.41043001, 0.        ,\n",
       "          0.        ],\n",
       "         [0.        , 0.        , 0.        , 0.        , 0.58832929,\n",
       "          0.37216614],\n",
       "         [0.        , 0.        , 0.        , 0.        , 0.37216614,\n",
       "          0.43245071]],\n",
       "\n",
       "        [[0.        , 0.        , 0.        , 0.        , 0.10531756,\n",
       "          0.02763836],\n",
       "         [0.        , 0.        , 0.        , 0.        , 0.16596941,\n",
       "          0.05250731],\n",
       "         [0.        , 0.        , 0.        , 0.        , 0.22645033,\n",
       "          0.18147169],\n",
       "         [0.        , 0.        , 0.        , 0.        , 0.14603824,\n",
       "          0.16416921],\n",
       "         [0.10531756, 0.16596941, 0.22645033, 0.14603824, 0.        ,\n",
       "          0.        ],\n",
       "         [0.02763836, 0.05250731, 0.18147169, 0.16416921, 0.        ,\n",
       "          0.        ]],\n",
       "\n",
       "        [[0.        , 0.        , 0.        , 0.        , 0.07400787,\n",
       "          0.01962924],\n",
       "         [0.        , 0.        , 0.        , 0.        , 0.1189891 ,\n",
       "          0.03847623],\n",
       "         [0.        , 0.        , 0.        , 0.        , 0.18147169,\n",
       "          0.15676045],\n",
       "         [0.        , 0.        , 0.        , 0.        , 0.12070081,\n",
       "          0.14823414],\n",
       "         [0.07400787, 0.1189891 , 0.18147169, 0.12070081, 0.        ,\n",
       "          0.        ],\n",
       "         [0.01962924, 0.03847623, 0.15676045, 0.14823414, 0.        ,\n",
       "          0.        ]]],\n",
       "\n",
       "\n",
       "       [[[0.18838955, 0.17203377, 0.02515455, 0.01031288, 0.        ,\n",
       "          0.        ],\n",
       "         [0.17203377, 0.17189465, 0.03952869, 0.01760063, 0.        ,\n",
       "          0.        ],\n",
       "         [0.02515455, 0.03952869, 0.06361239, 0.04607939, 0.        ,\n",
       "          0.        ],\n",
       "         [0.01031288, 0.01760063, 0.04607939, 0.04109667, 0.        ,\n",
       "          0.        ],\n",
       "         [0.        , 0.        , 0.        , 0.        , 0.08980583,\n",
       "          0.04757239],\n",
       "         [0.        , 0.        , 0.        , 0.        , 0.04757239,\n",
       "          0.04466689]],\n",
       "\n",
       "        [[0.29294212, 0.27124792, 0.04249419, 0.01760063, 0.        ,\n",
       "          0.        ],\n",
       "         [0.27124792, 0.2764668 , 0.06956082, 0.03141421, 0.        ,\n",
       "          0.        ],\n",
       "         [0.04249419, 0.06956082, 0.1252732 , 0.09203853, 0.        ,\n",
       "          0.        ],\n",
       "         [0.01760063, 0.03141421, 0.09203853, 0.08308761, 0.        ,\n",
       "          0.        ],\n",
       "         [0.        , 0.        , 0.        , 0.        , 0.16981652,\n",
       "          0.09301218],\n",
       "         [0.        , 0.        , 0.        , 0.        , 0.09301218,\n",
       "          0.08999689]],\n",
       "\n",
       "        [[0.65200415, 0.61620359, 0.10879973, 0.04607939, 0.        ,\n",
       "          0.        ],\n",
       "         [0.61620359, 0.6490048 , 0.19613356, 0.09203853, 0.        ,\n",
       "          0.        ],\n",
       "         [0.10879973, 0.19613356, 0.5203575 , 0.41576532, 0.        ,\n",
       "          0.        ],\n",
       "         [0.04607939, 0.09203853, 0.41576532, 0.41043001, 0.        ,\n",
       "          0.        ],\n",
       "         [0.        , 0.        , 0.        , 0.        , 0.58832929,\n",
       "          0.37216614],\n",
       "         [0.        , 0.        , 0.        , 0.        , 0.37216614,\n",
       "          0.43245071]],\n",
       "\n",
       "        [[0.57591852, 0.54473602, 0.09685285, 0.04109667, 0.        ,\n",
       "          0.        ],\n",
       "         [0.54473602, 0.57468231, 0.17623975, 0.08308761, 0.        ,\n",
       "          0.        ],\n",
       "         [0.09685285, 0.17623975, 0.50087692, 0.41043001, 0.        ,\n",
       "          0.        ],\n",
       "         [0.04109667, 0.08308761, 0.41043001, 0.41879789, 0.        ,\n",
       "          0.        ],\n",
       "         [0.        , 0.        , 0.        , 0.        , 0.54364066,\n",
       "          0.35473554],\n",
       "         [0.        , 0.        , 0.        , 0.        , 0.35473554,\n",
       "          0.43642106]],\n",
       "\n",
       "        [[0.        , 0.        , 0.        , 0.        , 0.06394634,\n",
       "          0.01686946],\n",
       "         [0.        , 0.        , 0.        , 0.        , 0.10176381,\n",
       "          0.0325285 ],\n",
       "         [0.        , 0.        , 0.        , 0.        , 0.14603824,\n",
       "          0.12070081],\n",
       "         [0.        , 0.        , 0.        , 0.        , 0.0954096 ,\n",
       "          0.11108235],\n",
       "         [0.06394634, 0.10176381, 0.14603824, 0.0954096 , 0.        ,\n",
       "          0.        ],\n",
       "         [0.01686946, 0.0325285 , 0.12070081, 0.11108235, 0.        ,\n",
       "          0.        ]],\n",
       "\n",
       "        [[0.        , 0.        , 0.        , 0.        , 0.06324915,\n",
       "          0.01683671],\n",
       "         [0.        , 0.        , 0.        , 0.        , 0.10241124,\n",
       "          0.0334018 ],\n",
       "         [0.        , 0.        , 0.        , 0.        , 0.16416921,\n",
       "          0.14823414],\n",
       "         [0.        , 0.        , 0.        , 0.        , 0.11108235,\n",
       "          0.14453321],\n",
       "         [0.06324915, 0.10241124, 0.16416921, 0.11108235, 0.        ,\n",
       "          0.        ],\n",
       "         [0.01683671, 0.0334018 , 0.14823414, 0.14453321, 0.        ,\n",
       "          0.        ]]],\n",
       "\n",
       "\n",
       "       [[[0.        , 0.        , 0.        , 0.        , 0.07955536,\n",
       "          0.01957475],\n",
       "         [0.        , 0.        , 0.        , 0.        , 0.11195423,\n",
       "          0.03223541],\n",
       "         [0.        , 0.        , 0.        , 0.        , 0.10531756,\n",
       "          0.07400787],\n",
       "         [0.        , 0.        , 0.        , 0.        , 0.06394634,\n",
       "          0.06324915],\n",
       "         [0.07955536, 0.11195423, 0.10531756, 0.06394634, 0.        ,\n",
       "          0.        ],\n",
       "         [0.01957475, 0.03223541, 0.07400787, 0.06324915, 0.        ,\n",
       "          0.        ]],\n",
       "\n",
       "        [[0.        , 0.        , 0.        , 0.        , 0.11195423,\n",
       "          0.02803979],\n",
       "         [0.        , 0.        , 0.        , 0.        , 0.16242179,\n",
       "          0.04785473],\n",
       "         [0.        , 0.        , 0.        , 0.        , 0.16596941,\n",
       "          0.1189891 ],\n",
       "         [0.        , 0.        , 0.        , 0.        , 0.10176381,\n",
       "          0.10241124],\n",
       "         [0.11195423, 0.16242179, 0.16596941, 0.10176381, 0.        ,\n",
       "          0.        ],\n",
       "         [0.02803979, 0.04785473, 0.1189891 , 0.10241124, 0.        ,\n",
       "          0.        ]],\n",
       "\n",
       "        [[0.        , 0.        , 0.        , 0.        , 0.10531756,\n",
       "          0.02763836],\n",
       "         [0.        , 0.        , 0.        , 0.        , 0.16596941,\n",
       "          0.05250731],\n",
       "         [0.        , 0.        , 0.        , 0.        , 0.22645033,\n",
       "          0.18147169],\n",
       "         [0.        , 0.        , 0.        , 0.        , 0.14603824,\n",
       "          0.16416921],\n",
       "         [0.10531756, 0.16596941, 0.22645033, 0.14603824, 0.        ,\n",
       "          0.        ],\n",
       "         [0.02763836, 0.05250731, 0.18147169, 0.16416921, 0.        ,\n",
       "          0.        ]],\n",
       "\n",
       "        [[0.        , 0.        , 0.        , 0.        , 0.06394634,\n",
       "          0.01686946],\n",
       "         [0.        , 0.        , 0.        , 0.        , 0.10176381,\n",
       "          0.0325285 ],\n",
       "         [0.        , 0.        , 0.        , 0.        , 0.14603824,\n",
       "          0.12070081],\n",
       "         [0.        , 0.        , 0.        , 0.        , 0.0954096 ,\n",
       "          0.11108235],\n",
       "         [0.06394634, 0.10176381, 0.14603824, 0.0954096 , 0.        ,\n",
       "          0.        ],\n",
       "         [0.01686946, 0.0325285 , 0.12070081, 0.11108235, 0.        ,\n",
       "          0.        ]],\n",
       "\n",
       "        [[1.34828119, 1.26654571, 0.21412968, 0.08980583, 0.        ,\n",
       "          0.        ],\n",
       "         [1.26654571, 1.31925317, 0.36903659, 0.16981652, 0.        ,\n",
       "          0.        ],\n",
       "         [0.21412968, 0.36903659, 0.78088198, 0.58832929, 0.        ,\n",
       "          0.        ],\n",
       "         [0.08980583, 0.16981652, 0.58832929, 0.54364066, 0.        ,\n",
       "          0.        ],\n",
       "         [0.        , 0.        , 0.        , 0.        , 0.76296168,\n",
       "          0.42658919],\n",
       "         [0.        , 0.        , 0.        , 0.        , 0.42658919,\n",
       "          0.37107529]],\n",
       "\n",
       "        [[0.6868785 , 0.64793414, 0.11272996, 0.04757239, 0.        ,\n",
       "          0.        ],\n",
       "         [0.64793414, 0.67994028, 0.19977155, 0.09301218, 0.        ,\n",
       "          0.        ],\n",
       "         [0.11272996, 0.19977155, 0.479759  , 0.37216614, 0.        ,\n",
       "          0.        ],\n",
       "         [0.04757239, 0.09301218, 0.37216614, 0.35473554, 0.        ,\n",
       "          0.        ],\n",
       "         [0.        , 0.        , 0.        , 0.        , 0.42658919,\n",
       "          0.26717747],\n",
       "         [0.        , 0.        , 0.        , 0.        , 0.26717747,\n",
       "          0.27135569]]],\n",
       "\n",
       "\n",
       "       [[[0.        , 0.        , 0.        , 0.        , 0.01957475,\n",
       "          0.00486664],\n",
       "         [0.        , 0.        , 0.        , 0.        , 0.02803979,\n",
       "          0.00818073],\n",
       "         [0.        , 0.        , 0.        , 0.        , 0.02763836,\n",
       "          0.01962924],\n",
       "         [0.        , 0.        , 0.        , 0.        , 0.01686946,\n",
       "          0.01683671],\n",
       "         [0.01957475, 0.02803979, 0.02763836, 0.01686946, 0.        ,\n",
       "          0.        ],\n",
       "         [0.00486664, 0.00818073, 0.01962924, 0.01683671, 0.        ,\n",
       "          0.        ]],\n",
       "\n",
       "        [[0.        , 0.        , 0.        , 0.        , 0.03223541,\n",
       "          0.00818073],\n",
       "         [0.        , 0.        , 0.        , 0.        , 0.04785473,\n",
       "          0.0143639 ],\n",
       "         [0.        , 0.        , 0.        , 0.        , 0.05250731,\n",
       "          0.03847623],\n",
       "         [0.        , 0.        , 0.        , 0.        , 0.0325285 ,\n",
       "          0.0334018 ],\n",
       "         [0.03223541, 0.04785473, 0.05250731, 0.0325285 , 0.        ,\n",
       "          0.        ],\n",
       "         [0.00818073, 0.0143639 , 0.03847623, 0.0334018 , 0.        ,\n",
       "          0.        ]],\n",
       "\n",
       "        [[0.        , 0.        , 0.        , 0.        , 0.07400787,\n",
       "          0.01962924],\n",
       "         [0.        , 0.        , 0.        , 0.        , 0.1189891 ,\n",
       "          0.03847623],\n",
       "         [0.        , 0.        , 0.        , 0.        , 0.18147169,\n",
       "          0.15676045],\n",
       "         [0.        , 0.        , 0.        , 0.        , 0.12070081,\n",
       "          0.14823414],\n",
       "         [0.07400787, 0.1189891 , 0.18147169, 0.12070081, 0.        ,\n",
       "          0.        ],\n",
       "         [0.01962924, 0.03847623, 0.15676045, 0.14823414, 0.        ,\n",
       "          0.        ]],\n",
       "\n",
       "        [[0.        , 0.        , 0.        , 0.        , 0.06324915,\n",
       "          0.01683671],\n",
       "         [0.        , 0.        , 0.        , 0.        , 0.10241124,\n",
       "          0.0334018 ],\n",
       "         [0.        , 0.        , 0.        , 0.        , 0.16416921,\n",
       "          0.14823414],\n",
       "         [0.        , 0.        , 0.        , 0.        , 0.11108235,\n",
       "          0.14453321],\n",
       "         [0.06324915, 0.10241124, 0.16416921, 0.11108235, 0.        ,\n",
       "          0.        ],\n",
       "         [0.01683671, 0.0334018 , 0.14823414, 0.14453321, 0.        ,\n",
       "          0.        ]],\n",
       "\n",
       "        [[0.6868785 , 0.64793414, 0.11272996, 0.04757239, 0.        ,\n",
       "          0.        ],\n",
       "         [0.64793414, 0.67994028, 0.19977155, 0.09301218, 0.        ,\n",
       "          0.        ],\n",
       "         [0.11272996, 0.19977155, 0.479759  , 0.37216614, 0.        ,\n",
       "          0.        ],\n",
       "         [0.04757239, 0.09301218, 0.37216614, 0.35473554, 0.        ,\n",
       "          0.        ],\n",
       "         [0.        , 0.        , 0.        , 0.        , 0.42658919,\n",
       "          0.26717747],\n",
       "         [0.        , 0.        , 0.        , 0.        , 0.26717747,\n",
       "          0.27135569]],\n",
       "\n",
       "        [[0.62756436, 0.59346216, 0.10532108, 0.04466689, 0.        ,\n",
       "          0.        ],\n",
       "         [0.59346216, 0.6258157 , 0.19114885, 0.08999689, 0.        ,\n",
       "          0.        ],\n",
       "         [0.10532108, 0.19114885, 0.53207211, 0.43245071, 0.        ,\n",
       "          0.        ],\n",
       "         [0.04466689, 0.08999689, 0.43245071, 0.43642106, 0.        ,\n",
       "          0.        ],\n",
       "         [0.        , 0.        , 0.        , 0.        , 0.37107529,\n",
       "          0.27135569],\n",
       "         [0.        , 0.        , 0.        , 0.        , 0.27135569,\n",
       "          0.3511169 ]]]])"
      ]
     },
     "execution_count": 25,
     "metadata": {},
     "output_type": "execute_result"
    }
   ],
   "source": [
    "R"
   ]
  },
  {
   "cell_type": "code",
   "execution_count": null,
   "metadata": {},
   "outputs": [],
   "source": []
  },
  {
   "cell_type": "code",
   "execution_count": null,
   "metadata": {},
   "outputs": [],
   "source": []
  },
  {
   "cell_type": "code",
   "execution_count": null,
   "metadata": {},
   "outputs": [],
   "source": []
  }
 ],
 "metadata": {
  "kernelspec": {
   "display_name": "Python 3",
   "language": "python",
   "name": "python3"
  },
  "language_info": {
   "codemirror_mode": {
    "name": "ipython",
    "version": 3
   },
   "file_extension": ".py",
   "mimetype": "text/x-python",
   "name": "python",
   "nbconvert_exporter": "python",
   "pygments_lexer": "ipython3",
   "version": "3.7.1"
  }
 },
 "nbformat": 4,
 "nbformat_minor": 2
}
