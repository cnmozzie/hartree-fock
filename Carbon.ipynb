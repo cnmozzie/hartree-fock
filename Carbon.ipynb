{
 "cells": [
  {
   "cell_type": "markdown",
   "metadata": {
    "slideshow": {
     "slide_type": "slide"
    }
   },
   "source": [
    "<h2><center>Restricted open-shell Hartree–Fock for Beryllium</center></h2>\n",
    "\n",
    "<p style=\"text-align: center; margin-top: 0px; margin-bottom: 0px;\">\n",
    "                By <a target=\"_blank\" href=\"https://github.com/yueyericardo\">Richard Xue </a>\n",
    "</p>\n",
    "\n",
    "<p style=\"text-align: center; margin-top: 0px;\">\n",
    "                <a target=\"_blank\" href=\"https://yyrcd.com/hf/he.html\">Helium </a>&nbsp;/&nbsp;\n",
    "                <a target=\"_blank\" href=\"https://yyrcd.com/hf/li.html\">Lithium </a>&nbsp;/&nbsp;    \n",
    "                <a target=\"_blank\" href=\"https://yyrcd.com/hf/be.html\">Beryllium </a>\n",
    "</p>\n"
   ]
  },
  {
   "cell_type": "code",
   "execution_count": 1,
   "metadata": {
    "slideshow": {
     "slide_type": "subslide"
    }
   },
   "outputs": [],
   "source": [
    "import sympy as sp\n",
    "from sympy import oo\n",
    "import numpy as np\n",
    "from itertools import product\n",
    "from scipy.linalg import eig\n",
    "from sympy import diff\n",
    "import time as time\n",
    "import matplotlib.pyplot as plt\n",
    "from sympy.plotting import plot\n",
    "# %matplotlib notebook \n",
    "%matplotlib inline\n",
    "from IPython.display import Math\n",
    "sp.init_printing()\n",
    "from sympy import expand_func\n",
    "from sympy.functions import conjugate\n",
    "from sympy import nsimplify\n",
    "from sympy.functions.special.tensor_functions import KroneckerDelta\n",
    "from sympy.physics.wigner import gaunt\n",
    "from sympy.physics.wigner import wigner_3j\n",
    "\n",
    "zeta, zeta1, zeta2 = sp.symbols(\"zeta, zeta1, zeta2\")\n",
    "n = sp.Symbol('n',integer=True)\n",
    "r = sp.Symbol('r',real = True)\n",
    "zeta = sp.Symbol('zeta',real = True)\n",
    "theta = sp.Symbol('theta',real = True)\n",
    "phi = sp.Symbol('phi',real = True)\n",
    "r1 = sp.Symbol('r1',positive = True)\n",
    "r2 = sp.Symbol('r2',positive = True)\n",
    "l, m = sp.symbols(\"l, m\")"
   ]
  },
  {
   "cell_type": "markdown",
   "metadata": {
    "slideshow": {
     "slide_type": "slide"
    }
   },
   "source": [
    "<h2><center>Part 1 Function Definition</center></h2>"
   ]
  },
  {
   "cell_type": "markdown",
   "metadata": {},
   "source": [
    "### Define STO function\n",
    "$STO \\; function \\; has \\; format \\; of: \\; Nr^{n-1}e^{-r\\zeta}$"
   ]
  },
  {
   "cell_type": "code",
   "execution_count": 2,
   "metadata": {},
   "outputs": [],
   "source": [
    "def STO(zeta, n, l=0, m=0, r=r):\n",
    "    return expand_func((2*zeta)**n*(2*zeta/sp.factorial(2*n))**(1/2)*r**(n-1)*sp.exp(-zeta*r)*(sp.Ynm(l, m, theta, phi)))\n",
    "\n",
    "def STO_r(zeta, n, l=0, m=0, r=r):\n",
    "    return (2*zeta)**n*(2*zeta/sp.factorial(2*n))**(1/2)*r**(n-1)*sp.exp(-zeta*r)\n",
    "\n",
    "def Y(l=0, m=0):\n",
    "    return expand_func((sp.Ynm(l, m, theta, phi)))\n",
    "\n",
    "def Y_int(f1, f2):\n",
    "    return sp.integrate(conjugate(f1)*f2*sp.sin(theta), (theta, 0, sp.pi), (phi, 0, 2*sp.pi))\n"
   ]
  },
  {
   "cell_type": "code",
   "execution_count": 3,
   "metadata": {},
   "outputs": [],
   "source": [
    "# S Overlap Integrate\n",
    "def S_int(f1, f2):\n",
    "    return sp.integrate(conjugate(f1)*f2*r*r*sp.sin(theta) ,(r, 0, +oo), (theta, 0, sp.pi), (phi, 0, 2*sp.pi))\n",
    "\n",
    "def S_int_r(f1, f2):\n",
    "    return sp.integrate(conjugate(f1)*f2*r*r ,(r, 0, +oo))"
   ]
  },
  {
   "cell_type": "code",
   "execution_count": 4,
   "metadata": {},
   "outputs": [
    {
     "data": {
      "image/png": "[encoded data removed]",
      "text/latex": [
       "$$1.0$$"
      ],
      "text/plain": [
       "1.00000000000000"
      ]
     },
     "execution_count": 4,
     "metadata": {},
     "output_type": "execute_result"
    }
   ],
   "source": [
    "f3 = STO_r(1.49, 1, 1, 0)\n",
    "\n",
    "a = S_int_r(f3, f3)\n",
    "a"
   ]
  },
  {
   "cell_type": "markdown",
   "metadata": {},
   "source": [
    "### Overlap Integrate\n",
    "\n",
    "$S = \\int_{0}^\\infty f_1^* f_2 \\; r^2dr$"
   ]
  },
  {
   "cell_type": "code",
   "execution_count": 5,
   "metadata": {},
   "outputs": [
    {
     "data": {
      "image/png": "[encoded data removed]",
      "text/latex": [
       "$$3.63755357348864 e^{- 1.49 r}$$"
      ],
      "text/plain": [
       "                  -1.49⋅r\n",
       "3.63755357348864⋅ℯ       "
      ]
     },
     "execution_count": 5,
     "metadata": {},
     "output_type": "execute_result"
    }
   ],
   "source": [
    "f3"
   ]
  },
  {
   "cell_type": "code",
   "execution_count": 6,
   "metadata": {},
   "outputs": [
    {
     "data": {
      "image/png": "[encoded data removed]",
      "text/latex": [
       "$$3.63755357348864 e^{- 1.49 r}$$"
      ],
      "text/plain": [
       "                  -1.49⋅r\n",
       "3.63755357348864⋅ℯ       "
      ]
     },
     "execution_count": 6,
     "metadata": {},
     "output_type": "execute_result"
    }
   ],
   "source": [
    "conjugate(f3)"
   ]
  },
  {
   "cell_type": "markdown",
   "metadata": {},
   "source": [
    "### Hamiltonian core\n",
    "\n",
    "H core = kinetics energy + electron and nuclear potential energy\n",
    "\n",
    "$H = \\int_{0}^\\infty f_1 \\hat{H} f_2 \\; r^2dr$\n",
    "\n",
    "$H = \\int_{0}^\\infty f_1 ((-\\dfrac{1}{2}) \\nabla^2 - \\dfrac{Z_{\\alpha}}{r})f_2 \\; r^2 dr$\n",
    "\n",
    "<p><a href=\"https://en.wikipedia.org/wiki/Laplace_operator\">$Laplace \\; operator: $</a> $\\nabla^2$</p>\n",
    "<p><left><img class = \"none\"style=\"text-align: center; margin-left:0px\" src=\"https://wikimedia.org/api/rest_v1/media/math/render/svg/b4a3135d1cc01d19309d36c749aaef4a48dc81da\"></left></p>\n",
    "\n",
    "$\\therefore H = \\int_{0}^\\infty f_1 ((-\\dfrac{1}{2}) \\dfrac{1}{r} \\dfrac{\\partial}{\\partial r} \\dfrac{\\partial}{\\partial r} r f_2 - \\dfrac{Z_{\\alpha}}{r}r^2 f_2 )dr$\n",
    "\n",
    "**reminder:** change the Z of nucleus if you want to run for other atom"
   ]
  },
  {
   "cell_type": "code",
   "execution_count": 7,
   "metadata": {},
   "outputs": [],
   "source": [
    "# H core = kinetics energy + electron and nuclear potential energy\n",
    "def KE_int(f1, f2):\n",
    "    a = (1/(r*r))*diff(r*r*diff(f2, r), r)\n",
    "    b = (1/(r*r*sp.sin(theta)))*diff(sp.sin(theta)*diff(f2, theta), theta)\n",
    "    c = (1/(r*r*sp.sin(theta)*sp.sin(theta)))*diff(diff(f2, phi), phi)\n",
    "    return sp.integrate(conjugate(f1)*(-(1/2)*(a + b + c))*r*r*sp.sin(theta), (r,0,+oo), (theta, 0, sp.pi), (phi, 0, 2*sp.pi))\n",
    "\n",
    "def ENPE_int(f1, f2, Z):\n",
    "    return sp.integrate(conjugate(f1)*(- Z/r*f2)*r*r, (r,0,+oo))"
   ]
  },
  {
   "cell_type": "code",
   "execution_count": 8,
   "metadata": {},
   "outputs": [],
   "source": [
    "# Returns the core hamiltonian matrix\n",
    "def KE_matrix(zetas):\n",
    "    # build basis functions\n",
    "    fs = [STO(*x) for x in zetas]\n",
    "\n",
    "    H = np.zeros((len(fs),len(fs)))\n",
    "    for i in range(len(fs)):\n",
    "        for j in range(len(fs)):\n",
    "            H[i, j] =  KE_int(fs[i], fs[j])\n",
    "\n",
    "    return H\n",
    "\n",
    "def ENPE_matrix(zetas, Z):\n",
    "    fs = [STO_r(*x) for x in zetas]\n",
    "\n",
    "    H = np.zeros((len(fs),len(fs)))\n",
    "    for i in range(len(fs)):\n",
    "        li = int(zetas[i][2])\n",
    "        mi = int(zetas[i][3])\n",
    "        for j in range(len(fs)):\n",
    "            lj = int(zetas[j][2])\n",
    "            mj = int(zetas[j][3])\n",
    "            if lj == li and mj == mi:\n",
    "                H[i, j] =  ENPE_int(fs[i], fs[j], Z)\n",
    "\n",
    "    return H  \n",
    "\n",
    "# Returns the overlap matrix\n",
    "def S_matrix(zetas):\n",
    "    # build basis functions\n",
    "    fs = [STO(*x) for x in zetas]\n",
    "\n",
    "    S = np.zeros((len(fs),len(fs)))\n",
    "    for i in range(len(fs)):\n",
    "        for j in range(len(fs)):\n",
    "            S[i, j] =  S_int(fs[i], fs[j])\n",
    "\n",
    "    return S  "
   ]
  },
  {
   "cell_type": "markdown",
   "metadata": {},
   "source": [
    "### Two elecron repulsion integral\n",
    "$(rs|tu) = \\int \\int \\dfrac{f_r^*(1) f_s(1) f_t^*(2) f_u(2)}{r_{12}} \\; dv_1 dv_2 $\n",
    "\n",
    "For 1s 2s orbital\n",
    "\n",
    "$(rs|tu)  = \\int_{0}^\\infty \\int_{0}^\\infty \\dfrac{f_r^*(1) f_s(1) f_t^*(2) f_u(2)}{r_{12}} \\; r_1^2dr_1\\; r_2^2dr_2  $\n",
    "\n",
    "$(rs|tu) = \\int_{0}^\\infty f_r^*(1) f_s(1)  \\; r_1^2dr_1\\int_{0}^\\infty \\frac{ f_t^*(2) f_u(2)}{r_{12}}\\; r_2^2dr_2  $\n",
    "\n",
    "From problem 9.14 in quantum_chemistry by levine\n",
    "\n",
    "$(rs|tu) = \\int_{0}^\\infty f_r^*(1) f_s(1)  \\; r_1^2dr_1\\int_{0}^\\infty \\frac{ f_t^*(2) f_u(2)}{r_{>}}\\; r_2^2dr_2  $\n",
    "\n",
    "$(rs|tu) = \\int_{0}^\\infty f_r^*(1) f_s(1)  \\; r_1^2dr_1(\\int_{0}^{r_1} \\frac{ f_t^*(2) f_u(2)}{r_{1}}\\; r_2^2dr_2 + \\int_{r_1}^\\infty \\frac{ f_t^*(2) f_u(2)}{r_{2}}\\; r_2^2dr_2)  $\n",
    "\n",
    "$Let \\; B= \\int_{0}^{r_1} \\frac{ f_t^*(2) f_u(2)}{r_{1}}\\; r_2^2dr_2 + \\int_{r_1}^\\infty \\frac{ f_t^*(2) f_u(2)}{r_{2}}\\; r_2^2dr_2$\n",
    "\n",
    "$(rs|tu) = \\int_{0}^\\infty f_r^*(1) f_s(1) B \\; r_1^2 dr_1  $\n",
    "\n"
   ]
  },
  {
   "cell_type": "code",
   "execution_count": 9,
   "metadata": {
    "scrolled": false
   },
   "outputs": [],
   "source": [
    "def win(l1,l2,l3,m1,m2,m3):\n",
    "    if(wigner_3j(l1,l2,l3,m1,m2,m3)==0):\n",
    "        return 0\n",
    "    else:\n",
    "        return 1\n",
    "\n",
    "def Repulsion_electron(zetas):\n",
    "    \n",
    "    f1=STO_r(zetas[0][0], zetas[0][1], zetas[0][2], zetas[0][3], r1)\n",
    "    f2=STO_r(zetas[1][0], zetas[1][1], zetas[1][2], zetas[1][3], r1)\n",
    "    f3=STO_r(zetas[2][0], zetas[2][1], zetas[2][2], zetas[2][3], r2)\n",
    "    f4=STO_r(zetas[3][0], zetas[3][1], zetas[3][2], zetas[3][3], r2)\n",
    "    l1 = int(zetas[0][2])\n",
    "    l2 = int(zetas[1][2])    \n",
    "    l3 = int(zetas[2][2])\n",
    "    l4 = int(zetas[3][2])\n",
    "    m1 = int(zetas[0][3])\n",
    "    m2 = int(zetas[1][3])\n",
    "    m3 = int(zetas[2][3])\n",
    "    m4 = int(zetas[3][3]) \n",
    "#     print(l1, l2, l3, l4)\n",
    "    \n",
    "    A = 0\n",
    "    B = 0\n",
    "    lower = max(abs(l1-l2),abs(l3-l4))\n",
    "    upper = min(l1+l2, l3+l4)    \n",
    "    for l in range(lower, upper+1):\n",
    "        for m in range(-l, l+1):\n",
    "            B = sp.integrate(nsimplify((((r2**l)/(r1**(l+1))))*f3*f4*r2*r2) ,(r2, 0, r1)) + sp.integrate(nsimplify(((r1**l)/(r2**(l+1)))*f3*f4*r2*r2) ,(r2, r1, +oo))        \n",
    "            B = sp.integrate(nsimplify(f1*f2*r1*r1*B) ,(r1, 0, +oo))\n",
    "            B *= (-1)**(m1+m) * gaunt(l1, l2, l, -m1, m2, -m) * (-1)**m3 * gaunt(l3, l4, l, -m3, m4, m)\n",
    "            B *= 4 * sp.pi / (2 * l + 1)\n",
    "            A += B\n",
    "    return A \n",
    "    \n",
    "#     print(\"caculating B\")    \n",
    "# #     if(l1==0):\n",
    "# #         B = (((1)/(r1)))*sp.integrate(nsimplify(f3*f4*r2*r2*KroneckerDelta(l3,l4)*KroneckerDelta(m3,m4)) ,(r2, 0, r1)) + sp.integrate(nsimplify(((r1**l1)/(r2**(l1+1)))*f3*f4*r2*r2*KroneckerDelta(l3,l4)*KroneckerDelta(m3,m4)) ,(r2, r1, +oo))\n",
    "# #     else:\n",
    "#     B = sp.integrate(nsimplify((((r2**l1)/(r1**l1)))*f3*f4*r2*r2*KroneckerDelta(l3,l4)*KroneckerDelta(m3,m4)) ,(r2, 0, r1)) + sp.integrate(nsimplify(((r1**l1)/(r2**(l1+1)))*f3*f4*r2*r2*KroneckerDelta(l3,l4)*KroneckerDelta(m3,m4)) ,(r2, r1, +oo))        \n",
    "#     print(B)\n",
    "#     print(\"caculating A\")    \n",
    "#     A = sp.integrate(nsimplify(f1*f2*r1*r1*B*KroneckerDelta(l1,l2)*KroneckerDelta(m1,m2)) ,(r1, 0, +oo))\n",
    "#     print(A)        \n",
    "#     return A\n",
    "\n",
    "\n",
    "# def Repulsion_electron(zetas):\n",
    "    \n",
    "#     f1=STO_r(zetas[0][0], zetas[0][1], zetas[0][2], zetas[0][3], r1)\n",
    "#     f2=STO_r(zetas[1][0], zetas[1][1], zetas[1][2], zetas[1][3], r1)\n",
    "#     f3=STO_r(zetas[2][0], zetas[2][1], zetas[2][2], zetas[2][3], r2)\n",
    "#     f4=STO_r(zetas[3][0], zetas[3][1], zetas[3][2], zetas[3][3], r2)\n",
    "#     fs = [f1, f2, f3, f4]\n",
    "\n",
    "#     B = (1/r1)*sp.integrate(nsimplify(f3*f4*r2*r2) ,(r2, 0, r1)) + sp.integrate(nsimplify((1/r2)*f3*f4*r2*r2) ,(r2, r1, +oo))\n",
    "#     A = sp.integrate(f1*f2*r1*r1*B ,(r1, 0, +oo))\n",
    "#     return A"
   ]
  },
  {
   "cell_type": "code",
   "execution_count": 10,
   "metadata": {},
   "outputs": [
    {
     "data": {
      "image/png": "[encoded data removed]",
      "text/latex": [
       "$$\\frac{\\sqrt{30}}{15}$$"
      ],
      "text/plain": [
       "√30\n",
       "───\n",
       " 15"
      ]
     },
     "execution_count": 10,
     "metadata": {},
     "output_type": "execute_result"
    }
   ],
   "source": [
    "# for i in range(0,1):\n",
    "#     print(i)\n",
    "\n",
    "gaunt(1,1,2,0,0,0)\n",
    "wigner_3j(1,1,2,0,0,0)"
   ]
  },
  {
   "cell_type": "markdown",
   "metadata": {},
   "source": [
    "### Density matrix\n",
    "$ P_{tu} =2 \\sum_{j=1}^{n/2}c_{tj}^* c_{uj} $\n",
    "\n",
    "**Reminder:** P need to be changed if the atom have unpaired electron"
   ]
  },
  {
   "cell_type": "code",
   "execution_count": 11,
   "metadata": {},
   "outputs": [],
   "source": [
    "# Calculates Density matrix\n",
    "def P_matrix(Co, Z):\n",
    "\n",
    "    P = np.zeros([Co.shape[0], Co.shape[0]])\n",
    "\n",
    "    for t in range(Co.shape[0]):\n",
    "        for u in range(Co.shape[0]):\n",
    "            for j in range(Z//2):\n",
    "                P[t][u] += 2* Co[t][j]*Co[u][j]\n",
    "#             P[t][u] = 2* Co[t][1]*Co[u][1] + 2* Co[t][2]*Co[u][2] + 6* Co[t][3]*Co[u][3]                \n",
    "    return P            "
   ]
  },
  {
   "cell_type": "markdown",
   "metadata": {},
   "source": [
    "### Fock matrix\n",
    "$ F_{rs} = H_{rs}^{core} + \\sum_{t=1}^{b} \\sum_{t=1}^{b}P_{tu}[(rs|tu)- \\frac{1}2(ru|ts)] $  \n",
    "\n",
    "$G = (rs|tu)- \\frac{1}2(ru|ts)$ \n",
    "\n",
    "$ F_{rs} = H_{rs}^{core} + G $  \n",
    "\n",
    "$In\\;G \\;one\\;is\\;coulombic\\;repulsion,\\;another\\;is\\;exchange\\;energy$"
   ]
  },
  {
   "cell_type": "code",
   "execution_count": 12,
   "metadata": {},
   "outputs": [],
   "source": [
    "def R_matrix(zetas):\n",
    "    R = np.zeros((len(zetas), len(zetas), len(zetas), len(zetas)))*np.nan\n",
    "\n",
    "    rstu = list(product(range(len(zetas)),repeat=4))\n",
    "    i = 0\n",
    "    for r, s, t, u in rstu:\n",
    "#         print(\"caculating R(\",r,s,\"|\",t,u,\")\" )        \n",
    "        if(np.isnan(R[r,s,t,u])):\n",
    "#             print(\"caculating R(\",r,s,\"|\",t,u,\")\" )\n",
    "            value = Repulsion_electron((zetas[r], zetas[s], zetas[t], zetas[u]))\n",
    "            R[r,s,t,u] = value\n",
    "            R[s,r,t,u] = value            \n",
    "            R[r,s,u,t] = value\n",
    "            R[s,r,u,t] = value\n",
    "            R[t,u,r,s] = value\n",
    "            R[u,t,r,s] = value\n",
    "            R[t,u,s,r] = value\n",
    "            R[u,t,s,r] = value\n",
    "            i+=1\n",
    "#         else:\n",
    "#             print(\"caculating R(\",r,s,\"|\",t,u,\")\",\"No caculation required\" )\n",
    "#         print(R[r,s,t,u])\n",
    "            #         print(i)               \n",
    "    return R\n",
    "\n",
    "# Caculate G Matrix\n",
    "def G_matrix(zetas, P, R):\n",
    "\n",
    "    G = np.zeros((P.shape[0], P.shape[0]))\n",
    "    \n",
    "    rs = list(product(range( P.shape[0]),repeat=2))\n",
    "    tu = list(product(range( P.shape[0]),repeat=2))\n",
    "\n",
    "    for r, s in rs:\n",
    "        g = 0\n",
    "        for t, u in tu:\n",
    "            int1 = R[r, s, t, u]\n",
    "            int2 = R[r, u, t, s]\n",
    "#             print('({0}{1}|{2}{3}): {4}'.format(r, s, t, u, int1))\n",
    "            g+= P[t, u] * (int1 - 0.5 * int2)\n",
    "        G[r, s] = g\n",
    "    return G\n",
    "\n",
    "# Returns the Fock matrix\n",
    "def F_matrix(H, Z, zetas, P, R):\n",
    "    return H + G_matrix(zetas, P, R)"
   ]
  },
  {
   "cell_type": "code",
   "execution_count": null,
   "metadata": {},
   "outputs": [],
   "source": []
  },
  {
   "cell_type": "markdown",
   "metadata": {},
   "source": [
    "### Solve Hartree-Fork equation\n",
    "\n",
    "$det(F_{rs}-\\epsilon_i S_{rs} = 0)$  \n",
    "\n",
    "$The\\;energy\\;returned\\;is\\;the\\;orbital\\;energy\\;for\\;1\\;electron$"
   ]
  },
  {
   "cell_type": "code",
   "execution_count": 13,
   "metadata": {},
   "outputs": [],
   "source": [
    "# slove secular equation, return the energy and improved coeffients\n",
    "# the energy here is orbital energy for 1 electron\n",
    "def secular_eqn(F, S):\n",
    "    ei, C = eig(F, S)\n",
    "    \n",
    "    # sort eigvalue and eigvector from lower to higher\n",
    "    idx = ei.argsort()[::1]   \n",
    "    ei = ei[idx]\n",
    "    C = C[:,idx]\n",
    "\n",
    "    # eigvector from scipy.linalg.eig is not normalized, which is a bug\n",
    "    # this is to fix it\n",
    "    Co = np.zeros((C.shape[0],C.shape[0]))\n",
    "    inte = np.matmul(np.matmul(C.T, S), C)\n",
    "    for i in range(C.shape[0]):\n",
    "        for j in range(C.shape[0]):\n",
    "            Co[j][i]=C[j][i]/np.sqrt(inte[i][i])\n",
    "\n",
    "    return ei, Co"
   ]
  },
  {
   "cell_type": "markdown",
   "metadata": {},
   "source": [
    "### Return atom energy\n",
    "$ E_{HF} = \\sum_{i=1}^{2/n}\\epsilon  +\\frac{1}2 \\sum_{r=1}^{b} \\sum_{s=1}^{b}P_{rs}H_{rs}+V_{NN} $"
   ]
  },
  {
   "cell_type": "code",
   "execution_count": 14,
   "metadata": {},
   "outputs": [],
   "source": [
    "# return energy of atom\n",
    "def get_E0(e, P, H):\n",
    "    \n",
    "    E0 = 0\n",
    "    for i in range(int(e.shape[0]/2)):\n",
    "        E0 += e[i].real \n",
    "    E0 = E0 + 0.5*(P*H).sum()\n",
    "    return E0 "
   ]
  },
  {
   "cell_type": "markdown",
   "metadata": {
    "slideshow": {
     "slide_type": "slide"
    }
   },
   "source": [
    "<h2><center>Part 2 Hartree Fork Iteration (Main Process)</center></h2>\n",
    "\n",
    "- Initialization\n",
    "    1. initializing Co (coefficients) without considering electron repulsion\n",
    "    1. Solve Hartree-Fork equation with H_matrix and S_matrix to get initial Co\n",
    "\n",
    "\n",
    "- Iteration\n",
    "\t1. Using Co, we can get P_matrix (electron density)\n",
    "\t2. Using P_matrix, H_matrix, G_matrix => F_matrix\n",
    "\t3. Solve Hartree-Fork equation with F_matrix and S_matrix to get improved orbital energy and Co, which also means improved orbital functions.\n",
    "\t4. Using improved Co, return to step 1"
   ]
  },
  {
   "cell_type": "code",
   "execution_count": null,
   "metadata": {
    "scrolled": false,
    "slideshow": {
     "slide_type": "slide"
    }
   },
   "outputs": [
    {
     "name": "stdout",
     "output_type": "stream",
     "text": [
      "[[28.29264909 18.23759025 -0.81997674 -0.47105418  0.          0.        ]\n",
      " [18.23759025 13.12287188 -0.38890051 -0.3555329   0.          0.        ]\n",
      " [-0.81997674 -0.38890051  0.55856488  0.27455054  0.          0.        ]\n",
      " [-0.47105418 -0.3555329   0.27455054  0.22149899  0.          0.        ]\n",
      " [ 0.          0.          0.          0.          3.7276786   1.18807666]\n",
      " [ 0.          0.          0.          0.          1.18807666  0.78947152]]\n",
      "[[-45.13392    -35.90619147  -3.16874     -1.24963332   0.\n",
      "    0.        ]\n",
      " [-35.90619147 -30.73836     -4.33361694  -1.8550458    0.\n",
      "    0.        ]\n",
      " [ -3.16874     -4.33361694  -5.49204     -3.91987228   0.\n",
      "    0.        ]\n",
      " [ -1.24963332  -1.8550458   -3.91987228  -3.45846      0.\n",
      "    0.        ]\n",
      " [  0.           0.           0.           0.          -8.19135\n",
      "   -4.14186162]\n",
      " [  0.           0.           0.           0.          -4.14186162\n",
      "   -3.76968   ]]\n",
      "[[1.         0.94649038 0.16939698 0.07202381 0.         0.        ]\n",
      " [0.94649038 1.         0.31160332 0.14779169 0.         0.        ]\n",
      " [0.16939698 0.31160332 1.         0.87590018 0.         0.        ]\n",
      " [0.07202381 0.14779169 0.87590018 1.         0.         0.        ]\n",
      " [0.         0.         0.         0.         1.         0.69255936]\n",
      " [0.         0.         0.         0.         0.69255936 1.        ]]\n",
      "------------------------------ Initialization ------------------------------\n",
      "------------------------- Ignore repulsion integral ------------------------\n"
     ]
    },
    {
     "data": {
      "text/latex": [
       "$\\displaystyle \\zeta_1 = 7.522 \\quad \\zeta_2 = 5.123 \\quad \\zeta_3 = 1.831 \\quad \\zeta_4 = 1.153$"
      ],
      "text/plain": [
       "<IPython.core.display.Math object>"
      ]
     },
     "metadata": {},
     "output_type": "display_data"
    },
    {
     "data": {
      "text/latex": [
       "$\\displaystyle  \\epsilon_1 \\; for \\; \\phi_1  = -17.990 $"
      ],
      "text/plain": [
       "<IPython.core.display.Math object>"
      ]
     },
     "metadata": {},
     "output_type": "display_data"
    },
    {
     "data": {
      "text/latex": [
       "$\\displaystyle  \\epsilon_2 \\; for \\; \\phi_1 = -4.478 $"
      ],
      "text/plain": [
       "<IPython.core.display.Math object>"
      ]
     },
     "metadata": {},
     "output_type": "display_data"
    },
    {
     "data": {
      "text/latex": [
       "$\\displaystyle  \\epsilon_3 \\; for \\; \\phi_1  = -4.303 $"
      ],
      "text/plain": [
       "<IPython.core.display.Math object>"
      ]
     },
     "metadata": {},
     "output_type": "display_data"
    },
    {
     "data": {
      "text/latex": [
       "$\\displaystyle  \\epsilon_4 \\; for \\; \\phi_1  = -1.964 $"
      ],
      "text/plain": [
       "<IPython.core.display.Math object>"
      ]
     },
     "metadata": {},
     "output_type": "display_data"
    },
    {
     "data": {
      "text/latex": [
       "$\\displaystyle  Hartree \\ Fork \\; atom \\; energy = -53.54086 \\ hartree = -1456.90047 \\ eV$"
      ],
      "text/plain": [
       "<IPython.core.display.Math object>"
      ]
     },
     "metadata": {},
     "output_type": "display_data"
    },
    {
     "name": "stdout",
     "output_type": "stream",
     "text": [
      "------------------------------ Iteration 1 ------------------------------\n",
      "------- Iteration 1 needs more time to caculate Repulsion Integral ------\n"
     ]
    }
   ],
   "source": [
    "# input \n",
    "# input for zeta\n",
    "# zetas = [[5.59108, 1, 0, 0], [3.35538, 1, 0, 0], [1.01122, 2, 0, 0], [0.61000, 2, 0, 0]]\n",
    "zetas = [[7.52232, 1, 0, 0], [5.12306, 1, 0, 0], [1.83068, 2, 0, 0], [1.15282, 2, 0, 0], [2.73045, 2, 1, 0], [1.25656, 2, 1, 0]]\n",
    "# , [2.73045, 2, 1, -1], [1.25656, 2, 1, -1], [2.73045, 2, 1, 1], [1.25656, 2, 1, 1]\n",
    "# zetas = [[11.4216, 1, 0, 0], [8.50182, 1, 0, 0], [3.56883, 2, 0, 0], [2.19285, 2, 0, 0], [4.68773, 2, 1, 0], [2.05684, 2, 1, 0]]\n",
    "# input nuclear charge (element number)\n",
    "Z = 6\n",
    "\n",
    "# initialization\n",
    "R = np.zeros((len(zetas), len(zetas), len(zetas), len(zetas)))\n",
    "KE = KE_matrix(zetas)\n",
    "ENPE = ENPE_matrix(zetas, Z)\n",
    "print(KE)\n",
    "print(ENPE)\n",
    "H = KE + ENPE\n",
    "S = S_matrix(zetas)\n",
    "print(S)\n",
    "e, Co = secular_eqn(H, S)\n",
    "P = P_matrix(Co, Z)\n",
    "scf_H = get_E0(e, P, H)\n",
    "\n",
    "##############################################print information below#################################################\n",
    "print('-'*30, \"Initialization\", '-'*30)\n",
    "print('-'*25, \"Ignore repulsion integral\", '-'*24)\n",
    "display(Math('\\zeta_1 = {0} \\quad \\zeta_2 = {1} \\quad \\zeta_3 = {2} \\quad \\zeta_4 = {3}'.format(format(zetas[0][0], '0.3f'), format(zetas[1][0], '0.3f'), format(zetas[2][0], '0.3f'),format(zetas[3][0], '0.3f')))) \n",
    "# display(Math('c11 = {0} \\quad c21 = {1} \\quad c31 = {2} \\quad c41 = {3} \\quad c11 = {4} \\quad c21 = {5}'.format(format(Co[0][0], '0.3f'), format(Co[1][0], '0.3f'), format(Co[2][0], '0.3f'), format(Co[3][0], '0.3f'), format(Co[4][0], '0.3f'), format(Co[5][0], '0.3f')))) \n",
    "# display(Math('c11 = {0} \\quad c21 = {1} \\quad c31 = {2} \\quad c41 = {3} \\quad c11 = {4} \\quad c21 = {5}'.format(format(Co[0][1], '0.3f'), format(Co[1][1], '0.3f'), format(Co[2][1], '0.3f'), format(Co[3][1], '0.3f'), format(Co[4][1], '0.3f'), format(Co[5][1], '0.3f')))) \n",
    "# display(Math('c11 = {0} \\quad c21 = {1} \\quad c31 = {2} \\quad c41 = {3} \\quad c11 = {4} \\quad c21 = {5}'.format(format(Co[0][2], '0.3f'), format(Co[1][2], '0.3f'), format(Co[2][2], '0.3f'), format(Co[3][2], '0.3f'), format(Co[4][2], '0.3f'), format(Co[5][2], '0.3f')))) \n",
    "# display(Math('c11 = {0} \\quad c21 = {1} \\quad c31 = {2} \\quad c41 = {3} \\quad c11 = {4} \\quad c21 = {5}'.format(format(Co[0][3], '0.3f'), format(Co[1][3], '0.3f'), format(Co[2][3], '0.3f'), format(Co[3][3], '0.3f'), format(Co[4][3], '0.3f'), format(Co[5][3], '0.3f')))) \n",
    "# display(Math('c11 = {0} \\quad c21 = {1} \\quad c31 = {2} \\quad c41 = {3} \\quad c11 = {4} \\quad c21 = {5}'.format(format(Co[0][4], '0.3f'), format(Co[1][4], '0.3f'), format(Co[2][4], '0.3f'), format(Co[3][4], '0.3f'), format(Co[4][4], '0.3f'), format(Co[5][4], '0.3f')))) \n",
    "# display(Math('c11 = {0} \\quad c21 = {1} \\quad c31 = {2} \\quad c41 = {3} \\quad c11 = {4} \\quad c21 = {5}'.format(format(Co[0][5], '0.3f'), format(Co[1][5], '0.3f'), format(Co[2][5], '0.3f'), format(Co[3][5], '0.3f'), format(Co[4][5], '0.3f'), format(Co[5][5], '0.3f')))) \n",
    "\n",
    "# plot density graph\n",
    "colorlist = ['red', 'orange', 'yellow', 'green', 'blue', 'purple', 'black', 'red', 'orange', 'yellow', 'green', 'blue', 'purple', 'black']\n",
    "# print energy result\n",
    "display(Math(' \\epsilon_1 \\; for \\; \\phi_1  = {0} '.format(format(e[0].real, '0.3f'))))    \n",
    "display(Math(' \\epsilon_2 \\; for \\; \\phi_1 = {0} '.format(format(e[1].real, '0.3f'))))\n",
    "display(Math(' \\epsilon_3 \\; for \\; \\phi_1  = {0} '.format(format(e[2].real, '0.3f'))))    \n",
    "display(Math(' \\epsilon_4 \\; for \\; \\phi_1  = {0} '.format(format(e[3].real, '0.3f'))))    \n",
    "# display(Math(' \\epsilon_5 \\; for \\; \\phi_1  = {0} '.format(format(e[4].real, '0.3f'))))    \n",
    "# display(Math(' \\epsilon_6 \\; for \\; \\phi_1  = {0} '.format(format(e[5].real, '0.3f'))))    \n",
    "display(Math(' Hartree \\ Fork \\; atom \\; energy = {0} \\ hartree = {1} \\ eV'.format(format(scf_H, '0.5f'), format(scf_H*27.211, '0.5f'))))    \n",
    "##############################################print information above#################################################\n",
    "\n",
    "for i in range(10):\n",
    "    print('-'*30, \"Iteration\", i + 1, '-'*30)\n",
    "    if(i==0):\n",
    "        print('-'*7, \"Iteration 1 needs more time to caculate Repulsion Integral\", '-'*6)\n",
    "        start = time.time()\n",
    "        R = R_matrix(zetas)\n",
    "    else:\n",
    "        start = time.time()\n",
    "    P = P_matrix(Co, Z)\n",
    "    F = F_matrix(H, Z, zetas, P, R)\n",
    "    e, Co = secular_eqn(F, S)\n",
    "    scf_H = get_E0(e, P, H)\n",
    "    ##########################################print information below#################################################\n",
    "    # print information\n",
    "    display(Math('\\zeta_1 = {0} \\quad \\zeta_2 = {1} \\quad \\zeta_3 = {2} \\quad \\zeta_4 = {3}'.format(format(zetas[0][0], '0.3f'), format(zetas[1][0], '0.3f'), format(zetas[2][0], '0.3f'),format(zetas[3][0], '0.3f')))) \n",
    "    display(Math('Orbitals:'))\n",
    "    display(Math(' \\phi_1 = c_{11} \\chi_1 + c_{21} \\chi_2 + c_{31} \\chi_3 + c_{41} \\chi_4'))\n",
    "    display(Math(' \\phi_2 = c_{12} \\chi_1 + c_{22} \\chi_2 + c_{32} \\chi_3 + c_{42} \\chi_4'))    \n",
    "#     display(Math('c11 = {0} \\quad c21 = {1} \\quad c31 = {2} \\quad c41 = {3} \\quad c11 = {4} \\quad c21 = {5}'.format(format(Co[0][0], '0.3f'), format(Co[1][0], '0.3f'), format(Co[2][0], '0.3f'), format(Co[3][0], '0.3f'), format(Co[4][0], '0.3f'), format(Co[5][0], '0.3f')))) \n",
    "#     display(Math('c11 = {0} \\quad c21 = {1} \\quad c31 = {2} \\quad c41 = {3} \\quad c11 = {4} \\quad c21 = {5}'.format(format(Co[0][1], '0.3f'), format(Co[1][1], '0.3f'), format(Co[2][1], '0.3f'), format(Co[3][1], '0.3f'), format(Co[4][1], '0.3f'), format(Co[5][1], '0.3f')))) \n",
    "#     display(Math('c11 = {0} \\quad c21 = {1} \\quad c31 = {2} \\quad c41 = {3} \\quad c11 = {4} \\quad c21 = {5}'.format(format(Co[0][2], '0.3f'), format(Co[1][2], '0.3f'), format(Co[2][2], '0.3f'), format(Co[3][2], '0.3f'), format(Co[4][2], '0.3f'), format(Co[5][2], '0.3f')))) \n",
    "#     display(Math('c11 = {0} \\quad c21 = {1} \\quad c31 = {2} \\quad c41 = {3} \\quad c11 = {4} \\quad c21 = {5}'.format(format(Co[0][3], '0.3f'), format(Co[1][3], '0.3f'), format(Co[2][3], '0.3f'), format(Co[3][3], '0.3f'), format(Co[4][3], '0.3f'), format(Co[5][3], '0.3f')))) \n",
    "#     display(Math('c11 = {0} \\quad c21 = {1} \\quad c31 = {2} \\quad c41 = {3} \\quad c11 = {4} \\quad c21 = {5}'.format(format(Co[0][4], '0.3f'), format(Co[1][4], '0.3f'), format(Co[2][4], '0.3f'), format(Co[3][4], '0.3f'), format(Co[4][4], '0.3f'), format(Co[5][4], '0.3f')))) \n",
    "#     display(Math('c11 = {0} \\quad c21 = {1} \\quad c31 = {2} \\quad c41 = {3} \\quad c11 = {4} \\quad c21 = {5}'.format(format(Co[0][5], '0.3f'), format(Co[1][5], '0.3f'), format(Co[2][5], '0.3f'), format(Co[3][5], '0.3f'), format(Co[4][5], '0.3f'), format(Co[5][5], '0.3f'))))     \n",
    "    # plot density graph\n",
    "    # print energy result\n",
    "    display(Math(' \\epsilon_1 \\; for \\; \\phi_1  = {0} '.format(format(e[0].real, '0.3f'))))    \n",
    "    display(Math(' \\epsilon_2 \\; for \\; \\phi_1 = {0} '.format(format(e[1].real, '0.3f'))))\n",
    "    display(Math(' \\epsilon_3 \\; for \\; \\phi_1  = {0} '.format(format(e[2].real, '0.3f'))))    \n",
    "    display(Math(' \\epsilon_4 \\; for \\; \\phi_1  = {0} '.format(format(e[3].real, '0.3f'))))    \n",
    "#     display(Math(' \\epsilon_5 \\; for \\; \\phi_1  = {0} '.format(format(e[4].real, '0.3f'))))    \n",
    "#     display(Math(' \\epsilon_6 \\; for \\; \\phi_1  = {0} '.format(format(e[5].real, '0.3f'))))         \n",
    "    display(Math(' Hartree \\ Fork \\; atom \\; energy = {0} \\ hartree = {1} \\ eV'.format(format(scf_H, '0.5f'), format(scf_H*27.211, '0.5f'))))    \n",
    "    stop = time.time()\n",
    "    print('Time used:',format(stop-start, '0.1f'),'s')\n",
    "    ##########################################print information above#################################################    "
   ]
  },
  {
   "cell_type": "code",
   "execution_count": null,
   "metadata": {},
   "outputs": [],
   "source": [
    "e"
   ]
  },
  {
   "cell_type": "markdown",
   "metadata": {},
   "source": [
    "Reference\n",
    "\n",
    "[1] Levine, Quantum Chemistry, 7th Edition, chapter 14  \n",
    "[2] C. Roetti and E. Clementi, J. Chem. Phys., 60, 4725 (1974)  \n",
    "[3] Acosta C R. Restricted closed shell Hartree Fock Roothaan matrix method applied to Helium atom using   Mathematica[J]. European Journal of Physics Education, 2017, 5(1): 1-14.  \n",
    "[4] [Simple Quantum Chemistry: Hartree-Fock in Python, 2018](http://nznano.blogspot.com/2018/03/simple-quantum-chemistry-hartree-fock.html)  \n",
    "[5] [Helium hartree fork, prtkm, 2015](https://github.com/prtkm/helium-hartree-fock/)"
   ]
  },
  {
   "cell_type": "code",
   "execution_count": null,
   "metadata": {},
   "outputs": [],
   "source": [
    "gaunt(1,1,2,1,0,-1) / (wigner_3j(1,1,2,0,0,0) * wigner_3j(1,1,2,1,0,-1))"
   ]
  },
  {
   "cell_type": "code",
   "execution_count": null,
   "metadata": {},
   "outputs": [],
   "source": [
    "e"
   ]
  },
  {
   "cell_type": "code",
   "execution_count": null,
   "metadata": {},
   "outputs": [],
   "source": [
    "for i in range(Co.shape[0]):\n",
    "    print(*[format(x, '0.3f') for x in Co[:, i]])"
   ]
  },
  {
   "cell_type": "code",
   "execution_count": null,
   "metadata": {},
   "outputs": [],
   "source": [
    "# set it to paper's number\n",
    "Co = np.array([[0.23126, 0.01091, 0],\n",
    "                  [0.77896, -0.26997, 0],\n",
    "                  [-0.00349, 0.79305, 0],\n",
    "                  [0.00266, 0.27391, 0],\n",
    "                  [0, 0, 0.25946],\n",
    "                  [0, 0, 0.80264]])"
   ]
  },
  {
   "cell_type": "code",
   "execution_count": null,
   "metadata": {},
   "outputs": [],
   "source": [
    "# final kinetic energy\n",
    "ke = 0\n",
    "for i in range(Z//2):\n",
    "    ke += Co[:, i].reshape((1, Co.shape[0])) @ KE @ Co[:, i].reshape((Co.shape[0], 1))\n",
    "ke *= 2\n",
    "ke"
   ]
  },
  {
   "cell_type": "code",
   "execution_count": null,
   "metadata": {},
   "outputs": [],
   "source": [
    "P = P_matrix(Co)\n",
    "F = F_matrix(H, fs, Z, zetas, P, R)\n",
    "get_E0(e, P, H)"
   ]
  },
  {
   "cell_type": "code",
   "execution_count": null,
   "metadata": {},
   "outputs": [],
   "source": []
  },
  {
   "cell_type": "code",
   "execution_count": null,
   "metadata": {},
   "outputs": [],
   "source": [
    "P.dtype"
   ]
  },
  {
   "cell_type": "code",
   "execution_count": null,
   "metadata": {},
   "outputs": [],
   "source": []
  },
  {
   "cell_type": "code",
   "execution_count": null,
   "metadata": {},
   "outputs": [],
   "source": []
  },
  {
   "cell_type": "code",
   "execution_count": null,
   "metadata": {},
   "outputs": [],
   "source": [
    "R"
   ]
  },
  {
   "cell_type": "code",
   "execution_count": null,
   "metadata": {},
   "outputs": [],
   "source": []
  },
  {
   "cell_type": "code",
   "execution_count": null,
   "metadata": {},
   "outputs": [],
   "source": []
  },
  {
   "cell_type": "code",
   "execution_count": null,
   "metadata": {},
   "outputs": [],
   "source": [
    "R"
   ]
  },
  {
   "cell_type": "code",
   "execution_count": null,
   "metadata": {},
   "outputs": [],
   "source": []
  },
  {
   "cell_type": "code",
   "execution_count": null,
   "metadata": {},
   "outputs": [],
   "source": []
  },
  {
   "cell_type": "code",
   "execution_count": null,
   "metadata": {},
   "outputs": [],
   "source": []
  }
 ],
 "metadata": {
  "kernelspec": {
   "display_name": "Python 3",
   "language": "python",
   "name": "python3"
  },
  "language_info": {
   "codemirror_mode": {
    "name": "ipython",
    "version": 3
   },
   "file_extension": ".py",
   "mimetype": "text/x-python",
   "name": "python",
   "nbconvert_exporter": "python",
   "pygments_lexer": "ipython3",
   "version": "3.7.1"
  }
 },
 "nbformat": 4,
 "nbformat_minor": 2
}
