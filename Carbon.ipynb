{
 "cells": [
  {
   "cell_type": "markdown",
   "metadata": {
    "slideshow": {
     "slide_type": "slide"
    }
   },
   "source": [
    "<h2><center>Restricted open-shell Hartree–Fock for Beryllium</center></h2>\n",
    "\n",
    "<p style=\"text-align: center; margin-top: 0px; margin-bottom: 0px;\">\n",
    "                By <a target=\"_blank\" href=\"https://github.com/yueyericardo\">Richard Xue </a>\n",
    "</p>\n",
    "\n",
    "<p style=\"text-align: center; margin-top: 0px;\">\n",
    "                <a target=\"_blank\" href=\"https://yyrcd.com/hf/he.html\">Helium </a>&nbsp;/&nbsp;\n",
    "                <a target=\"_blank\" href=\"https://yyrcd.com/hf/li.html\">Lithium </a>&nbsp;/&nbsp;    \n",
    "                <a target=\"_blank\" href=\"https://yyrcd.com/hf/be.html\">Beryllium </a>\n",
    "</p>\n"
   ]
  },
  {
   "cell_type": "code",
   "execution_count": 1,
   "metadata": {
    "slideshow": {
     "slide_type": "subslide"
    }
   },
   "outputs": [],
   "source": [
    "import sympy as sp\n",
    "from sympy import oo\n",
    "import numpy as np\n",
    "from itertools import product\n",
    "from scipy.linalg import eig\n",
    "from sympy import diff\n",
    "import time as time\n",
    "import matplotlib.pyplot as plt\n",
    "from sympy.plotting import plot\n",
    "# %matplotlib notebook \n",
    "%matplotlib inline\n",
    "from IPython.display import Math\n",
    "sp.init_printing()\n",
    "from sympy import expand_func\n",
    "from sympy.functions import conjugate\n",
    "from sympy import nsimplify\n",
    "from sympy.functions.special.tensor_functions import KroneckerDelta\n",
    "from sympy.physics.wigner import gaunt\n",
    "from sympy.physics.wigner import wigner_3j\n",
    "\n",
    "zeta, zeta1, zeta2 = sp.symbols(\"zeta, zeta1, zeta2\")\n",
    "n = sp.Symbol('n',integer=True)\n",
    "r = sp.Symbol('r',real = True)\n",
    "zeta = sp.Symbol('zeta',real = True)\n",
    "theta = sp.Symbol('theta',real = True)\n",
    "phi = sp.Symbol('phi',real = True)\n",
    "r1 = sp.Symbol('r1',positive = True)\n",
    "r2 = sp.Symbol('r2',positive = True)\n",
    "l, m = sp.symbols(\"l, m\")"
   ]
  },
  {
   "cell_type": "markdown",
   "metadata": {
    "slideshow": {
     "slide_type": "slide"
    }
   },
   "source": [
    "<h2><center>Part 1 Function Definition</center></h2>"
   ]
  },
  {
   "cell_type": "markdown",
   "metadata": {},
   "source": [
    "### Define STO function\n",
    "$STO \\; function \\; has \\; format \\; of: \\; Nr^{n-1}e^{-r\\zeta}$"
   ]
  },
  {
   "cell_type": "code",
   "execution_count": 2,
   "metadata": {},
   "outputs": [],
   "source": [
    "def STO(zeta, n, l=0, m=0, r=r):\n",
    "    return expand_func((2*zeta)**n*(2*zeta/sp.factorial(2*n))**(1/2)*r**(n-1)*sp.exp(-zeta*r)*(sp.Ynm(l, m, theta, phi)))\n",
    "\n",
    "def STO_r(zeta, n, l=0, m=0, r=r):\n",
    "    return (2*zeta)**n*(2*zeta/sp.factorial(2*n))**(1/2)*r**(n-1)*sp.exp(-zeta*r)\n",
    "\n",
    "def Y(l=0, m=0):\n",
    "    return expand_func((sp.Ynm(l, m, theta, phi)))\n",
    "\n",
    "def Y_int(f1, f2):\n",
    "    return sp.integrate(conjugate(f1)*f2*sp.sin(theta), (theta, 0, sp.pi), (phi, 0, 2*sp.pi))\n"
   ]
  },
  {
   "cell_type": "code",
   "execution_count": 3,
   "metadata": {},
   "outputs": [],
   "source": [
    "# S Overlap Integrate\n",
    "def S_int(f1, f2):\n",
    "    return sp.integrate(conjugate(f1)*f2*r*r*sp.sin(theta) ,(r, 0, +oo), (theta, 0, sp.pi), (phi, 0, 2*sp.pi))\n",
    "\n",
    "def S_int_r(f1, f2):\n",
    "    return sp.integrate(conjugate(f1)*f2*r*r ,(r, 0, +oo))"
   ]
  },
  {
   "cell_type": "code",
   "execution_count": 4,
   "metadata": {},
   "outputs": [
    {
     "data": {
      "image/png": "[encoded data removed]",
      "text/latex": [
       "$$1.0$$"
      ],
      "text/plain": [
       "1.00000000000000"
      ]
     },
     "execution_count": 4,
     "metadata": {},
     "output_type": "execute_result"
    }
   ],
   "source": [
    "f3 = STO_r(1.49, 1, 1, 0)\n",
    "\n",
    "a = S_int_r(f3, f3)\n",
    "a"
   ]
  },
  {
   "cell_type": "markdown",
   "metadata": {},
   "source": [
    "### Overlap Integrate\n",
    "\n",
    "$S = \\int_{0}^\\infty f_1^* f_2 \\; r^2dr$"
   ]
  },
  {
   "cell_type": "code",
   "execution_count": 5,
   "metadata": {},
   "outputs": [
    {
     "data": {
      "image/png": "[encoded data removed]",
      "text/latex": [
       "$$3.63755357348864 e^{- 1.49 r}$$"
      ],
      "text/plain": [
       "                  -1.49⋅r\n",
       "3.63755357348864⋅ℯ       "
      ]
     },
     "execution_count": 5,
     "metadata": {},
     "output_type": "execute_result"
    }
   ],
   "source": [
    "f3"
   ]
  },
  {
   "cell_type": "code",
   "execution_count": 6,
   "metadata": {},
   "outputs": [
    {
     "data": {
      "image/png": "[encoded data removed]",
      "text/latex": [
       "$$3.63755357348864 e^{- 1.49 r}$$"
      ],
      "text/plain": [
       "                  -1.49⋅r\n",
       "3.63755357348864⋅ℯ       "
      ]
     },
     "execution_count": 6,
     "metadata": {},
     "output_type": "execute_result"
    }
   ],
   "source": [
    "conjugate(f3)"
   ]
  },
  {
   "cell_type": "markdown",
   "metadata": {},
   "source": [
    "### Hamiltonian core\n",
    "\n",
    "H core = kinetics energy + electron and nuclear potential energy\n",
    "\n",
    "$H = \\int_{0}^\\infty f_1 \\hat{H} f_2 \\; r^2dr$\n",
    "\n",
    "$H = \\int_{0}^\\infty f_1 ((-\\dfrac{1}{2}) \\nabla^2 - \\dfrac{Z_{\\alpha}}{r})f_2 \\; r^2 dr$\n",
    "\n",
    "<p><a href=\"https://en.wikipedia.org/wiki/Laplace_operator\">$Laplace \\; operator: $</a> $\\nabla^2$</p>\n",
    "<p><left><img class = \"none\"style=\"text-align: center; margin-left:0px\" src=\"https://wikimedia.org/api/rest_v1/media/math/render/svg/b4a3135d1cc01d19309d36c749aaef4a48dc81da\"></left></p>\n",
    "\n",
    "$\\therefore H = \\int_{0}^\\infty f_1 ((-\\dfrac{1}{2}) \\dfrac{1}{r} \\dfrac{\\partial}{\\partial r} \\dfrac{\\partial}{\\partial r} r f_2 - \\dfrac{Z_{\\alpha}}{r}r^2 f_2 )dr$\n",
    "\n",
    "**reminder:** change the Z of nucleus if you want to run for other atom"
   ]
  },
  {
   "cell_type": "code",
   "execution_count": 7,
   "metadata": {},
   "outputs": [],
   "source": [
    "# H core = kinetics energy + electron and nuclear potential energy\n",
    "def H_int(f1, f2, Z):\n",
    "    a = (1/(r*r))*diff(r*r*diff(f2, r), r)\n",
    "    b = (1/(r*r*sp.sin(theta)))*diff(sp.sin(theta)*diff(f2, theta), theta)\n",
    "    c = (1/(r*r*sp.sin(theta)*sp.sin(theta)))*diff(diff(f2, phi), phi)\n",
    "    return sp.integrate(conjugate(f1)*(-(1/2)*(a + b + c) - Z/r*f2)*r*r*sp.sin(theta), (r,0,+oo), (theta, 0, sp.pi), (phi, 0, 2*sp.pi))\n"
   ]
  },
  {
   "cell_type": "code",
   "execution_count": 8,
   "metadata": {},
   "outputs": [],
   "source": [
    "# Returns the core hamiltonian matrix\n",
    "def H_matrix(fs, Z):\n",
    "\n",
    "    H = np.zeros((len(fs),len(fs)))\n",
    "    for i in range(len(fs)):\n",
    "        for j in range(len(fs)):\n",
    "            H[i, j] =  H_int(fs[i], fs[j], Z)\n",
    "\n",
    "    return H    \n",
    "\n",
    "# Returns the overlap matrix\n",
    "def S_matrix(fs):\n",
    "\n",
    "    S = np.zeros((len(fs),len(fs)))\n",
    "    for i in range(len(fs)):\n",
    "        for j in range(len(fs)):\n",
    "            S[i, j] =  S_int(fs[i], fs[j])\n",
    "\n",
    "    return S  "
   ]
  },
  {
   "cell_type": "markdown",
   "metadata": {},
   "source": [
    "### Two elecron repulsion integral\n",
    "$(rs|tu) = \\int \\int \\dfrac{f_r^*(1) f_s(1) f_t^*(2) f_u(2)}{r_{12}} \\; dv_1 dv_2 $\n",
    "\n",
    "For 1s 2s orbital\n",
    "\n",
    "$(rs|tu)  = \\int_{0}^\\infty \\int_{0}^\\infty \\dfrac{f_r^*(1) f_s(1) f_t^*(2) f_u(2)}{r_{12}} \\; r_1^2dr_1\\; r_2^2dr_2  $\n",
    "\n",
    "$(rs|tu) = \\int_{0}^\\infty f_r^*(1) f_s(1)  \\; r_1^2dr_1\\int_{0}^\\infty \\frac{ f_t^*(2) f_u(2)}{r_{12}}\\; r_2^2dr_2  $\n",
    "\n",
    "From problem 9.14 in quantum_chemistry by levine\n",
    "\n",
    "$(rs|tu) = \\int_{0}^\\infty f_r^*(1) f_s(1)  \\; r_1^2dr_1\\int_{0}^\\infty \\frac{ f_t^*(2) f_u(2)}{r_{>}}\\; r_2^2dr_2  $\n",
    "\n",
    "$(rs|tu) = \\int_{0}^\\infty f_r^*(1) f_s(1)  \\; r_1^2dr_1(\\int_{0}^{r_1} \\frac{ f_t^*(2) f_u(2)}{r_{1}}\\; r_2^2dr_2 + \\int_{r_1}^\\infty \\frac{ f_t^*(2) f_u(2)}{r_{2}}\\; r_2^2dr_2)  $\n",
    "\n",
    "$Let \\; B= \\int_{0}^{r_1} \\frac{ f_t^*(2) f_u(2)}{r_{1}}\\; r_2^2dr_2 + \\int_{r_1}^\\infty \\frac{ f_t^*(2) f_u(2)}{r_{2}}\\; r_2^2dr_2$\n",
    "\n",
    "$(rs|tu) = \\int_{0}^\\infty f_r^*(1) f_s(1) B \\; r_1^2 dr_1  $\n",
    "\n"
   ]
  },
  {
   "cell_type": "code",
   "execution_count": 9,
   "metadata": {
    "scrolled": false
   },
   "outputs": [],
   "source": [
    "def win(l1,l2,l3,m1,m2,m3):\n",
    "    if(wigner_3j(l1,l2,l3,m1,m2,m3)==0):\n",
    "        return 0\n",
    "    else:\n",
    "        return 1\n",
    "\n",
    "def Repulsion_electron(zetas):\n",
    "    \n",
    "    f1=STO_r(zetas[0][0], zetas[0][1], zetas[0][2], zetas[0][3], r1)\n",
    "    f2=STO_r(zetas[1][0], zetas[1][1], zetas[1][2], zetas[1][3], r1)\n",
    "    f3=STO_r(zetas[2][0], zetas[2][1], zetas[2][2], zetas[2][3], r2)\n",
    "    f4=STO_r(zetas[3][0], zetas[3][1], zetas[3][2], zetas[3][3], r2)\n",
    "    fs = [f1, f2, f3, f4]\n",
    "    l1 = int(zetas[0][2])\n",
    "    l2 = int(zetas[1][2])    \n",
    "    l3 = int(zetas[2][2])\n",
    "    l4 = int(zetas[3][2])\n",
    "    m1 = int(zetas[0][3])\n",
    "    m2 = int(zetas[1][3])\n",
    "    m3 = int(zetas[2][3])\n",
    "    m4 = int(zetas[3][3]) \n",
    "#     print(l1, l2, l3, l4)\n",
    "    \n",
    "    A = 0\n",
    "    B = 0\n",
    "    lower = max(abs(l1-l2),abs(l3-l4))\n",
    "    upper = min(l1+l2, l3+l4)    \n",
    "    for l in range(lower, upper+1):\n",
    "        for m in range(-l, l+1):\n",
    "            B = sp.integrate(nsimplify((((r2**l1)/(r1**(l1+1))))*f3*f4*r2*r2) ,(r2, 0, r1)) + sp.integrate(nsimplify(((r1**l1)/(r2**(l1+1)))*f3*f4*r2*r2) ,(r2, r1, +oo))        \n",
    "            B = sp.integrate(nsimplify(f1*f2*r1*r1*B) ,(r1, 0, +oo))\n",
    "            B *= (-1)**(m1+m) * gaunt(l1, l2, l, -m1, m2, -m) * (-1)**m3 * gaunt(l3, l4, l, -m3, m4, m)\n",
    "            A += B\n",
    "    return A * 4 * sp.pi\n",
    "    \n",
    "#     print(\"caculating B\")    \n",
    "# #     if(l1==0):\n",
    "# #         B = (((1)/(r1)))*sp.integrate(nsimplify(f3*f4*r2*r2*KroneckerDelta(l3,l4)*KroneckerDelta(m3,m4)) ,(r2, 0, r1)) + sp.integrate(nsimplify(((r1**l1)/(r2**(l1+1)))*f3*f4*r2*r2*KroneckerDelta(l3,l4)*KroneckerDelta(m3,m4)) ,(r2, r1, +oo))\n",
    "# #     else:\n",
    "#     B = sp.integrate(nsimplify((((r2**l1)/(r1**l1)))*f3*f4*r2*r2*KroneckerDelta(l3,l4)*KroneckerDelta(m3,m4)) ,(r2, 0, r1)) + sp.integrate(nsimplify(((r1**l1)/(r2**(l1+1)))*f3*f4*r2*r2*KroneckerDelta(l3,l4)*KroneckerDelta(m3,m4)) ,(r2, r1, +oo))        \n",
    "#     print(B)\n",
    "#     print(\"caculating A\")    \n",
    "#     A = sp.integrate(nsimplify(f1*f2*r1*r1*B*KroneckerDelta(l1,l2)*KroneckerDelta(m1,m2)) ,(r1, 0, +oo))\n",
    "#     print(A)        \n",
    "#     return A\n",
    "\n",
    "\n",
    "# def Repulsion_electron(zetas):\n",
    "    \n",
    "#     f1=STO_r(zetas[0][0], zetas[0][1], zetas[0][2], zetas[0][3], r1)\n",
    "#     f2=STO_r(zetas[1][0], zetas[1][1], zetas[1][2], zetas[1][3], r1)\n",
    "#     f3=STO_r(zetas[2][0], zetas[2][1], zetas[2][2], zetas[2][3], r2)\n",
    "#     f4=STO_r(zetas[3][0], zetas[3][1], zetas[3][2], zetas[3][3], r2)\n",
    "#     fs = [f1, f2, f3, f4]\n",
    "\n",
    "#     B = (1/r1)*sp.integrate(nsimplify(f3*f4*r2*r2) ,(r2, 0, r1)) + sp.integrate(nsimplify((1/r2)*f3*f4*r2*r2) ,(r2, r1, +oo))\n",
    "#     A = sp.integrate(f1*f2*r1*r1*B ,(r1, 0, +oo))\n",
    "#     return A"
   ]
  },
  {
   "cell_type": "code",
   "execution_count": 10,
   "metadata": {},
   "outputs": [
    {
     "data": {
      "image/png": "[encoded data removed]",
      "text/latex": [
       "$$\\frac{\\sqrt{30}}{15}$$"
      ],
      "text/plain": [
       "√30\n",
       "───\n",
       " 15"
      ]
     },
     "execution_count": 10,
     "metadata": {},
     "output_type": "execute_result"
    }
   ],
   "source": [
    "# for i in range(0,1):\n",
    "#     print(i)\n",
    "\n",
    "gaunt(1,1,2,0,0,0)\n",
    "wigner_3j(1,1,2,0,0,0)"
   ]
  },
  {
   "cell_type": "markdown",
   "metadata": {},
   "source": [
    "### Density matrix\n",
    "$ P_{tu} =2 \\sum_{j=1}^{n/2}c_{tj}^* c_{uj} $\n",
    "\n",
    "**Reminder:** P need to be changed if the atom have unpaired electron"
   ]
  },
  {
   "cell_type": "code",
   "execution_count": 11,
   "metadata": {},
   "outputs": [],
   "source": [
    "# Calculates Density matrix\n",
    "def P_matrix(Co):\n",
    "\n",
    "    P = np.zeros([Co.shape[0], Co.shape[0]])\n",
    "\n",
    "    for t in range(Co.shape[0]):\n",
    "        for u in range(Co.shape[0]):\n",
    "            for j in range(int(Co.shape[0]/2)):\n",
    "                P[t][u] += 2* Co[t][j]*Co[u][j]\n",
    "#             P[t][u] = 2* Co[t][1]*Co[u][1] + 2* Co[t][2]*Co[u][2] + 6* Co[t][3]*Co[u][3]                \n",
    "    return P            "
   ]
  },
  {
   "cell_type": "markdown",
   "metadata": {},
   "source": [
    "### Fock matrix\n",
    "$ F_{rs} = H_{rs}^{core} + \\sum_{t=1}^{b} \\sum_{t=1}^{b}P_{tu}[(rs|tu)- \\frac{1}2(ru|ts)] $  \n",
    "\n",
    "$G = (rs|tu)- \\frac{1}2(ru|ts)$ \n",
    "\n",
    "$ F_{rs} = H_{rs}^{core} + G $  \n",
    "\n",
    "$In\\;G \\;one\\;is\\;coulombic\\;repulsion,\\;another\\;is\\;exchange\\;energy$"
   ]
  },
  {
   "cell_type": "code",
   "execution_count": 12,
   "metadata": {},
   "outputs": [],
   "source": [
    "def R_matrix(zetas):\n",
    "    R = np.zeros((len(zetas), len(zetas), len(zetas), len(zetas)))*np.nan\n",
    "\n",
    "    rstu = list(product(range(len(zetas)),repeat=4))\n",
    "    i = 0\n",
    "    for r, s, t, u in rstu:\n",
    "#         print(\"caculating R(\",r,s,\"|\",t,u,\")\" )        \n",
    "        if(np.isnan(R[r,s,t,u])):\n",
    "#             print(\"caculating R(\",r,s,\"|\",t,u,\")\" )\n",
    "            value = Repulsion_electron((zetas[r], zetas[s], zetas[t], zetas[u]))\n",
    "            R[r,s,t,u] = value\n",
    "            R[s,r,t,u] = value            \n",
    "            R[r,s,u,t] = value\n",
    "            R[s,r,u,t] = value\n",
    "            R[t,u,r,s] = value\n",
    "            R[u,t,r,s] = value\n",
    "            R[t,u,s,r] = value\n",
    "            R[u,t,s,r] = value\n",
    "            i+=1\n",
    "#         else:\n",
    "#             print(\"caculating R(\",r,s,\"|\",t,u,\")\",\"No caculation required\" )\n",
    "#         print(R[r,s,t,u])\n",
    "            #         print(i)               \n",
    "    return R\n",
    "\n",
    "# Caculate G Matrix\n",
    "def G_matrix(zetas, Co, R):\n",
    "\n",
    "    G = np.zeros((Co.shape[0], Co.shape[0]))\n",
    "\n",
    "    P = P_matrix(Co)\n",
    "    \n",
    "    rs = list(product(range( Co.shape[0]),repeat=2))\n",
    "    tu = list(product(range( Co.shape[0]),repeat=2))\n",
    "\n",
    "    for r, s in rs:\n",
    "        g = 0\n",
    "        for t, u in tu:\n",
    "            int1 = R[r, s, t, u]\n",
    "            int2 = R[r, u, t, s]\n",
    "#             print('({0}{1}|{2}{3}): {4}'.format(r, s, t, u, int1))\n",
    "            g+= P[t, u] * (int1 - 0.5 * int2)\n",
    "        G[r, s] = g\n",
    "    return G\n",
    "\n",
    "# Returns the Fock matrix\n",
    "def F_matrix(fs, Z, zetas, Co, R):\n",
    "    return H_matrix(fs, Z) + G_matrix(zetas, Co, R)"
   ]
  },
  {
   "cell_type": "code",
   "execution_count": null,
   "metadata": {},
   "outputs": [],
   "source": []
  },
  {
   "cell_type": "markdown",
   "metadata": {},
   "source": [
    "### Solve Hartree-Fork equation\n",
    "\n",
    "$det(F_{rs}-\\epsilon_i S_{rs} = 0)$  \n",
    "\n",
    "$The\\;energy\\;returned\\;is\\;the\\;orbital\\;energy\\;for\\;1\\;electron$"
   ]
  },
  {
   "cell_type": "code",
   "execution_count": 13,
   "metadata": {},
   "outputs": [],
   "source": [
    "# slove secular equation, return the energy and improved coeffients\n",
    "# the energy here is orbital energy for 1 electron\n",
    "def secular_eqn(F, S):\n",
    "    ei, C = eig(F, S)\n",
    "    \n",
    "    # sort eigvalue and eigvector from lower to higher\n",
    "    idx = ei.argsort()[::1]   \n",
    "    ei = ei[idx]\n",
    "    C = C[:,idx]\n",
    "\n",
    "    # eigvector from scipy.linalg.eig is not normalized, which is a bug\n",
    "    # this is to fix it\n",
    "    Co = np.zeros((C.shape[0],C.shape[0]))\n",
    "    inte = np.matmul(np.matmul(C.T, S), C)\n",
    "    for i in range(C.shape[0]):\n",
    "        for j in range(C.shape[0]):\n",
    "            Co[j][i]=C[j][i]/np.sqrt(inte[i][i])\n",
    "\n",
    "    return ei, Co"
   ]
  },
  {
   "cell_type": "markdown",
   "metadata": {},
   "source": [
    "### Return atom energy\n",
    "$ E_{HF} = \\sum_{i=1}^{2/n}\\epsilon  +\\frac{1}2 \\sum_{r=1}^{b} \\sum_{s=1}^{b}P_{rs}H_{rs}+V_{NN} $"
   ]
  },
  {
   "cell_type": "code",
   "execution_count": 14,
   "metadata": {},
   "outputs": [],
   "source": [
    "# return energy of atom\n",
    "def get_E0(e, P, H):\n",
    "    \n",
    "    E0 = 0\n",
    "    for i in range(int(e.shape[0]/2)):\n",
    "        E0 += e[i].real \n",
    "    E0 = E0 + 0.5*(P*H).sum()\n",
    "    return E0 "
   ]
  },
  {
   "cell_type": "markdown",
   "metadata": {
    "slideshow": {
     "slide_type": "slide"
    }
   },
   "source": [
    "<h2><center>Part 2 Hartree Fork Iteration (Main Process)</center></h2>\n",
    "\n",
    "- Initialization\n",
    "    1. initializing Co (coefficients) without considering electron repulsion\n",
    "    1. Solve Hartree-Fork equation with H_matrix and S_matrix to get initial Co\n",
    "\n",
    "\n",
    "- Iteration\n",
    "\t1. Using Co, we can get P_matrix (electron density)\n",
    "\t2. Using P_matrix, H_matrix, G_matrix => F_matrix\n",
    "\t3. Solve Hartree-Fork equation with F_matrix and S_matrix to get improved orbital energy and Co, which also means improved orbital functions.\n",
    "\t4. Using improved Co, return to step 1"
   ]
  },
  {
   "cell_type": "code",
   "execution_count": 15,
   "metadata": {
    "scrolled": false,
    "slideshow": {
     "slide_type": "slide"
    }
   },
   "outputs": [
    {
     "name": "stdout",
     "output_type": "stream",
     "text": [
      "[[-6.73423222 -7.72797915 -1.2023588  -0.44433419]\n",
      " [-7.72797915 -7.79223253 -1.58200291 -0.6488039 ]\n",
      " [-1.2023588  -1.58200291 -1.85201235 -1.30794285]\n",
      " [-0.44433419 -0.6488039  -1.30794285 -1.15798333]]\n",
      "[[1.         0.90780473 0.09913506 0.03600389]\n",
      " [0.90780473 1.         0.24088162 0.10010333]\n",
      " [0.09913506 0.24088162 1.         0.85384478]\n",
      " [0.03600389 0.10010333 0.85384478 1.        ]]\n",
      "------------------------------ Initialization ------------------------------\n",
      "------------------------- Ignore repulsion integral ------------------------\n"
     ]
    },
    {
     "data": {
      "text/latex": [
       "$\\displaystyle \\zeta_1 = 5.591 \\quad \\zeta_2 = 3.355 \\quad \\zeta_3 = 1.011 \\quad \\zeta_4 = 0.610$"
      ],
      "text/plain": [
       "<IPython.core.display.Math object>"
      ]
     },
     "metadata": {},
     "output_type": "display_data"
    },
    {
     "data": {
      "image/png": "[encoded data removed]",
      "text/plain": [
       "<Figure size 432x288 with 1 Axes>"
      ]
     },
     "metadata": {
      "needs_background": "light"
     },
     "output_type": "display_data"
    },
    {
     "data": {
      "text/latex": [
       "$\\displaystyle  \\epsilon_1 \\; for \\; \\phi_1  = -7.985 $"
      ],
      "text/plain": [
       "<IPython.core.display.Math object>"
      ]
     },
     "metadata": {},
     "output_type": "display_data"
    },
    {
     "data": {
      "text/latex": [
       "$\\displaystyle  \\epsilon_2 \\; for \\; \\phi_1 = -1.774 $"
      ],
      "text/plain": [
       "<IPython.core.display.Math object>"
      ]
     },
     "metadata": {},
     "output_type": "display_data"
    },
    {
     "data": {
      "text/latex": [
       "$\\displaystyle  \\epsilon_3 \\; for \\; \\phi_1  = -0.717 $"
      ],
      "text/plain": [
       "<IPython.core.display.Math object>"
      ]
     },
     "metadata": {},
     "output_type": "display_data"
    },
    {
     "data": {
      "text/latex": [
       "$\\displaystyle  \\epsilon_4 \\; for \\; \\phi_1  = 6.717 $"
      ],
      "text/plain": [
       "<IPython.core.display.Math object>"
      ]
     },
     "metadata": {},
     "output_type": "display_data"
    },
    {
     "data": {
      "text/latex": [
       "$\\displaystyle  Hartree \\ Fork \\; atom \\; energy = -19.51846 \\ hartree = -531.11686 \\ eV$"
      ],
      "text/plain": [
       "<IPython.core.display.Math object>"
      ]
     },
     "metadata": {},
     "output_type": "display_data"
    },
    {
     "name": "stdout",
     "output_type": "stream",
     "text": [
      "------------------------------ Iteration 1 ------------------------------\n",
      "------- Iteration 1 needs more time to caculate Repulsion Integral ------\n",
      "[[[[3.49442500e+00 2.81295320e+00 1.96482661e-01 6.77828406e-02]\n",
      "   [2.81295320e+00 2.58843824e+00 3.34468713e-01 1.27313592e-01]\n",
      "   [1.96482661e-01 3.34468713e-01 5.04860515e-01 3.45823188e-01]\n",
      "   [6.77828406e-02 1.27313592e-01 3.45823188e-01 3.04919940e-01]]\n",
      "\n",
      "  [[2.81295320e+00 2.30401938e+00 1.69808397e-01 5.88181619e-02]\n",
      "   [2.30401938e+00 2.16673671e+00 2.95734765e-01 1.13021520e-01]\n",
      "   [1.69808397e-01 2.95734765e-01 4.57599362e-01 3.13693097e-01]\n",
      "   [5.88181619e-02 1.13021520e-01 3.13693097e-01 2.76721967e-01]]\n",
      "\n",
      "  [[1.96482661e-01 1.69808397e-01 1.48696679e-02 5.22926957e-03]\n",
      "   [1.69808397e-01 1.71442134e-01 2.83365102e-02 1.10171233e-02]\n",
      "   [1.48696679e-02 2.83365102e-02 4.93667239e-02 3.40333077e-02]\n",
      "   [5.22926957e-03 1.10171233e-02 3.40333077e-02 3.01355511e-02]]\n",
      "\n",
      "  [[6.77828406e-02 5.88181619e-02 5.22926957e-03 1.84211879e-03]\n",
      "   [5.88181619e-02 5.97500987e-02 1.00743394e-02 3.92600202e-03]\n",
      "   [5.22926957e-03 1.00743394e-02 1.78772001e-02 1.23400278e-02]\n",
      "   [1.84211879e-03 3.92600202e-03 1.23400278e-02 1.09366248e-02]]]\n",
      "\n",
      "\n",
      " [[[2.81295320e+00 2.30401938e+00 1.69808397e-01 5.88181619e-02]\n",
      "   [2.30401938e+00 2.16673671e+00 2.95734765e-01 1.13021520e-01]\n",
      "   [1.69808397e-01 2.95734765e-01 4.57599362e-01 3.13693097e-01]\n",
      "   [5.88181619e-02 1.13021520e-01 3.13693097e-01 2.76721967e-01]]\n",
      "\n",
      "  [[2.58843824e+00 2.16673671e+00 1.71442134e-01 5.97500987e-02]\n",
      "   [2.16673671e+00 2.09711250e+00 3.09620292e-01 1.19143481e-01]\n",
      "   [1.71442134e-01 3.09620292e-01 5.01920925e-01 3.44772419e-01]\n",
      "   [5.97500987e-02 1.19143481e-01 3.44772419e-01 3.04540157e-01]]\n",
      "\n",
      "  [[3.34468713e-01 2.95734765e-01 2.83365102e-02 1.00743394e-02]\n",
      "   [2.95734765e-01 3.09620292e-01 5.80633636e-02 2.29481400e-02]\n",
      "   [2.83365102e-02 5.80633636e-02 1.16436536e-01 8.12480514e-02]\n",
      "   [1.00743394e-02 2.29481400e-02 8.12480514e-02 7.26132636e-02]]\n",
      "\n",
      "  [[1.27313592e-01 1.13021520e-01 1.10171233e-02 3.92600202e-03]\n",
      "   [1.13021520e-01 1.19143481e-01 2.29481400e-02 9.10611862e-03]\n",
      "   [1.10171233e-02 2.29481400e-02 4.78283308e-02 3.35191721e-02]\n",
      "   [3.92600202e-03 9.10611862e-03 3.35191721e-02 3.00648088e-02]]]\n",
      "\n",
      "\n",
      " [[[1.96482661e-01 1.69808397e-01 1.48696679e-02 5.22926957e-03]\n",
      "   [1.69808397e-01 1.71442134e-01 2.83365102e-02 1.10171233e-02]\n",
      "   [1.48696679e-02 2.83365102e-02 4.93667239e-02 3.40333077e-02]\n",
      "   [5.22926957e-03 1.10171233e-02 3.40333077e-02 3.01355511e-02]]\n",
      "\n",
      "  [[3.34468713e-01 2.95734765e-01 2.83365102e-02 1.00743394e-02]\n",
      "   [2.95734765e-01 3.09620292e-01 5.80633636e-02 2.29481400e-02]\n",
      "   [2.83365102e-02 5.80633636e-02 1.16436536e-01 8.12480514e-02]\n",
      "   [1.00743394e-02 2.29481400e-02 8.12480514e-02 7.26132636e-02]]\n",
      "\n",
      "  [[5.04860515e-01 4.57599362e-01 4.93667239e-02 1.78772001e-02]\n",
      "   [4.57599362e-01 5.01920925e-01 1.16436536e-01 4.78283308e-02]\n",
      "   [4.93667239e-02 1.16436536e-01 3.67357266e-01 2.77426572e-01]\n",
      "   [1.78772001e-02 4.78283308e-02 2.77426572e-01 2.68139996e-01]]\n",
      "\n",
      "  [[3.45823188e-01 3.13693097e-01 3.40333077e-02 1.23400278e-02]\n",
      "   [3.13693097e-01 3.44772419e-01 8.12480514e-02 3.35191721e-02]\n",
      "   [3.40333077e-02 8.12480514e-02 2.77426572e-01 2.14690485e-01]\n",
      "   [1.23400278e-02 3.35191721e-02 2.14690485e-01 2.13777900e-01]]]\n",
      "\n",
      "\n",
      " [[[6.77828406e-02 5.88181619e-02 5.22926957e-03 1.84211879e-03]\n",
      "   [5.88181619e-02 5.97500987e-02 1.00743394e-02 3.92600202e-03]\n",
      "   [5.22926957e-03 1.00743394e-02 1.78772001e-02 1.23400278e-02]\n",
      "   [1.84211879e-03 3.92600202e-03 1.23400278e-02 1.09366248e-02]]\n",
      "\n",
      "  [[1.27313592e-01 1.13021520e-01 1.10171233e-02 3.92600202e-03]\n",
      "   [1.13021520e-01 1.19143481e-01 2.29481400e-02 9.10611862e-03]\n",
      "   [1.10171233e-02 2.29481400e-02 4.78283308e-02 3.35191721e-02]\n",
      "   [3.92600202e-03 9.10611862e-03 3.35191721e-02 3.00648088e-02]]\n",
      "\n",
      "  [[3.45823188e-01 3.13693097e-01 3.40333077e-02 1.23400278e-02]\n",
      "   [3.13693097e-01 3.44772419e-01 8.12480514e-02 3.35191721e-02]\n",
      "   [3.40333077e-02 8.12480514e-02 2.77426572e-01 2.14690485e-01]\n",
      "   [1.23400278e-02 3.35191721e-02 2.14690485e-01 2.13777900e-01]]\n",
      "\n",
      "  [[3.04919940e-01 2.76721967e-01 3.01355511e-02 1.09366248e-02]\n",
      "   [2.76721967e-01 3.04540157e-01 7.26132636e-02 3.00648088e-02]\n",
      "   [3.01355511e-02 7.26132636e-02 2.68139996e-01 2.13777900e-01]\n",
      "   [1.09366248e-02 3.00648088e-02 2.13777900e-01 2.21601562e-01]]]]\n"
     ]
    },
    {
     "data": {
      "text/latex": [
       "$\\displaystyle \\zeta_1 = 5.591 \\quad \\zeta_2 = 3.355 \\quad \\zeta_3 = 1.011 \\quad \\zeta_4 = 0.610$"
      ],
      "text/plain": [
       "<IPython.core.display.Math object>"
      ]
     },
     "metadata": {},
     "output_type": "display_data"
    },
    {
     "data": {
      "text/latex": [
       "$\\displaystyle Orbitals:$"
      ],
      "text/plain": [
       "<IPython.core.display.Math object>"
      ]
     },
     "metadata": {},
     "output_type": "display_data"
    },
    {
     "data": {
      "text/latex": [
       "$\\displaystyle  \\phi_1 = c_{11} \\chi_1 + c_{21} \\chi_2 + c_{31} \\chi_3 + c_{41} \\chi_4$"
      ],
      "text/plain": [
       "<IPython.core.display.Math object>"
      ]
     },
     "metadata": {},
     "output_type": "display_data"
    },
    {
     "data": {
      "text/latex": [
       "$\\displaystyle  \\phi_2 = c_{12} \\chi_1 + c_{22} \\chi_2 + c_{32} \\chi_3 + c_{42} \\chi_4$"
      ],
      "text/plain": [
       "<IPython.core.display.Math object>"
      ]
     },
     "metadata": {},
     "output_type": "display_data"
    },
    {
     "data": {
      "image/png": "[encoded data removed]",
      "text/plain": [
       "<Figure size 432x288 with 1 Axes>"
      ]
     },
     "metadata": {
      "needs_background": "light"
     },
     "output_type": "display_data"
    },
    {
     "data": {
      "text/latex": [
       "$\\displaystyle  \\epsilon_1 \\; for \\; \\phi_1  = -4.422 $"
      ],
      "text/plain": [
       "<IPython.core.display.Math object>"
      ]
     },
     "metadata": {},
     "output_type": "display_data"
    },
    {
     "data": {
      "text/latex": [
       "$\\displaystyle  \\epsilon_2 \\; for \\; \\phi_1 = -0.245 $"
      ],
      "text/plain": [
       "<IPython.core.display.Math object>"
      ]
     },
     "metadata": {},
     "output_type": "display_data"
    },
    {
     "data": {
      "text/latex": [
       "$\\displaystyle  \\epsilon_3 \\; for \\; \\phi_1  = 0.135 $"
      ],
      "text/plain": [
       "<IPython.core.display.Math object>"
      ]
     },
     "metadata": {},
     "output_type": "display_data"
    },
    {
     "data": {
      "text/latex": [
       "$\\displaystyle  \\epsilon_4 \\; for \\; \\phi_1  = 11.661 $"
      ],
      "text/plain": [
       "<IPython.core.display.Math object>"
      ]
     },
     "metadata": {},
     "output_type": "display_data"
    },
    {
     "data": {
      "text/latex": [
       "$\\displaystyle  Hartree \\ Fork \\; atom \\; energy = -14.28744 \\ hartree = -388.77544 \\ eV$"
      ],
      "text/plain": [
       "<IPython.core.display.Math object>"
      ]
     },
     "metadata": {},
     "output_type": "display_data"
    },
    {
     "name": "stdout",
     "output_type": "stream",
     "text": [
      "Time used: 20.3 s\n",
      "------------------------------ Iteration 2 ------------------------------\n"
     ]
    },
    {
     "data": {
      "text/latex": [
       "$\\displaystyle \\zeta_1 = 5.591 \\quad \\zeta_2 = 3.355 \\quad \\zeta_3 = 1.011 \\quad \\zeta_4 = 0.610$"
      ],
      "text/plain": [
       "<IPython.core.display.Math object>"
      ]
     },
     "metadata": {},
     "output_type": "display_data"
    },
    {
     "data": {
      "text/latex": [
       "$\\displaystyle Orbitals:$"
      ],
      "text/plain": [
       "<IPython.core.display.Math object>"
      ]
     },
     "metadata": {},
     "output_type": "display_data"
    },
    {
     "data": {
      "text/latex": [
       "$\\displaystyle  \\phi_1 = c_{11} \\chi_1 + c_{21} \\chi_2 + c_{31} \\chi_3 + c_{41} \\chi_4$"
      ],
      "text/plain": [
       "<IPython.core.display.Math object>"
      ]
     },
     "metadata": {},
     "output_type": "display_data"
    },
    {
     "data": {
      "text/latex": [
       "$\\displaystyle  \\phi_2 = c_{12} \\chi_1 + c_{22} \\chi_2 + c_{32} \\chi_3 + c_{42} \\chi_4$"
      ],
      "text/plain": [
       "<IPython.core.display.Math object>"
      ]
     },
     "metadata": {},
     "output_type": "display_data"
    },
    {
     "data": {
      "image/png": "[encoded data removed]",
      "text/plain": [
       "<Figure size 432x288 with 1 Axes>"
      ]
     },
     "metadata": {
      "needs_background": "light"
     },
     "output_type": "display_data"
    },
    {
     "data": {
      "text/latex": [
       "$\\displaystyle  \\epsilon_1 \\; for \\; \\phi_1  = -4.654 $"
      ],
      "text/plain": [
       "<IPython.core.display.Math object>"
      ]
     },
     "metadata": {},
     "output_type": "display_data"
    },
    {
     "data": {
      "text/latex": [
       "$\\displaystyle  \\epsilon_2 \\; for \\; \\phi_1 = -0.290 $"
      ],
      "text/plain": [
       "<IPython.core.display.Math object>"
      ]
     },
     "metadata": {},
     "output_type": "display_data"
    },
    {
     "data": {
      "text/latex": [
       "$\\displaystyle  \\epsilon_3 \\; for \\; \\phi_1  = 0.149 $"
      ],
      "text/plain": [
       "<IPython.core.display.Math object>"
      ]
     },
     "metadata": {},
     "output_type": "display_data"
    },
    {
     "data": {
      "text/latex": [
       "$\\displaystyle  \\epsilon_4 \\; for \\; \\phi_1  = 11.451 $"
      ],
      "text/plain": [
       "<IPython.core.display.Math object>"
      ]
     },
     "metadata": {},
     "output_type": "display_data"
    },
    {
     "data": {
      "text/latex": [
       "$\\displaystyle  Hartree \\ Fork \\; atom \\; energy = -14.50425 \\ hartree = -394.67518 \\ eV$"
      ],
      "text/plain": [
       "<IPython.core.display.Math object>"
      ]
     },
     "metadata": {},
     "output_type": "display_data"
    },
    {
     "name": "stdout",
     "output_type": "stream",
     "text": [
      "Time used: 1.2 s\n",
      "------------------------------ Iteration 3 ------------------------------\n"
     ]
    },
    {
     "data": {
      "text/latex": [
       "$\\displaystyle \\zeta_1 = 5.591 \\quad \\zeta_2 = 3.355 \\quad \\zeta_3 = 1.011 \\quad \\zeta_4 = 0.610$"
      ],
      "text/plain": [
       "<IPython.core.display.Math object>"
      ]
     },
     "metadata": {},
     "output_type": "display_data"
    },
    {
     "data": {
      "text/latex": [
       "$\\displaystyle Orbitals:$"
      ],
      "text/plain": [
       "<IPython.core.display.Math object>"
      ]
     },
     "metadata": {},
     "output_type": "display_data"
    },
    {
     "data": {
      "text/latex": [
       "$\\displaystyle  \\phi_1 = c_{11} \\chi_1 + c_{21} \\chi_2 + c_{31} \\chi_3 + c_{41} \\chi_4$"
      ],
      "text/plain": [
       "<IPython.core.display.Math object>"
      ]
     },
     "metadata": {},
     "output_type": "display_data"
    },
    {
     "data": {
      "text/latex": [
       "$\\displaystyle  \\phi_2 = c_{12} \\chi_1 + c_{22} \\chi_2 + c_{32} \\chi_3 + c_{42} \\chi_4$"
      ],
      "text/plain": [
       "<IPython.core.display.Math object>"
      ]
     },
     "metadata": {},
     "output_type": "display_data"
    },
    {
     "data": {
      "image/png": "[encoded data removed]",
      "text/plain": [
       "<Figure size 432x288 with 1 Axes>"
      ]
     },
     "metadata": {
      "needs_background": "light"
     },
     "output_type": "display_data"
    },
    {
     "data": {
      "text/latex": [
       "$\\displaystyle  \\epsilon_1 \\; for \\; \\phi_1  = -4.708 $"
      ],
      "text/plain": [
       "<IPython.core.display.Math object>"
      ]
     },
     "metadata": {},
     "output_type": "display_data"
    },
    {
     "data": {
      "text/latex": [
       "$\\displaystyle  \\epsilon_2 \\; for \\; \\phi_1 = -0.304 $"
      ],
      "text/plain": [
       "<IPython.core.display.Math object>"
      ]
     },
     "metadata": {},
     "output_type": "display_data"
    },
    {
     "data": {
      "text/latex": [
       "$\\displaystyle  \\epsilon_3 \\; for \\; \\phi_1  = 0.147 $"
      ],
      "text/plain": [
       "<IPython.core.display.Math object>"
      ]
     },
     "metadata": {},
     "output_type": "display_data"
    },
    {
     "data": {
      "text/latex": [
       "$\\displaystyle  \\epsilon_4 \\; for \\; \\phi_1  = 11.401 $"
      ],
      "text/plain": [
       "<IPython.core.display.Math object>"
      ]
     },
     "metadata": {},
     "output_type": "display_data"
    },
    {
     "data": {
      "text/latex": [
       "$\\displaystyle  Hartree \\ Fork \\; atom \\; energy = -14.55105 \\ hartree = -395.94867 \\ eV$"
      ],
      "text/plain": [
       "<IPython.core.display.Math object>"
      ]
     },
     "metadata": {},
     "output_type": "display_data"
    },
    {
     "name": "stdout",
     "output_type": "stream",
     "text": [
      "Time used: 1.2 s\n",
      "------------------------------ Iteration 4 ------------------------------\n"
     ]
    },
    {
     "data": {
      "text/latex": [
       "$\\displaystyle \\zeta_1 = 5.591 \\quad \\zeta_2 = 3.355 \\quad \\zeta_3 = 1.011 \\quad \\zeta_4 = 0.610$"
      ],
      "text/plain": [
       "<IPython.core.display.Math object>"
      ]
     },
     "metadata": {},
     "output_type": "display_data"
    },
    {
     "data": {
      "text/latex": [
       "$\\displaystyle Orbitals:$"
      ],
      "text/plain": [
       "<IPython.core.display.Math object>"
      ]
     },
     "metadata": {},
     "output_type": "display_data"
    },
    {
     "data": {
      "text/latex": [
       "$\\displaystyle  \\phi_1 = c_{11} \\chi_1 + c_{21} \\chi_2 + c_{31} \\chi_3 + c_{41} \\chi_4$"
      ],
      "text/plain": [
       "<IPython.core.display.Math object>"
      ]
     },
     "metadata": {},
     "output_type": "display_data"
    },
    {
     "data": {
      "text/latex": [
       "$\\displaystyle  \\phi_2 = c_{12} \\chi_1 + c_{22} \\chi_2 + c_{32} \\chi_3 + c_{42} \\chi_4$"
      ],
      "text/plain": [
       "<IPython.core.display.Math object>"
      ]
     },
     "metadata": {},
     "output_type": "display_data"
    },
    {
     "data": {
      "image/png": "[encoded data removed]",
      "text/plain": [
       "<Figure size 432x288 with 1 Axes>"
      ]
     },
     "metadata": {
      "needs_background": "light"
     },
     "output_type": "display_data"
    },
    {
     "data": {
      "text/latex": [
       "$\\displaystyle  \\epsilon_1 \\; for \\; \\phi_1  = -4.726 $"
      ],
      "text/plain": [
       "<IPython.core.display.Math object>"
      ]
     },
     "metadata": {},
     "output_type": "display_data"
    },
    {
     "data": {
      "text/latex": [
       "$\\displaystyle  \\epsilon_2 \\; for \\; \\phi_1 = -0.308 $"
      ],
      "text/plain": [
       "<IPython.core.display.Math object>"
      ]
     },
     "metadata": {},
     "output_type": "display_data"
    },
    {
     "data": {
      "text/latex": [
       "$\\displaystyle  \\epsilon_3 \\; for \\; \\phi_1  = 0.145 $"
      ],
      "text/plain": [
       "<IPython.core.display.Math object>"
      ]
     },
     "metadata": {},
     "output_type": "display_data"
    },
    {
     "data": {
      "text/latex": [
       "$\\displaystyle  \\epsilon_4 \\; for \\; \\phi_1  = 11.384 $"
      ],
      "text/plain": [
       "<IPython.core.display.Math object>"
      ]
     },
     "metadata": {},
     "output_type": "display_data"
    },
    {
     "data": {
      "text/latex": [
       "$\\displaystyle  Hartree \\ Fork \\; atom \\; energy = -14.56616 \\ hartree = -396.35976 \\ eV$"
      ],
      "text/plain": [
       "<IPython.core.display.Math object>"
      ]
     },
     "metadata": {},
     "output_type": "display_data"
    },
    {
     "name": "stdout",
     "output_type": "stream",
     "text": [
      "Time used: 1.3 s\n",
      "------------------------------ Iteration 5 ------------------------------\n"
     ]
    },
    {
     "data": {
      "text/latex": [
       "$\\displaystyle \\zeta_1 = 5.591 \\quad \\zeta_2 = 3.355 \\quad \\zeta_3 = 1.011 \\quad \\zeta_4 = 0.610$"
      ],
      "text/plain": [
       "<IPython.core.display.Math object>"
      ]
     },
     "metadata": {},
     "output_type": "display_data"
    },
    {
     "data": {
      "text/latex": [
       "$\\displaystyle Orbitals:$"
      ],
      "text/plain": [
       "<IPython.core.display.Math object>"
      ]
     },
     "metadata": {},
     "output_type": "display_data"
    },
    {
     "data": {
      "text/latex": [
       "$\\displaystyle  \\phi_1 = c_{11} \\chi_1 + c_{21} \\chi_2 + c_{31} \\chi_3 + c_{41} \\chi_4$"
      ],
      "text/plain": [
       "<IPython.core.display.Math object>"
      ]
     },
     "metadata": {},
     "output_type": "display_data"
    },
    {
     "data": {
      "text/latex": [
       "$\\displaystyle  \\phi_2 = c_{12} \\chi_1 + c_{22} \\chi_2 + c_{32} \\chi_3 + c_{42} \\chi_4$"
      ],
      "text/plain": [
       "<IPython.core.display.Math object>"
      ]
     },
     "metadata": {},
     "output_type": "display_data"
    },
    {
     "data": {
      "image/png": "[encoded data removed]",
      "text/plain": [
       "<Figure size 432x288 with 1 Axes>"
      ]
     },
     "metadata": {
      "needs_background": "light"
     },
     "output_type": "display_data"
    },
    {
     "data": {
      "text/latex": [
       "$\\displaystyle  \\epsilon_1 \\; for \\; \\phi_1  = -4.731 $"
      ],
      "text/plain": [
       "<IPython.core.display.Math object>"
      ]
     },
     "metadata": {},
     "output_type": "display_data"
    },
    {
     "data": {
      "text/latex": [
       "$\\displaystyle  \\epsilon_2 \\; for \\; \\phi_1 = -0.309 $"
      ],
      "text/plain": [
       "<IPython.core.display.Math object>"
      ]
     },
     "metadata": {},
     "output_type": "display_data"
    },
    {
     "data": {
      "text/latex": [
       "$\\displaystyle  \\epsilon_3 \\; for \\; \\phi_1  = 0.145 $"
      ],
      "text/plain": [
       "<IPython.core.display.Math object>"
      ]
     },
     "metadata": {},
     "output_type": "display_data"
    },
    {
     "data": {
      "text/latex": [
       "$\\displaystyle  \\epsilon_4 \\; for \\; \\phi_1  = 11.380 $"
      ],
      "text/plain": [
       "<IPython.core.display.Math object>"
      ]
     },
     "metadata": {},
     "output_type": "display_data"
    },
    {
     "data": {
      "text/latex": [
       "$\\displaystyle  Hartree \\ Fork \\; atom \\; energy = -14.57061 \\ hartree = -396.48075 \\ eV$"
      ],
      "text/plain": [
       "<IPython.core.display.Math object>"
      ]
     },
     "metadata": {},
     "output_type": "display_data"
    },
    {
     "name": "stdout",
     "output_type": "stream",
     "text": [
      "Time used: 1.3 s\n",
      "------------------------------ Iteration 6 ------------------------------\n"
     ]
    },
    {
     "data": {
      "text/latex": [
       "$\\displaystyle \\zeta_1 = 5.591 \\quad \\zeta_2 = 3.355 \\quad \\zeta_3 = 1.011 \\quad \\zeta_4 = 0.610$"
      ],
      "text/plain": [
       "<IPython.core.display.Math object>"
      ]
     },
     "metadata": {},
     "output_type": "display_data"
    },
    {
     "data": {
      "text/latex": [
       "$\\displaystyle Orbitals:$"
      ],
      "text/plain": [
       "<IPython.core.display.Math object>"
      ]
     },
     "metadata": {},
     "output_type": "display_data"
    },
    {
     "data": {
      "text/latex": [
       "$\\displaystyle  \\phi_1 = c_{11} \\chi_1 + c_{21} \\chi_2 + c_{31} \\chi_3 + c_{41} \\chi_4$"
      ],
      "text/plain": [
       "<IPython.core.display.Math object>"
      ]
     },
     "metadata": {},
     "output_type": "display_data"
    },
    {
     "data": {
      "text/latex": [
       "$\\displaystyle  \\phi_2 = c_{12} \\chi_1 + c_{22} \\chi_2 + c_{32} \\chi_3 + c_{42} \\chi_4$"
      ],
      "text/plain": [
       "<IPython.core.display.Math object>"
      ]
     },
     "metadata": {},
     "output_type": "display_data"
    },
    {
     "data": {
      "image/png": "[encoded data removed]",
      "text/plain": [
       "<Figure size 432x288 with 1 Axes>"
      ]
     },
     "metadata": {
      "needs_background": "light"
     },
     "output_type": "display_data"
    },
    {
     "data": {
      "text/latex": [
       "$\\displaystyle  \\epsilon_1 \\; for \\; \\phi_1  = -4.732 $"
      ],
      "text/plain": [
       "<IPython.core.display.Math object>"
      ]
     },
     "metadata": {},
     "output_type": "display_data"
    },
    {
     "data": {
      "text/latex": [
       "$\\displaystyle  \\epsilon_2 \\; for \\; \\phi_1 = -0.309 $"
      ],
      "text/plain": [
       "<IPython.core.display.Math object>"
      ]
     },
     "metadata": {},
     "output_type": "display_data"
    },
    {
     "data": {
      "text/latex": [
       "$\\displaystyle  \\epsilon_3 \\; for \\; \\phi_1  = 0.145 $"
      ],
      "text/plain": [
       "<IPython.core.display.Math object>"
      ]
     },
     "metadata": {},
     "output_type": "display_data"
    },
    {
     "data": {
      "text/latex": [
       "$\\displaystyle  \\epsilon_4 \\; for \\; \\phi_1  = 11.378 $"
      ],
      "text/plain": [
       "<IPython.core.display.Math object>"
      ]
     },
     "metadata": {},
     "output_type": "display_data"
    },
    {
     "data": {
      "text/latex": [
       "$\\displaystyle  Hartree \\ Fork \\; atom \\; energy = -14.57187 \\ hartree = -396.51521 \\ eV$"
      ],
      "text/plain": [
       "<IPython.core.display.Math object>"
      ]
     },
     "metadata": {},
     "output_type": "display_data"
    },
    {
     "name": "stdout",
     "output_type": "stream",
     "text": [
      "Time used: 1.3 s\n",
      "------------------------------ Iteration 7 ------------------------------\n"
     ]
    },
    {
     "data": {
      "text/latex": [
       "$\\displaystyle \\zeta_1 = 5.591 \\quad \\zeta_2 = 3.355 \\quad \\zeta_3 = 1.011 \\quad \\zeta_4 = 0.610$"
      ],
      "text/plain": [
       "<IPython.core.display.Math object>"
      ]
     },
     "metadata": {},
     "output_type": "display_data"
    },
    {
     "data": {
      "text/latex": [
       "$\\displaystyle Orbitals:$"
      ],
      "text/plain": [
       "<IPython.core.display.Math object>"
      ]
     },
     "metadata": {},
     "output_type": "display_data"
    },
    {
     "data": {
      "text/latex": [
       "$\\displaystyle  \\phi_1 = c_{11} \\chi_1 + c_{21} \\chi_2 + c_{31} \\chi_3 + c_{41} \\chi_4$"
      ],
      "text/plain": [
       "<IPython.core.display.Math object>"
      ]
     },
     "metadata": {},
     "output_type": "display_data"
    },
    {
     "data": {
      "text/latex": [
       "$\\displaystyle  \\phi_2 = c_{12} \\chi_1 + c_{22} \\chi_2 + c_{32} \\chi_3 + c_{42} \\chi_4$"
      ],
      "text/plain": [
       "<IPython.core.display.Math object>"
      ]
     },
     "metadata": {},
     "output_type": "display_data"
    },
    {
     "data": {
      "image/png": "[encoded data removed]",
      "text/plain": [
       "<Figure size 432x288 with 1 Axes>"
      ]
     },
     "metadata": {
      "needs_background": "light"
     },
     "output_type": "display_data"
    },
    {
     "data": {
      "text/latex": [
       "$\\displaystyle  \\epsilon_1 \\; for \\; \\phi_1  = -4.733 $"
      ],
      "text/plain": [
       "<IPython.core.display.Math object>"
      ]
     },
     "metadata": {},
     "output_type": "display_data"
    },
    {
     "data": {
      "text/latex": [
       "$\\displaystyle  \\epsilon_2 \\; for \\; \\phi_1 = -0.309 $"
      ],
      "text/plain": [
       "<IPython.core.display.Math object>"
      ]
     },
     "metadata": {},
     "output_type": "display_data"
    },
    {
     "data": {
      "text/latex": [
       "$\\displaystyle  \\epsilon_3 \\; for \\; \\phi_1  = 0.145 $"
      ],
      "text/plain": [
       "<IPython.core.display.Math object>"
      ]
     },
     "metadata": {},
     "output_type": "display_data"
    },
    {
     "data": {
      "text/latex": [
       "$\\displaystyle  \\epsilon_4 \\; for \\; \\phi_1  = 11.378 $"
      ],
      "text/plain": [
       "<IPython.core.display.Math object>"
      ]
     },
     "metadata": {},
     "output_type": "display_data"
    },
    {
     "data": {
      "text/latex": [
       "$\\displaystyle  Hartree \\ Fork \\; atom \\; energy = -14.57223 \\ hartree = -396.52493 \\ eV$"
      ],
      "text/plain": [
       "<IPython.core.display.Math object>"
      ]
     },
     "metadata": {},
     "output_type": "display_data"
    },
    {
     "name": "stdout",
     "output_type": "stream",
     "text": [
      "Time used: 1.4 s\n",
      "------------------------------ Iteration 8 ------------------------------\n"
     ]
    },
    {
     "data": {
      "text/latex": [
       "$\\displaystyle \\zeta_1 = 5.591 \\quad \\zeta_2 = 3.355 \\quad \\zeta_3 = 1.011 \\quad \\zeta_4 = 0.610$"
      ],
      "text/plain": [
       "<IPython.core.display.Math object>"
      ]
     },
     "metadata": {},
     "output_type": "display_data"
    },
    {
     "data": {
      "text/latex": [
       "$\\displaystyle Orbitals:$"
      ],
      "text/plain": [
       "<IPython.core.display.Math object>"
      ]
     },
     "metadata": {},
     "output_type": "display_data"
    },
    {
     "data": {
      "text/latex": [
       "$\\displaystyle  \\phi_1 = c_{11} \\chi_1 + c_{21} \\chi_2 + c_{31} \\chi_3 + c_{41} \\chi_4$"
      ],
      "text/plain": [
       "<IPython.core.display.Math object>"
      ]
     },
     "metadata": {},
     "output_type": "display_data"
    },
    {
     "data": {
      "text/latex": [
       "$\\displaystyle  \\phi_2 = c_{12} \\chi_1 + c_{22} \\chi_2 + c_{32} \\chi_3 + c_{42} \\chi_4$"
      ],
      "text/plain": [
       "<IPython.core.display.Math object>"
      ]
     },
     "metadata": {},
     "output_type": "display_data"
    },
    {
     "data": {
      "image/png": "[encoded data removed]",
      "text/plain": [
       "<Figure size 432x288 with 1 Axes>"
      ]
     },
     "metadata": {
      "needs_background": "light"
     },
     "output_type": "display_data"
    },
    {
     "data": {
      "text/latex": [
       "$\\displaystyle  \\epsilon_1 \\; for \\; \\phi_1  = -4.733 $"
      ],
      "text/plain": [
       "<IPython.core.display.Math object>"
      ]
     },
     "metadata": {},
     "output_type": "display_data"
    },
    {
     "data": {
      "text/latex": [
       "$\\displaystyle  \\epsilon_2 \\; for \\; \\phi_1 = -0.309 $"
      ],
      "text/plain": [
       "<IPython.core.display.Math object>"
      ]
     },
     "metadata": {},
     "output_type": "display_data"
    },
    {
     "data": {
      "text/latex": [
       "$\\displaystyle  \\epsilon_3 \\; for \\; \\phi_1  = 0.145 $"
      ],
      "text/plain": [
       "<IPython.core.display.Math object>"
      ]
     },
     "metadata": {},
     "output_type": "display_data"
    },
    {
     "data": {
      "text/latex": [
       "$\\displaystyle  \\epsilon_4 \\; for \\; \\phi_1  = 11.378 $"
      ],
      "text/plain": [
       "<IPython.core.display.Math object>"
      ]
     },
     "metadata": {},
     "output_type": "display_data"
    },
    {
     "data": {
      "text/latex": [
       "$\\displaystyle  Hartree \\ Fork \\; atom \\; energy = -14.57233 \\ hartree = -396.52766 \\ eV$"
      ],
      "text/plain": [
       "<IPython.core.display.Math object>"
      ]
     },
     "metadata": {},
     "output_type": "display_data"
    },
    {
     "name": "stdout",
     "output_type": "stream",
     "text": [
      "Time used: 1.3 s\n",
      "------------------------------ Iteration 9 ------------------------------\n"
     ]
    },
    {
     "data": {
      "text/latex": [
       "$\\displaystyle \\zeta_1 = 5.591 \\quad \\zeta_2 = 3.355 \\quad \\zeta_3 = 1.011 \\quad \\zeta_4 = 0.610$"
      ],
      "text/plain": [
       "<IPython.core.display.Math object>"
      ]
     },
     "metadata": {},
     "output_type": "display_data"
    },
    {
     "data": {
      "text/latex": [
       "$\\displaystyle Orbitals:$"
      ],
      "text/plain": [
       "<IPython.core.display.Math object>"
      ]
     },
     "metadata": {},
     "output_type": "display_data"
    },
    {
     "data": {
      "text/latex": [
       "$\\displaystyle  \\phi_1 = c_{11} \\chi_1 + c_{21} \\chi_2 + c_{31} \\chi_3 + c_{41} \\chi_4$"
      ],
      "text/plain": [
       "<IPython.core.display.Math object>"
      ]
     },
     "metadata": {},
     "output_type": "display_data"
    },
    {
     "data": {
      "text/latex": [
       "$\\displaystyle  \\phi_2 = c_{12} \\chi_1 + c_{22} \\chi_2 + c_{32} \\chi_3 + c_{42} \\chi_4$"
      ],
      "text/plain": [
       "<IPython.core.display.Math object>"
      ]
     },
     "metadata": {},
     "output_type": "display_data"
    },
    {
     "data": {
      "image/png": "[encoded data removed]",
      "text/plain": [
       "<Figure size 432x288 with 1 Axes>"
      ]
     },
     "metadata": {
      "needs_background": "light"
     },
     "output_type": "display_data"
    },
    {
     "data": {
      "text/latex": [
       "$\\displaystyle  \\epsilon_1 \\; for \\; \\phi_1  = -4.733 $"
      ],
      "text/plain": [
       "<IPython.core.display.Math object>"
      ]
     },
     "metadata": {},
     "output_type": "display_data"
    },
    {
     "data": {
      "text/latex": [
       "$\\displaystyle  \\epsilon_2 \\; for \\; \\phi_1 = -0.309 $"
      ],
      "text/plain": [
       "<IPython.core.display.Math object>"
      ]
     },
     "metadata": {},
     "output_type": "display_data"
    },
    {
     "data": {
      "text/latex": [
       "$\\displaystyle  \\epsilon_3 \\; for \\; \\phi_1  = 0.145 $"
      ],
      "text/plain": [
       "<IPython.core.display.Math object>"
      ]
     },
     "metadata": {},
     "output_type": "display_data"
    },
    {
     "data": {
      "text/latex": [
       "$\\displaystyle  \\epsilon_4 \\; for \\; \\phi_1  = 11.378 $"
      ],
      "text/plain": [
       "<IPython.core.display.Math object>"
      ]
     },
     "metadata": {},
     "output_type": "display_data"
    },
    {
     "data": {
      "text/latex": [
       "$\\displaystyle  Hartree \\ Fork \\; atom \\; energy = -14.57236 \\ hartree = -396.52843 \\ eV$"
      ],
      "text/plain": [
       "<IPython.core.display.Math object>"
      ]
     },
     "metadata": {},
     "output_type": "display_data"
    },
    {
     "name": "stdout",
     "output_type": "stream",
     "text": [
      "Time used: 1.4 s\n",
      "------------------------------ Iteration 10 ------------------------------\n"
     ]
    },
    {
     "data": {
      "text/latex": [
       "$\\displaystyle \\zeta_1 = 5.591 \\quad \\zeta_2 = 3.355 \\quad \\zeta_3 = 1.011 \\quad \\zeta_4 = 0.610$"
      ],
      "text/plain": [
       "<IPython.core.display.Math object>"
      ]
     },
     "metadata": {},
     "output_type": "display_data"
    },
    {
     "data": {
      "text/latex": [
       "$\\displaystyle Orbitals:$"
      ],
      "text/plain": [
       "<IPython.core.display.Math object>"
      ]
     },
     "metadata": {},
     "output_type": "display_data"
    },
    {
     "data": {
      "text/latex": [
       "$\\displaystyle  \\phi_1 = c_{11} \\chi_1 + c_{21} \\chi_2 + c_{31} \\chi_3 + c_{41} \\chi_4$"
      ],
      "text/plain": [
       "<IPython.core.display.Math object>"
      ]
     },
     "metadata": {},
     "output_type": "display_data"
    },
    {
     "data": {
      "text/latex": [
       "$\\displaystyle  \\phi_2 = c_{12} \\chi_1 + c_{22} \\chi_2 + c_{32} \\chi_3 + c_{42} \\chi_4$"
      ],
      "text/plain": [
       "<IPython.core.display.Math object>"
      ]
     },
     "metadata": {},
     "output_type": "display_data"
    },
    {
     "data": {
      "image/png": "[encoded data removed]",
      "text/plain": [
       "<Figure size 432x288 with 1 Axes>"
      ]
     },
     "metadata": {
      "needs_background": "light"
     },
     "output_type": "display_data"
    },
    {
     "data": {
      "text/latex": [
       "$\\displaystyle  \\epsilon_1 \\; for \\; \\phi_1  = -4.733 $"
      ],
      "text/plain": [
       "<IPython.core.display.Math object>"
      ]
     },
     "metadata": {},
     "output_type": "display_data"
    },
    {
     "data": {
      "text/latex": [
       "$\\displaystyle  \\epsilon_2 \\; for \\; \\phi_1 = -0.309 $"
      ],
      "text/plain": [
       "<IPython.core.display.Math object>"
      ]
     },
     "metadata": {},
     "output_type": "display_data"
    },
    {
     "data": {
      "text/latex": [
       "$\\displaystyle  \\epsilon_3 \\; for \\; \\phi_1  = 0.145 $"
      ],
      "text/plain": [
       "<IPython.core.display.Math object>"
      ]
     },
     "metadata": {},
     "output_type": "display_data"
    },
    {
     "data": {
      "text/latex": [
       "$\\displaystyle  \\epsilon_4 \\; for \\; \\phi_1  = 11.378 $"
      ],
      "text/plain": [
       "<IPython.core.display.Math object>"
      ]
     },
     "metadata": {},
     "output_type": "display_data"
    },
    {
     "data": {
      "text/latex": [
       "$\\displaystyle  Hartree \\ Fork \\; atom \\; energy = -14.57237 \\ hartree = -396.52865 \\ eV$"
      ],
      "text/plain": [
       "<IPython.core.display.Math object>"
      ]
     },
     "metadata": {},
     "output_type": "display_data"
    },
    {
     "name": "stdout",
     "output_type": "stream",
     "text": [
      "Time used: 1.4 s\n"
     ]
    }
   ],
   "source": [
    "# input \n",
    "# input for zeta\n",
    "zetas = [[5.59108, 1, 0, 0], [3.35538, 1, 0, 0], [1.01122, 2, 0, 0], [0.61000, 2, 0, 0]]\n",
    "# zetas = [[7.52232, 1, 0, 0], [5.12306, 1, 0, 0], [1.83068, 2, 0, 0], [1.15282, 2, 0, 0], [0.73045, 2, 1, 0], [1.25656, 2, 1, 0]]\n",
    "# zetas = [[11.4216, 1, 0, 0], [8.50182, 1, 0, 0], [3.56883, 2, 0, 0], [2.19285, 2, 0, 0], [4.68773, 2, 1, 0], [2.05684, 2, 1, 0]]\n",
    "# input nuclear charge (element number)\n",
    "Z = 4\n",
    "\n",
    "# build basis function\n",
    "f1=STO(zetas[0][0], zetas[0][1], zetas[0][2], zetas[0][3])\n",
    "f2=STO(zetas[1][0], zetas[1][1], zetas[1][2], zetas[1][3])\n",
    "f3=STO(zetas[2][0], zetas[2][1], zetas[2][2], zetas[2][3])\n",
    "f4=STO(zetas[3][0], zetas[3][1], zetas[3][2], zetas[3][3])\n",
    "# f5=STO(zetas[4][0], zetas[4][1], zetas[4][2], zetas[4][3])\n",
    "# f6=STO(zetas[5][0], zetas[5][1], zetas[5][2], zetas[5][3])\n",
    "\n",
    "fs = [f1, f2, f3, f4]\n",
    "# fs = [f1, f2, f3, f4, f5, f6]\n",
    "\n",
    "# initialization\n",
    "R = np.zeros((len(zetas), len(zetas), len(zetas), len(zetas)))\n",
    "H = H_matrix(fs, Z)\n",
    "print(H)\n",
    "S = S_matrix(fs)\n",
    "print(S)\n",
    "e, Co = secular_eqn(H, S)\n",
    "P = P_matrix(Co)\n",
    "scf_H = get_E0(e, P, H)\n",
    "\n",
    "##############################################print information below#################################################\n",
    "print('-'*30, \"Initialization\", '-'*30)\n",
    "print('-'*25, \"Ignore repulsion integral\", '-'*24)\n",
    "display(Math('\\zeta_1 = {0} \\quad \\zeta_2 = {1} \\quad \\zeta_3 = {2} \\quad \\zeta_4 = {3}'.format(format(zetas[0][0], '0.3f'), format(zetas[1][0], '0.3f'), format(zetas[2][0], '0.3f'),format(zetas[3][0], '0.3f')))) \n",
    "# display(Math('c11 = {0} \\quad c21 = {1} \\quad c31 = {2} \\quad c41 = {3} \\quad c11 = {4} \\quad c21 = {5}'.format(format(Co[0][0], '0.3f'), format(Co[1][0], '0.3f'), format(Co[2][0], '0.3f'), format(Co[3][0], '0.3f'), format(Co[4][0], '0.3f'), format(Co[5][0], '0.3f')))) \n",
    "# display(Math('c11 = {0} \\quad c21 = {1} \\quad c31 = {2} \\quad c41 = {3} \\quad c11 = {4} \\quad c21 = {5}'.format(format(Co[0][1], '0.3f'), format(Co[1][1], '0.3f'), format(Co[2][1], '0.3f'), format(Co[3][1], '0.3f'), format(Co[4][1], '0.3f'), format(Co[5][1], '0.3f')))) \n",
    "# display(Math('c11 = {0} \\quad c21 = {1} \\quad c31 = {2} \\quad c41 = {3} \\quad c11 = {4} \\quad c21 = {5}'.format(format(Co[0][2], '0.3f'), format(Co[1][2], '0.3f'), format(Co[2][2], '0.3f'), format(Co[3][2], '0.3f'), format(Co[4][2], '0.3f'), format(Co[5][2], '0.3f')))) \n",
    "# display(Math('c11 = {0} \\quad c21 = {1} \\quad c31 = {2} \\quad c41 = {3} \\quad c11 = {4} \\quad c21 = {5}'.format(format(Co[0][3], '0.3f'), format(Co[1][3], '0.3f'), format(Co[2][3], '0.3f'), format(Co[3][3], '0.3f'), format(Co[4][3], '0.3f'), format(Co[5][3], '0.3f')))) \n",
    "# display(Math('c11 = {0} \\quad c21 = {1} \\quad c31 = {2} \\quad c41 = {3} \\quad c11 = {4} \\quad c21 = {5}'.format(format(Co[0][4], '0.3f'), format(Co[1][4], '0.3f'), format(Co[2][4], '0.3f'), format(Co[3][4], '0.3f'), format(Co[4][4], '0.3f'), format(Co[5][4], '0.3f')))) \n",
    "# display(Math('c11 = {0} \\quad c21 = {1} \\quad c31 = {2} \\quad c41 = {3} \\quad c11 = {4} \\quad c21 = {5}'.format(format(Co[0][5], '0.3f'), format(Co[1][5], '0.3f'), format(Co[2][5], '0.3f'), format(Co[3][5], '0.3f'), format(Co[4][5], '0.3f'), format(Co[5][5], '0.3f')))) \n",
    "\n",
    "# plot density graph\n",
    "colorlist = ['red', 'orange', 'yellow', 'green', 'blue', 'purple', 'black', 'red', 'orange', 'yellow', 'green', 'blue', 'purple', 'black']\n",
    "phi1 = Co[0,0]*f1+Co[1,0]*f2+Co[2,0]*f3+Co[3,0]*f4\n",
    "phi2 = Co[0,1]*f1+Co[1,1]*f2+Co[2,1]*f3+Co[3,1]*f4\n",
    "density_1 = phi1*phi1*r*r\n",
    "density_2 = phi2*phi2*r*r    \n",
    "p = plot((density_1, (r, 0, 5)), (density_2, (r, 0, 5)), show = False, legend = True)\n",
    "p[0].label = 'electron density $r^2 \\phi_1^2$ '\n",
    "p[1].label = 'electron density $r^2 \\phi_2^2$ '    \n",
    "p[0].line_color = colorlist[0]\n",
    "p[1].line_color = 'blue'\n",
    "p.show()\n",
    "# print energy result\n",
    "display(Math(' \\epsilon_1 \\; for \\; \\phi_1  = {0} '.format(format(e[0].real, '0.3f'))))    \n",
    "display(Math(' \\epsilon_2 \\; for \\; \\phi_1 = {0} '.format(format(e[1].real, '0.3f'))))\n",
    "display(Math(' \\epsilon_3 \\; for \\; \\phi_1  = {0} '.format(format(e[2].real, '0.3f'))))    \n",
    "display(Math(' \\epsilon_4 \\; for \\; \\phi_1  = {0} '.format(format(e[3].real, '0.3f'))))    \n",
    "# display(Math(' \\epsilon_5 \\; for \\; \\phi_1  = {0} '.format(format(e[4].real, '0.3f'))))    \n",
    "# display(Math(' \\epsilon_6 \\; for \\; \\phi_1  = {0} '.format(format(e[5].real, '0.3f'))))    \n",
    "display(Math(' Hartree \\ Fork \\; atom \\; energy = {0} \\ hartree = {1} \\ eV'.format(format(scf_H, '0.5f'), format(scf_H*27.211, '0.5f'))))    \n",
    "##############################################print information above#################################################\n",
    "\n",
    "for i in range(10):\n",
    "    print('-'*30, \"Iteration\", i + 1, '-'*30)\n",
    "    if(i==0):\n",
    "        print('-'*7, \"Iteration 1 needs more time to caculate Repulsion Integral\", '-'*6)\n",
    "        start = time.time()\n",
    "        R = R_matrix(zetas)\n",
    "        print(R)\n",
    "    else:\n",
    "        start = time.time()\n",
    "    F = F_matrix(fs, Z, zetas, Co, R)\n",
    "    S = S_matrix(fs)\n",
    "    e, Co = secular_eqn(F, S)\n",
    "    P = P_matrix(Co)\n",
    "    scf_H = get_E0(e, P, H)\n",
    "    ##########################################print information below#################################################\n",
    "    # print information\n",
    "    display(Math('\\zeta_1 = {0} \\quad \\zeta_2 = {1} \\quad \\zeta_3 = {2} \\quad \\zeta_4 = {3}'.format(format(zetas[0][0], '0.3f'), format(zetas[1][0], '0.3f'), format(zetas[2][0], '0.3f'),format(zetas[3][0], '0.3f')))) \n",
    "    display(Math('Orbitals:'))\n",
    "    display(Math(' \\phi_1 = c_{11} \\chi_1 + c_{21} \\chi_2 + c_{31} \\chi_3 + c_{41} \\chi_4'))\n",
    "    display(Math(' \\phi_2 = c_{12} \\chi_1 + c_{22} \\chi_2 + c_{32} \\chi_3 + c_{42} \\chi_4'))    \n",
    "#     display(Math('c11 = {0} \\quad c21 = {1} \\quad c31 = {2} \\quad c41 = {3} \\quad c11 = {4} \\quad c21 = {5}'.format(format(Co[0][0], '0.3f'), format(Co[1][0], '0.3f'), format(Co[2][0], '0.3f'), format(Co[3][0], '0.3f'), format(Co[4][0], '0.3f'), format(Co[5][0], '0.3f')))) \n",
    "#     display(Math('c11 = {0} \\quad c21 = {1} \\quad c31 = {2} \\quad c41 = {3} \\quad c11 = {4} \\quad c21 = {5}'.format(format(Co[0][1], '0.3f'), format(Co[1][1], '0.3f'), format(Co[2][1], '0.3f'), format(Co[3][1], '0.3f'), format(Co[4][1], '0.3f'), format(Co[5][1], '0.3f')))) \n",
    "#     display(Math('c11 = {0} \\quad c21 = {1} \\quad c31 = {2} \\quad c41 = {3} \\quad c11 = {4} \\quad c21 = {5}'.format(format(Co[0][2], '0.3f'), format(Co[1][2], '0.3f'), format(Co[2][2], '0.3f'), format(Co[3][2], '0.3f'), format(Co[4][2], '0.3f'), format(Co[5][2], '0.3f')))) \n",
    "#     display(Math('c11 = {0} \\quad c21 = {1} \\quad c31 = {2} \\quad c41 = {3} \\quad c11 = {4} \\quad c21 = {5}'.format(format(Co[0][3], '0.3f'), format(Co[1][3], '0.3f'), format(Co[2][3], '0.3f'), format(Co[3][3], '0.3f'), format(Co[4][3], '0.3f'), format(Co[5][3], '0.3f')))) \n",
    "#     display(Math('c11 = {0} \\quad c21 = {1} \\quad c31 = {2} \\quad c41 = {3} \\quad c11 = {4} \\quad c21 = {5}'.format(format(Co[0][4], '0.3f'), format(Co[1][4], '0.3f'), format(Co[2][4], '0.3f'), format(Co[3][4], '0.3f'), format(Co[4][4], '0.3f'), format(Co[5][4], '0.3f')))) \n",
    "#     display(Math('c11 = {0} \\quad c21 = {1} \\quad c31 = {2} \\quad c41 = {3} \\quad c11 = {4} \\quad c21 = {5}'.format(format(Co[0][5], '0.3f'), format(Co[1][5], '0.3f'), format(Co[2][5], '0.3f'), format(Co[3][5], '0.3f'), format(Co[4][5], '0.3f'), format(Co[5][5], '0.3f'))))     \n",
    "    # plot density graph\n",
    "    phi1 = Co[0,0]*f1+Co[1,0]*f2+Co[2,0]*f3+Co[3,0]*f4\n",
    "    phi2 = Co[0,1]*f1+Co[1,1]*f2+Co[2,1]*f3+Co[3,1]*f4\n",
    "    density_1 = phi1*phi1*r*r\n",
    "    density_2 = phi2*phi2*r*r    \n",
    "    p1 = plot((density_1, (r, 0, 5)), (density_2, (r, 0, 5)), show = False, legend = True)\n",
    "    p1[0].label = None \n",
    "    p1[1].label = None     \n",
    "    p1[0].line_color = colorlist[i+1]\n",
    "    p1[1].line_color = colorlist[i+1]\n",
    "    p.extend(p1)\n",
    "    p.show() \n",
    "    # print energy result\n",
    "    display(Math(' \\epsilon_1 \\; for \\; \\phi_1  = {0} '.format(format(e[0].real, '0.3f'))))    \n",
    "    display(Math(' \\epsilon_2 \\; for \\; \\phi_1 = {0} '.format(format(e[1].real, '0.3f'))))\n",
    "    display(Math(' \\epsilon_3 \\; for \\; \\phi_1  = {0} '.format(format(e[2].real, '0.3f'))))    \n",
    "    display(Math(' \\epsilon_4 \\; for \\; \\phi_1  = {0} '.format(format(e[3].real, '0.3f'))))    \n",
    "#     display(Math(' \\epsilon_5 \\; for \\; \\phi_1  = {0} '.format(format(e[4].real, '0.3f'))))    \n",
    "#     display(Math(' \\epsilon_6 \\; for \\; \\phi_1  = {0} '.format(format(e[5].real, '0.3f'))))         \n",
    "    display(Math(' Hartree \\ Fork \\; atom \\; energy = {0} \\ hartree = {1} \\ eV'.format(format(scf_H, '0.5f'), format(scf_H*27.211, '0.5f'))))    \n",
    "    stop = time.time()\n",
    "    print('Time used:',format(stop-start, '0.1f'),'s')\n",
    "    ##########################################print information above#################################################    "
   ]
  },
  {
   "cell_type": "code",
   "execution_count": 16,
   "metadata": {},
   "outputs": [
    {
     "data": {
      "text/plain": [
       "array([-4.7328263 +0.j, -0.30923187+0.j,  0.14481282+0.j, 11.3778971 +0.j])"
      ]
     },
     "execution_count": 16,
     "metadata": {},
     "output_type": "execute_result"
    }
   ],
   "source": [
    "e"
   ]
  },
  {
   "cell_type": "markdown",
   "metadata": {},
   "source": [
    "Reference\n",
    "\n",
    "[1] Levine, Quantum Chemistry, 7th Edition, chapter 14  \n",
    "[2] C. Roetti and E. Clementi, J. Chem. Phys., 60, 4725 (1974)  \n",
    "[3] Acosta C R. Restricted closed shell Hartree Fock Roothaan matrix method applied to Helium atom using   Mathematica[J]. European Journal of Physics Education, 2017, 5(1): 1-14.  \n",
    "[4] [Simple Quantum Chemistry: Hartree-Fock in Python, 2018](http://nznano.blogspot.com/2018/03/simple-quantum-chemistry-hartree-fock.html)  \n",
    "[5] [Helium hartree fork, prtkm, 2015](https://github.com/prtkm/helium-hartree-fock/)"
   ]
  },
  {
   "cell_type": "code",
   "execution_count": null,
   "metadata": {},
   "outputs": [],
   "source": []
  },
  {
   "cell_type": "code",
   "execution_count": 17,
   "metadata": {},
   "outputs": [
    {
     "data": {
      "text/plain": [
       "array([[[[3.49442500e+00, 2.81295320e+00, 1.96482661e-01,\n",
       "          6.77828406e-02],\n",
       "         [2.81295320e+00, 2.58843824e+00, 3.34468713e-01,\n",
       "          1.27313592e-01],\n",
       "         [1.96482661e-01, 3.34468713e-01, 5.04860515e-01,\n",
       "          3.45823188e-01],\n",
       "         [6.77828406e-02, 1.27313592e-01, 3.45823188e-01,\n",
       "          3.04919940e-01]],\n",
       "\n",
       "        [[2.81295320e+00, 2.30401938e+00, 1.69808397e-01,\n",
       "          5.88181619e-02],\n",
       "         [2.30401938e+00, 2.16673671e+00, 2.95734765e-01,\n",
       "          1.13021520e-01],\n",
       "         [1.69808397e-01, 2.95734765e-01, 4.57599362e-01,\n",
       "          3.13693097e-01],\n",
       "         [5.88181619e-02, 1.13021520e-01, 3.13693097e-01,\n",
       "          2.76721967e-01]],\n",
       "\n",
       "        [[1.96482661e-01, 1.69808397e-01, 1.48696679e-02,\n",
       "          5.22926957e-03],\n",
       "         [1.69808397e-01, 1.71442134e-01, 2.83365102e-02,\n",
       "          1.10171233e-02],\n",
       "         [1.48696679e-02, 2.83365102e-02, 4.93667239e-02,\n",
       "          3.40333077e-02],\n",
       "         [5.22926957e-03, 1.10171233e-02, 3.40333077e-02,\n",
       "          3.01355511e-02]],\n",
       "\n",
       "        [[6.77828406e-02, 5.88181619e-02, 5.22926957e-03,\n",
       "          1.84211879e-03],\n",
       "         [5.88181619e-02, 5.97500987e-02, 1.00743394e-02,\n",
       "          3.92600202e-03],\n",
       "         [5.22926957e-03, 1.00743394e-02, 1.78772001e-02,\n",
       "          1.23400278e-02],\n",
       "         [1.84211879e-03, 3.92600202e-03, 1.23400278e-02,\n",
       "          1.09366248e-02]]],\n",
       "\n",
       "\n",
       "       [[[2.81295320e+00, 2.30401938e+00, 1.69808397e-01,\n",
       "          5.88181619e-02],\n",
       "         [2.30401938e+00, 2.16673671e+00, 2.95734765e-01,\n",
       "          1.13021520e-01],\n",
       "         [1.69808397e-01, 2.95734765e-01, 4.57599362e-01,\n",
       "          3.13693097e-01],\n",
       "         [5.88181619e-02, 1.13021520e-01, 3.13693097e-01,\n",
       "          2.76721967e-01]],\n",
       "\n",
       "        [[2.58843824e+00, 2.16673671e+00, 1.71442134e-01,\n",
       "          5.97500987e-02],\n",
       "         [2.16673671e+00, 2.09711250e+00, 3.09620292e-01,\n",
       "          1.19143481e-01],\n",
       "         [1.71442134e-01, 3.09620292e-01, 5.01920925e-01,\n",
       "          3.44772419e-01],\n",
       "         [5.97500987e-02, 1.19143481e-01, 3.44772419e-01,\n",
       "          3.04540157e-01]],\n",
       "\n",
       "        [[3.34468713e-01, 2.95734765e-01, 2.83365102e-02,\n",
       "          1.00743394e-02],\n",
       "         [2.95734765e-01, 3.09620292e-01, 5.80633636e-02,\n",
       "          2.29481400e-02],\n",
       "         [2.83365102e-02, 5.80633636e-02, 1.16436536e-01,\n",
       "          8.12480514e-02],\n",
       "         [1.00743394e-02, 2.29481400e-02, 8.12480514e-02,\n",
       "          7.26132636e-02]],\n",
       "\n",
       "        [[1.27313592e-01, 1.13021520e-01, 1.10171233e-02,\n",
       "          3.92600202e-03],\n",
       "         [1.13021520e-01, 1.19143481e-01, 2.29481400e-02,\n",
       "          9.10611862e-03],\n",
       "         [1.10171233e-02, 2.29481400e-02, 4.78283308e-02,\n",
       "          3.35191721e-02],\n",
       "         [3.92600202e-03, 9.10611862e-03, 3.35191721e-02,\n",
       "          3.00648088e-02]]],\n",
       "\n",
       "\n",
       "       [[[1.96482661e-01, 1.69808397e-01, 1.48696679e-02,\n",
       "          5.22926957e-03],\n",
       "         [1.69808397e-01, 1.71442134e-01, 2.83365102e-02,\n",
       "          1.10171233e-02],\n",
       "         [1.48696679e-02, 2.83365102e-02, 4.93667239e-02,\n",
       "          3.40333077e-02],\n",
       "         [5.22926957e-03, 1.10171233e-02, 3.40333077e-02,\n",
       "          3.01355511e-02]],\n",
       "\n",
       "        [[3.34468713e-01, 2.95734765e-01, 2.83365102e-02,\n",
       "          1.00743394e-02],\n",
       "         [2.95734765e-01, 3.09620292e-01, 5.80633636e-02,\n",
       "          2.29481400e-02],\n",
       "         [2.83365102e-02, 5.80633636e-02, 1.16436536e-01,\n",
       "          8.12480514e-02],\n",
       "         [1.00743394e-02, 2.29481400e-02, 8.12480514e-02,\n",
       "          7.26132636e-02]],\n",
       "\n",
       "        [[5.04860515e-01, 4.57599362e-01, 4.93667239e-02,\n",
       "          1.78772001e-02],\n",
       "         [4.57599362e-01, 5.01920925e-01, 1.16436536e-01,\n",
       "          4.78283308e-02],\n",
       "         [4.93667239e-02, 1.16436536e-01, 3.67357266e-01,\n",
       "          2.77426572e-01],\n",
       "         [1.78772001e-02, 4.78283308e-02, 2.77426572e-01,\n",
       "          2.68139996e-01]],\n",
       "\n",
       "        [[3.45823188e-01, 3.13693097e-01, 3.40333077e-02,\n",
       "          1.23400278e-02],\n",
       "         [3.13693097e-01, 3.44772419e-01, 8.12480514e-02,\n",
       "          3.35191721e-02],\n",
       "         [3.40333077e-02, 8.12480514e-02, 2.77426572e-01,\n",
       "          2.14690485e-01],\n",
       "         [1.23400278e-02, 3.35191721e-02, 2.14690485e-01,\n",
       "          2.13777900e-01]]],\n",
       "\n",
       "\n",
       "       [[[6.77828406e-02, 5.88181619e-02, 5.22926957e-03,\n",
       "          1.84211879e-03],\n",
       "         [5.88181619e-02, 5.97500987e-02, 1.00743394e-02,\n",
       "          3.92600202e-03],\n",
       "         [5.22926957e-03, 1.00743394e-02, 1.78772001e-02,\n",
       "          1.23400278e-02],\n",
       "         [1.84211879e-03, 3.92600202e-03, 1.23400278e-02,\n",
       "          1.09366248e-02]],\n",
       "\n",
       "        [[1.27313592e-01, 1.13021520e-01, 1.10171233e-02,\n",
       "          3.92600202e-03],\n",
       "         [1.13021520e-01, 1.19143481e-01, 2.29481400e-02,\n",
       "          9.10611862e-03],\n",
       "         [1.10171233e-02, 2.29481400e-02, 4.78283308e-02,\n",
       "          3.35191721e-02],\n",
       "         [3.92600202e-03, 9.10611862e-03, 3.35191721e-02,\n",
       "          3.00648088e-02]],\n",
       "\n",
       "        [[3.45823188e-01, 3.13693097e-01, 3.40333077e-02,\n",
       "          1.23400278e-02],\n",
       "         [3.13693097e-01, 3.44772419e-01, 8.12480514e-02,\n",
       "          3.35191721e-02],\n",
       "         [3.40333077e-02, 8.12480514e-02, 2.77426572e-01,\n",
       "          2.14690485e-01],\n",
       "         [1.23400278e-02, 3.35191721e-02, 2.14690485e-01,\n",
       "          2.13777900e-01]],\n",
       "\n",
       "        [[3.04919940e-01, 2.76721967e-01, 3.01355511e-02,\n",
       "          1.09366248e-02],\n",
       "         [2.76721967e-01, 3.04540157e-01, 7.26132636e-02,\n",
       "          3.00648088e-02],\n",
       "         [3.01355511e-02, 7.26132636e-02, 2.68139996e-01,\n",
       "          2.13777900e-01],\n",
       "         [1.09366248e-02, 3.00648088e-02, 2.13777900e-01,\n",
       "          2.21601562e-01]]]])"
      ]
     },
     "execution_count": 17,
     "metadata": {},
     "output_type": "execute_result"
    }
   ],
   "source": [
    "R"
   ]
  },
  {
   "cell_type": "code",
   "execution_count": 18,
   "metadata": {},
   "outputs": [
    {
     "ename": "IndexError",
     "evalue": "index 4 is out of bounds for axis 0 with size 4",
     "output_type": "error",
     "traceback": [
      "\u001b[0;31m---------------------------------------------------------------------------\u001b[0m",
      "\u001b[0;31mIndexError\u001b[0m                                Traceback (most recent call last)",
      "\u001b[0;32m<ipython-input-18-65cd53ed719e>\u001b[0m in \u001b[0;36m<module>\u001b[0;34m\u001b[0m\n\u001b[1;32m      1\u001b[0m \u001b[0;32mfor\u001b[0m \u001b[0mi\u001b[0m \u001b[0;32min\u001b[0m \u001b[0mrange\u001b[0m\u001b[0;34m(\u001b[0m\u001b[0mCo\u001b[0m\u001b[0;34m.\u001b[0m\u001b[0mshape\u001b[0m\u001b[0;34m[\u001b[0m\u001b[0;36m0\u001b[0m\u001b[0;34m]\u001b[0m\u001b[0;34m)\u001b[0m\u001b[0;34m:\u001b[0m\u001b[0;34m\u001b[0m\u001b[0;34m\u001b[0m\u001b[0m\n\u001b[0;32m----> 2\u001b[0;31m     \u001b[0mprint\u001b[0m\u001b[0;34m(\u001b[0m\u001b[0mformat\u001b[0m\u001b[0;34m(\u001b[0m\u001b[0mCo\u001b[0m\u001b[0;34m[\u001b[0m\u001b[0;36m0\u001b[0m\u001b[0;34m,\u001b[0m\u001b[0mi\u001b[0m\u001b[0;34m]\u001b[0m\u001b[0;34m,\u001b[0m \u001b[0;34m'0.3f'\u001b[0m\u001b[0;34m)\u001b[0m\u001b[0;34m,\u001b[0m \u001b[0mformat\u001b[0m\u001b[0;34m(\u001b[0m\u001b[0mCo\u001b[0m\u001b[0;34m[\u001b[0m\u001b[0;36m2\u001b[0m\u001b[0;34m,\u001b[0m\u001b[0mi\u001b[0m\u001b[0;34m]\u001b[0m\u001b[0;34m,\u001b[0m \u001b[0;34m'0.3f'\u001b[0m\u001b[0;34m)\u001b[0m\u001b[0;34m,\u001b[0m \u001b[0mformat\u001b[0m\u001b[0;34m(\u001b[0m\u001b[0mCo\u001b[0m\u001b[0;34m[\u001b[0m\u001b[0;36m2\u001b[0m\u001b[0;34m,\u001b[0m\u001b[0mi\u001b[0m\u001b[0;34m]\u001b[0m\u001b[0;34m,\u001b[0m \u001b[0;34m'0.3f'\u001b[0m\u001b[0;34m)\u001b[0m\u001b[0;34m,\u001b[0m \u001b[0mformat\u001b[0m\u001b[0;34m(\u001b[0m\u001b[0mCo\u001b[0m\u001b[0;34m[\u001b[0m\u001b[0;36m3\u001b[0m\u001b[0;34m,\u001b[0m\u001b[0mi\u001b[0m\u001b[0;34m]\u001b[0m\u001b[0;34m,\u001b[0m \u001b[0;34m'0.3f'\u001b[0m\u001b[0;34m)\u001b[0m\u001b[0;34m,\u001b[0m\u001b[0mformat\u001b[0m\u001b[0;34m(\u001b[0m\u001b[0mCo\u001b[0m\u001b[0;34m[\u001b[0m\u001b[0;36m4\u001b[0m\u001b[0;34m,\u001b[0m\u001b[0mi\u001b[0m\u001b[0;34m]\u001b[0m\u001b[0;34m,\u001b[0m \u001b[0;34m'0.3f'\u001b[0m\u001b[0;34m)\u001b[0m\u001b[0;34m,\u001b[0m\u001b[0mformat\u001b[0m\u001b[0;34m(\u001b[0m\u001b[0mCo\u001b[0m\u001b[0;34m[\u001b[0m\u001b[0;36m5\u001b[0m\u001b[0;34m,\u001b[0m\u001b[0mi\u001b[0m\u001b[0;34m]\u001b[0m\u001b[0;34m,\u001b[0m \u001b[0;34m'0.3f'\u001b[0m\u001b[0;34m)\u001b[0m\u001b[0;34m)\u001b[0m\u001b[0;34m\u001b[0m\u001b[0;34m\u001b[0m\u001b[0m\n\u001b[0m",
      "\u001b[0;31mIndexError\u001b[0m: index 4 is out of bounds for axis 0 with size 4"
     ]
    }
   ],
   "source": [
    "for i in range(Co.shape[0]):\n",
    "    print(format(Co[0,i], '0.3f'), format(Co[2,i], '0.3f'), format(Co[2,i], '0.3f'), format(Co[3,i], '0.3f'),format(Co[4,i], '0.3f'),format(Co[5,i], '0.3f'))"
   ]
  },
  {
   "cell_type": "code",
   "execution_count": null,
   "metadata": {},
   "outputs": [],
   "source": [
    "e"
   ]
  },
  {
   "cell_type": "code",
   "execution_count": null,
   "metadata": {},
   "outputs": [],
   "source": [
    "Co"
   ]
  },
  {
   "cell_type": "code",
   "execution_count": null,
   "metadata": {},
   "outputs": [],
   "source": [
    "e"
   ]
  },
  {
   "cell_type": "code",
   "execution_count": null,
   "metadata": {},
   "outputs": [],
   "source": []
  },
  {
   "cell_type": "code",
   "execution_count": null,
   "metadata": {},
   "outputs": [],
   "source": [
    "R"
   ]
  },
  {
   "cell_type": "code",
   "execution_count": null,
   "metadata": {},
   "outputs": [],
   "source": []
  },
  {
   "cell_type": "code",
   "execution_count": null,
   "metadata": {},
   "outputs": [],
   "source": []
  },
  {
   "cell_type": "code",
   "execution_count": null,
   "metadata": {},
   "outputs": [],
   "source": [
    "R"
   ]
  },
  {
   "cell_type": "code",
   "execution_count": null,
   "metadata": {},
   "outputs": [],
   "source": []
  },
  {
   "cell_type": "code",
   "execution_count": null,
   "metadata": {},
   "outputs": [],
   "source": []
  },
  {
   "cell_type": "code",
   "execution_count": null,
   "metadata": {},
   "outputs": [],
   "source": [
    "R"
   ]
  },
  {
   "cell_type": "code",
   "execution_count": null,
   "metadata": {},
   "outputs": [],
   "source": []
  },
  {
   "cell_type": "code",
   "execution_count": null,
   "metadata": {},
   "outputs": [],
   "source": []
  },
  {
   "cell_type": "code",
   "execution_count": null,
   "metadata": {},
   "outputs": [],
   "source": []
  }
 ],
 "metadata": {
  "kernelspec": {
   "display_name": "Python 3",
   "language": "python",
   "name": "python3"
  },
  "language_info": {
   "codemirror_mode": {
    "name": "ipython",
    "version": 3
   },
   "file_extension": ".py",
   "mimetype": "text/x-python",
   "name": "python",
   "nbconvert_exporter": "python",
   "pygments_lexer": "ipython3",
   "version": "3.7.1"
  }
 },
 "nbformat": 4,
 "nbformat_minor": 2
}
