{
 "cells": [
  {
   "cell_type": "markdown",
   "metadata": {
    "slideshow": {
     "slide_type": "slide"
    }
   },
   "source": [
    "<h2><center>Restricted open-shell Hartree–Fock for Helium</center></h2>\n",
    "\n",
    "<p style=\"text-align: center; margin-top: 0px; margin-bottom: 0px;\">\n",
    "                By <a target=\"_blank\" href=\"https://github.com/yueyericardo\">Richard Xue </a>\n",
    "</p>\n",
    "\n",
    "<p style=\"text-align: center; margin-top: 0px;\">\n",
    "                <a target=\"_blank\" href=\"https://yyrcd.com/hf/he.html\">Helium </a>&nbsp;/&nbsp;\n",
    "                <a target=\"_blank\" href=\"https://yyrcd.com/hf/li.html\">Lithium </a>&nbsp;/&nbsp;    \n",
    "                <a target=\"_blank\" href=\"https://yyrcd.com/hf/be.html\">Beryllium </a>\n",
    "</p>\n"
   ]
  },
  {
   "cell_type": "code",
   "execution_count": 1,
   "metadata": {
    "slideshow": {
     "slide_type": "subslide"
    }
   },
   "outputs": [],
   "source": [
    "import sympy as sp\n",
    "from sympy import oo\n",
    "import numpy as np\n",
    "from itertools import product\n",
    "from scipy.linalg import eig\n",
    "from sympy import diff\n",
    "import time as time\n",
    "import matplotlib.pyplot as plt\n",
    "from sympy.plotting import plot\n",
    "# %matplotlib notebook \n",
    "%matplotlib inline\n",
    "from IPython.display import Math\n",
    "sp.init_printing()\n",
    "\n",
    "r, r1, r2, zeta, zeta1, zeta2 = sp.symbols(\"r, r1, r2, zeta, zeta1, zeta2\")\n",
    "n = sp.Symbol('n',integer=True)"
   ]
  },
  {
   "cell_type": "markdown",
   "metadata": {
    "slideshow": {
     "slide_type": "slide"
    }
   },
   "source": [
    "<h2><center>Part 1 Function Definition</center></h2>"
   ]
  },
  {
   "cell_type": "markdown",
   "metadata": {},
   "source": [
    "### Define STO function\n",
    "$STO \\; function \\; has \\; format \\; of: \\; Nr^{n-1}e^{-r\\zeta}$"
   ]
  },
  {
   "cell_type": "code",
   "execution_count": 2,
   "metadata": {},
   "outputs": [
    {
     "name": "stdout",
     "output_type": "stream",
     "text": [
      "For example: STO for 1s\n"
     ]
    },
    {
     "data": {
      "image/png": "[encoded data removed]",
      "text/latex": [
       "$$2 \\zeta^{1.5} e^{- r \\zeta}$$"
      ],
      "text/plain": [
       "   1.5  -r⋅ζ\n",
       "2⋅ζ   ⋅ℯ    "
      ]
     },
     "execution_count": 2,
     "metadata": {},
     "output_type": "execute_result"
    }
   ],
   "source": [
    "def STO(zeta, n, r=r):\n",
    "    return (2*zeta)**n*(2*zeta/sp.factorial(2*n))**(1/2)*r**(n-1)*sp.exp(-zeta*r)\n",
    "\n",
    "print(\"For example: STO for 1s\")\n",
    "STO(zeta, 1)"
   ]
  },
  {
   "cell_type": "markdown",
   "metadata": {},
   "source": [
    "### Overlap Integrate\n",
    "\n",
    "$S = \\int_{0}^\\infty f_1^* f_2 \\; r^2dr$"
   ]
  },
  {
   "cell_type": "code",
   "execution_count": 3,
   "metadata": {},
   "outputs": [],
   "source": [
    "# S Overlap Integrate\n",
    "def S_int(f1, f2):\n",
    "    return sp.integrate(f1*f2*r*r ,(r, 0, +oo))"
   ]
  },
  {
   "cell_type": "markdown",
   "metadata": {},
   "source": [
    "### Hamiltonian core\n",
    "\n",
    "H core = kinetics energy + electron and nuclear potential energy\n",
    "\n",
    "$H = \\int_{0}^\\infty f_1 \\hat{H} f_2 \\; r^2dr$\n",
    "\n",
    "$H = \\int_{0}^\\infty f_1 ((-\\dfrac{1}{2}) \\nabla^2 - \\dfrac{Z_{\\alpha}}{r})f_2 \\; r^2 dr$\n",
    "\n",
    "<p><a href=\"https://en.wikipedia.org/wiki/Laplace_operator\">$Laplace \\; operator: $</a> $\\nabla^2$</p>\n",
    "<p><left><img class = \"none\"style=\"text-align: center; margin-left:0px\" src=\"https://wikimedia.org/api/rest_v1/media/math/render/svg/b4a3135d1cc01d19309d36c749aaef4a48dc81da\"></left></p>\n",
    "\n",
    "$\\therefore H = \\int_{0}^\\infty f_1 ((-\\dfrac{1}{2}) \\dfrac{1}{r} \\dfrac{\\partial}{\\partial r} \\dfrac{\\partial}{\\partial r} r f_2 - \\dfrac{Z_{\\alpha}}{r}r^2 f_2 )dr$\n",
    "\n",
    "**reminder:** change the Z of nucleus if you want to run for other atom"
   ]
  },
  {
   "cell_type": "code",
   "execution_count": 4,
   "metadata": {},
   "outputs": [],
   "source": [
    "# H core = kinetics energy + electron and nuclear potential energy\n",
    "def H_int(f1, f2):\n",
    "    return sp.integrate(f1*(-((1/2)*(1/r)*diff(diff(r*f2, r), r))-((2/r)*f2))*r*r, (r,0,+oo))"
   ]
  },
  {
   "cell_type": "code",
   "execution_count": 5,
   "metadata": {},
   "outputs": [],
   "source": [
    "# Returns the core hamiltonian matrix\n",
    "def H_matrix(fs):\n",
    "\n",
    "    H = np.zeros((len(fs),len(fs)))\n",
    "    for i in range(len(fs)):\n",
    "        for j in range(len(fs)):\n",
    "            H[i, j] =  H_int(fs[i], fs[j])\n",
    "\n",
    "    return H    \n",
    "\n",
    "# Returns the overlap matrix\n",
    "def S_matrix(fs):\n",
    "\n",
    "    S = np.zeros((len(fs),len(fs)))\n",
    "    for i in range(len(fs)):\n",
    "        for j in range(len(fs)):\n",
    "            S[i, j] =  S_int(fs[i], fs[j])\n",
    "\n",
    "    return S  "
   ]
  },
  {
   "cell_type": "markdown",
   "metadata": {},
   "source": [
    "### Two elecron repulsion integral\n",
    "$(rs|tu) = \\int \\int \\dfrac{f_r^*(1) f_s(1) f_t^*(2) f_u(2)}{r_{12}} \\; dv_1 dv_2 $\n",
    "\n",
    "For 1s 2s orbital\n",
    "\n",
    "$(rs|tu)  = \\int_{0}^\\infty \\int_{0}^\\infty \\dfrac{f_r^*(1) f_s(1) f_t^*(2) f_u(2)}{r_{12}} \\; r_1^2dr_1\\; r_2^2dr_2  $\n",
    "\n",
    "$(rs|tu) = \\int_{0}^\\infty f_r^*(1) f_s(1)  \\; r_1^2dr_1\\int_{0}^\\infty \\frac{ f_t^*(2) f_u(2)}{r_{12}}\\; r_2^2dr_2  $\n",
    "\n",
    "From problem 9.14 in quantum_chemistry by levine\n",
    "\n",
    "$(rs|tu) = \\int_{0}^\\infty f_r^*(1) f_s(1)  \\; r_1^2dr_1\\int_{0}^\\infty \\frac{ f_t^*(2) f_u(2)}{r_{>}}\\; r_2^2dr_2  $\n",
    "\n",
    "$(rs|tu) = \\int_{0}^\\infty f_r^*(1) f_s(1)  \\; r_1^2dr_1(\\int_{0}^{r_1} \\frac{ f_t^*(2) f_u(2)}{r_{1}}\\; r_2^2dr_2 + \\int_{r_1}^\\infty \\frac{ f_t^*(2) f_u(2)}{r_{2}}\\; r_2^2dr_2)  $\n",
    "\n",
    "$Let \\; B= \\int_{0}^{r_1} \\frac{ f_t^*(2) f_u(2)}{r_{1}}\\; r_2^2dr_2 + \\int_{r_1}^\\infty \\frac{ f_t^*(2) f_u(2)}{r_{2}}\\; r_2^2dr_2$\n",
    "\n",
    "$(rs|tu) = \\int_{0}^\\infty f_r^*(1) f_s(1) B \\; r_1^2 dr_1  $\n",
    "\n"
   ]
  },
  {
   "cell_type": "code",
   "execution_count": 6,
   "metadata": {
    "scrolled": false
   },
   "outputs": [],
   "source": [
    "def Repulsion_electron(zetas):\n",
    "    \n",
    "    f1=STO(zetas[0][0], zetas[0][1], r1)\n",
    "    f2=STO(zetas[1][0], zetas[1][1], r1)\n",
    "    f3=STO(zetas[2][0], zetas[2][1], r2)\n",
    "    f4=STO(zetas[3][0], zetas[3][1], r2)\n",
    "    fs = [f1, f2, f3, f4]\n",
    "    \n",
    "    B = (1/r1)*sp.integrate(f3*f4*r2*r2 ,(r2, 0, r1)) + sp.integrate((1/r2)*f3*f4*r2*r2 ,(r2, r1, +oo))\n",
    "    A = sp.integrate(f1*f2*r1*r1*B ,(r1, 0, +oo))\n",
    "    return A"
   ]
  },
  {
   "cell_type": "markdown",
   "metadata": {},
   "source": [
    "### Density matrix\n",
    "$ P_{tu} =2 \\sum_{j=1}^{n/2}c_{tj}^* c_{uj} $\n",
    "\n",
    "**Reminder:** P need to be changed if the atom have unpaired electron"
   ]
  },
  {
   "cell_type": "code",
   "execution_count": 7,
   "metadata": {},
   "outputs": [],
   "source": [
    "# Calculates Density matrix\n",
    "def P_matrix(Co):\n",
    "\n",
    "    P = np.zeros([Co.shape[0], Co.shape[0]])\n",
    "\n",
    "    for t in range(Co.shape[0]):\n",
    "        for u in range(Co.shape[0]):\n",
    "            for j in range(int(Co.shape[0]/2)):\n",
    "                P[t][u] += 2* Co[t][j]*Co[u][j]\n",
    "    return P            "
   ]
  },
  {
   "cell_type": "markdown",
   "metadata": {},
   "source": [
    "### Fock matrix\n",
    "$ F_{rs} = H_{rs}^{core} + \\sum_{t=1}^{b} \\sum_{t=1}^{b}P_{tu}[(rs|tu)- \\frac{1}2(ru|ts)] $  \n",
    "\n",
    "$G = (rs|tu)- \\frac{1}2(ru|ts)$ \n",
    "\n",
    "$ F_{rs} = H_{rs}^{core} + G $  \n",
    "\n",
    "$In\\;G \\;one\\;is\\;coulombic\\;repulsion,\\;another\\;is\\;exchange\\;energy$"
   ]
  },
  {
   "cell_type": "code",
   "execution_count": 8,
   "metadata": {},
   "outputs": [],
   "source": [
    "# Caculate G Matrix\n",
    "def G_matrix(zetas, Co):\n",
    "\n",
    "    G = np.zeros((Co.shape[0], Co.shape[0]))\n",
    "\n",
    "    P = P_matrix(Co)\n",
    "    \n",
    "    rs = list(product(range( Co.shape[0]),repeat=2))\n",
    "    tu = list(product(range( Co.shape[0]),repeat=2))\n",
    "\n",
    "    for r, s in rs:\n",
    "        g = 0\n",
    "        for t, u in tu:\n",
    "            int1 = Repulsion_electron((zetas[r], zetas[s], zetas[t], zetas[u]))\n",
    "            int2 = Repulsion_electron((zetas[r] , zetas[u], zetas[t], zetas[s]))\n",
    "#             print('({0}{1}|{2}{3}): {4}'.format(r, s, t, u, int1))\n",
    "            g+= P[t, u] * (int1 - 0.5 * int2)\n",
    "        G[r, s] = g\n",
    "    return G\n",
    "\n",
    "# Returns the Fock matrix\n",
    "def F_matrix(fs, zetas, Co):\n",
    "    return H_matrix(fs) + G_matrix(zetas, Co)"
   ]
  },
  {
   "cell_type": "markdown",
   "metadata": {},
   "source": [
    "### Solve Hartree-Fork equation\n",
    "\n",
    "$det(F_{rs}-\\epsilon_i S_{rs} = 0)$  \n",
    "\n",
    "$The\\;energy\\;returned\\;is\\;the\\;orbital\\;energy\\;for\\;1\\;electron$"
   ]
  },
  {
   "cell_type": "code",
   "execution_count": 9,
   "metadata": {},
   "outputs": [],
   "source": [
    "# slove secular equation, return the energy and improved coeffients\n",
    "# the energy here is orbital energy for 1 electron\n",
    "def secular_eqn(F, S):\n",
    "    ei, C = eig(F, S)\n",
    "    \n",
    "    # sort eigvalue and eigvector from lower to higher\n",
    "    idx = ei.argsort()[::1]   \n",
    "    ei = ei[idx]\n",
    "    C = C[:,idx]\n",
    "\n",
    "    # eigvector from scipy.linalg.eig is not normalized, which is a bug\n",
    "    # this is to fix it\n",
    "    Co = np.zeros((C.shape[0],C.shape[0]))\n",
    "    inte = np.matmul(np.matmul(C.T, S), C)\n",
    "    for i in range(C.shape[0]):\n",
    "        for j in range(C.shape[0]):\n",
    "            Co[j][i]=C[j][i]/np.sqrt(inte[i][i])\n",
    "\n",
    "    return ei, Co"
   ]
  },
  {
   "cell_type": "markdown",
   "metadata": {},
   "source": [
    "### Return atom energy\n",
    "$ E_{HF} = \\sum_{i=1}^{2/n}\\epsilon  +\\frac{1}2 \\sum_{r=1}^{b} \\sum_{s=1}^{b}P_{rs}H_{rs}+V_{NN} $"
   ]
  },
  {
   "cell_type": "code",
   "execution_count": 10,
   "metadata": {},
   "outputs": [],
   "source": [
    "# return energy of atom\n",
    "def get_E0(e, P, H):\n",
    "    \n",
    "    E0 = 0\n",
    "    for i in range(int(e.shape[0]/2)):\n",
    "        E0 += e[i].real \n",
    "    E0 = E0 + 0.5*(P*H).sum()\n",
    "    return E0 "
   ]
  },
  {
   "cell_type": "markdown",
   "metadata": {
    "slideshow": {
     "slide_type": "slide"
    }
   },
   "source": [
    "<h2><center>Part 2 Hartree Fork Iteration (Main Process)</center></h2>\n",
    "\n",
    "- Initialization\n",
    "    1. initializing Co (coefficients) without considering electron repulsion\n",
    "    1. Solve Hartree-Fork equation with H_matrix and S_matrix to get initial Co\n",
    "\n",
    "\n",
    "- Iteration\n",
    "\t1. Using Co, we can get P_matrix (electron density)\n",
    "\t2. Using P_matrix, H_matrix, G_matrix => F_matrix\n",
    "\t3. Solve Hartree-Fork equation with F_matrix and S_matrix to get improved orbital energy and Co, which also means improved orbital functions.\n",
    "\t4. Using improved Co, return to step 1"
   ]
  },
  {
   "cell_type": "code",
   "execution_count": 14,
   "metadata": {
    "scrolled": false
   },
   "outputs": [
    {
     "name": "stdout",
     "output_type": "stream",
     "text": [
      "------------------------------ Initialization ------------------------------\n",
      "------------------------- Ignore repulsion integral -------------------------\n"
     ]
    },
    {
     "data": {
      "text/latex": [
       "$\\displaystyle \\zeta_1 = 1.450 \\quad \\zeta_2 = 2.910$"
      ],
      "text/plain": [
       "<IPython.core.display.Math object>"
      ]
     },
     "metadata": {},
     "output_type": "display_data"
    },
    {
     "data": {
      "text/latex": [
       "$\\displaystyle Orbitals:$"
      ],
      "text/plain": [
       "<IPython.core.display.Math object>"
      ]
     },
     "metadata": {},
     "output_type": "display_data"
    },
    {
     "data": {
      "text/latex": [
       "$\\displaystyle  \\phi_1 = c_{11} \\chi_1 + c_{21} \\chi_2 $"
      ],
      "text/plain": [
       "<IPython.core.display.Math object>"
      ]
     },
     "metadata": {},
     "output_type": "display_data"
    },
    {
     "data": {
      "text/latex": [
       "$\\displaystyle  \\phi_2 = c_{12} \\chi_1 + c_{22} \\chi_2 $"
      ],
      "text/plain": [
       "<IPython.core.display.Math object>"
      ]
     },
     "metadata": {},
     "output_type": "display_data"
    },
    {
     "data": {
      "text/latex": [
       "$\\displaystyle c11 = -0.660 \\quad c21 = -0.380 $"
      ],
      "text/plain": [
       "<IPython.core.display.Math object>"
      ]
     },
     "metadata": {},
     "output_type": "display_data"
    },
    {
     "data": {
      "text/latex": [
       "$\\displaystyle c12 = -1.702 \\quad c22 = 1.785 $"
      ],
      "text/plain": [
       "<IPython.core.display.Math object>"
      ]
     },
     "metadata": {},
     "output_type": "display_data"
    },
    {
     "data": {
      "image/png": "[encoded data removed]",
      "text/plain": [
       "<Figure size 432x288 with 1 Axes>"
      ]
     },
     "metadata": {
      "needs_background": "light"
     },
     "output_type": "display_data"
    },
    {
     "data": {
      "text/latex": [
       "$\\displaystyle  \\epsilon_1 \\; for \\; \\phi_1  = -1.979 $"
      ],
      "text/plain": [
       "<IPython.core.display.Math object>"
      ]
     },
     "metadata": {},
     "output_type": "display_data"
    },
    {
     "data": {
      "text/latex": [
       "$\\displaystyle  \\epsilon_2 \\; for \\; \\phi_1 = 1.030 $"
      ],
      "text/plain": [
       "<IPython.core.display.Math object>"
      ]
     },
     "metadata": {},
     "output_type": "display_data"
    },
    {
     "data": {
      "text/latex": [
       "$\\displaystyle  Hartree \\ Fork \\; atom \\; energy = -3.95867 \\ hartree = -107.71936 \\ eV$"
      ],
      "text/plain": [
       "<IPython.core.display.Math object>"
      ]
     },
     "metadata": {},
     "output_type": "display_data"
    },
    {
     "name": "stdout",
     "output_type": "stream",
     "text": [
      "\n",
      " ------------------------------ Iteration 1 ------------------------------\n"
     ]
    },
    {
     "data": {
      "text/latex": [
       "$\\displaystyle \\zeta_1 = 1.450 \\quad \\zeta_2 = 2.910$"
      ],
      "text/plain": [
       "<IPython.core.display.Math object>"
      ]
     },
     "metadata": {},
     "output_type": "display_data"
    },
    {
     "data": {
      "text/latex": [
       "$\\displaystyle Orbitals:$"
      ],
      "text/plain": [
       "<IPython.core.display.Math object>"
      ]
     },
     "metadata": {},
     "output_type": "display_data"
    },
    {
     "data": {
      "text/latex": [
       "$\\displaystyle  \\phi_1 = c_{11} \\chi_1 + c_{21} \\chi_2 $"
      ],
      "text/plain": [
       "<IPython.core.display.Math object>"
      ]
     },
     "metadata": {},
     "output_type": "display_data"
    },
    {
     "data": {
      "text/latex": [
       "$\\displaystyle  \\phi_2 = c_{12} \\chi_1 + c_{22} \\chi_2 $"
      ],
      "text/plain": [
       "<IPython.core.display.Math object>"
      ]
     },
     "metadata": {},
     "output_type": "display_data"
    },
    {
     "data": {
      "text/latex": [
       "$\\displaystyle c11 = -0.834 \\quad c21 = -0.192 $"
      ],
      "text/plain": [
       "<IPython.core.display.Math object>"
      ]
     },
     "metadata": {},
     "output_type": "display_data"
    },
    {
     "data": {
      "text/latex": [
       "$\\displaystyle c12 = -1.624 \\quad c22 = 1.815 $"
      ],
      "text/plain": [
       "<IPython.core.display.Math object>"
      ]
     },
     "metadata": {},
     "output_type": "display_data"
    },
    {
     "data": {
      "image/png": "[encoded data removed]",
      "text/plain": [
       "<Figure size 432x288 with 1 Axes>"
      ]
     },
     "metadata": {
      "needs_background": "light"
     },
     "output_type": "display_data"
    },
    {
     "data": {
      "text/latex": [
       "$\\displaystyle  \\epsilon_1 \\; for \\; \\phi_1  = -0.838 $"
      ],
      "text/plain": [
       "<IPython.core.display.Math object>"
      ]
     },
     "metadata": {},
     "output_type": "display_data"
    },
    {
     "data": {
      "text/latex": [
       "$\\displaystyle  \\epsilon_2 \\; for \\; \\phi_1 = 2.903 $"
      ],
      "text/plain": [
       "<IPython.core.display.Math object>"
      ]
     },
     "metadata": {},
     "output_type": "display_data"
    },
    {
     "data": {
      "text/latex": [
       "$\\displaystyle  Hartree \\ Fork \\; atom \\; energy = -2.78431 \\ hartree = -75.76376 \\ eV$"
      ],
      "text/plain": [
       "<IPython.core.display.Math object>"
      ]
     },
     "metadata": {},
     "output_type": "display_data"
    },
    {
     "name": "stdout",
     "output_type": "stream",
     "text": [
      "Time used: 4.1 s\n",
      "\n",
      " ------------------------------ Iteration 2 ------------------------------\n"
     ]
    },
    {
     "data": {
      "text/latex": [
       "$\\displaystyle \\zeta_1 = 1.450 \\quad \\zeta_2 = 2.910$"
      ],
      "text/plain": [
       "<IPython.core.display.Math object>"
      ]
     },
     "metadata": {},
     "output_type": "display_data"
    },
    {
     "data": {
      "text/latex": [
       "$\\displaystyle Orbitals:$"
      ],
      "text/plain": [
       "<IPython.core.display.Math object>"
      ]
     },
     "metadata": {},
     "output_type": "display_data"
    },
    {
     "data": {
      "text/latex": [
       "$\\displaystyle  \\phi_1 = c_{11} \\chi_1 + c_{21} \\chi_2 $"
      ],
      "text/plain": [
       "<IPython.core.display.Math object>"
      ]
     },
     "metadata": {},
     "output_type": "display_data"
    },
    {
     "data": {
      "text/latex": [
       "$\\displaystyle  \\phi_2 = c_{12} \\chi_1 + c_{22} \\chi_2 $"
      ],
      "text/plain": [
       "<IPython.core.display.Math object>"
      ]
     },
     "metadata": {},
     "output_type": "display_data"
    },
    {
     "data": {
      "text/latex": [
       "$\\displaystyle c11 = -0.842 \\quad c21 = -0.183 $"
      ],
      "text/plain": [
       "<IPython.core.display.Math object>"
      ]
     },
     "metadata": {},
     "output_type": "display_data"
    },
    {
     "data": {
      "text/latex": [
       "$\\displaystyle c12 = -1.620 \\quad c22 = 1.816 $"
      ],
      "text/plain": [
       "<IPython.core.display.Math object>"
      ]
     },
     "metadata": {},
     "output_type": "display_data"
    },
    {
     "data": {
      "image/png": "[encoded data removed]",
      "text/plain": [
       "<Figure size 432x288 with 1 Axes>"
      ]
     },
     "metadata": {
      "needs_background": "light"
     },
     "output_type": "display_data"
    },
    {
     "data": {
      "text/latex": [
       "$\\displaystyle  \\epsilon_1 \\; for \\; \\phi_1  = -0.915 $"
      ],
      "text/plain": [
       "<IPython.core.display.Math object>"
      ]
     },
     "metadata": {},
     "output_type": "display_data"
    },
    {
     "data": {
      "text/latex": [
       "$\\displaystyle  \\epsilon_2 \\; for \\; \\phi_1 = 2.815 $"
      ],
      "text/plain": [
       "<IPython.core.display.Math object>"
      ]
     },
     "metadata": {},
     "output_type": "display_data"
    },
    {
     "data": {
      "text/latex": [
       "$\\displaystyle  Hartree \\ Fork \\; atom \\; energy = -2.85860 \\ hartree = -77.78526 \\ eV$"
      ],
      "text/plain": [
       "<IPython.core.display.Math object>"
      ]
     },
     "metadata": {},
     "output_type": "display_data"
    },
    {
     "name": "stdout",
     "output_type": "stream",
     "text": [
      "Time used: 3.9 s\n",
      "\n",
      " ------------------------------ Iteration 3 ------------------------------\n"
     ]
    },
    {
     "data": {
      "text/latex": [
       "$\\displaystyle \\zeta_1 = 1.450 \\quad \\zeta_2 = 2.910$"
      ],
      "text/plain": [
       "<IPython.core.display.Math object>"
      ]
     },
     "metadata": {},
     "output_type": "display_data"
    },
    {
     "data": {
      "text/latex": [
       "$\\displaystyle Orbitals:$"
      ],
      "text/plain": [
       "<IPython.core.display.Math object>"
      ]
     },
     "metadata": {},
     "output_type": "display_data"
    },
    {
     "data": {
      "text/latex": [
       "$\\displaystyle  \\phi_1 = c_{11} \\chi_1 + c_{21} \\chi_2 $"
      ],
      "text/plain": [
       "<IPython.core.display.Math object>"
      ]
     },
     "metadata": {},
     "output_type": "display_data"
    },
    {
     "data": {
      "text/latex": [
       "$\\displaystyle  \\phi_2 = c_{12} \\chi_1 + c_{22} \\chi_2 $"
      ],
      "text/plain": [
       "<IPython.core.display.Math object>"
      ]
     },
     "metadata": {},
     "output_type": "display_data"
    },
    {
     "data": {
      "text/latex": [
       "$\\displaystyle c11 = -0.842 \\quad c21 = -0.183 $"
      ],
      "text/plain": [
       "<IPython.core.display.Math object>"
      ]
     },
     "metadata": {},
     "output_type": "display_data"
    },
    {
     "data": {
      "text/latex": [
       "$\\displaystyle c12 = -1.620 \\quad c22 = 1.816 $"
      ],
      "text/plain": [
       "<IPython.core.display.Math object>"
      ]
     },
     "metadata": {},
     "output_type": "display_data"
    },
    {
     "data": {
      "image/png": "[encoded data removed]",
      "text/plain": [
       "<Figure size 432x288 with 1 Axes>"
      ]
     },
     "metadata": {
      "needs_background": "light"
     },
     "output_type": "display_data"
    },
    {
     "data": {
      "text/latex": [
       "$\\displaystyle  \\epsilon_1 \\; for \\; \\phi_1  = -0.918 $"
      ],
      "text/plain": [
       "<IPython.core.display.Math object>"
      ]
     },
     "metadata": {},
     "output_type": "display_data"
    },
    {
     "data": {
      "text/latex": [
       "$\\displaystyle  \\epsilon_2 \\; for \\; \\phi_1 = 2.811 $"
      ],
      "text/plain": [
       "<IPython.core.display.Math object>"
      ]
     },
     "metadata": {},
     "output_type": "display_data"
    },
    {
     "data": {
      "text/latex": [
       "$\\displaystyle  Hartree \\ Fork \\; atom \\; energy = -2.86152 \\ hartree = -77.86483 \\ eV$"
      ],
      "text/plain": [
       "<IPython.core.display.Math object>"
      ]
     },
     "metadata": {},
     "output_type": "display_data"
    },
    {
     "name": "stdout",
     "output_type": "stream",
     "text": [
      "Time used: 4.4 s\n",
      "\n",
      " ------------------------------ Iteration 4 ------------------------------\n"
     ]
    },
    {
     "data": {
      "text/latex": [
       "$\\displaystyle \\zeta_1 = 1.450 \\quad \\zeta_2 = 2.910$"
      ],
      "text/plain": [
       "<IPython.core.display.Math object>"
      ]
     },
     "metadata": {},
     "output_type": "display_data"
    },
    {
     "data": {
      "text/latex": [
       "$\\displaystyle Orbitals:$"
      ],
      "text/plain": [
       "<IPython.core.display.Math object>"
      ]
     },
     "metadata": {},
     "output_type": "display_data"
    },
    {
     "data": {
      "text/latex": [
       "$\\displaystyle  \\phi_1 = c_{11} \\chi_1 + c_{21} \\chi_2 $"
      ],
      "text/plain": [
       "<IPython.core.display.Math object>"
      ]
     },
     "metadata": {},
     "output_type": "display_data"
    },
    {
     "data": {
      "text/latex": [
       "$\\displaystyle  \\phi_2 = c_{12} \\chi_1 + c_{22} \\chi_2 $"
      ],
      "text/plain": [
       "<IPython.core.display.Math object>"
      ]
     },
     "metadata": {},
     "output_type": "display_data"
    },
    {
     "data": {
      "text/latex": [
       "$\\displaystyle c11 = -0.842 \\quad c21 = -0.183 $"
      ],
      "text/plain": [
       "<IPython.core.display.Math object>"
      ]
     },
     "metadata": {},
     "output_type": "display_data"
    },
    {
     "data": {
      "text/latex": [
       "$\\displaystyle c12 = -1.620 \\quad c22 = 1.816 $"
      ],
      "text/plain": [
       "<IPython.core.display.Math object>"
      ]
     },
     "metadata": {},
     "output_type": "display_data"
    },
    {
     "data": {
      "image/png": "[encoded data removed]",
      "text/plain": [
       "<Figure size 432x288 with 1 Axes>"
      ]
     },
     "metadata": {
      "needs_background": "light"
     },
     "output_type": "display_data"
    },
    {
     "data": {
      "text/latex": [
       "$\\displaystyle  \\epsilon_1 \\; for \\; \\phi_1  = -0.918 $"
      ],
      "text/plain": [
       "<IPython.core.display.Math object>"
      ]
     },
     "metadata": {},
     "output_type": "display_data"
    },
    {
     "data": {
      "text/latex": [
       "$\\displaystyle  \\epsilon_2 \\; for \\; \\phi_1 = 2.810 $"
      ],
      "text/plain": [
       "<IPython.core.display.Math object>"
      ]
     },
     "metadata": {},
     "output_type": "display_data"
    },
    {
     "data": {
      "text/latex": [
       "$\\displaystyle  Hartree \\ Fork \\; atom \\; energy = -2.86166 \\ hartree = -77.86869 \\ eV$"
      ],
      "text/plain": [
       "<IPython.core.display.Math object>"
      ]
     },
     "metadata": {},
     "output_type": "display_data"
    },
    {
     "name": "stdout",
     "output_type": "stream",
     "text": [
      "Time used: 4.0 s\n",
      "\n",
      " ------------------------------ Iteration 5 ------------------------------\n"
     ]
    },
    {
     "data": {
      "text/latex": [
       "$\\displaystyle \\zeta_1 = 1.450 \\quad \\zeta_2 = 2.910$"
      ],
      "text/plain": [
       "<IPython.core.display.Math object>"
      ]
     },
     "metadata": {},
     "output_type": "display_data"
    },
    {
     "data": {
      "text/latex": [
       "$\\displaystyle Orbitals:$"
      ],
      "text/plain": [
       "<IPython.core.display.Math object>"
      ]
     },
     "metadata": {},
     "output_type": "display_data"
    },
    {
     "data": {
      "text/latex": [
       "$\\displaystyle  \\phi_1 = c_{11} \\chi_1 + c_{21} \\chi_2 $"
      ],
      "text/plain": [
       "<IPython.core.display.Math object>"
      ]
     },
     "metadata": {},
     "output_type": "display_data"
    },
    {
     "data": {
      "text/latex": [
       "$\\displaystyle  \\phi_2 = c_{12} \\chi_1 + c_{22} \\chi_2 $"
      ],
      "text/plain": [
       "<IPython.core.display.Math object>"
      ]
     },
     "metadata": {},
     "output_type": "display_data"
    },
    {
     "data": {
      "text/latex": [
       "$\\displaystyle c11 = -0.842 \\quad c21 = -0.183 $"
      ],
      "text/plain": [
       "<IPython.core.display.Math object>"
      ]
     },
     "metadata": {},
     "output_type": "display_data"
    },
    {
     "data": {
      "text/latex": [
       "$\\displaystyle c12 = -1.620 \\quad c22 = 1.816 $"
      ],
      "text/plain": [
       "<IPython.core.display.Math object>"
      ]
     },
     "metadata": {},
     "output_type": "display_data"
    },
    {
     "data": {
      "image/png": "[encoded data removed]",
      "text/plain": [
       "<Figure size 432x288 with 1 Axes>"
      ]
     },
     "metadata": {
      "needs_background": "light"
     },
     "output_type": "display_data"
    },
    {
     "data": {
      "text/latex": [
       "$\\displaystyle  \\epsilon_1 \\; for \\; \\phi_1  = -0.918 $"
      ],
      "text/plain": [
       "<IPython.core.display.Math object>"
      ]
     },
     "metadata": {},
     "output_type": "display_data"
    },
    {
     "data": {
      "text/latex": [
       "$\\displaystyle  \\epsilon_2 \\; for \\; \\phi_1 = 2.810 $"
      ],
      "text/plain": [
       "<IPython.core.display.Math object>"
      ]
     },
     "metadata": {},
     "output_type": "display_data"
    },
    {
     "data": {
      "text/latex": [
       "$\\displaystyle  Hartree \\ Fork \\; atom \\; energy = -2.86167 \\ hartree = -77.86888 \\ eV$"
      ],
      "text/plain": [
       "<IPython.core.display.Math object>"
      ]
     },
     "metadata": {},
     "output_type": "display_data"
    },
    {
     "name": "stdout",
     "output_type": "stream",
     "text": [
      "Time used: 3.9 s\n"
     ]
    }
   ],
   "source": [
    "zetas = [[1.45, 1], [2.91, 1]]\n",
    "f1=STO(zetas[0][0], zetas[0][1])\n",
    "f2=STO(zetas[1][0], zetas[1][1])\n",
    "fs = [f1, f2]\n",
    "\n",
    "H = H_matrix(fs)\n",
    "S = S_matrix(fs)\n",
    "e, Co = secular_eqn(H, S)\n",
    "P = P_matrix(Co)\n",
    "scf_H = get_E0(e, P, H)\n",
    "\n",
    "##############################################print information below#################################################\n",
    "print('-'*30, \"Initialization\", '-'*30)\n",
    "print('-'*25, \"Ignore repulsion integral\", '-'*25)\n",
    "display(Math('\\zeta_1 = {0} \\quad \\zeta_2 = {1}'.format(format(zetas[0][0], '0.3f'), format(zetas[1][0], '0.3f'), ))) \n",
    "display(Math('Orbitals:'))\n",
    "display(Math(' \\phi_1 = c_{11} \\chi_1 + c_{21} \\chi_2 '))\n",
    "display(Math(' \\phi_2 = c_{12} \\chi_1 + c_{22} \\chi_2 '))    \n",
    "display(Math('c11 = {0} \\quad c21 = {1} '.format(format(Co[0][0], '0.3f'), format(Co[1][0], '0.3f')))) \n",
    "display(Math('c12 = {0} \\quad c22 = {1} '.format(format(Co[0][1], '0.3f'), format(Co[1][1], '0.3f'))))  \n",
    "# plot density graph\n",
    "colorlist = ['red', 'orange', 'yellow', 'green', 'blue', 'purple', 'black', 'red', 'orange', 'yellow', 'green', 'blue', 'purple', 'black']\n",
    "phi1 = Co[0,0]*f1+Co[1,0]*f2\n",
    "phi2 = Co[0,1]*f1+Co[1,1]*f2\n",
    "density_1 = phi1*phi1*r*r\n",
    "density_2 = phi2*phi2*r*r    \n",
    "p = plot((density_1, (r, 0, 5)), (density_2, (r, 0, 5)), show = False, legend = True)\n",
    "p[0].label = 'electron density $r^2 \\phi_1^2$ '\n",
    "p[1].label = 'electron density $r^2 \\phi_2^2$ '    \n",
    "p[0].line_color = colorlist[0]\n",
    "p[1].line_color = 'blue'\n",
    "p.show()\n",
    "# print energy result\n",
    "display(Math(' \\epsilon_1 \\; for \\; \\phi_1  = {0} '.format(format(e[0].real, '0.3f'))))    \n",
    "display(Math(' \\epsilon_2 \\; for \\; \\phi_1 = {0} '.format(format(e[1].real, '0.3f'))))        \n",
    "display(Math(' Hartree \\ Fork \\; atom \\; energy = {0} \\ hartree = {1} \\ eV'.format(format(scf_H, '0.5f'), format(scf_H*27.211, '0.5f'))))    \n",
    "##############################################print information above#################################################\n",
    "\n",
    "for i in range(5):\n",
    "    print('\\n','-'*30, \"Iteration\", i + 1, '-'*30)\n",
    "    start = time.time()\n",
    "    F = F_matrix(fs, zetas, Co)\n",
    "    S = S_matrix(fs)\n",
    "    e, Co = secular_eqn(F, S)\n",
    "    P = P_matrix(Co)\n",
    "    H = H_matrix(fs)    \n",
    "    scf_H = get_E0(e, P, H)\n",
    "    ##########################################print information below#################################################\n",
    "    # print information\n",
    "    display(Math('\\zeta_1 = {0} \\quad \\zeta_2 = {1}'.format(format(zetas[0][0], '0.3f'), format(zetas[1][0], '0.3f'), ))) \n",
    "    display(Math('Orbitals:'))    \n",
    "    display(Math(' \\phi_1 = c_{11} \\chi_1 + c_{21} \\chi_2 '))\n",
    "    display(Math(' \\phi_2 = c_{12} \\chi_1 + c_{22} \\chi_2 '))    \n",
    "    display(Math('c11 = {0} \\quad c21 = {1} '.format(format(Co[0][0], '0.3f'), format(Co[1][0], '0.3f')))) \n",
    "    display(Math('c12 = {0} \\quad c22 = {1} '.format(format(Co[0][1], '0.3f'), format(Co[1][1], '0.3f'))))      \n",
    "    # plot density graph\n",
    "    phi1 = Co[0,0]*f1+Co[1,0]*f2\n",
    "    phi2 = Co[0,1]*f1+Co[1,1]*f2\n",
    "    density_1 = phi1*phi1*r*r\n",
    "    density_2 = phi2*phi2*r*r    \n",
    "    p1 = plot((density_1, (r, 0, 5)), (density_2, (r, 0, 5)), show = False, legend = True)\n",
    "    p1[0].label = None \n",
    "    p1[1].label = None     \n",
    "    p1[0].line_color = colorlist[i+1]\n",
    "    p1[1].line_color = colorlist[i+1]\n",
    "    p.extend(p1)\n",
    "    p.show() \n",
    "    # print energy result\n",
    "    display(Math(' \\epsilon_1 \\; for \\; \\phi_1  = {0} '.format(format(e[0].real, '0.3f'))))    \n",
    "    display(Math(' \\epsilon_2 \\; for \\; \\phi_1 = {0} '.format(format(e[1].real, '0.3f'))))        \n",
    "    display(Math(' Hartree \\ Fork \\; atom \\; energy = {0} \\ hartree = {1} \\ eV'.format(format(scf_H, '0.5f'), format(scf_H*27.211, '0.5f'))))    \n",
    "    stop = time.time()\n",
    "    print('Time used:',format(stop-start, '0.1f'),'s')\n",
    "    ##########################################print information above#################################################    "
   ]
  },
  {
   "cell_type": "code",
   "execution_count": null,
   "metadata": {},
   "outputs": [],
   "source": []
  },
  {
   "cell_type": "markdown",
   "metadata": {},
   "source": [
    "Reference\n",
    "\n",
    "[1] Levine, Quantum Chemistry, 7th Edition, chapter 14  \n",
    "[2] C. Roetti and E. Clementi, J. Chem. Phys., 60, 4725 (1974)  \n",
    "[3] Acosta C R. Restricted closed shell Hartree Fock Roothaan matrix method applied to Helium atom using   Mathematica[J]. European Journal of Physics Education, 2017, 5(1): 1-14.  \n",
    "[4] [Simple Quantum Chemistry: Hartree-Fock in Python, 2018](http://nznano.blogspot.com/2018/03/simple-quantum-chemistry-hartree-fock.html)  \n",
    "[5] [Helium hartree fork, prtkm, 2015](https://github.com/prtkm/helium-hartree-fock/)"
   ]
  },
  {
   "cell_type": "code",
   "execution_count": null,
   "metadata": {},
   "outputs": [],
   "source": []
  },
  {
   "cell_type": "code",
   "execution_count": null,
   "metadata": {},
   "outputs": [],
   "source": []
  },
  {
   "cell_type": "code",
   "execution_count": null,
   "metadata": {},
   "outputs": [],
   "source": []
  },
  {
   "cell_type": "code",
   "execution_count": null,
   "metadata": {},
   "outputs": [],
   "source": []
  },
  {
   "cell_type": "code",
   "execution_count": null,
   "metadata": {},
   "outputs": [],
   "source": []
  },
  {
   "cell_type": "code",
   "execution_count": null,
   "metadata": {},
   "outputs": [],
   "source": []
  },
  {
   "cell_type": "code",
   "execution_count": null,
   "metadata": {},
   "outputs": [],
   "source": []
  },
  {
   "cell_type": "code",
   "execution_count": null,
   "metadata": {},
   "outputs": [],
   "source": []
  },
  {
   "cell_type": "code",
   "execution_count": null,
   "metadata": {},
   "outputs": [],
   "source": []
  },
  {
   "cell_type": "code",
   "execution_count": null,
   "metadata": {},
   "outputs": [],
   "source": []
  },
  {
   "cell_type": "code",
   "execution_count": null,
   "metadata": {},
   "outputs": [],
   "source": []
  },
  {
   "cell_type": "code",
   "execution_count": null,
   "metadata": {},
   "outputs": [],
   "source": []
  },
  {
   "cell_type": "code",
   "execution_count": null,
   "metadata": {},
   "outputs": [],
   "source": []
  },
  {
   "cell_type": "code",
   "execution_count": null,
   "metadata": {},
   "outputs": [],
   "source": []
  },
  {
   "cell_type": "code",
   "execution_count": null,
   "metadata": {},
   "outputs": [],
   "source": []
  },
  {
   "cell_type": "code",
   "execution_count": null,
   "metadata": {},
   "outputs": [],
   "source": []
  },
  {
   "cell_type": "code",
   "execution_count": null,
   "metadata": {},
   "outputs": [],
   "source": []
  }
 ],
 "metadata": {
  "celltoolbar": "幻灯片",
  "kernelspec": {
   "display_name": "Python 3",
   "language": "python",
   "name": "python3"
  },
  "language_info": {
   "codemirror_mode": {
    "name": "ipython",
    "version": 3
   },
   "file_extension": ".py",
   "mimetype": "text/x-python",
   "name": "python",
   "nbconvert_exporter": "python",
   "pygments_lexer": "ipython3",
   "version": "3.6.6"
  }
 },
 "nbformat": 4,
 "nbformat_minor": 2
}
